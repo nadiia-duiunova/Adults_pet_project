{
 "cells": [
  {
   "cell_type": "code",
   "execution_count": 1,
   "id": "e309cab6",
   "metadata": {},
   "outputs": [],
   "source": [
    "import pandas as pd\n",
    "import numpy as np\n",
    "import seaborn as sns\n",
    "import matplotlib.pyplot as plt\n",
    "import scipy.stats as stats\n",
    "import scipy.sparse as sps\n",
    "from statsmodels.api import Logit\n",
    "from sklearn.preprocessing import StandardScaler, OrdinalEncoder, LabelEncoder, OneHotEncoder, MinMaxScaler\n",
    "from sklearn.model_selection import cross_val_score, cross_val_predict, train_test_split\n",
    "from sklearn.metrics import classification_report, precision_recall_curve, roc_curve, confusion_matrix\n",
    "\n",
    "from sklearn.pipeline import make_pipeline\n",
    "from sklearn.compose import ColumnTransformer, make_column_selector\n",
    "\n",
    "from sklearn.linear_model import LogisticRegression, SGDClassifier\n",
    "from sklearn.ensemble import RandomForestClassifier\n",
    "from sklearn.neighbors import KNeighborsClassifier\n",
    "from sklearn.svm import SVC\n",
    "from sklearn.decomposition import PCA\n",
    "import sklearn"
   ]
  },
  {
   "cell_type": "markdown",
   "id": "be643a5d",
   "metadata": {},
   "source": [
    "Here the results from 'Adult EDA\" file are going to be used"
   ]
  },
  {
   "cell_type": "code",
   "execution_count": 2,
   "id": "e627ad21",
   "metadata": {
    "scrolled": true
   },
   "outputs": [],
   "source": [
    "# %run \"Adult EDA.ipynb\""
   ]
  },
  {
   "cell_type": "code",
   "execution_count": 3,
   "id": "208f09c0",
   "metadata": {},
   "outputs": [],
   "source": [
    "adult_columns = [\n",
    "    \"Age\",\n",
    "    \"Workclass\",\n",
    "    \"final weight\",\n",
    "    \"Education\",\n",
    "    \"Education-Num\",\n",
    "    \"Marital Status\",\n",
    "    \"Occupation\",\n",
    "    \"Relationship\",\n",
    "    \"Ethnic group\",\n",
    "    \"Sex\",\n",
    "    \"Capital Gain\",\n",
    "    \"Capital Loss\",\n",
    "    \"Hours per week\",\n",
    "    \"Country\",\n",
    "    \"Income\",\n",
    "]\n",
    "\n",
    "df = pd.read_csv(\"https://archive.ics.uci.edu/ml/machine-learning-databases/adult/adult.data\", \n",
    "                 header = None, names = adult_columns)"
   ]
  },
  {
   "cell_type": "code",
   "execution_count": 4,
   "id": "fd85f86e",
   "metadata": {},
   "outputs": [],
   "source": [
    "df = df.drop(['Education-Num'], axis = 'columns')"
   ]
  },
  {
   "cell_type": "code",
   "execution_count": 5,
   "id": "0161becc",
   "metadata": {},
   "outputs": [],
   "source": [
    "categorical_features_list = ['Workclass', 'Marital Status', 'Occupation', \n",
    "                             'Relationship', 'Ethnic group', 'Sex', 'Country']"
   ]
  },
  {
   "cell_type": "code",
   "execution_count": 6,
   "id": "86c1a2b4",
   "metadata": {},
   "outputs": [],
   "source": [
    "# for col in categorical_features_list:\n",
    "#     print(f'{col}\\n{df[col].value_counts()}\\n')"
   ]
  },
  {
   "cell_type": "markdown",
   "id": "ca1d7e93",
   "metadata": {},
   "source": [
    "As in the whole dataset (X) we have only one 'Holand-Netherlands' value in 'Country' column, we have to process it separately, because in case if it appears in the test set, model will not be able to predict target for such a record. For the initial model, where there are no changes in data, this observation will be removed"
   ]
  },
  {
   "cell_type": "code",
   "execution_count": 7,
   "id": "b3d8faad",
   "metadata": {},
   "outputs": [
    {
     "name": "stdout",
     "output_type": "stream",
     "text": [
      "(32561, 14)\n",
      "(32560, 14)\n"
     ]
    }
   ],
   "source": [
    "print(df.shape)\n",
    "df_no_nl = df.copy()\n",
    "df_no_nl.drop(df_no_nl.loc[df['Country']==' Holand-Netherlands'].index, inplace=True)\n",
    "print(df_no_nl.shape)"
   ]
  },
  {
   "cell_type": "code",
   "execution_count": 8,
   "id": "1c9a0f5c",
   "metadata": {},
   "outputs": [],
   "source": [
    "X = df_no_nl.drop(['Income'], axis = 'columns')\n",
    "y = df_no_nl['Income']"
   ]
  },
  {
   "cell_type": "code",
   "execution_count": 9,
   "id": "fdf67ff2",
   "metadata": {},
   "outputs": [],
   "source": [
    "X, X_test, y, y_test = train_test_split(X, y, test_size = 0.2)"
   ]
  },
  {
   "cell_type": "markdown",
   "id": "6ea72a8d",
   "metadata": {},
   "source": [
    "## 1. Features preprocessing"
   ]
  },
  {
   "attachments": {},
   "cell_type": "markdown",
   "id": "c5d9129e",
   "metadata": {},
   "source": [
    "First, all variables have to be transformed to numerical format to feed them to LogisticRegression function:"
   ]
  },
  {
   "cell_type": "code",
   "execution_count": 10,
   "id": "20777e59",
   "metadata": {},
   "outputs": [
    {
     "data": {
      "text/plain": [
       "(26048, 14)"
      ]
     },
     "execution_count": 10,
     "metadata": {},
     "output_type": "execute_result"
    }
   ],
   "source": [
    "X_train = X.copy()\n",
    "y_train = y.copy()\n",
    "\n",
    "data_train = pd.merge(left=y_train, right=X_train, left_index=True, right_index=True)\n",
    "data_train.shape"
   ]
  },
  {
   "cell_type": "code",
   "execution_count": 11,
   "id": "d9d3479e",
   "metadata": {},
   "outputs": [
    {
     "data": {
      "text/html": [
       "<div>\n",
       "<style scoped>\n",
       "    .dataframe tbody tr th:only-of-type {\n",
       "        vertical-align: middle;\n",
       "    }\n",
       "\n",
       "    .dataframe tbody tr th {\n",
       "        vertical-align: top;\n",
       "    }\n",
       "\n",
       "    .dataframe thead th {\n",
       "        text-align: right;\n",
       "    }\n",
       "</style>\n",
       "<table border=\"1\" class=\"dataframe\">\n",
       "  <thead>\n",
       "    <tr style=\"text-align: right;\">\n",
       "      <th></th>\n",
       "      <th>Income</th>\n",
       "      <th>Age</th>\n",
       "      <th>Workclass</th>\n",
       "      <th>final weight</th>\n",
       "      <th>Education</th>\n",
       "      <th>Marital Status</th>\n",
       "      <th>Occupation</th>\n",
       "      <th>Relationship</th>\n",
       "      <th>Ethnic group</th>\n",
       "      <th>Sex</th>\n",
       "      <th>Capital Gain</th>\n",
       "      <th>Capital Loss</th>\n",
       "      <th>Hours per week</th>\n",
       "      <th>Country</th>\n",
       "    </tr>\n",
       "  </thead>\n",
       "  <tbody>\n",
       "    <tr>\n",
       "      <th>11908</th>\n",
       "      <td>&lt;=50K</td>\n",
       "      <td>26</td>\n",
       "      <td>Private</td>\n",
       "      <td>78424</td>\n",
       "      <td>Assoc-voc</td>\n",
       "      <td>Never-married</td>\n",
       "      <td>Sales</td>\n",
       "      <td>Unmarried</td>\n",
       "      <td>White</td>\n",
       "      <td>Female</td>\n",
       "      <td>0</td>\n",
       "      <td>0</td>\n",
       "      <td>54</td>\n",
       "      <td>United-States</td>\n",
       "    </tr>\n",
       "    <tr>\n",
       "      <th>29405</th>\n",
       "      <td>&lt;=50K</td>\n",
       "      <td>23</td>\n",
       "      <td>Private</td>\n",
       "      <td>60409</td>\n",
       "      <td>HS-grad</td>\n",
       "      <td>Never-married</td>\n",
       "      <td>Exec-managerial</td>\n",
       "      <td>Not-in-family</td>\n",
       "      <td>White</td>\n",
       "      <td>Female</td>\n",
       "      <td>0</td>\n",
       "      <td>0</td>\n",
       "      <td>40</td>\n",
       "      <td>United-States</td>\n",
       "    </tr>\n",
       "    <tr>\n",
       "      <th>1274</th>\n",
       "      <td>&lt;=50K</td>\n",
       "      <td>20</td>\n",
       "      <td>Private</td>\n",
       "      <td>232577</td>\n",
       "      <td>Some-college</td>\n",
       "      <td>Never-married</td>\n",
       "      <td>Other-service</td>\n",
       "      <td>Unmarried</td>\n",
       "      <td>White</td>\n",
       "      <td>Female</td>\n",
       "      <td>0</td>\n",
       "      <td>0</td>\n",
       "      <td>40</td>\n",
       "      <td>United-States</td>\n",
       "    </tr>\n",
       "    <tr>\n",
       "      <th>1960</th>\n",
       "      <td>&lt;=50K</td>\n",
       "      <td>32</td>\n",
       "      <td>Private</td>\n",
       "      <td>242150</td>\n",
       "      <td>HS-grad</td>\n",
       "      <td>Never-married</td>\n",
       "      <td>Adm-clerical</td>\n",
       "      <td>Own-child</td>\n",
       "      <td>White</td>\n",
       "      <td>Male</td>\n",
       "      <td>0</td>\n",
       "      <td>0</td>\n",
       "      <td>38</td>\n",
       "      <td>United-States</td>\n",
       "    </tr>\n",
       "    <tr>\n",
       "      <th>27485</th>\n",
       "      <td>&lt;=50K</td>\n",
       "      <td>28</td>\n",
       "      <td>Private</td>\n",
       "      <td>269246</td>\n",
       "      <td>11th</td>\n",
       "      <td>Married-civ-spouse</td>\n",
       "      <td>Farming-fishing</td>\n",
       "      <td>Husband</td>\n",
       "      <td>White</td>\n",
       "      <td>Male</td>\n",
       "      <td>0</td>\n",
       "      <td>0</td>\n",
       "      <td>40</td>\n",
       "      <td>United-States</td>\n",
       "    </tr>\n",
       "  </tbody>\n",
       "</table>\n",
       "</div>"
      ],
      "text/plain": [
       "       Income  Age Workclass  final weight      Education  \\\n",
       "11908   <=50K   26   Private         78424      Assoc-voc   \n",
       "29405   <=50K   23   Private         60409        HS-grad   \n",
       "1274    <=50K   20   Private        232577   Some-college   \n",
       "1960    <=50K   32   Private        242150        HS-grad   \n",
       "27485   <=50K   28   Private        269246           11th   \n",
       "\n",
       "            Marital Status        Occupation    Relationship Ethnic group  \\\n",
       "11908        Never-married             Sales       Unmarried        White   \n",
       "29405        Never-married   Exec-managerial   Not-in-family        White   \n",
       "1274         Never-married     Other-service       Unmarried        White   \n",
       "1960         Never-married      Adm-clerical       Own-child        White   \n",
       "27485   Married-civ-spouse   Farming-fishing         Husband        White   \n",
       "\n",
       "           Sex  Capital Gain  Capital Loss  Hours per week         Country  \n",
       "11908   Female             0             0              54   United-States  \n",
       "29405   Female             0             0              40   United-States  \n",
       "1274    Female             0             0              40   United-States  \n",
       "1960      Male             0             0              38   United-States  \n",
       "27485     Male             0             0              40   United-States  "
      ]
     },
     "execution_count": 11,
     "metadata": {},
     "output_type": "execute_result"
    }
   ],
   "source": [
    "data_train.head()"
   ]
  },
  {
   "cell_type": "markdown",
   "id": "8038a48a",
   "metadata": {},
   "source": [
    "In this dataset we have only one feature, where the order matters - Education, so it will be transformed with using OrdinalEncoder. For all the rest of categorical features the order does not matter, hense we can apply OneHotEncoder() to them."
   ]
  },
  {
   "attachments": {},
   "cell_type": "markdown",
   "id": "22fd98fd",
   "metadata": {},
   "source": [
    "# 1st model \n",
    "### Inital model without changes in data"
   ]
  },
  {
   "cell_type": "code",
   "execution_count": 12,
   "id": "78b72f9d",
   "metadata": {},
   "outputs": [],
   "source": [
    "numerical_features_list = ['Age', 'final weight', 'Capital Gain', 'Capital Loss', 'Hours per week']\n",
    "categorical_features_list = ['Workclass', 'Marital Status', 'Occupation', \n",
    "                             'Relationship', 'Ethnic group', 'Sex', 'Country']"
   ]
  },
  {
   "attachments": {},
   "cell_type": "markdown",
   "id": "28acd448",
   "metadata": {},
   "source": [
    "## For Giovanni:\n",
    "\n",
    "**in the following function I have 2 pipelines: one with LR, one with RF. I comment one of them, run, check results from call of this function, then I switch the function.** And get confused :D"
   ]
  },
  {
   "cell_type": "code",
   "execution_count": 16,
   "id": "1375ce46",
   "metadata": {},
   "outputs": [],
   "source": [
    "def get_model_performance (data, numerical_features_list: list, categorical_features_list:list):\n",
    "    \"\"\"The function performs data preprocessing, creates pipeline with LogisticRegression model, \n",
    "        and prints it's performance out\n",
    "\n",
    "    Args:\n",
    "        data: full dataset with features and target\n",
    "        numerical_features_list (list): list of features, that have to be processed by Standard scaler\n",
    "        categorical_features_list (list): list of features, that have to be processed by OneHotEncoder\n",
    "    \"\"\"\n",
    "\n",
    "    X = data.drop(columns=['Income'])\n",
    "    y = data[\"Income\"]\n",
    "\n",
    "    columntransformer = ColumnTransformer(transformers = [\n",
    "    ('ordinal', OrdinalEncoder(categories=[[' Preschool',' 1st-4th',' 5th-6th',' 7th-8th',' 9th',' 10th',' 11th',\n",
    "                                      ' 12th',' HS-grad',' Some-college',' Assoc-voc',' Assoc-acdm', \n",
    "                                      ' Bachelors',' Masters',' Prof-school',' Doctorate']]),\n",
    "     make_column_selector(pattern = 'Education')),\n",
    "    ('stand scaler', StandardScaler(), numerical_features_list),\n",
    "    ('onehot', OneHotEncoder(dtype='int', drop='first'), categorical_features_list)],\n",
    "    remainder='drop')\n",
    "    \n",
    "    # pipe = make_pipeline(columntransformer, LogisticRegression(max_iter=1000)).fit(X, y)\n",
    "    pipe = make_pipeline(columntransformer, RandomForestClassifier(n_estimators=10)).fit(X, y)\n",
    "\n",
    "    y_pred = pipe.predict(X)\n",
    "    \n",
    "    scores = cross_val_score(pipe, X, y, cv=5, scoring='f1_macro')\n",
    "    f1_mean_score = round(np.mean(scores),2)\n",
    "    f1_std = round(np.std(scores),2)\n",
    "    \n",
    "    report = classification_report(y, y_pred, target_names=data['Income'].unique())\n",
    "   \n",
    "    print(f'f1 score: mean = {f1_mean_score} | std = {f1_std}')\n",
    "    print(scores)\n",
    "    print(report)\n"
   ]
  },
  {
   "cell_type": "code",
   "execution_count": 17,
   "id": "0d7bebbc",
   "metadata": {},
   "outputs": [
    {
     "name": "stdout",
     "output_type": "stream",
     "text": [
      "f1 score: mean = 0.78 | std = 0.0\n",
      "[0.78151253 0.77935148 0.76963564 0.78102405 0.77297988]\n",
      "              precision    recall  f1-score   support\n",
      "\n",
      "       <=50K       0.98      1.00      0.99     19738\n",
      "        >50K       0.99      0.95      0.97      6310\n",
      "\n",
      "    accuracy                           0.99     26048\n",
      "   macro avg       0.99      0.97      0.98     26048\n",
      "weighted avg       0.99      0.99      0.99     26048\n",
      "\n"
     ]
    }
   ],
   "source": [
    "get_model_performance(data_train, numerical_features_list, categorical_features_list)"
   ]
  },
  {
   "cell_type": "markdown",
   "id": "87a90445",
   "metadata": {},
   "source": [
    "### Let's now understand significance of features with the help of Logit() function from statsmodel"
   ]
  },
  {
   "cell_type": "code",
   "execution_count": 195,
   "id": "1319928c",
   "metadata": {},
   "outputs": [],
   "source": [
    "def logit_summary(X, y, numerical_features: list, categorical_features: list):\n",
    "    \"\"\"Function performs data preprocessing and applies Logit() function. After that retuns summary which contains featues significances\n",
    "\n",
    "    Args:\n",
    "        X (Series object): X_train DataFrame of features\n",
    "        y (array): y_train - target\n",
    "        numerical_features_list (list): list of features, that have to be processed by Standard scaler\n",
    "        categorical_features_list (list): list of features, that have to be processed by OneHotEncoder\n",
    "\n",
    "    Returns:\n",
    "        Summary: summary of statsmodel Logit() model with the help of which the decision about \n",
    "                keeping or modifying/removing a feature can be made\n",
    "    \"\"\"\n",
    "    column_transformer = ColumnTransformer(transformers = [\n",
    "        ('ordinal', OrdinalEncoder(categories=[[' Preschool',' 1st-4th',' 5th-6th',' 7th-8th',' 9th',' 10th',' 11th',\n",
    "                                          ' 12th',' HS-grad',' Some-college',' Assoc-voc',' Assoc-acdm', \n",
    "                                          ' Bachelors',' Masters',' Prof-school',' Doctorate']]),\n",
    "         make_column_selector(pattern = 'Education')),\n",
    "        ('stand_scaler', StandardScaler(), numerical_features),\n",
    "        ('onehot', OneHotEncoder(dtype='int', drop='first'), categorical_features)],\n",
    "        remainder='drop')\n",
    "    \n",
    "    X_trans = column_transformer.fit_transform(X)\n",
    "    \n",
    "    if sps.issparse(X_trans):\n",
    "        X_trans = X_trans.toarray()\n",
    "        \n",
    "    x_columns_names = column_transformer.get_feature_names_out()\n",
    "    X_trans = pd.DataFrame(X_trans, columns = x_columns_names)\n",
    "    \n",
    "    y_train_df = pd.DataFrame(y)\n",
    "    onehot = OneHotEncoder(dtype='int', drop='first')\n",
    "    y_trans = onehot.fit_transform(y_train_df)\n",
    "    y_column_name = onehot.get_feature_names_out()\n",
    "    y_trans = pd.DataFrame.sparse.from_spmatrix(y_trans, columns=y_column_name)\n",
    "    \n",
    "    model = Logit(y_trans, X_trans).fit_regularized()\n",
    "    summary = model.summary()\n",
    "    \n",
    "    return summary"
   ]
  },
  {
   "cell_type": "code",
   "execution_count": 196,
   "id": "3cd54813",
   "metadata": {},
   "outputs": [
    {
     "name": "stdout",
     "output_type": "stream",
     "text": [
      "Optimization terminated successfully    (Exit mode 0)\n",
      "            Current function value: 0.3216011168148676\n",
      "            Iterations: 528\n",
      "            Function evaluations: 531\n",
      "            Gradient evaluations: 528\n"
     ]
    },
    {
     "data": {
      "text/html": [
       "<table class=\"simpletable\">\n",
       "<caption>Logit Regression Results</caption>\n",
       "<tr>\n",
       "  <th>Dep. Variable:</th>     <td>Income_ >50K</td>   <th>  No. Observations:  </th>  <td> 32560</td> \n",
       "</tr>\n",
       "<tr>\n",
       "  <th>Model:</th>                 <td>Logit</td>      <th>  Df Residuals:      </th>  <td> 32476</td> \n",
       "</tr>\n",
       "<tr>\n",
       "  <th>Method:</th>                 <td>MLE</td>       <th>  Df Model:          </th>  <td>    83</td> \n",
       "</tr>\n",
       "<tr>\n",
       "  <th>Date:</th>            <td>Tue, 11 Apr 2023</td> <th>  Pseudo R-squ.:     </th>  <td>0.4174</td> \n",
       "</tr>\n",
       "<tr>\n",
       "  <th>Time:</th>                <td>17:03:13</td>     <th>  Log-Likelihood:    </th> <td> -10471.</td>\n",
       "</tr>\n",
       "<tr>\n",
       "  <th>converged:</th>             <td>True</td>       <th>  LL-Null:           </th> <td> -17974.</td>\n",
       "</tr>\n",
       "<tr>\n",
       "  <th>Covariance Type:</th>     <td>nonrobust</td>    <th>  LLR p-value:       </th>  <td> 0.000</td> \n",
       "</tr>\n",
       "</table>\n",
       "<table class=\"simpletable\">\n",
       "<tr>\n",
       "                        <td></td>                           <th>coef</th>     <th>std err</th>      <th>z</th>      <th>P>|z|</th>  <th>[0.025</th>    <th>0.975]</th>  \n",
       "</tr>\n",
       "<tr>\n",
       "  <th>ordinal__Education</th>                            <td>    0.2519</td> <td>    0.009</td> <td>   27.967</td> <td> 0.000</td> <td>    0.234</td> <td>    0.270</td>\n",
       "</tr>\n",
       "<tr>\n",
       "  <th>stand_scaler__Age</th>                             <td>    0.3264</td> <td>    0.022</td> <td>   14.865</td> <td> 0.000</td> <td>    0.283</td> <td>    0.369</td>\n",
       "</tr>\n",
       "<tr>\n",
       "  <th>stand_scaler__final weight</th>                    <td>    0.0797</td> <td>    0.018</td> <td>    4.431</td> <td> 0.000</td> <td>    0.044</td> <td>    0.115</td>\n",
       "</tr>\n",
       "<tr>\n",
       "  <th>stand_scaler__Capital Gain</th>                    <td>    2.3494</td> <td>    0.076</td> <td>   30.866</td> <td> 0.000</td> <td>    2.200</td> <td>    2.499</td>\n",
       "</tr>\n",
       "<tr>\n",
       "  <th>stand_scaler__Capital Loss</th>                    <td>    0.2600</td> <td>    0.015</td> <td>   17.533</td> <td> 0.000</td> <td>    0.231</td> <td>    0.289</td>\n",
       "</tr>\n",
       "<tr>\n",
       "  <th>stand_scaler__Hours per week</th>                  <td>    0.3755</td> <td>    0.020</td> <td>   18.994</td> <td> 0.000</td> <td>    0.337</td> <td>    0.414</td>\n",
       "</tr>\n",
       "<tr>\n",
       "  <th>onehot__Workclass_ Federal-gov</th>                <td>    0.7518</td> <td> 8.43e+05</td> <td> 8.92e-07</td> <td> 1.000</td> <td>-1.65e+06</td> <td> 1.65e+06</td>\n",
       "</tr>\n",
       "<tr>\n",
       "  <th>onehot__Workclass_ Local-gov</th>                  <td>    0.0791</td> <td> 8.43e+05</td> <td> 9.38e-08</td> <td> 1.000</td> <td>-1.65e+06</td> <td> 1.65e+06</td>\n",
       "</tr>\n",
       "<tr>\n",
       "  <th>onehot__Workclass_ Never-worked</th>               <td>   -1.5895</td> <td>    4.701</td> <td>   -0.338</td> <td> 0.735</td> <td>  -10.803</td> <td>    7.624</td>\n",
       "</tr>\n",
       "<tr>\n",
       "  <th>onehot__Workclass_ Private</th>                    <td>    0.2586</td> <td> 8.43e+05</td> <td> 3.07e-07</td> <td> 1.000</td> <td>-1.65e+06</td> <td> 1.65e+06</td>\n",
       "</tr>\n",
       "<tr>\n",
       "  <th>onehot__Workclass_ Self-emp-inc</th>               <td>    0.4537</td> <td> 8.43e+05</td> <td> 5.38e-07</td> <td> 1.000</td> <td>-1.65e+06</td> <td> 1.65e+06</td>\n",
       "</tr>\n",
       "<tr>\n",
       "  <th>onehot__Workclass_ Self-emp-not-inc</th>           <td>   -0.2024</td> <td> 8.43e+05</td> <td> -2.4e-07</td> <td> 1.000</td> <td>-1.65e+06</td> <td> 1.65e+06</td>\n",
       "</tr>\n",
       "<tr>\n",
       "  <th>onehot__Workclass_ State-gov</th>                  <td>   -0.0070</td> <td> 8.43e+05</td> <td>-8.32e-09</td> <td> 1.000</td> <td>-1.65e+06</td> <td> 1.65e+06</td>\n",
       "</tr>\n",
       "<tr>\n",
       "  <th>onehot__Workclass_ Without-pay</th>                <td>   -5.1518</td> <td> 8.43e+05</td> <td>-6.11e-06</td> <td> 1.000</td> <td>-1.65e+06</td> <td> 1.65e+06</td>\n",
       "</tr>\n",
       "<tr>\n",
       "  <th>onehot__Marital Status_ Married-AF-spouse</th>     <td>   -2.2625</td> <td>    0.549</td> <td>   -4.122</td> <td> 0.000</td> <td>   -3.338</td> <td>   -1.187</td>\n",
       "</tr>\n",
       "<tr>\n",
       "  <th>onehot__Marital Status_ Married-civ-spouse</th>    <td>   -2.7228</td> <td>    0.248</td> <td>  -10.957</td> <td> 0.000</td> <td>   -3.210</td> <td>   -2.236</td>\n",
       "</tr>\n",
       "<tr>\n",
       "  <th>onehot__Marital Status_ Married-spouse-absent</th> <td>   -0.2130</td> <td>    0.226</td> <td>   -0.941</td> <td> 0.347</td> <td>   -0.657</td> <td>    0.231</td>\n",
       "</tr>\n",
       "<tr>\n",
       "  <th>onehot__Marital Status_ Never-married</th>         <td>   -0.6429</td> <td>    0.085</td> <td>   -7.576</td> <td> 0.000</td> <td>   -0.809</td> <td>   -0.477</td>\n",
       "</tr>\n",
       "<tr>\n",
       "  <th>onehot__Marital Status_ Separated</th>             <td>   -0.2754</td> <td>    0.161</td> <td>   -1.705</td> <td> 0.088</td> <td>   -0.592</td> <td>    0.041</td>\n",
       "</tr>\n",
       "<tr>\n",
       "  <th>onehot__Marital Status_ Widowed</th>               <td>   -0.0457</td> <td>    0.151</td> <td>   -0.303</td> <td> 0.762</td> <td>   -0.341</td> <td>    0.250</td>\n",
       "</tr>\n",
       "<tr>\n",
       "  <th>onehot__Occupation_ Adm-clerical</th>              <td>    0.0755</td> <td> 8.43e+05</td> <td> 8.96e-08</td> <td> 1.000</td> <td>-1.65e+06</td> <td> 1.65e+06</td>\n",
       "</tr>\n",
       "<tr>\n",
       "  <th>onehot__Occupation_ Armed-Forces</th>              <td>   -0.7952</td> <td> 8.43e+05</td> <td>-9.43e-07</td> <td> 1.000</td> <td>-1.65e+06</td> <td> 1.65e+06</td>\n",
       "</tr>\n",
       "<tr>\n",
       "  <th>onehot__Occupation_ Craft-repair</th>              <td>    0.1321</td> <td> 8.43e+05</td> <td> 1.57e-07</td> <td> 1.000</td> <td>-1.65e+06</td> <td> 1.65e+06</td>\n",
       "</tr>\n",
       "<tr>\n",
       "  <th>onehot__Occupation_ Exec-managerial</th>           <td>    0.8982</td> <td> 8.43e+05</td> <td> 1.07e-06</td> <td> 1.000</td> <td>-1.65e+06</td> <td> 1.65e+06</td>\n",
       "</tr>\n",
       "<tr>\n",
       "  <th>onehot__Occupation_ Farming-fishing</th>           <td>   -0.9294</td> <td> 8.43e+05</td> <td> -1.1e-06</td> <td> 1.000</td> <td>-1.65e+06</td> <td> 1.65e+06</td>\n",
       "</tr>\n",
       "<tr>\n",
       "  <th>onehot__Occupation_ Handlers-cleaners</th>         <td>   -0.6282</td> <td> 8.43e+05</td> <td>-7.45e-07</td> <td> 1.000</td> <td>-1.65e+06</td> <td> 1.65e+06</td>\n",
       "</tr>\n",
       "<tr>\n",
       "  <th>onehot__Occupation_ Machine-op-inspct</th>         <td>   -0.2387</td> <td> 8.43e+05</td> <td>-2.83e-07</td> <td> 1.000</td> <td>-1.65e+06</td> <td> 1.65e+06</td>\n",
       "</tr>\n",
       "<tr>\n",
       "  <th>onehot__Occupation_ Other-service</th>             <td>   -0.7812</td> <td> 8.43e+05</td> <td>-9.27e-07</td> <td> 1.000</td> <td>-1.65e+06</td> <td> 1.65e+06</td>\n",
       "</tr>\n",
       "<tr>\n",
       "  <th>onehot__Occupation_ Priv-house-serv</th>           <td>   -3.6152</td> <td> 8.43e+05</td> <td>-4.29e-06</td> <td> 1.000</td> <td>-1.65e+06</td> <td> 1.65e+06</td>\n",
       "</tr>\n",
       "<tr>\n",
       "  <th>onehot__Occupation_ Prof-specialty</th>            <td>    0.7037</td> <td> 8.43e+05</td> <td> 8.35e-07</td> <td> 1.000</td> <td>-1.65e+06</td> <td> 1.65e+06</td>\n",
       "</tr>\n",
       "<tr>\n",
       "  <th>onehot__Occupation_ Protective-serv</th>           <td>    0.6532</td> <td> 8.43e+05</td> <td> 7.75e-07</td> <td> 1.000</td> <td>-1.65e+06</td> <td> 1.65e+06</td>\n",
       "</tr>\n",
       "<tr>\n",
       "  <th>onehot__Occupation_ Sales</th>                     <td>    0.3748</td> <td> 8.43e+05</td> <td> 4.45e-07</td> <td> 1.000</td> <td>-1.65e+06</td> <td> 1.65e+06</td>\n",
       "</tr>\n",
       "<tr>\n",
       "  <th>onehot__Occupation_ Tech-support</th>              <td>    0.7361</td> <td> 8.43e+05</td> <td> 8.73e-07</td> <td> 1.000</td> <td>-1.65e+06</td> <td> 1.65e+06</td>\n",
       "</tr>\n",
       "<tr>\n",
       "  <th>onehot__Occupation_ Transport-moving</th>          <td>   -0.0674</td> <td> 8.43e+05</td> <td>-7.99e-08</td> <td> 1.000</td> <td>-1.65e+06</td> <td> 1.65e+06</td>\n",
       "</tr>\n",
       "<tr>\n",
       "  <th>onehot__Relationship_ Not-in-family</th>           <td>   -4.3214</td> <td>    0.249</td> <td>  -17.336</td> <td> 0.000</td> <td>   -4.810</td> <td>   -3.833</td>\n",
       "</tr>\n",
       "<tr>\n",
       "  <th>onehot__Relationship_ Other-relative</th>          <td>   -4.2383</td> <td>    0.302</td> <td>  -14.021</td> <td> 0.000</td> <td>   -4.831</td> <td>   -3.646</td>\n",
       "</tr>\n",
       "<tr>\n",
       "  <th>onehot__Relationship_ Own-child</th>               <td>   -5.2876</td> <td>    0.280</td> <td>  -18.888</td> <td> 0.000</td> <td>   -5.836</td> <td>   -4.739</td>\n",
       "</tr>\n",
       "<tr>\n",
       "  <th>onehot__Relationship_ Unmarried</th>               <td>   -4.5721</td> <td>    0.254</td> <td>  -18.029</td> <td> 0.000</td> <td>   -5.069</td> <td>   -4.075</td>\n",
       "</tr>\n",
       "<tr>\n",
       "  <th>onehot__Relationship_ Wife</th>                    <td>    1.1045</td> <td>    0.101</td> <td>   10.989</td> <td> 0.000</td> <td>    0.908</td> <td>    1.302</td>\n",
       "</tr>\n",
       "<tr>\n",
       "  <th>onehot__Ethnic group_ Asian-Pac-Islander</th>      <td>   -0.7905</td> <td>    0.230</td> <td>   -3.437</td> <td> 0.001</td> <td>   -1.241</td> <td>   -0.340</td>\n",
       "</tr>\n",
       "<tr>\n",
       "  <th>onehot__Ethnic group_ Black</th>                   <td>   -0.9854</td> <td>    0.186</td> <td>   -5.303</td> <td> 0.000</td> <td>   -1.350</td> <td>   -0.621</td>\n",
       "</tr>\n",
       "<tr>\n",
       "  <th>onehot__Ethnic group_ Other</th>                   <td>   -1.2039</td> <td>    0.324</td> <td>   -3.716</td> <td> 0.000</td> <td>   -1.839</td> <td>   -0.569</td>\n",
       "</tr>\n",
       "<tr>\n",
       "  <th>onehot__Ethnic group_ White</th>                   <td>   -0.7703</td> <td>    0.172</td> <td>   -4.479</td> <td> 0.000</td> <td>   -1.107</td> <td>   -0.433</td>\n",
       "</tr>\n",
       "<tr>\n",
       "  <th>onehot__Sex_ Male</th>                             <td>    0.6608</td> <td>    0.077</td> <td>    8.571</td> <td> 0.000</td> <td>    0.510</td> <td>    0.812</td>\n",
       "</tr>\n",
       "<tr>\n",
       "  <th>onehot__Country_ Cambodia</th>                     <td>    0.9735</td> <td>    0.621</td> <td>    1.568</td> <td> 0.117</td> <td>   -0.244</td> <td>    2.191</td>\n",
       "</tr>\n",
       "<tr>\n",
       "  <th>onehot__Country_ Canada</th>                       <td>   -0.1390</td> <td>    0.290</td> <td>   -0.479</td> <td> 0.632</td> <td>   -0.708</td> <td>    0.430</td>\n",
       "</tr>\n",
       "<tr>\n",
       "  <th>onehot__Country_ China</th>                        <td>   -0.8749</td> <td>    0.389</td> <td>   -2.250</td> <td> 0.024</td> <td>   -1.637</td> <td>   -0.113</td>\n",
       "</tr>\n",
       "<tr>\n",
       "  <th>onehot__Country_ Columbia</th>                     <td>   -2.4864</td> <td>    0.812</td> <td>   -3.061</td> <td> 0.002</td> <td>   -4.079</td> <td>   -0.894</td>\n",
       "</tr>\n",
       "<tr>\n",
       "  <th>onehot__Country_ Cuba</th>                         <td>   -0.1148</td> <td>    0.331</td> <td>   -0.347</td> <td> 0.729</td> <td>   -0.764</td> <td>    0.534</td>\n",
       "</tr>\n",
       "<tr>\n",
       "  <th>onehot__Country_ Dominican-Republic</th>           <td>   -2.2679</td> <td>    1.011</td> <td>   -2.243</td> <td> 0.025</td> <td>   -4.250</td> <td>   -0.286</td>\n",
       "</tr>\n",
       "<tr>\n",
       "  <th>onehot__Country_ Ecuador</th>                      <td>   -0.6950</td> <td>    0.729</td> <td>   -0.954</td> <td> 0.340</td> <td>   -2.123</td> <td>    0.733</td>\n",
       "</tr>\n",
       "<tr>\n",
       "  <th>onehot__Country_ El-Salvador</th>                  <td>   -1.0479</td> <td>    0.489</td> <td>   -2.142</td> <td> 0.032</td> <td>   -2.007</td> <td>   -0.089</td>\n",
       "</tr>\n",
       "<tr>\n",
       "  <th>onehot__Country_ England</th>                      <td>   -0.1614</td> <td>    0.327</td> <td>   -0.493</td> <td> 0.622</td> <td>   -0.802</td> <td>    0.480</td>\n",
       "</tr>\n",
       "<tr>\n",
       "  <th>onehot__Country_ France</th>                       <td>    0.1331</td> <td>    0.520</td> <td>    0.256</td> <td> 0.798</td> <td>   -0.886</td> <td>    1.152</td>\n",
       "</tr>\n",
       "<tr>\n",
       "  <th>onehot__Country_ Germany</th>                      <td>   -0.0624</td> <td>    0.276</td> <td>   -0.226</td> <td> 0.821</td> <td>   -0.604</td> <td>    0.479</td>\n",
       "</tr>\n",
       "<tr>\n",
       "  <th>onehot__Country_ Greece</th>                       <td>   -1.4134</td> <td>    0.560</td> <td>   -2.522</td> <td> 0.012</td> <td>   -2.512</td> <td>   -0.315</td>\n",
       "</tr>\n",
       "<tr>\n",
       "  <th>onehot__Country_ Guatemala</th>                    <td>   -0.7584</td> <td>    0.755</td> <td>   -1.004</td> <td> 0.315</td> <td>   -2.238</td> <td>    0.721</td>\n",
       "</tr>\n",
       "<tr>\n",
       "  <th>onehot__Country_ Haiti</th>                        <td>   -0.5403</td> <td>    0.676</td> <td>   -0.799</td> <td> 0.424</td> <td>   -1.865</td> <td>    0.785</td>\n",
       "</tr>\n",
       "<tr>\n",
       "  <th>onehot__Country_ Honduras</th>                     <td>   -2.0795</td> <td>    2.133</td> <td>   -0.975</td> <td> 0.330</td> <td>   -6.260</td> <td>    2.101</td>\n",
       "</tr>\n",
       "<tr>\n",
       "  <th>onehot__Country_ Hong</th>                         <td>   -0.5261</td> <td>    0.655</td> <td>   -0.803</td> <td> 0.422</td> <td>   -1.810</td> <td>    0.758</td>\n",
       "</tr>\n",
       "<tr>\n",
       "  <th>onehot__Country_ Hungary</th>                      <td>   -0.6459</td> <td>    0.775</td> <td>   -0.833</td> <td> 0.405</td> <td>   -2.166</td> <td>    0.874</td>\n",
       "</tr>\n",
       "<tr>\n",
       "  <th>onehot__Country_ India</th>                        <td>   -0.5786</td> <td>    0.329</td> <td>   -1.760</td> <td> 0.078</td> <td>   -1.223</td> <td>    0.066</td>\n",
       "</tr>\n",
       "<tr>\n",
       "  <th>onehot__Country_ Iran</th>                         <td>   -0.4398</td> <td>    0.443</td> <td>   -0.994</td> <td> 0.320</td> <td>   -1.307</td> <td>    0.428</td>\n",
       "</tr>\n",
       "<tr>\n",
       "  <th>onehot__Country_ Ireland</th>                      <td>    0.0951</td> <td>    0.659</td> <td>    0.144</td> <td> 0.885</td> <td>   -1.196</td> <td>    1.386</td>\n",
       "</tr>\n",
       "<tr>\n",
       "  <th>onehot__Country_ Italy</th>                        <td>    0.3558</td> <td>    0.343</td> <td>    1.038</td> <td> 0.299</td> <td>   -0.316</td> <td>    1.028</td>\n",
       "</tr>\n",
       "<tr>\n",
       "  <th>onehot__Country_ Jamaica</th>                      <td>   -0.4281</td> <td>    0.455</td> <td>   -0.940</td> <td> 0.347</td> <td>   -1.320</td> <td>    0.464</td>\n",
       "</tr>\n",
       "<tr>\n",
       "  <th>onehot__Country_ Japan</th>                        <td>    0.0498</td> <td>    0.419</td> <td>    0.119</td> <td> 0.905</td> <td>   -0.771</td> <td>    0.871</td>\n",
       "</tr>\n",
       "<tr>\n",
       "  <th>onehot__Country_ Laos</th>                         <td>   -0.8763</td> <td>    0.841</td> <td>   -1.042</td> <td> 0.297</td> <td>   -2.525</td> <td>    0.772</td>\n",
       "</tr>\n",
       "<tr>\n",
       "  <th>onehot__Country_ Mexico</th>                       <td>   -0.9965</td> <td>    0.248</td> <td>   -4.011</td> <td> 0.000</td> <td>   -1.483</td> <td>   -0.510</td>\n",
       "</tr>\n",
       "<tr>\n",
       "  <th>onehot__Country_ Nicaragua</th>                    <td>   -1.3124</td> <td>    0.792</td> <td>   -1.658</td> <td> 0.097</td> <td>   -2.864</td> <td>    0.239</td>\n",
       "</tr>\n",
       "<tr>\n",
       "  <th>onehot__Country_ Outlying-US(Guam-USVI-etc)</th>   <td>   -5.1872</td> <td>    7.705</td> <td>   -0.673</td> <td> 0.501</td> <td>  -20.289</td> <td>    9.915</td>\n",
       "</tr>\n",
       "<tr>\n",
       "  <th>onehot__Country_ Peru</th>                         <td>   -1.3613</td> <td>    0.863</td> <td>   -1.577</td> <td> 0.115</td> <td>   -3.053</td> <td>    0.330</td>\n",
       "</tr>\n",
       "<tr>\n",
       "  <th>onehot__Country_ Philippines</th>                  <td>    0.1682</td> <td>    0.279</td> <td>    0.603</td> <td> 0.546</td> <td>   -0.378</td> <td>    0.715</td>\n",
       "</tr>\n",
       "<tr>\n",
       "  <th>onehot__Country_ Poland</th>                       <td>   -0.4441</td> <td>    0.418</td> <td>   -1.063</td> <td> 0.288</td> <td>   -1.263</td> <td>    0.375</td>\n",
       "</tr>\n",
       "<tr>\n",
       "  <th>onehot__Country_ Portugal</th>                     <td>   -0.5494</td> <td>    0.630</td> <td>   -0.873</td> <td> 0.383</td> <td>   -1.783</td> <td>    0.684</td>\n",
       "</tr>\n",
       "<tr>\n",
       "  <th>onehot__Country_ Puerto-Rico</th>                  <td>   -0.8333</td> <td>    0.399</td> <td>   -2.090</td> <td> 0.037</td> <td>   -1.615</td> <td>   -0.052</td>\n",
       "</tr>\n",
       "<tr>\n",
       "  <th>onehot__Country_ Scotland</th>                     <td>   -0.4831</td> <td>    0.805</td> <td>   -0.600</td> <td> 0.548</td> <td>   -2.060</td> <td>    1.094</td>\n",
       "</tr>\n",
       "<tr>\n",
       "  <th>onehot__Country_ South</th>                        <td>   -1.4131</td> <td>    0.437</td> <td>   -3.232</td> <td> 0.001</td> <td>   -2.270</td> <td>   -0.556</td>\n",
       "</tr>\n",
       "<tr>\n",
       "  <th>onehot__Country_ Taiwan</th>                       <td>   -0.2829</td> <td>    0.458</td> <td>   -0.617</td> <td> 0.537</td> <td>   -1.181</td> <td>    0.615</td>\n",
       "</tr>\n",
       "<tr>\n",
       "  <th>onehot__Country_ Thailand</th>                     <td>   -1.0058</td> <td>    0.818</td> <td>   -1.229</td> <td> 0.219</td> <td>   -2.610</td> <td>    0.598</td>\n",
       "</tr>\n",
       "<tr>\n",
       "  <th>onehot__Country_ Trinadad&Tobago</th>              <td>   -0.7928</td> <td>    0.867</td> <td>   -0.915</td> <td> 0.360</td> <td>   -2.492</td> <td>    0.906</td>\n",
       "</tr>\n",
       "<tr>\n",
       "  <th>onehot__Country_ United-States</th>                <td>   -0.3047</td> <td>    0.128</td> <td>   -2.389</td> <td> 0.017</td> <td>   -0.555</td> <td>   -0.055</td>\n",
       "</tr>\n",
       "<tr>\n",
       "  <th>onehot__Country_ Vietnam</th>                      <td>   -1.5540</td> <td>    0.615</td> <td>   -2.529</td> <td> 0.011</td> <td>   -2.759</td> <td>   -0.349</td>\n",
       "</tr>\n",
       "<tr>\n",
       "  <th>onehot__Country_ Yugoslavia</th>                   <td>    0.1640</td> <td>    0.685</td> <td>    0.239</td> <td> 0.811</td> <td>   -1.179</td> <td>    1.507</td>\n",
       "</tr>\n",
       "</table>"
      ],
      "text/plain": [
       "<class 'statsmodels.iolib.summary.Summary'>\n",
       "\"\"\"\n",
       "                           Logit Regression Results                           \n",
       "==============================================================================\n",
       "Dep. Variable:           Income_ >50K   No. Observations:                32560\n",
       "Model:                          Logit   Df Residuals:                    32476\n",
       "Method:                           MLE   Df Model:                           83\n",
       "Date:                Tue, 11 Apr 2023   Pseudo R-squ.:                  0.4174\n",
       "Time:                        17:03:13   Log-Likelihood:                -10471.\n",
       "converged:                       True   LL-Null:                       -17974.\n",
       "Covariance Type:            nonrobust   LLR p-value:                     0.000\n",
       "=================================================================================================================\n",
       "                                                    coef    std err          z      P>|z|      [0.025      0.975]\n",
       "-----------------------------------------------------------------------------------------------------------------\n",
       "ordinal__Education                                0.2519      0.009     27.967      0.000       0.234       0.270\n",
       "stand_scaler__Age                                 0.3264      0.022     14.865      0.000       0.283       0.369\n",
       "stand_scaler__final weight                        0.0797      0.018      4.431      0.000       0.044       0.115\n",
       "stand_scaler__Capital Gain                        2.3494      0.076     30.866      0.000       2.200       2.499\n",
       "stand_scaler__Capital Loss                        0.2600      0.015     17.533      0.000       0.231       0.289\n",
       "stand_scaler__Hours per week                      0.3755      0.020     18.994      0.000       0.337       0.414\n",
       "onehot__Workclass_ Federal-gov                    0.7518   8.43e+05   8.92e-07      1.000   -1.65e+06    1.65e+06\n",
       "onehot__Workclass_ Local-gov                      0.0791   8.43e+05   9.38e-08      1.000   -1.65e+06    1.65e+06\n",
       "onehot__Workclass_ Never-worked                  -1.5895      4.701     -0.338      0.735     -10.803       7.624\n",
       "onehot__Workclass_ Private                        0.2586   8.43e+05   3.07e-07      1.000   -1.65e+06    1.65e+06\n",
       "onehot__Workclass_ Self-emp-inc                   0.4537   8.43e+05   5.38e-07      1.000   -1.65e+06    1.65e+06\n",
       "onehot__Workclass_ Self-emp-not-inc              -0.2024   8.43e+05   -2.4e-07      1.000   -1.65e+06    1.65e+06\n",
       "onehot__Workclass_ State-gov                     -0.0070   8.43e+05  -8.32e-09      1.000   -1.65e+06    1.65e+06\n",
       "onehot__Workclass_ Without-pay                   -5.1518   8.43e+05  -6.11e-06      1.000   -1.65e+06    1.65e+06\n",
       "onehot__Marital Status_ Married-AF-spouse        -2.2625      0.549     -4.122      0.000      -3.338      -1.187\n",
       "onehot__Marital Status_ Married-civ-spouse       -2.7228      0.248    -10.957      0.000      -3.210      -2.236\n",
       "onehot__Marital Status_ Married-spouse-absent    -0.2130      0.226     -0.941      0.347      -0.657       0.231\n",
       "onehot__Marital Status_ Never-married            -0.6429      0.085     -7.576      0.000      -0.809      -0.477\n",
       "onehot__Marital Status_ Separated                -0.2754      0.161     -1.705      0.088      -0.592       0.041\n",
       "onehot__Marital Status_ Widowed                  -0.0457      0.151     -0.303      0.762      -0.341       0.250\n",
       "onehot__Occupation_ Adm-clerical                  0.0755   8.43e+05   8.96e-08      1.000   -1.65e+06    1.65e+06\n",
       "onehot__Occupation_ Armed-Forces                 -0.7952   8.43e+05  -9.43e-07      1.000   -1.65e+06    1.65e+06\n",
       "onehot__Occupation_ Craft-repair                  0.1321   8.43e+05   1.57e-07      1.000   -1.65e+06    1.65e+06\n",
       "onehot__Occupation_ Exec-managerial               0.8982   8.43e+05   1.07e-06      1.000   -1.65e+06    1.65e+06\n",
       "onehot__Occupation_ Farming-fishing              -0.9294   8.43e+05   -1.1e-06      1.000   -1.65e+06    1.65e+06\n",
       "onehot__Occupation_ Handlers-cleaners            -0.6282   8.43e+05  -7.45e-07      1.000   -1.65e+06    1.65e+06\n",
       "onehot__Occupation_ Machine-op-inspct            -0.2387   8.43e+05  -2.83e-07      1.000   -1.65e+06    1.65e+06\n",
       "onehot__Occupation_ Other-service                -0.7812   8.43e+05  -9.27e-07      1.000   -1.65e+06    1.65e+06\n",
       "onehot__Occupation_ Priv-house-serv              -3.6152   8.43e+05  -4.29e-06      1.000   -1.65e+06    1.65e+06\n",
       "onehot__Occupation_ Prof-specialty                0.7037   8.43e+05   8.35e-07      1.000   -1.65e+06    1.65e+06\n",
       "onehot__Occupation_ Protective-serv               0.6532   8.43e+05   7.75e-07      1.000   -1.65e+06    1.65e+06\n",
       "onehot__Occupation_ Sales                         0.3748   8.43e+05   4.45e-07      1.000   -1.65e+06    1.65e+06\n",
       "onehot__Occupation_ Tech-support                  0.7361   8.43e+05   8.73e-07      1.000   -1.65e+06    1.65e+06\n",
       "onehot__Occupation_ Transport-moving             -0.0674   8.43e+05  -7.99e-08      1.000   -1.65e+06    1.65e+06\n",
       "onehot__Relationship_ Not-in-family              -4.3214      0.249    -17.336      0.000      -4.810      -3.833\n",
       "onehot__Relationship_ Other-relative             -4.2383      0.302    -14.021      0.000      -4.831      -3.646\n",
       "onehot__Relationship_ Own-child                  -5.2876      0.280    -18.888      0.000      -5.836      -4.739\n",
       "onehot__Relationship_ Unmarried                  -4.5721      0.254    -18.029      0.000      -5.069      -4.075\n",
       "onehot__Relationship_ Wife                        1.1045      0.101     10.989      0.000       0.908       1.302\n",
       "onehot__Ethnic group_ Asian-Pac-Islander         -0.7905      0.230     -3.437      0.001      -1.241      -0.340\n",
       "onehot__Ethnic group_ Black                      -0.9854      0.186     -5.303      0.000      -1.350      -0.621\n",
       "onehot__Ethnic group_ Other                      -1.2039      0.324     -3.716      0.000      -1.839      -0.569\n",
       "onehot__Ethnic group_ White                      -0.7703      0.172     -4.479      0.000      -1.107      -0.433\n",
       "onehot__Sex_ Male                                 0.6608      0.077      8.571      0.000       0.510       0.812\n",
       "onehot__Country_ Cambodia                         0.9735      0.621      1.568      0.117      -0.244       2.191\n",
       "onehot__Country_ Canada                          -0.1390      0.290     -0.479      0.632      -0.708       0.430\n",
       "onehot__Country_ China                           -0.8749      0.389     -2.250      0.024      -1.637      -0.113\n",
       "onehot__Country_ Columbia                        -2.4864      0.812     -3.061      0.002      -4.079      -0.894\n",
       "onehot__Country_ Cuba                            -0.1148      0.331     -0.347      0.729      -0.764       0.534\n",
       "onehot__Country_ Dominican-Republic              -2.2679      1.011     -2.243      0.025      -4.250      -0.286\n",
       "onehot__Country_ Ecuador                         -0.6950      0.729     -0.954      0.340      -2.123       0.733\n",
       "onehot__Country_ El-Salvador                     -1.0479      0.489     -2.142      0.032      -2.007      -0.089\n",
       "onehot__Country_ England                         -0.1614      0.327     -0.493      0.622      -0.802       0.480\n",
       "onehot__Country_ France                           0.1331      0.520      0.256      0.798      -0.886       1.152\n",
       "onehot__Country_ Germany                         -0.0624      0.276     -0.226      0.821      -0.604       0.479\n",
       "onehot__Country_ Greece                          -1.4134      0.560     -2.522      0.012      -2.512      -0.315\n",
       "onehot__Country_ Guatemala                       -0.7584      0.755     -1.004      0.315      -2.238       0.721\n",
       "onehot__Country_ Haiti                           -0.5403      0.676     -0.799      0.424      -1.865       0.785\n",
       "onehot__Country_ Honduras                        -2.0795      2.133     -0.975      0.330      -6.260       2.101\n",
       "onehot__Country_ Hong                            -0.5261      0.655     -0.803      0.422      -1.810       0.758\n",
       "onehot__Country_ Hungary                         -0.6459      0.775     -0.833      0.405      -2.166       0.874\n",
       "onehot__Country_ India                           -0.5786      0.329     -1.760      0.078      -1.223       0.066\n",
       "onehot__Country_ Iran                            -0.4398      0.443     -0.994      0.320      -1.307       0.428\n",
       "onehot__Country_ Ireland                          0.0951      0.659      0.144      0.885      -1.196       1.386\n",
       "onehot__Country_ Italy                            0.3558      0.343      1.038      0.299      -0.316       1.028\n",
       "onehot__Country_ Jamaica                         -0.4281      0.455     -0.940      0.347      -1.320       0.464\n",
       "onehot__Country_ Japan                            0.0498      0.419      0.119      0.905      -0.771       0.871\n",
       "onehot__Country_ Laos                            -0.8763      0.841     -1.042      0.297      -2.525       0.772\n",
       "onehot__Country_ Mexico                          -0.9965      0.248     -4.011      0.000      -1.483      -0.510\n",
       "onehot__Country_ Nicaragua                       -1.3124      0.792     -1.658      0.097      -2.864       0.239\n",
       "onehot__Country_ Outlying-US(Guam-USVI-etc)      -5.1872      7.705     -0.673      0.501     -20.289       9.915\n",
       "onehot__Country_ Peru                            -1.3613      0.863     -1.577      0.115      -3.053       0.330\n",
       "onehot__Country_ Philippines                      0.1682      0.279      0.603      0.546      -0.378       0.715\n",
       "onehot__Country_ Poland                          -0.4441      0.418     -1.063      0.288      -1.263       0.375\n",
       "onehot__Country_ Portugal                        -0.5494      0.630     -0.873      0.383      -1.783       0.684\n",
       "onehot__Country_ Puerto-Rico                     -0.8333      0.399     -2.090      0.037      -1.615      -0.052\n",
       "onehot__Country_ Scotland                        -0.4831      0.805     -0.600      0.548      -2.060       1.094\n",
       "onehot__Country_ South                           -1.4131      0.437     -3.232      0.001      -2.270      -0.556\n",
       "onehot__Country_ Taiwan                          -0.2829      0.458     -0.617      0.537      -1.181       0.615\n",
       "onehot__Country_ Thailand                        -1.0058      0.818     -1.229      0.219      -2.610       0.598\n",
       "onehot__Country_ Trinadad&Tobago                 -0.7928      0.867     -0.915      0.360      -2.492       0.906\n",
       "onehot__Country_ United-States                   -0.3047      0.128     -2.389      0.017      -0.555      -0.055\n",
       "onehot__Country_ Vietnam                         -1.5540      0.615     -2.529      0.011      -2.759      -0.349\n",
       "onehot__Country_ Yugoslavia                       0.1640      0.685      0.239      0.811      -1.179       1.507\n",
       "=================================================================================================================\n",
       "\"\"\""
      ]
     },
     "execution_count": 196,
     "metadata": {},
     "output_type": "execute_result"
    }
   ],
   "source": [
    "summary = logit_summary(X_train, y_train, numerical_features_list, categorical_features_list)\n",
    "summary"
   ]
  },
  {
   "attachments": {},
   "cell_type": "markdown",
   "id": "5ee9ef56",
   "metadata": {},
   "source": [
    "# 2nd model\n",
    "### Same model, but without 'final weight'\n",
    "\n",
    "As we remember from EDA, **'final weight'** feature did not pass the significance border. Let's try to remove it and check the performance"
   ]
  },
  {
   "cell_type": "code",
   "execution_count": 197,
   "id": "55d54c0f",
   "metadata": {},
   "outputs": [],
   "source": [
    "numerical_features_list = ['Age', 'Capital Gain', 'Capital Loss', 'Hours per week']\n",
    "categorical_features_list = ['Workclass', 'Marital Status', 'Occupation', \n",
    "                             'Relationship', 'Ethnic group', 'Sex', 'Country']"
   ]
  },
  {
   "cell_type": "code",
   "execution_count": 198,
   "id": "29b04bad",
   "metadata": {},
   "outputs": [
    {
     "name": "stderr",
     "output_type": "stream",
     "text": [
      "/Users/nadiiaduiunova/opt/anaconda3/envs/final_env/lib/python3.9/site-packages/sklearn/linear_model/_logistic.py:458: ConvergenceWarning: lbfgs failed to converge (status=1):\n",
      "STOP: TOTAL NO. of ITERATIONS REACHED LIMIT.\n",
      "\n",
      "Increase the number of iterations (max_iter) or scale the data as shown in:\n",
      "    https://scikit-learn.org/stable/modules/preprocessing.html\n",
      "Please also refer to the documentation for alternative solver options:\n",
      "    https://scikit-learn.org/stable/modules/linear_model.html#logistic-regression\n",
      "  n_iter_i = _check_optimize_result(\n"
     ]
    },
    {
     "name": "stdout",
     "output_type": "stream",
     "text": [
      "f1 score: mean = 0.78 | std = 0.0\n",
      "              precision    recall  f1-score   support\n",
      "\n",
      "       <=50K       0.88      0.93      0.91     24719\n",
      "        >50K       0.73      0.61      0.66      7841\n",
      "\n",
      "    accuracy                           0.85     32560\n",
      "   macro avg       0.81      0.77      0.78     32560\n",
      "weighted avg       0.85      0.85      0.85     32560\n",
      "\n"
     ]
    }
   ],
   "source": [
    "get_LR_performance(X_train, y_train, numerical_features_list, categorical_features_list)"
   ]
  },
  {
   "cell_type": "markdown",
   "id": "23fe34ac",
   "metadata": {},
   "source": [
    "#### Let's check if features' significances have changed"
   ]
  },
  {
   "cell_type": "code",
   "execution_count": null,
   "id": "6a76d320",
   "metadata": {},
   "outputs": [],
   "source": [
    "summary = logit_summary(X_train, y_train, numerical_features_list, categorical_features_list)\n",
    "summary"
   ]
  },
  {
   "cell_type": "markdown",
   "id": "17e2e1c6",
   "metadata": {},
   "source": [
    "According to Logit() results, all of numerical features are statistically significant. Some categoties in a couple of categotical features have to be clustered as they are insignificant. \n",
    "1. Workclasses representatives, that do not work or work without pay will deffinetely have less than 50k, so can become one cluster.\n",
    "2. From Marital Status feature we can cluster together those, who have no partner and those who have\n",
    "3. All categories of Occupation are insignificant, so could be removed from the model. But before, they will be left like this, as from the EDA we saw that this feature is significant\n",
    "3. All categories of Relationship, Ethnic Group and Sex features are significant.\n",
    "4. Most of countries have no impact on target, it's possible to cluster them by the part of the world. "
   ]
  },
  {
   "cell_type": "code",
   "execution_count": null,
   "id": "648fc611",
   "metadata": {},
   "outputs": [],
   "source": [
    "# feature_names = second.named_steps[\"columntransformer\"].get_feature_names_out()\n",
    "# coefs = second.named_steps[\"logisticregression\"].coef_.flatten()\n",
    "# zipped = zip(feature_names, coefs)\n",
    "# df = pd.DataFrame(zipped, columns=[\"feature\", \"value\"])\n",
    "# df[\"abs_value\"] = df[\"value\"].apply(lambda x: abs(x))\n",
    "# df[\"colors\"] = df[\"value\"].apply(lambda x: \"green\" if x > 0 else \"red\")\n",
    "# df = df.sort_values(\"abs_value\", ascending=False)\n",
    "\n",
    "# fig, ax = plt.subplots(1, 1, figsize=(7, 12))\n",
    "# sns.barplot(x=\"value\",\n",
    "#             y=\"feature\",\n",
    "#             data=df,\n",
    "#            palette=df[\"colors\"])\n",
    "# ax.set_yticklabels(ax.get_yticklabels(), fontsize=7)\n",
    "# ax.set_title(\"Top Features\", fontsize=20)\n",
    "# ax.set_ylabel(\"Feature Name\", fontsize=15)\n",
    "# ax.set_xlabel(\"Coef\", fontsize=15)"
   ]
  },
  {
   "attachments": {},
   "cell_type": "markdown",
   "id": "3fa4d0ca",
   "metadata": {},
   "source": [
    "# 3rd model\n",
    "### Clustering categories of features\n"
   ]
  },
  {
   "cell_type": "code",
   "execution_count": null,
   "id": "d97e41c7",
   "metadata": {},
   "outputs": [],
   "source": [
    "categorical_features_list = ['Workclass', 'Marital Status', 'Occupation', \n",
    "                             'Relationship', 'Ethnic group', 'Sex', 'Country']"
   ]
  },
  {
   "cell_type": "code",
   "execution_count": null,
   "id": "4e9d575e",
   "metadata": {},
   "outputs": [],
   "source": [
    "X_clustered = X_train.copy()\n",
    "X_clustered['Workclass'] = X_clustered['Workclass'].replace({' Without-pay': 'Non profitable', \n",
    "                                                             ' Never-worked': 'Non profitable', \n",
    "                                                             ' Self-emp-not-inc': 'Non profitable', \n",
    "                                                             ' Federal-gov': 'Government',  \n",
    "                                                             ' State-gov': 'Government', \n",
    "                                                             ' Local-gov': 'Government'})\n",
    "X_clustered['Relationship'] = X_clustered['Relationship'].replace({' Unmarried': ' Not-in-family', \n",
    "                                                                   ' Husband': ' Not-in-family',  \n",
    "                                                                   ' Wife': ' Not-in-family', \n",
    "                                                                   ' Own-child': ' Not-in-family'})\n",
    "X_clustered['Marital Status'] = X_clustered['Marital Status'].replace({' Widowed': 'Single',  \n",
    "                                                                       ' Separated': 'Single',\n",
    "                                                                       ' Married-spouse-absent': 'Single', \n",
    "                                                                       ' Never-married': 'Single', \n",
    "                                                                       ' Divorced': 'Single', \n",
    "                                                                       ' Married-civ-spouse': 'Married', \n",
    "                                                                       ' Married-AF-spouse': 'Married'})\n",
    "X_clustered['Country'] = X_clustered['Country'].replace({' Mexico': 'Americas', \n",
    "                                                           ' Canada': 'Americas', \n",
    "                                                           ' Puerto-Rico': 'Americas', \n",
    "                                                           ' El-Salvador': 'Americas', \n",
    "                                                           ' Cuba': 'Americas', \n",
    "                                                           ' Jamaica': 'Americas', \n",
    "                                                           ' Dominican-Republic': 'Americas', \n",
    "                                                           ' Guatemala': 'Americas', \n",
    "                                                           ' Columbia': 'Americas', \n",
    "                                                           ' Haiti': 'Americas', \n",
    "                                                           ' Peru': 'Americas', \n",
    "                                                           ' Nicaragua': 'Americas', \n",
    "                                                           ' Ecuador': 'Americas', \n",
    "                                                           ' Trinadad&Tobago': 'Americas', \n",
    "                                                           ' Outlying-US(Guam-USVI-etc)': 'Americas', \n",
    "                                                           ' Honduras': 'Americas', \n",
    "                                                           ' India': 'Asia', \n",
    "                                                           ' China': 'Asia', \n",
    "                                                           ' South': 'Asia', \n",
    "                                                           ' Vietnam': 'Asia', \n",
    "                                                           ' Japan': 'Asia',\n",
    "                                                           ' Taiwan': 'Asia', \n",
    "                                                           ' Thailand': 'Asia', \n",
    "                                                           ' Laos': 'Asia', \n",
    "                                                           ' Hong': 'Asia',\n",
    "                                                           ' Philippines': 'Asia', \n",
    "                                                           ' Iran': 'Asia',\n",
    "                                                           ' Cambodia': 'Asia',\n",
    "                                                           ' Germany': 'Europe',\n",
    "                                                           ' England': 'Europe', \n",
    "                                                           ' Italy': 'Europe',\n",
    "                                                           ' Poland': 'Europe', \n",
    "                                                           ' Portugal': 'Europe', \n",
    "                                                           ' France': 'Europe', \n",
    "                                                           ' Greece': 'Europe', \n",
    "                                                           ' Ireland': 'Europe', \n",
    "                                                           ' Yugoslavia': 'Europe',\n",
    "                                                           ' Hungary': 'Europe',\n",
    "                                                           ' Scotland': 'Europe'})"
   ]
  },
  {
   "cell_type": "code",
   "execution_count": null,
   "id": "6afe83d1",
   "metadata": {
    "scrolled": true
   },
   "outputs": [],
   "source": [
    "X_clustered.head()"
   ]
  },
  {
   "attachments": {},
   "cell_type": "markdown",
   "id": "3548b143",
   "metadata": {},
   "source": [
    "Let's now apply the pipeline to updated dataset"
   ]
  },
  {
   "cell_type": "code",
   "execution_count": null,
   "id": "720abfc1",
   "metadata": {},
   "outputs": [],
   "source": [
    "get_LR_performance(X_clustered, y_train, numerical_features_list, categorical_features_list)"
   ]
  },
  {
   "cell_type": "code",
   "execution_count": null,
   "id": "2ea5c5fc",
   "metadata": {},
   "outputs": [],
   "source": [
    "summary = logit_summary(X_clustered, y_train, numerical_features_list, categorical_features_list)\n",
    "summary"
   ]
  },
  {
   "attachments": {},
   "cell_type": "markdown",
   "id": "8323d760",
   "metadata": {},
   "source": [
    "The performance for the minority class is now worse than before, so we can make a conclusion, that clustering categories in this way does not perform well\n",
    "\n",
    "# 4th model\n",
    "### Let's try to cluster 'Country' in another way\n",
    "\n"
   ]
  },
  {
   "cell_type": "code",
   "execution_count": null,
   "id": "cf5e688f",
   "metadata": {},
   "outputs": [],
   "source": [
    "numerical_features_list = ['Age', 'final weight', 'Capital Gain', 'Capital Loss', 'Hours per week']\n",
    "categorical_features_list = ['Marital Status', 'Occupation', 'Workclass',\n",
    "                             'Relationship', 'Ethnic group', 'Sex', 'Country']"
   ]
  },
  {
   "cell_type": "code",
   "execution_count": 117,
   "id": "965246de",
   "metadata": {},
   "outputs": [],
   "source": [
    "X_clustered = X_train.copy()\n",
    "X_clustered['Workclass'] = X_clustered['Workclass'].replace({' Without-pay': 'Non profitable', \n",
    "                                                             ' Never-worked': 'Non profitable', \n",
    "                                                             ' Self-emp-not-inc': 'Non profitable', \n",
    "                                                             ' Federal-gov': 'Government',  \n",
    "                                                             ' State-gov': 'Government', \n",
    "                                                             ' Local-gov': 'Government'})\n",
    "\n",
    "def cluster_categorical(X):\n",
    "    \n",
    "  X['Relationship'] = X['Relationship'].replace({' Unmarried': ' Not-in-family', \n",
    "                                                                    ' Husband': ' Not-in-family',  \n",
    "                                                                    ' Wife': ' Not-in-family', \n",
    "                                                                    ' Own-child': ' Not-in-family'})\n",
    "  X['Marital Status'] = X['Marital Status'].replace({' Widowed': 'Single',  \n",
    "                                                                        ' Separated': 'Single',\n",
    "                                                                        ' Married-spouse-absent': 'Single', \n",
    "                                                                        ' Never-married': 'Single', \n",
    "                                                                        ' Divorced': 'Single', \n",
    "                                                                        ' Married-civ-spouse': 'Married', \n",
    "                                                                        ' Married-AF-spouse': 'Married'})\n",
    "  X['Country'] = X['Country'].replace({' United-States': 'Developed', \n",
    "                                                           ' Mexico': 'Developing', \n",
    "                                                           ' Canada': 'Developed', \n",
    "                                                           ' Puerto-Rico': 'Developed', \n",
    "                                                           ' El-Salvador': 'Developing', \n",
    "                                                           ' Cuba': 'Developing', \n",
    "                                                           ' Jamaica': 'Developing', \n",
    "                                                           ' Dominican-Republic': 'Developing', \n",
    "                                                           ' Guatemala': 'Developing', \n",
    "                                                           ' Columbia': 'Developing', \n",
    "                                                           ' Haiti': 'Developing', \n",
    "                                                           ' Peru': 'Developing', \n",
    "                                                           ' Nicaragua': 'Developing', \n",
    "                                                           ' Ecuador': 'Developing', \n",
    "                                                           ' Trinadad&Tobago': 'Developing', \n",
    "                                                           ' Outlying-US(Guam-USVI-etc)': 'Developing', \n",
    "                                                           ' Honduras': 'Developing', \n",
    "                                                           ' India': 'Developing', \n",
    "                                                           ' China': 'Developing', \n",
    "                                                           ' South': 'Developing', \n",
    "                                                           ' Vietnam': 'Developing', \n",
    "                                                           ' Japan': 'Developed',\n",
    "                                                           ' Taiwan': 'Developed', \n",
    "                                                           ' Thailand': 'Developing', \n",
    "                                                           ' Laos': 'Developing', \n",
    "                                                           ' Hong': 'Developed',\n",
    "                                                           ' Philippines': 'Developing', \n",
    "                                                           ' Iran': 'Developing',\n",
    "                                                           ' Cambodia': 'Developing',\n",
    "                                                           ' Germany': 'Developed',\n",
    "                                                           ' England': 'Developed', \n",
    "                                                           ' Italy': 'Developed',\n",
    "                                                           ' Poland': 'Developing', \n",
    "                                                           ' Portugal': 'Developing', \n",
    "                                                           ' France': 'Developed', \n",
    "                                                           ' Greece': 'Developing', \n",
    "                                                           ' Ireland': 'Developing', \n",
    "                                                           ' Yugoslavia': 'Developing',\n",
    "                                                           ' Hungary': 'Developing',\n",
    "                                                           ' Scotland': 'Developed'})\n",
    "  return X\n",
    "\n",
    "X_clustered = cluster_categorical(X_clustered)\n"
   ]
  },
  {
   "cell_type": "code",
   "execution_count": null,
   "id": "2bd85582",
   "metadata": {
    "scrolled": true
   },
   "outputs": [],
   "source": [
    "get_LR_performance(X_clustered, y_train, numerical_features_list, categorical_features_list)"
   ]
  },
  {
   "cell_type": "code",
   "execution_count": null,
   "id": "bd5cffe8",
   "metadata": {},
   "outputs": [],
   "source": [
    "summary = logit_summary(X_clustered, y_train, numerical_features_list, categorical_features_list)\n",
    "summary"
   ]
  },
  {
   "attachments": {},
   "cell_type": "markdown",
   "id": "60c898d5",
   "metadata": {},
   "source": [
    "Country is still sighniffacant, but all categories of Workclass and Occupation variables are insignifficant. Let's try to apply 'label encoder' to them instead of 'one hot encoder'\n",
    "# 5th model"
   ]
  },
  {
   "cell_type": "code",
   "execution_count": null,
   "id": "ca40024c",
   "metadata": {},
   "outputs": [],
   "source": [
    "categorical_features_list = ['Marital Status','Relationship', 'Ethnic group', 'Country', 'Sex']\n",
    "numerical_features_list = ['Age', 'Capital Gain', 'Capital Loss', 'Hours per week', 'Occupation', 'Workclass']"
   ]
  },
  {
   "cell_type": "code",
   "execution_count": null,
   "id": "a027b3ac",
   "metadata": {},
   "outputs": [],
   "source": [
    "X_clustered = X_train.copy()\n",
    "\n",
    "le  = LabelEncoder()\n",
    "\n",
    "X_clustered['Workclass'] = le.fit_transform(X_clustered['Workclass'])\n",
    "X_clustered['Occupation'] = le.fit_transform(X_clustered['Occupation'])\n",
    "\n",
    "X_clustered = cluster_categorical(X_clustered)"
   ]
  },
  {
   "cell_type": "code",
   "execution_count": null,
   "id": "e7889bd0",
   "metadata": {},
   "outputs": [],
   "source": [
    "X_clustered.sample()"
   ]
  },
  {
   "cell_type": "code",
   "execution_count": null,
   "id": "f475afed",
   "metadata": {},
   "outputs": [],
   "source": [
    "get_LR_performance(X_clustered, y_train, numerical_features_list, categorical_features_list)"
   ]
  },
  {
   "cell_type": "code",
   "execution_count": null,
   "id": "27036fe1",
   "metadata": {},
   "outputs": [],
   "source": [
    "summary = logit_summary(X_clustered, y_train, numerical_features_list, categorical_features_list)\n",
    "summary"
   ]
  },
  {
   "attachments": {},
   "cell_type": "markdown",
   "id": "cbdf1a76",
   "metadata": {},
   "source": [
    "All features are now significant, but the performance of model in total and especially for the minority class is now worse.\n",
    "# 6th model"
   ]
  },
  {
   "attachments": {},
   "cell_type": "markdown",
   "id": "d955e160",
   "metadata": {},
   "source": [
    "Let's try to remove missing data"
   ]
  },
  {
   "cell_type": "code",
   "execution_count": 200,
   "id": "8042a8c8",
   "metadata": {},
   "outputs": [],
   "source": [
    "X_no_missing_values = X_train.copy()\n",
    "y_no_missing_values = y_train.copy()\n",
    "df_no_missing_values = pd.concat([X_no_missing_values, y_no_missing_values], axis = 1)\n",
    "df_no_missing_values = df_no_missing_values[df_no_missing_values['Workclass'] != ' ?']\n",
    "df_no_missing_values = df_no_missing_values[df_no_missing_values['Occupation'] != ' ?']\n",
    "df_no_missing_values = df_no_missing_values[df_no_missing_values['Country'] != ' ?']\n",
    "X_no_missing_values = df_no_missing_values.drop(['Income'], axis=1)\n",
    "y_no_missing_values = df_no_missing_values['Income']"
   ]
  },
  {
   "cell_type": "code",
   "execution_count": 201,
   "id": "3c10ef2c",
   "metadata": {},
   "outputs": [
    {
     "data": {
      "text/html": [
       "<div>\n",
       "<style scoped>\n",
       "    .dataframe tbody tr th:only-of-type {\n",
       "        vertical-align: middle;\n",
       "    }\n",
       "\n",
       "    .dataframe tbody tr th {\n",
       "        vertical-align: top;\n",
       "    }\n",
       "\n",
       "    .dataframe thead th {\n",
       "        text-align: right;\n",
       "    }\n",
       "</style>\n",
       "<table border=\"1\" class=\"dataframe\">\n",
       "  <thead>\n",
       "    <tr style=\"text-align: right;\">\n",
       "      <th></th>\n",
       "      <th>Age</th>\n",
       "      <th>Workclass</th>\n",
       "      <th>final weight</th>\n",
       "      <th>Education</th>\n",
       "      <th>Marital Status</th>\n",
       "      <th>Occupation</th>\n",
       "      <th>Relationship</th>\n",
       "      <th>Ethnic group</th>\n",
       "      <th>Sex</th>\n",
       "      <th>Capital Gain</th>\n",
       "      <th>Capital Loss</th>\n",
       "      <th>Hours per week</th>\n",
       "      <th>Country</th>\n",
       "      <th>Income</th>\n",
       "    </tr>\n",
       "  </thead>\n",
       "  <tbody>\n",
       "    <tr>\n",
       "      <th>0</th>\n",
       "      <td>39</td>\n",
       "      <td>State-gov</td>\n",
       "      <td>77516</td>\n",
       "      <td>Bachelors</td>\n",
       "      <td>Never-married</td>\n",
       "      <td>Adm-clerical</td>\n",
       "      <td>Not-in-family</td>\n",
       "      <td>White</td>\n",
       "      <td>Male</td>\n",
       "      <td>2174</td>\n",
       "      <td>0</td>\n",
       "      <td>40</td>\n",
       "      <td>United-States</td>\n",
       "      <td>&lt;=50K</td>\n",
       "    </tr>\n",
       "    <tr>\n",
       "      <th>1</th>\n",
       "      <td>50</td>\n",
       "      <td>Self-emp-not-inc</td>\n",
       "      <td>83311</td>\n",
       "      <td>Bachelors</td>\n",
       "      <td>Married-civ-spouse</td>\n",
       "      <td>Exec-managerial</td>\n",
       "      <td>Husband</td>\n",
       "      <td>White</td>\n",
       "      <td>Male</td>\n",
       "      <td>0</td>\n",
       "      <td>0</td>\n",
       "      <td>13</td>\n",
       "      <td>United-States</td>\n",
       "      <td>&lt;=50K</td>\n",
       "    </tr>\n",
       "    <tr>\n",
       "      <th>2</th>\n",
       "      <td>38</td>\n",
       "      <td>Private</td>\n",
       "      <td>215646</td>\n",
       "      <td>HS-grad</td>\n",
       "      <td>Divorced</td>\n",
       "      <td>Handlers-cleaners</td>\n",
       "      <td>Not-in-family</td>\n",
       "      <td>White</td>\n",
       "      <td>Male</td>\n",
       "      <td>0</td>\n",
       "      <td>0</td>\n",
       "      <td>40</td>\n",
       "      <td>United-States</td>\n",
       "      <td>&lt;=50K</td>\n",
       "    </tr>\n",
       "    <tr>\n",
       "      <th>3</th>\n",
       "      <td>53</td>\n",
       "      <td>Private</td>\n",
       "      <td>234721</td>\n",
       "      <td>11th</td>\n",
       "      <td>Married-civ-spouse</td>\n",
       "      <td>Handlers-cleaners</td>\n",
       "      <td>Husband</td>\n",
       "      <td>Black</td>\n",
       "      <td>Male</td>\n",
       "      <td>0</td>\n",
       "      <td>0</td>\n",
       "      <td>40</td>\n",
       "      <td>United-States</td>\n",
       "      <td>&lt;=50K</td>\n",
       "    </tr>\n",
       "    <tr>\n",
       "      <th>4</th>\n",
       "      <td>28</td>\n",
       "      <td>Private</td>\n",
       "      <td>338409</td>\n",
       "      <td>Bachelors</td>\n",
       "      <td>Married-civ-spouse</td>\n",
       "      <td>Prof-specialty</td>\n",
       "      <td>Wife</td>\n",
       "      <td>Black</td>\n",
       "      <td>Female</td>\n",
       "      <td>0</td>\n",
       "      <td>0</td>\n",
       "      <td>40</td>\n",
       "      <td>Cuba</td>\n",
       "      <td>&lt;=50K</td>\n",
       "    </tr>\n",
       "    <tr>\n",
       "      <th>...</th>\n",
       "      <td>...</td>\n",
       "      <td>...</td>\n",
       "      <td>...</td>\n",
       "      <td>...</td>\n",
       "      <td>...</td>\n",
       "      <td>...</td>\n",
       "      <td>...</td>\n",
       "      <td>...</td>\n",
       "      <td>...</td>\n",
       "      <td>...</td>\n",
       "      <td>...</td>\n",
       "      <td>...</td>\n",
       "      <td>...</td>\n",
       "      <td>...</td>\n",
       "    </tr>\n",
       "    <tr>\n",
       "      <th>32556</th>\n",
       "      <td>27</td>\n",
       "      <td>Private</td>\n",
       "      <td>257302</td>\n",
       "      <td>Assoc-acdm</td>\n",
       "      <td>Married-civ-spouse</td>\n",
       "      <td>Tech-support</td>\n",
       "      <td>Wife</td>\n",
       "      <td>White</td>\n",
       "      <td>Female</td>\n",
       "      <td>0</td>\n",
       "      <td>0</td>\n",
       "      <td>38</td>\n",
       "      <td>United-States</td>\n",
       "      <td>&lt;=50K</td>\n",
       "    </tr>\n",
       "    <tr>\n",
       "      <th>32557</th>\n",
       "      <td>40</td>\n",
       "      <td>Private</td>\n",
       "      <td>154374</td>\n",
       "      <td>HS-grad</td>\n",
       "      <td>Married-civ-spouse</td>\n",
       "      <td>Machine-op-inspct</td>\n",
       "      <td>Husband</td>\n",
       "      <td>White</td>\n",
       "      <td>Male</td>\n",
       "      <td>0</td>\n",
       "      <td>0</td>\n",
       "      <td>40</td>\n",
       "      <td>United-States</td>\n",
       "      <td>&gt;50K</td>\n",
       "    </tr>\n",
       "    <tr>\n",
       "      <th>32558</th>\n",
       "      <td>58</td>\n",
       "      <td>Private</td>\n",
       "      <td>151910</td>\n",
       "      <td>HS-grad</td>\n",
       "      <td>Widowed</td>\n",
       "      <td>Adm-clerical</td>\n",
       "      <td>Unmarried</td>\n",
       "      <td>White</td>\n",
       "      <td>Female</td>\n",
       "      <td>0</td>\n",
       "      <td>0</td>\n",
       "      <td>40</td>\n",
       "      <td>United-States</td>\n",
       "      <td>&lt;=50K</td>\n",
       "    </tr>\n",
       "    <tr>\n",
       "      <th>32559</th>\n",
       "      <td>22</td>\n",
       "      <td>Private</td>\n",
       "      <td>201490</td>\n",
       "      <td>HS-grad</td>\n",
       "      <td>Never-married</td>\n",
       "      <td>Adm-clerical</td>\n",
       "      <td>Own-child</td>\n",
       "      <td>White</td>\n",
       "      <td>Male</td>\n",
       "      <td>0</td>\n",
       "      <td>0</td>\n",
       "      <td>20</td>\n",
       "      <td>United-States</td>\n",
       "      <td>&lt;=50K</td>\n",
       "    </tr>\n",
       "    <tr>\n",
       "      <th>32560</th>\n",
       "      <td>52</td>\n",
       "      <td>Self-emp-inc</td>\n",
       "      <td>287927</td>\n",
       "      <td>HS-grad</td>\n",
       "      <td>Married-civ-spouse</td>\n",
       "      <td>Exec-managerial</td>\n",
       "      <td>Wife</td>\n",
       "      <td>White</td>\n",
       "      <td>Female</td>\n",
       "      <td>15024</td>\n",
       "      <td>0</td>\n",
       "      <td>40</td>\n",
       "      <td>United-States</td>\n",
       "      <td>&gt;50K</td>\n",
       "    </tr>\n",
       "  </tbody>\n",
       "</table>\n",
       "<p>30161 rows × 14 columns</p>\n",
       "</div>"
      ],
      "text/plain": [
       "       Age          Workclass  final weight    Education       Marital Status  \\\n",
       "0       39          State-gov         77516    Bachelors        Never-married   \n",
       "1       50   Self-emp-not-inc         83311    Bachelors   Married-civ-spouse   \n",
       "2       38            Private        215646      HS-grad             Divorced   \n",
       "3       53            Private        234721         11th   Married-civ-spouse   \n",
       "4       28            Private        338409    Bachelors   Married-civ-spouse   \n",
       "...    ...                ...           ...          ...                  ...   \n",
       "32556   27            Private        257302   Assoc-acdm   Married-civ-spouse   \n",
       "32557   40            Private        154374      HS-grad   Married-civ-spouse   \n",
       "32558   58            Private        151910      HS-grad              Widowed   \n",
       "32559   22            Private        201490      HS-grad        Never-married   \n",
       "32560   52       Self-emp-inc        287927      HS-grad   Married-civ-spouse   \n",
       "\n",
       "               Occupation    Relationship Ethnic group      Sex  Capital Gain  \\\n",
       "0            Adm-clerical   Not-in-family        White     Male          2174   \n",
       "1         Exec-managerial         Husband        White     Male             0   \n",
       "2       Handlers-cleaners   Not-in-family        White     Male             0   \n",
       "3       Handlers-cleaners         Husband        Black     Male             0   \n",
       "4          Prof-specialty            Wife        Black   Female             0   \n",
       "...                   ...             ...          ...      ...           ...   \n",
       "32556        Tech-support            Wife        White   Female             0   \n",
       "32557   Machine-op-inspct         Husband        White     Male             0   \n",
       "32558        Adm-clerical       Unmarried        White   Female             0   \n",
       "32559        Adm-clerical       Own-child        White     Male             0   \n",
       "32560     Exec-managerial            Wife        White   Female         15024   \n",
       "\n",
       "       Capital Loss  Hours per week         Country  Income  \n",
       "0                 0              40   United-States   <=50K  \n",
       "1                 0              13   United-States   <=50K  \n",
       "2                 0              40   United-States   <=50K  \n",
       "3                 0              40   United-States   <=50K  \n",
       "4                 0              40            Cuba   <=50K  \n",
       "...             ...             ...             ...     ...  \n",
       "32556             0              38   United-States   <=50K  \n",
       "32557             0              40   United-States    >50K  \n",
       "32558             0              40   United-States   <=50K  \n",
       "32559             0              20   United-States   <=50K  \n",
       "32560             0              40   United-States    >50K  \n",
       "\n",
       "[30161 rows x 14 columns]"
      ]
     },
     "execution_count": 201,
     "metadata": {},
     "output_type": "execute_result"
    }
   ],
   "source": [
    "df_no_missing_values"
   ]
  },
  {
   "cell_type": "code",
   "execution_count": 202,
   "id": "172ddeaa",
   "metadata": {},
   "outputs": [
    {
     "name": "stdout",
     "output_type": "stream",
     "text": [
      "(30161, 13) (30161,)\n",
      "(32560, 13) (32560,)\n"
     ]
    }
   ],
   "source": [
    "print(X_no_missing_values.shape, y_no_missing_values.shape)\n",
    "print(X_train.shape, y_train.shape)"
   ]
  },
  {
   "cell_type": "code",
   "execution_count": 203,
   "id": "d5b0e964",
   "metadata": {},
   "outputs": [],
   "source": [
    "numerical_features_list = ['Age', 'final weight', 'Capital Gain', 'Capital Loss', 'Hours per week']\n",
    "categorical_features_list = ['Workclass', 'Marital Status', 'Occupation', \n",
    "                             'Relationship', 'Ethnic group', 'Sex', 'Country']"
   ]
  },
  {
   "cell_type": "code",
   "execution_count": 204,
   "id": "95e93b35",
   "metadata": {},
   "outputs": [],
   "source": [
    "X_no_missing_values = cluster_categorical(X_no_missing_values)"
   ]
  },
  {
   "cell_type": "code",
   "execution_count": 205,
   "id": "e9ac4217",
   "metadata": {},
   "outputs": [
    {
     "name": "stdout",
     "output_type": "stream",
     "text": [
      "f1 score: mean = 0.78 | std = 0.01\n",
      "              precision    recall  f1-score   support\n",
      "\n",
      "       <=50K       0.88      0.93      0.90     22653\n",
      "        >50K       0.74      0.60      0.67      7508\n",
      "\n",
      "    accuracy                           0.85     30161\n",
      "   macro avg       0.81      0.77      0.78     30161\n",
      "weighted avg       0.84      0.85      0.84     30161\n",
      "\n"
     ]
    }
   ],
   "source": [
    "get_LR_performance(X_no_missing_values, y_no_missing_values, numerical_features_list, categorical_features_list)"
   ]
  },
  {
   "attachments": {},
   "cell_type": "markdown",
   "id": "2dcfa238",
   "metadata": {},
   "source": [
    "This approach to data preprocessing gave us the best result so far - performance is just a bit better than we had for initial model. It's still not a good model though\n",
    "# 7th model\n",
    "### Let's try to apply ln() function to 'Age', 'Capital Gain' and 'Capital Loss' festures (as they are heavy tailed) before Standard Scaler to normalize it"
   ]
  },
  {
   "cell_type": "code",
   "execution_count": null,
   "id": "d646f90e",
   "metadata": {},
   "outputs": [],
   "source": [
    "X_logged = X_train.copy()"
   ]
  },
  {
   "cell_type": "code",
   "execution_count": null,
   "id": "542b79bc",
   "metadata": {},
   "outputs": [],
   "source": [
    "X_logged['Capital Gain'] = np.log(1+ X_logged['Capital Gain'])\n",
    "X_logged['Capital Loss'] = np.log(1+ X_logged['Capital Loss'])\n",
    "X_logged['Age'] = np.log(X_logged['Age'])\n",
    "\n",
    "X_logged = cluster_categorical(X_logged)"
   ]
  },
  {
   "cell_type": "code",
   "execution_count": null,
   "id": "b1043950",
   "metadata": {},
   "outputs": [],
   "source": [
    "get_LR_performance(X_logged, y_train, numerical_features_list, categorical_features_list)"
   ]
  },
  {
   "attachments": {},
   "cell_type": "markdown",
   "id": "86183f0d",
   "metadata": {},
   "source": [
    "Not better either.\n",
    "# 8th model\n",
    "### Another try is to cluster 'Hours per week' feature to part-time, fulltime and overtime workers with fulltime value for 40 hours"
   ]
  },
  {
   "cell_type": "code",
   "execution_count": null,
   "id": "8dfa8a32",
   "metadata": {},
   "outputs": [],
   "source": [
    "X_new = X_train.copy()\n",
    "X_new['Hours per week'] = np.where(X_new['Hours per week'] == 40, 'fulltime', \n",
    "                                   (np.where(X_new['Hours per week'] < 40, 'part-time', 'overtime')))\n",
    "\n",
    "X_new['Capital Gain'] = np.log(1+ X_new['Capital Gain'])\n",
    "X_new['Capital Loss'] = np.log(1+ X_new['Capital Loss'])\n",
    "X_new['Age'] = np.log(X_new['Age'])\n",
    "\n",
    "X_new = cluster_categorical(X_new)\n",
    "\n",
    "X_new = X_new.drop(['final weight'], axis='columns')"
   ]
  },
  {
   "cell_type": "code",
   "execution_count": null,
   "id": "2e828645",
   "metadata": {},
   "outputs": [],
   "source": [
    "X_new.head()"
   ]
  },
  {
   "cell_type": "code",
   "execution_count": null,
   "id": "86880eca",
   "metadata": {},
   "outputs": [],
   "source": [
    "categorical_features_list = ['Workclass', 'Marital Status', 'Occupation', \n",
    "                             'Relationship', 'Ethnic group', 'Sex', 'Country', 'Hours per week']"
   ]
  },
  {
   "cell_type": "code",
   "execution_count": null,
   "id": "0f6efab4",
   "metadata": {},
   "outputs": [],
   "source": [
    "columntransformer = ColumnTransformer(transformers = [\n",
    "    ('ordinal', OrdinalEncoder(categories=[[' Preschool',' 1st-4th',' 5th-6th',' 7th-8th',' 9th',' 10th',' 11th',\n",
    "                                      ' 12th',' HS-grad',' Some-college',' Assoc-voc',' Assoc-acdm', \n",
    "                                      ' Bachelors',' Masters',' Prof-school',' Doctorate']]),\n",
    "     make_column_selector(pattern = 'Education')),\n",
    "    ('onehot', OneHotEncoder(dtype='int', drop='first'), categorical_features_list)],\n",
    "    remainder='passthrough')\n",
    "    \n",
    "pipe = make_pipeline(columntransformer, LogisticRegression(max_iter=1000)).fit(X_new, y_train)\n",
    "\n",
    "y_pred = pipe.predict(X_new)\n",
    "\n",
    "scores = cross_val_score(pipe, X_new, y_train, cv=5, scoring='f1_macro')\n",
    "\n",
    "f1_mean_score = round(np.mean(scores),2)\n",
    "f1_std = round(np.std(scores),2)\n",
    "\n",
    "report = classification_report(y_train, y_pred, target_names=y_train.unique())\n",
    "print(f'f1 score: mean = {f1_mean_score} | std = {f1_std}\\n{report}')"
   ]
  },
  {
   "cell_type": "markdown",
   "id": "d33e2c8e",
   "metadata": {},
   "source": [
    "# 9th model\n",
    "### Lets now try to cluster all minority categories of imbalanced features together"
   ]
  },
  {
   "cell_type": "code",
   "execution_count": null,
   "id": "9d238272",
   "metadata": {
    "scrolled": true
   },
   "outputs": [],
   "source": [
    "X_cluster2 = X_train.copy()\n",
    "def balance_predictors(X):\n",
    "    X['Ethnic group'] = np.where(X['Ethnic group'] != ' White', 'Other', X['Ethnic group'])\n",
    "    X['Country'] = np.where(X['Country'] != ' United-States', 'Other', X['Country'])\n",
    "    X['Workclass'] = np.where(X['Workclass'] != ' Private', 'Other', X['Workclass'])\n",
    "    X['Marital Status'] = np.where(((X['Marital Status'] == ' Widowed') |\n",
    "                                    (X['Marital Status'] == ' Married-spouse-absent') |\n",
    "                                    (X['Marital Status'] == ' Separated')), \n",
    "                                    'Other', X_train['Marital Status'])\n",
    "    X['Occupation'] = np.where(((X['Occupation'] == ' Adm-clerical') |\n",
    "                                (X['Occupation'] == ' Armed-Forces') |\n",
    "                                (X['Occupation'] == ' Craft-repair') |\n",
    "                                (X['Occupation'] == ' Machine-op-inspct') |\n",
    "                                (X['Occupation'] == ' Priv-house-serv') |\n",
    "                                (X['Occupation'] == ' Transport-moving')), \n",
    "                                'Other', X['Occupation'])\n",
    "    X['Hours per week'] = np.where(X['Hours per week'] == 40, 'fulltime', (np.where(X['Hours per week'] < 40, 'part-time', 'overtime')))\n",
    "    \n",
    "balance_predictors(X_cluster2)\n",
    "X_cluster2.sample(3)"
   ]
  },
  {
   "cell_type": "code",
   "execution_count": null,
   "id": "50dff0f3",
   "metadata": {},
   "outputs": [],
   "source": [
    "numerical_features_list = ['Age', 'Capital Gain', 'Capital Loss']\n",
    "categorical_features_list = ['Workclass', 'Marital Status', 'Occupation', \n",
    "                             'Relationship', 'Ethnic group', 'Sex', 'Country', 'Hours per week']"
   ]
  },
  {
   "cell_type": "code",
   "execution_count": null,
   "id": "aa55790a",
   "metadata": {},
   "outputs": [],
   "source": [
    "get_LR_performance(X_cluster2, y_train, numerical_features_list, categorical_features_list)"
   ]
  },
  {
   "attachments": {},
   "cell_type": "markdown",
   "id": "caf4ad78",
   "metadata": {},
   "source": [
    "# Now let's try to find the threshold for optimal recall and precisoin values as the dataset is imbalanced and predicts minority class much worse so far"
   ]
  },
  {
   "cell_type": "code",
   "execution_count": 132,
   "id": "428d6a93",
   "metadata": {},
   "outputs": [
    {
     "data": {
      "text/html": [
       "<div>\n",
       "<style scoped>\n",
       "    .dataframe tbody tr th:only-of-type {\n",
       "        vertical-align: middle;\n",
       "    }\n",
       "\n",
       "    .dataframe tbody tr th {\n",
       "        vertical-align: top;\n",
       "    }\n",
       "\n",
       "    .dataframe thead th {\n",
       "        text-align: right;\n",
       "    }\n",
       "</style>\n",
       "<table border=\"1\" class=\"dataframe\">\n",
       "  <thead>\n",
       "    <tr style=\"text-align: right;\">\n",
       "      <th></th>\n",
       "      <th>Age</th>\n",
       "      <th>Workclass</th>\n",
       "      <th>final weight</th>\n",
       "      <th>Education</th>\n",
       "      <th>Marital Status</th>\n",
       "      <th>Occupation</th>\n",
       "      <th>Relationship</th>\n",
       "      <th>Ethnic group</th>\n",
       "      <th>Sex</th>\n",
       "      <th>Capital Gain</th>\n",
       "      <th>Capital Loss</th>\n",
       "      <th>Hours per week</th>\n",
       "      <th>Country</th>\n",
       "    </tr>\n",
       "  </thead>\n",
       "  <tbody>\n",
       "    <tr>\n",
       "      <th>1591</th>\n",
       "      <td>26</td>\n",
       "      <td>Local-gov</td>\n",
       "      <td>46097</td>\n",
       "      <td>Bachelors</td>\n",
       "      <td>Married-civ-spouse</td>\n",
       "      <td>Prof-specialty</td>\n",
       "      <td>Husband</td>\n",
       "      <td>White</td>\n",
       "      <td>Male</td>\n",
       "      <td>0</td>\n",
       "      <td>0</td>\n",
       "      <td>40</td>\n",
       "      <td>United-States</td>\n",
       "    </tr>\n",
       "  </tbody>\n",
       "</table>\n",
       "</div>"
      ],
      "text/plain": [
       "      Age   Workclass  final weight   Education       Marital Status  \\\n",
       "1591   26   Local-gov         46097   Bachelors   Married-civ-spouse   \n",
       "\n",
       "           Occupation Relationship Ethnic group    Sex  Capital Gain  \\\n",
       "1591   Prof-specialty      Husband        White   Male             0   \n",
       "\n",
       "      Capital Loss  Hours per week         Country  \n",
       "1591             0              40   United-States  "
      ]
     },
     "execution_count": 132,
     "metadata": {},
     "output_type": "execute_result"
    }
   ],
   "source": [
    "X_10 = X_train.copy()\n",
    "y_10 = y_train.copy()\n",
    "X_10.sample()"
   ]
  },
  {
   "cell_type": "code",
   "execution_count": 133,
   "id": "7d020577",
   "metadata": {},
   "outputs": [],
   "source": [
    "# preform data transformation as we used for initial model\n",
    "\n",
    "categorical_features_list = ['Workclass', 'Marital Status', 'Occupation', \n",
    "                             'Relationship', 'Ethnic group', 'Sex', 'Country']\n",
    "numerical_features_list = ['Age', 'final weight', 'Capital Gain', 'Capital Loss', 'Hours per week']\n",
    "\n",
    "cluster_categorical(X_10)\n",
    "\n",
    "column_transformer = ColumnTransformer(transformers = [\n",
    "    ('ordinal', OrdinalEncoder(categories=[[' Preschool',' 1st-4th',' 5th-6th',' 7th-8th',' 9th',' 10th',' 11th',\n",
    "                                        ' 12th',' HS-grad',' Some-college',' Assoc-voc',' Assoc-acdm', \n",
    "                                        ' Bachelors',' Masters',' Prof-school',' Doctorate']]),\n",
    "        make_column_selector(pattern = 'Education')),\n",
    "    ('minmax_scaler', MinMaxScaler(), numerical_features_list),\n",
    "    ('onehot', OneHotEncoder(dtype='int', drop='first'), categorical_features_list)],\n",
    "    remainder='drop')\n",
    "\n",
    "X_10 = column_transformer.fit_transform(X_10)\n",
    "\n",
    "if sps.issparse(X_10):\n",
    "    X_10 = X_10.toarray()\n",
    "    \n",
    "x_columns_names = column_transformer.get_feature_names_out()\n",
    "X_10 = pd.DataFrame(X_10, columns = x_columns_names)"
   ]
  },
  {
   "cell_type": "code",
   "execution_count": 134,
   "id": "d841b3dc",
   "metadata": {},
   "outputs": [
    {
     "data": {
      "text/html": [
       "<div>\n",
       "<style scoped>\n",
       "    .dataframe tbody tr th:only-of-type {\n",
       "        vertical-align: middle;\n",
       "    }\n",
       "\n",
       "    .dataframe tbody tr th {\n",
       "        vertical-align: top;\n",
       "    }\n",
       "\n",
       "    .dataframe thead th {\n",
       "        text-align: right;\n",
       "    }\n",
       "</style>\n",
       "<table border=\"1\" class=\"dataframe\">\n",
       "  <thead>\n",
       "    <tr style=\"text-align: right;\">\n",
       "      <th></th>\n",
       "      <th>ordinal__Education</th>\n",
       "      <th>minmax_scaler__Age</th>\n",
       "      <th>minmax_scaler__final weight</th>\n",
       "      <th>minmax_scaler__Capital Gain</th>\n",
       "      <th>minmax_scaler__Capital Loss</th>\n",
       "      <th>minmax_scaler__Hours per week</th>\n",
       "      <th>onehot__Workclass_ Federal-gov</th>\n",
       "      <th>onehot__Workclass_ Local-gov</th>\n",
       "      <th>onehot__Workclass_ Never-worked</th>\n",
       "      <th>onehot__Workclass_ Private</th>\n",
       "      <th>...</th>\n",
       "      <th>onehot__Occupation_ Tech-support</th>\n",
       "      <th>onehot__Occupation_ Transport-moving</th>\n",
       "      <th>onehot__Relationship_ Other-relative</th>\n",
       "      <th>onehot__Ethnic group_ Asian-Pac-Islander</th>\n",
       "      <th>onehot__Ethnic group_ Black</th>\n",
       "      <th>onehot__Ethnic group_ Other</th>\n",
       "      <th>onehot__Ethnic group_ White</th>\n",
       "      <th>onehot__Sex_ Male</th>\n",
       "      <th>onehot__Country_Developed</th>\n",
       "      <th>onehot__Country_Developing</th>\n",
       "    </tr>\n",
       "  </thead>\n",
       "  <tbody>\n",
       "    <tr>\n",
       "      <th>24043</th>\n",
       "      <td>1.0</td>\n",
       "      <td>0.219178</td>\n",
       "      <td>0.152422</td>\n",
       "      <td>0.0</td>\n",
       "      <td>0.0</td>\n",
       "      <td>0.602041</td>\n",
       "      <td>0.0</td>\n",
       "      <td>0.0</td>\n",
       "      <td>0.0</td>\n",
       "      <td>1.0</td>\n",
       "      <td>...</td>\n",
       "      <td>0.0</td>\n",
       "      <td>0.0</td>\n",
       "      <td>0.0</td>\n",
       "      <td>0.0</td>\n",
       "      <td>0.0</td>\n",
       "      <td>0.0</td>\n",
       "      <td>1.0</td>\n",
       "      <td>1.0</td>\n",
       "      <td>1.0</td>\n",
       "      <td>0.0</td>\n",
       "    </tr>\n",
       "  </tbody>\n",
       "</table>\n",
       "<p>1 rows × 37 columns</p>\n",
       "</div>"
      ],
      "text/plain": [
       "       ordinal__Education  minmax_scaler__Age  minmax_scaler__final weight  \\\n",
       "24043                 1.0            0.219178                     0.152422   \n",
       "\n",
       "       minmax_scaler__Capital Gain  minmax_scaler__Capital Loss  \\\n",
       "24043                          0.0                          0.0   \n",
       "\n",
       "       minmax_scaler__Hours per week  onehot__Workclass_ Federal-gov  \\\n",
       "24043                       0.602041                             0.0   \n",
       "\n",
       "       onehot__Workclass_ Local-gov  onehot__Workclass_ Never-worked  \\\n",
       "24043                           0.0                              0.0   \n",
       "\n",
       "       onehot__Workclass_ Private  ...  onehot__Occupation_ Tech-support  \\\n",
       "24043                         1.0  ...                               0.0   \n",
       "\n",
       "       onehot__Occupation_ Transport-moving  \\\n",
       "24043                                   0.0   \n",
       "\n",
       "       onehot__Relationship_ Other-relative  \\\n",
       "24043                                   0.0   \n",
       "\n",
       "       onehot__Ethnic group_ Asian-Pac-Islander  onehot__Ethnic group_ Black  \\\n",
       "24043                                       0.0                          0.0   \n",
       "\n",
       "       onehot__Ethnic group_ Other  onehot__Ethnic group_ White  \\\n",
       "24043                          0.0                          1.0   \n",
       "\n",
       "       onehot__Sex_ Male  onehot__Country_Developed  \\\n",
       "24043                1.0                        1.0   \n",
       "\n",
       "       onehot__Country_Developing  \n",
       "24043                         0.0  \n",
       "\n",
       "[1 rows x 37 columns]"
      ]
     },
     "execution_count": 134,
     "metadata": {},
     "output_type": "execute_result"
    }
   ],
   "source": [
    "X_10['ordinal__Education'] = MinMaxScaler().fit_transform(X_10[['ordinal__Education']])\n",
    "X_10.sample()"
   ]
  },
  {
   "cell_type": "code",
   "execution_count": 135,
   "id": "227e59d9",
   "metadata": {},
   "outputs": [
    {
     "data": {
      "text/plain": [
       "25317    0\n",
       "27507    0\n",
       "2739     0\n",
       "23869    0\n",
       "12005    1\n",
       "Name: Income, dtype: int64"
      ]
     },
     "execution_count": 135,
     "metadata": {},
     "output_type": "execute_result"
    }
   ],
   "source": [
    "y_10 = y_10.replace({' >50K': 1, ' <=50K': 0})\n",
    "y_10.sample(5)"
   ]
  },
  {
   "cell_type": "code",
   "execution_count": 136,
   "id": "a2081051",
   "metadata": {},
   "outputs": [
    {
     "data": {
      "text/html": [
       "<style>#sk-container-id-10 {color: black;background-color: white;}#sk-container-id-10 pre{padding: 0;}#sk-container-id-10 div.sk-toggleable {background-color: white;}#sk-container-id-10 label.sk-toggleable__label {cursor: pointer;display: block;width: 100%;margin-bottom: 0;padding: 0.3em;box-sizing: border-box;text-align: center;}#sk-container-id-10 label.sk-toggleable__label-arrow:before {content: \"▸\";float: left;margin-right: 0.25em;color: #696969;}#sk-container-id-10 label.sk-toggleable__label-arrow:hover:before {color: black;}#sk-container-id-10 div.sk-estimator:hover label.sk-toggleable__label-arrow:before {color: black;}#sk-container-id-10 div.sk-toggleable__content {max-height: 0;max-width: 0;overflow: hidden;text-align: left;background-color: #f0f8ff;}#sk-container-id-10 div.sk-toggleable__content pre {margin: 0.2em;color: black;border-radius: 0.25em;background-color: #f0f8ff;}#sk-container-id-10 input.sk-toggleable__control:checked~div.sk-toggleable__content {max-height: 200px;max-width: 100%;overflow: auto;}#sk-container-id-10 input.sk-toggleable__control:checked~label.sk-toggleable__label-arrow:before {content: \"▾\";}#sk-container-id-10 div.sk-estimator input.sk-toggleable__control:checked~label.sk-toggleable__label {background-color: #d4ebff;}#sk-container-id-10 div.sk-label input.sk-toggleable__control:checked~label.sk-toggleable__label {background-color: #d4ebff;}#sk-container-id-10 input.sk-hidden--visually {border: 0;clip: rect(1px 1px 1px 1px);clip: rect(1px, 1px, 1px, 1px);height: 1px;margin: -1px;overflow: hidden;padding: 0;position: absolute;width: 1px;}#sk-container-id-10 div.sk-estimator {font-family: monospace;background-color: #f0f8ff;border: 1px dotted black;border-radius: 0.25em;box-sizing: border-box;margin-bottom: 0.5em;}#sk-container-id-10 div.sk-estimator:hover {background-color: #d4ebff;}#sk-container-id-10 div.sk-parallel-item::after {content: \"\";width: 100%;border-bottom: 1px solid gray;flex-grow: 1;}#sk-container-id-10 div.sk-label:hover label.sk-toggleable__label {background-color: #d4ebff;}#sk-container-id-10 div.sk-serial::before {content: \"\";position: absolute;border-left: 1px solid gray;box-sizing: border-box;top: 0;bottom: 0;left: 50%;z-index: 0;}#sk-container-id-10 div.sk-serial {display: flex;flex-direction: column;align-items: center;background-color: white;padding-right: 0.2em;padding-left: 0.2em;position: relative;}#sk-container-id-10 div.sk-item {position: relative;z-index: 1;}#sk-container-id-10 div.sk-parallel {display: flex;align-items: stretch;justify-content: center;background-color: white;position: relative;}#sk-container-id-10 div.sk-item::before, #sk-container-id-10 div.sk-parallel-item::before {content: \"\";position: absolute;border-left: 1px solid gray;box-sizing: border-box;top: 0;bottom: 0;left: 50%;z-index: -1;}#sk-container-id-10 div.sk-parallel-item {display: flex;flex-direction: column;z-index: 1;position: relative;background-color: white;}#sk-container-id-10 div.sk-parallel-item:first-child::after {align-self: flex-end;width: 50%;}#sk-container-id-10 div.sk-parallel-item:last-child::after {align-self: flex-start;width: 50%;}#sk-container-id-10 div.sk-parallel-item:only-child::after {width: 0;}#sk-container-id-10 div.sk-dashed-wrapped {border: 1px dashed gray;margin: 0 0.4em 0.5em 0.4em;box-sizing: border-box;padding-bottom: 0.4em;background-color: white;}#sk-container-id-10 div.sk-label label {font-family: monospace;font-weight: bold;display: inline-block;line-height: 1.2em;}#sk-container-id-10 div.sk-label-container {text-align: center;}#sk-container-id-10 div.sk-container {/* jupyter's `normalize.less` sets `[hidden] { display: none; }` but bootstrap.min.css set `[hidden] { display: none !important; }` so we also need the `!important` here to be able to override the default hidden behavior on the sphinx rendered scikit-learn.org. See: https://github.com/scikit-learn/scikit-learn/issues/21755 */display: inline-block !important;position: relative;}#sk-container-id-10 div.sk-text-repr-fallback {display: none;}</style><div id=\"sk-container-id-10\" class=\"sk-top-container\"><div class=\"sk-text-repr-fallback\"><pre>SGDClassifier(loss=&#x27;modified_huber&#x27;)</pre><b>In a Jupyter environment, please rerun this cell to show the HTML representation or trust the notebook. <br />On GitHub, the HTML representation is unable to render, please try loading this page with nbviewer.org.</b></div><div class=\"sk-container\" hidden><div class=\"sk-item\"><div class=\"sk-estimator sk-toggleable\"><input class=\"sk-toggleable__control sk-hidden--visually\" id=\"sk-estimator-id-10\" type=\"checkbox\" checked><label for=\"sk-estimator-id-10\" class=\"sk-toggleable__label sk-toggleable__label-arrow\">SGDClassifier</label><div class=\"sk-toggleable__content\"><pre>SGDClassifier(loss=&#x27;modified_huber&#x27;)</pre></div></div></div></div></div>"
      ],
      "text/plain": [
       "SGDClassifier(loss='modified_huber')"
      ]
     },
     "execution_count": 136,
     "metadata": {},
     "output_type": "execute_result"
    }
   ],
   "source": [
    "# Apply Stochastic Gradient Descent to find global optimum  of the cost function\n",
    "\n",
    "sgd_clf = SGDClassifier(loss = 'modified_huber')\n",
    "sgd_clf.fit(X_10, y_10)"
   ]
  },
  {
   "cell_type": "code",
   "execution_count": 137,
   "id": "651cd4e1",
   "metadata": {},
   "outputs": [
    {
     "name": "stdout",
     "output_type": "stream",
     "text": [
      "[1] 0\n"
     ]
    },
    {
     "name": "stderr",
     "output_type": "stream",
     "text": [
      "/Users/nadiiaduiunova/opt/anaconda3/envs/final_env/lib/python3.9/site-packages/sklearn/base.py:439: UserWarning: X does not have valid feature names, but SGDClassifier was fitted with feature names\n",
      "  warnings.warn(\n"
     ]
    }
   ],
   "source": [
    "print(sgd_clf.predict([X_10.iloc[2]]), y_10.iloc[2])"
   ]
  },
  {
   "cell_type": "code",
   "execution_count": 138,
   "id": "67a5ecff",
   "metadata": {},
   "outputs": [
    {
     "data": {
      "text/plain": [
       "array([0.79125794, 0.79176852, 0.78094202, 0.7845384 , 0.76486204])"
      ]
     },
     "execution_count": 138,
     "metadata": {},
     "output_type": "execute_result"
    }
   ],
   "source": [
    "cross_val_score(sgd_clf, X_10, y_10, cv=5, scoring=\"f1_macro\")"
   ]
  },
  {
   "cell_type": "code",
   "execution_count": 139,
   "id": "10686b16",
   "metadata": {},
   "outputs": [
    {
     "data": {
      "text/plain": [
       "array([[18472,  1254],\n",
       "       [ 2665,  3657]])"
      ]
     },
     "execution_count": 139,
     "metadata": {},
     "output_type": "execute_result"
    }
   ],
   "source": [
    "y_10_pred_sgd = cross_val_predict(sgd_clf, X_10, y_10, cv=3)\n",
    "confusion_matrix(y_10, y_10_pred_sgd)"
   ]
  },
  {
   "cell_type": "code",
   "execution_count": 145,
   "id": "5f6d3f2e",
   "metadata": {},
   "outputs": [
    {
     "name": "stdout",
     "output_type": "stream",
     "text": [
      "              precision    recall  f1-score   support\n",
      "\n",
      "           0       0.87      0.94      0.90     19726\n",
      "           1       0.74      0.58      0.65      6322\n",
      "\n",
      "    accuracy                           0.85     26048\n",
      "   macro avg       0.81      0.76      0.78     26048\n",
      "weighted avg       0.84      0.85      0.84     26048\n",
      "\n"
     ]
    }
   ],
   "source": [
    "print(classification_report(y_10, y_10_pred_sgd))"
   ]
  },
  {
   "cell_type": "code",
   "execution_count": 151,
   "id": "27afc03a",
   "metadata": {},
   "outputs": [
    {
     "data": {
      "text/plain": [
       "27765    0\n",
       "26931    0\n",
       "25077    0\n",
       "2745     0\n",
       "5581     1\n",
       "Name: Income, dtype: int64"
      ]
     },
     "execution_count": 151,
     "metadata": {},
     "output_type": "execute_result"
    }
   ],
   "source": [
    "# transform test data to check\n",
    "\n",
    "cluster_categorical(X_test)\n",
    "\n",
    "column_transformer1 = ColumnTransformer(transformers = [\n",
    "    ('ordinal', OrdinalEncoder(categories=[[' Preschool',' 1st-4th',' 5th-6th',' 7th-8th',' 9th',' 10th',' 11th',\n",
    "                                        ' 12th',' HS-grad',' Some-college',' Assoc-voc',' Assoc-acdm', \n",
    "                                        ' Bachelors',' Masters',' Prof-school',' Doctorate']]),\n",
    "        make_column_selector(pattern = 'Education')),\n",
    "    ('minmax_scaler', MinMaxScaler(), numerical_features_list),\n",
    "    ('onehot', OneHotEncoder(dtype='int', drop='first'), categorical_features_list)],\n",
    "    remainder='drop')\n",
    "\n",
    "X_test = column_transformer1.fit_transform(X_test)\n",
    "\n",
    "if sps.issparse(X_test):\n",
    "    X_test = X_test.toarray()\n",
    "    \n",
    "x_columns_names = column_transformer1.get_feature_names_out()\n",
    "X_test = pd.DataFrame(X_test, columns = x_columns_names)\n",
    "\n",
    "y_test = y_test.replace({' >50K': 1, ' <=50K': 0})\n",
    "y_test.sample(5)"
   ]
  },
  {
   "cell_type": "code",
   "execution_count": 153,
   "metadata": {},
   "outputs": [
    {
     "name": "stdout",
     "output_type": "stream",
     "text": [
      "              precision    recall  f1-score   support\n",
      "\n",
      "           0       0.83      0.86      0.84      3925\n",
      "           1       0.51      0.46      0.49      1285\n",
      "\n",
      "    accuracy                           0.76      5210\n",
      "   macro avg       0.67      0.66      0.66      5210\n",
      "weighted avg       0.75      0.76      0.76      5210\n",
      "\n"
     ]
    }
   ],
   "source": [
    "y_test_pred_sgd = cross_val_predict(sgd_clf, X_test, y_test, cv=3)\n",
    "print(classification_report(y_test, y_test_pred_sgd))"
   ]
  },
  {
   "attachments": {},
   "cell_type": "markdown",
   "id": "467a89b1",
   "metadata": {},
   "source": [
    "More than 3k of false negatives (minority class in this case), which is pretty bad"
   ]
  },
  {
   "cell_type": "code",
   "execution_count": 140,
   "id": "a445aa09",
   "metadata": {},
   "outputs": [
    {
     "name": "stderr",
     "output_type": "stream",
     "text": [
      "/Users/nadiiaduiunova/opt/anaconda3/envs/final_env/lib/python3.9/site-packages/sklearn/base.py:439: UserWarning: X does not have valid feature names, but SGDClassifier was fitted with feature names\n",
      "  warnings.warn(\n"
     ]
    },
    {
     "data": {
      "text/plain": [
       "array([-0.72103249])"
      ]
     },
     "execution_count": 140,
     "metadata": {},
     "output_type": "execute_result"
    }
   ],
   "source": [
    "y_10_scores_sgd = sgd_clf.decision_function([X_10.iloc[90]])\n",
    "y_10_scores_sgd"
   ]
  },
  {
   "cell_type": "code",
   "execution_count": 141,
   "id": "f81c9ed0",
   "metadata": {},
   "outputs": [],
   "source": [
    "y_10_scores_sgd = cross_val_predict(sgd_clf, X_10, y_10, cv=3, method=\"decision_function\")\n",
    "precisions_sgd, recalls_sgd, thresholds_sgd = precision_recall_curve(y_10, y_10_scores_sgd)"
   ]
  },
  {
   "cell_type": "code",
   "execution_count": 142,
   "id": "7abdaa88",
   "metadata": {},
   "outputs": [
    {
     "data": {
      "image/png": "[encoded data removed]",
      "text/plain": [
       "<Figure size 640x480 with 1 Axes>"
      ]
     },
     "metadata": {},
     "output_type": "display_data"
    }
   ],
   "source": [
    "def plot_precision_recall_vs_threshold(precisions, recalls, thresholds): \n",
    "    plt.plot(thresholds, precisions[:-1], \"b--\", label=\"Precision\") \n",
    "    plt.plot(thresholds, recalls[:-1], \"g-\", label=\"Recall\") \n",
    "    plt.xlabel(\"Threshold\")\n",
    "    plt.legend(loc=\"upper left\")\n",
    "    plt.ylim([0, 1])\n",
    "\n",
    "\n",
    "plot_precision_recall_vs_threshold(precisions_sgd, recalls_sgd, thresholds_sgd)\n",
    "plt.show()"
   ]
  },
  {
   "cell_type": "code",
   "execution_count": 46,
   "id": "363cf280",
   "metadata": {},
   "outputs": [
    {
     "data": {
      "image/png": "[encoded data removed]",
      "text/plain": [
       "<Figure size 640x480 with 1 Axes>"
      ]
     },
     "metadata": {},
     "output_type": "display_data"
    }
   ],
   "source": [
    "def plot_roc_curve(fpr, tpr, label=None): \n",
    "    plt.plot(fpr, tpr, linewidth=2, label=label) \n",
    "    plt.plot([0, 1], [0, 1], 'k--') \n",
    "    plt.axis([0, 1, 0, 1])\n",
    "    plt.xlabel('False Positive Rate')\n",
    "    plt.ylabel('True Positive Rate')\n",
    "\n",
    "fpr_sgd, tpr_sgd, thresholds_sgd = roc_curve(y_10, y_10_scores_sgd)\n",
    "plot_roc_curve(fpr_sgd, tpr_sgd)\n",
    "plt.show()"
   ]
  },
  {
   "attachments": {},
   "cell_type": "markdown",
   "id": "2fba1e76",
   "metadata": {},
   "source": [
    "## Let's now compare it to Logistic Regression "
   ]
  },
  {
   "cell_type": "code",
   "execution_count": 55,
   "id": "12af583c",
   "metadata": {},
   "outputs": [
    {
     "data": {
      "text/html": [
       "<style>#sk-container-id-7 {color: black;background-color: white;}#sk-container-id-7 pre{padding: 0;}#sk-container-id-7 div.sk-toggleable {background-color: white;}#sk-container-id-7 label.sk-toggleable__label {cursor: pointer;display: block;width: 100%;margin-bottom: 0;padding: 0.3em;box-sizing: border-box;text-align: center;}#sk-container-id-7 label.sk-toggleable__label-arrow:before {content: \"▸\";float: left;margin-right: 0.25em;color: #696969;}#sk-container-id-7 label.sk-toggleable__label-arrow:hover:before {color: black;}#sk-container-id-7 div.sk-estimator:hover label.sk-toggleable__label-arrow:before {color: black;}#sk-container-id-7 div.sk-toggleable__content {max-height: 0;max-width: 0;overflow: hidden;text-align: left;background-color: #f0f8ff;}#sk-container-id-7 div.sk-toggleable__content pre {margin: 0.2em;color: black;border-radius: 0.25em;background-color: #f0f8ff;}#sk-container-id-7 input.sk-toggleable__control:checked~div.sk-toggleable__content {max-height: 200px;max-width: 100%;overflow: auto;}#sk-container-id-7 input.sk-toggleable__control:checked~label.sk-toggleable__label-arrow:before {content: \"▾\";}#sk-container-id-7 div.sk-estimator input.sk-toggleable__control:checked~label.sk-toggleable__label {background-color: #d4ebff;}#sk-container-id-7 div.sk-label input.sk-toggleable__control:checked~label.sk-toggleable__label {background-color: #d4ebff;}#sk-container-id-7 input.sk-hidden--visually {border: 0;clip: rect(1px 1px 1px 1px);clip: rect(1px, 1px, 1px, 1px);height: 1px;margin: -1px;overflow: hidden;padding: 0;position: absolute;width: 1px;}#sk-container-id-7 div.sk-estimator {font-family: monospace;background-color: #f0f8ff;border: 1px dotted black;border-radius: 0.25em;box-sizing: border-box;margin-bottom: 0.5em;}#sk-container-id-7 div.sk-estimator:hover {background-color: #d4ebff;}#sk-container-id-7 div.sk-parallel-item::after {content: \"\";width: 100%;border-bottom: 1px solid gray;flex-grow: 1;}#sk-container-id-7 div.sk-label:hover label.sk-toggleable__label {background-color: #d4ebff;}#sk-container-id-7 div.sk-serial::before {content: \"\";position: absolute;border-left: 1px solid gray;box-sizing: border-box;top: 0;bottom: 0;left: 50%;z-index: 0;}#sk-container-id-7 div.sk-serial {display: flex;flex-direction: column;align-items: center;background-color: white;padding-right: 0.2em;padding-left: 0.2em;position: relative;}#sk-container-id-7 div.sk-item {position: relative;z-index: 1;}#sk-container-id-7 div.sk-parallel {display: flex;align-items: stretch;justify-content: center;background-color: white;position: relative;}#sk-container-id-7 div.sk-item::before, #sk-container-id-7 div.sk-parallel-item::before {content: \"\";position: absolute;border-left: 1px solid gray;box-sizing: border-box;top: 0;bottom: 0;left: 50%;z-index: -1;}#sk-container-id-7 div.sk-parallel-item {display: flex;flex-direction: column;z-index: 1;position: relative;background-color: white;}#sk-container-id-7 div.sk-parallel-item:first-child::after {align-self: flex-end;width: 50%;}#sk-container-id-7 div.sk-parallel-item:last-child::after {align-self: flex-start;width: 50%;}#sk-container-id-7 div.sk-parallel-item:only-child::after {width: 0;}#sk-container-id-7 div.sk-dashed-wrapped {border: 1px dashed gray;margin: 0 0.4em 0.5em 0.4em;box-sizing: border-box;padding-bottom: 0.4em;background-color: white;}#sk-container-id-7 div.sk-label label {font-family: monospace;font-weight: bold;display: inline-block;line-height: 1.2em;}#sk-container-id-7 div.sk-label-container {text-align: center;}#sk-container-id-7 div.sk-container {/* jupyter's `normalize.less` sets `[hidden] { display: none; }` but bootstrap.min.css set `[hidden] { display: none !important; }` so we also need the `!important` here to be able to override the default hidden behavior on the sphinx rendered scikit-learn.org. See: https://github.com/scikit-learn/scikit-learn/issues/21755 */display: inline-block !important;position: relative;}#sk-container-id-7 div.sk-text-repr-fallback {display: none;}</style><div id=\"sk-container-id-7\" class=\"sk-top-container\"><div class=\"sk-text-repr-fallback\"><pre>LogisticRegression(C=100, max_iter=500)</pre><b>In a Jupyter environment, please rerun this cell to show the HTML representation or trust the notebook. <br />On GitHub, the HTML representation is unable to render, please try loading this page with nbviewer.org.</b></div><div class=\"sk-container\" hidden><div class=\"sk-item\"><div class=\"sk-estimator sk-toggleable\"><input class=\"sk-toggleable__control sk-hidden--visually\" id=\"sk-estimator-id-7\" type=\"checkbox\" checked><label for=\"sk-estimator-id-7\" class=\"sk-toggleable__label sk-toggleable__label-arrow\">LogisticRegression</label><div class=\"sk-toggleable__content\"><pre>LogisticRegression(C=100, max_iter=500)</pre></div></div></div></div></div>"
      ],
      "text/plain": [
       "LogisticRegression(C=100, max_iter=500)"
      ]
     },
     "execution_count": 55,
     "metadata": {},
     "output_type": "execute_result"
    }
   ],
   "source": [
    "lg_clf = LogisticRegression(max_iter=500, C = 100)\n",
    "lg_clf.fit(X_10, y_10)"
   ]
  },
  {
   "cell_type": "code",
   "execution_count": 56,
   "id": "8b9daaa5",
   "metadata": {},
   "outputs": [
    {
     "name": "stdout",
     "output_type": "stream",
     "text": [
      "[0] 0\n"
     ]
    },
    {
     "name": "stderr",
     "output_type": "stream",
     "text": [
      "/Users/nadiiaduiunova/opt/anaconda3/envs/final_env/lib/python3.9/site-packages/sklearn/base.py:439: UserWarning: X does not have valid feature names, but LogisticRegression was fitted with feature names\n",
      "  warnings.warn(\n"
     ]
    }
   ],
   "source": [
    "print(lg_clf.predict([X_10.iloc[2]]), y_10.iloc[2])"
   ]
  },
  {
   "cell_type": "code",
   "execution_count": 57,
   "id": "96ddd63f",
   "metadata": {},
   "outputs": [
    {
     "data": {
      "text/plain": [
       "array([0.77494455, 0.78453685, 0.78904348])"
      ]
     },
     "execution_count": 57,
     "metadata": {},
     "output_type": "execute_result"
    }
   ],
   "source": [
    "cross_val_score(lg_clf, X_10, y_10, cv=3, scoring=\"f1_macro\")"
   ]
  },
  {
   "cell_type": "code",
   "execution_count": 58,
   "id": "60604a4b",
   "metadata": {},
   "outputs": [
    {
     "data": {
      "text/plain": [
       "array([[23049,  1670],\n",
       "       [ 3152,  4689]])"
      ]
     },
     "execution_count": 58,
     "metadata": {},
     "output_type": "execute_result"
    }
   ],
   "source": [
    "y_10_pred_lg = cross_val_predict(lg_clf, X_10, y_10, cv=3)\n",
    "confusion_matrix(y_10, y_10_pred_lg)"
   ]
  },
  {
   "cell_type": "code",
   "execution_count": 144,
   "id": "0e263269",
   "metadata": {},
   "outputs": [
    {
     "ename": "ValueError",
     "evalue": "Found input variables with inconsistent numbers of samples: [26048, 32560]",
     "output_type": "error",
     "traceback": [
      "\u001b[0;31m---------------------------------------------------------------------------\u001b[0m",
      "\u001b[0;31mValueError\u001b[0m                                Traceback (most recent call last)",
      "Cell \u001b[0;32mIn[144], line 1\u001b[0m\n\u001b[0;32m----> 1\u001b[0m \u001b[39mprint\u001b[39m(classification_report(y_10, y_10_pred_lg))\n",
      "File \u001b[0;32m~/opt/anaconda3/envs/final_env/lib/python3.9/site-packages/sklearn/metrics/_classification.py:2310\u001b[0m, in \u001b[0;36mclassification_report\u001b[0;34m(y_true, y_pred, labels, target_names, sample_weight, digits, output_dict, zero_division)\u001b[0m\n\u001b[1;32m   2195\u001b[0m \u001b[39mdef\u001b[39;00m \u001b[39mclassification_report\u001b[39m(\n\u001b[1;32m   2196\u001b[0m     y_true,\n\u001b[1;32m   2197\u001b[0m     y_pred,\n\u001b[0;32m   (...)\u001b[0m\n\u001b[1;32m   2204\u001b[0m     zero_division\u001b[39m=\u001b[39m\u001b[39m\"\u001b[39m\u001b[39mwarn\u001b[39m\u001b[39m\"\u001b[39m,\n\u001b[1;32m   2205\u001b[0m ):\n\u001b[1;32m   2206\u001b[0m \u001b[39m    \u001b[39m\u001b[39m\"\"\"Build a text report showing the main classification metrics.\u001b[39;00m\n\u001b[1;32m   2207\u001b[0m \n\u001b[1;32m   2208\u001b[0m \u001b[39m    Read more in the :ref:`User Guide <classification_report>`.\u001b[39;00m\n\u001b[0;32m   (...)\u001b[0m\n\u001b[1;32m   2307\u001b[0m \u001b[39m    <BLANKLINE>\u001b[39;00m\n\u001b[1;32m   2308\u001b[0m \u001b[39m    \"\"\"\u001b[39;00m\n\u001b[0;32m-> 2310\u001b[0m     y_type, y_true, y_pred \u001b[39m=\u001b[39m _check_targets(y_true, y_pred)\n\u001b[1;32m   2312\u001b[0m     \u001b[39mif\u001b[39;00m labels \u001b[39mis\u001b[39;00m \u001b[39mNone\u001b[39;00m:\n\u001b[1;32m   2313\u001b[0m         labels \u001b[39m=\u001b[39m unique_labels(y_true, y_pred)\n",
      "File \u001b[0;32m~/opt/anaconda3/envs/final_env/lib/python3.9/site-packages/sklearn/metrics/_classification.py:86\u001b[0m, in \u001b[0;36m_check_targets\u001b[0;34m(y_true, y_pred)\u001b[0m\n\u001b[1;32m     59\u001b[0m \u001b[39mdef\u001b[39;00m \u001b[39m_check_targets\u001b[39m(y_true, y_pred):\n\u001b[1;32m     60\u001b[0m \u001b[39m    \u001b[39m\u001b[39m\"\"\"Check that y_true and y_pred belong to the same classification task.\u001b[39;00m\n\u001b[1;32m     61\u001b[0m \n\u001b[1;32m     62\u001b[0m \u001b[39m    This converts multiclass or binary types to a common shape, and raises a\u001b[39;00m\n\u001b[0;32m   (...)\u001b[0m\n\u001b[1;32m     84\u001b[0m \u001b[39m    y_pred : array or indicator matrix\u001b[39;00m\n\u001b[1;32m     85\u001b[0m \u001b[39m    \"\"\"\u001b[39;00m\n\u001b[0;32m---> 86\u001b[0m     check_consistent_length(y_true, y_pred)\n\u001b[1;32m     87\u001b[0m     type_true \u001b[39m=\u001b[39m type_of_target(y_true, input_name\u001b[39m=\u001b[39m\u001b[39m\"\u001b[39m\u001b[39my_true\u001b[39m\u001b[39m\"\u001b[39m)\n\u001b[1;32m     88\u001b[0m     type_pred \u001b[39m=\u001b[39m type_of_target(y_pred, input_name\u001b[39m=\u001b[39m\u001b[39m\"\u001b[39m\u001b[39my_pred\u001b[39m\u001b[39m\"\u001b[39m)\n",
      "File \u001b[0;32m~/opt/anaconda3/envs/final_env/lib/python3.9/site-packages/sklearn/utils/validation.py:397\u001b[0m, in \u001b[0;36mcheck_consistent_length\u001b[0;34m(*arrays)\u001b[0m\n\u001b[1;32m    395\u001b[0m uniques \u001b[39m=\u001b[39m np\u001b[39m.\u001b[39munique(lengths)\n\u001b[1;32m    396\u001b[0m \u001b[39mif\u001b[39;00m \u001b[39mlen\u001b[39m(uniques) \u001b[39m>\u001b[39m \u001b[39m1\u001b[39m:\n\u001b[0;32m--> 397\u001b[0m     \u001b[39mraise\u001b[39;00m \u001b[39mValueError\u001b[39;00m(\n\u001b[1;32m    398\u001b[0m         \u001b[39m\"\u001b[39m\u001b[39mFound input variables with inconsistent numbers of samples: \u001b[39m\u001b[39m%r\u001b[39;00m\u001b[39m\"\u001b[39m\n\u001b[1;32m    399\u001b[0m         \u001b[39m%\u001b[39m [\u001b[39mint\u001b[39m(l) \u001b[39mfor\u001b[39;00m l \u001b[39min\u001b[39;00m lengths]\n\u001b[1;32m    400\u001b[0m     )\n",
      "\u001b[0;31mValueError\u001b[0m: Found input variables with inconsistent numbers of samples: [26048, 32560]"
     ]
    }
   ],
   "source": [
    "print(classification_report(y_10, y_10_pred_lg))"
   ]
  },
  {
   "cell_type": "code",
   "execution_count": 59,
   "id": "2780820d",
   "metadata": {},
   "outputs": [
    {
     "name": "stderr",
     "output_type": "stream",
     "text": [
      "/Users/nadiiaduiunova/opt/anaconda3/envs/final_env/lib/python3.9/site-packages/sklearn/base.py:439: UserWarning: X does not have valid feature names, but LogisticRegression was fitted with feature names\n",
      "  warnings.warn(\n"
     ]
    },
    {
     "data": {
      "text/plain": [
       "array([0.52646442])"
      ]
     },
     "execution_count": 59,
     "metadata": {},
     "output_type": "execute_result"
    }
   ],
   "source": [
    "y_10_scores_lg = lg_clf.decision_function([X_10.iloc[90]])\n",
    "y_10_scores_lg"
   ]
  },
  {
   "cell_type": "code",
   "execution_count": 60,
   "id": "29d89163",
   "metadata": {},
   "outputs": [],
   "source": [
    "y_10_scores_lg = cross_val_predict(lg_clf, X_10, y_10, cv=3, method=\"decision_function\")\n",
    "precisions_lg, recalls_lg, thresholds_lg = precision_recall_curve(y_10, y_10_scores_lg)"
   ]
  },
  {
   "cell_type": "code",
   "execution_count": 61,
   "id": "3338fb97",
   "metadata": {},
   "outputs": [
    {
     "data": {
      "image/png": "[encoded data removed]",
      "text/plain": [
       "<Figure size 640x480 with 1 Axes>"
      ]
     },
     "metadata": {},
     "output_type": "display_data"
    }
   ],
   "source": [
    "plot_precision_recall_vs_threshold(precisions_lg, recalls_lg, thresholds_lg)\n",
    "plt.show()"
   ]
  },
  {
   "cell_type": "code",
   "execution_count": 62,
   "id": "003e3bde",
   "metadata": {},
   "outputs": [],
   "source": [
    "fpr_lg, tpr_lg, thresholds_lg = roc_curve(y_10, y_10_scores_lg)"
   ]
  },
  {
   "cell_type": "code",
   "execution_count": 63,
   "id": "347ef42d",
   "metadata": {},
   "outputs": [
    {
     "data": {
      "image/png": "[encoded data removed]",
      "text/plain": [
       "<Figure size 640x480 with 1 Axes>"
      ]
     },
     "metadata": {},
     "output_type": "display_data"
    }
   ],
   "source": [
    "plot_roc_curve(fpr_lg, tpr_lg)\n",
    "plt.show()"
   ]
  },
  {
   "attachments": {},
   "cell_type": "markdown",
   "id": "efefe669",
   "metadata": {},
   "source": [
    "# Now let's try Random Forest classifier model"
   ]
  },
  {
   "cell_type": "code",
   "execution_count": 102,
   "id": "b230e3c7",
   "metadata": {},
   "outputs": [],
   "source": [
    "forest_clf = RandomForestClassifier(criterion = 'entropy', class_weight = 'balanced')\n",
    "y_probas_forest = cross_val_predict(forest_clf, X_10, y_10, cv=3, method=\"predict_proba\")"
   ]
  },
  {
   "cell_type": "code",
   "execution_count": 103,
   "id": "af077583",
   "metadata": {},
   "outputs": [],
   "source": [
    "y_scores_forest = y_probas_forest[:, 1] # score = probability of positive class \n",
    "fpr_forest, tpr_forest, thresholds_forest = roc_curve(y_10, y_scores_forest)"
   ]
  },
  {
   "cell_type": "code",
   "execution_count": 93,
   "id": "f9e314f2",
   "metadata": {},
   "outputs": [
    {
     "data": {
      "image/png": "[encoded data removed]",
      "text/plain": [
       "<Figure size 640x480 with 1 Axes>"
      ]
     },
     "metadata": {},
     "output_type": "display_data"
    }
   ],
   "source": [
    "plt.plot(fpr_sgd, tpr_sgd, \"b:\", label=\"SGD\")\n",
    "plt.plot(fpr_lg, tpr_lg, \"g-\", label=\"Logistic Regression\")\n",
    "plot_roc_curve(fpr_forest, tpr_forest, \"Random Forest\")\n",
    "plt.legend(loc=\"best\")\n",
    "plt.show()"
   ]
  },
  {
   "cell_type": "code",
   "execution_count": 107,
   "id": "dee77b4f",
   "metadata": {},
   "outputs": [],
   "source": [
    "forest_clf.fit(X_10, y_10)\n",
    "y_pred_forest = cross_val_predict(forest_clf, X_10, y_10, cv = 3)"
   ]
  },
  {
   "cell_type": "code",
   "execution_count": 108,
   "id": "9c61ccb1",
   "metadata": {},
   "outputs": [
    {
     "data": {
      "text/plain": [
       "array([[23086,  1633],\n",
       "       [ 3026,  4815]])"
      ]
     },
     "execution_count": 108,
     "metadata": {},
     "output_type": "execute_result"
    }
   ],
   "source": [
    "confusion_matrix(y_10, y_pred_forest)"
   ]
  },
  {
   "cell_type": "code",
   "execution_count": 106,
   "id": "b6e48aea",
   "metadata": {},
   "outputs": [
    {
     "data": {
      "text/plain": [
       "array([0.78737315, 0.78724609, 0.79882682, 0.79121505, 0.79073895])"
      ]
     },
     "execution_count": 106,
     "metadata": {},
     "output_type": "execute_result"
    }
   ],
   "source": [
    "cross_val_score(forest_clf, X_10, y_10, cv=5, scoring=\"f1_macro\")"
   ]
  },
  {
   "attachments": {},
   "cell_type": "markdown",
   "id": "b43e5a5b",
   "metadata": {},
   "source": [
    "# KNN classifier"
   ]
  },
  {
   "cell_type": "code",
   "execution_count": null,
   "id": "2c87e5fa",
   "metadata": {},
   "outputs": [],
   "source": [
    "knn_clf = KNeighborsClassifier()\n",
    "knn_clf.fit(X_10, y_10)"
   ]
  },
  {
   "cell_type": "code",
   "execution_count": null,
   "id": "bb4281fe",
   "metadata": {},
   "outputs": [],
   "source": [
    "y_10_pred_knn = cross_val_predict(knn_clf, X_10, y_10, cv=3)\n"
   ]
  },
  {
   "cell_type": "code",
   "execution_count": null,
   "id": "690022e8",
   "metadata": {},
   "outputs": [],
   "source": [
    "confusion_matrix(y_10, y_10_pred_knn)"
   ]
  },
  {
   "attachments": {},
   "cell_type": "markdown",
   "id": "030f4d42",
   "metadata": {},
   "source": [
    "# Support Vector Machine classifier with polynomial kernel"
   ]
  },
  {
   "cell_type": "code",
   "execution_count": 520,
   "id": "90cdd709",
   "metadata": {},
   "outputs": [],
   "source": [
    "poly_kernel_svm_clf = SVC(C = 10, gamma = 0.1, kernel = 'rbf')"
   ]
  },
  {
   "cell_type": "code",
   "execution_count": 521,
   "id": "62635763",
   "metadata": {},
   "outputs": [
    {
     "data": {
      "text/html": [
       "<style>#sk-container-id-15 {color: black;background-color: white;}#sk-container-id-15 pre{padding: 0;}#sk-container-id-15 div.sk-toggleable {background-color: white;}#sk-container-id-15 label.sk-toggleable__label {cursor: pointer;display: block;width: 100%;margin-bottom: 0;padding: 0.3em;box-sizing: border-box;text-align: center;}#sk-container-id-15 label.sk-toggleable__label-arrow:before {content: \"▸\";float: left;margin-right: 0.25em;color: #696969;}#sk-container-id-15 label.sk-toggleable__label-arrow:hover:before {color: black;}#sk-container-id-15 div.sk-estimator:hover label.sk-toggleable__label-arrow:before {color: black;}#sk-container-id-15 div.sk-toggleable__content {max-height: 0;max-width: 0;overflow: hidden;text-align: left;background-color: #f0f8ff;}#sk-container-id-15 div.sk-toggleable__content pre {margin: 0.2em;color: black;border-radius: 0.25em;background-color: #f0f8ff;}#sk-container-id-15 input.sk-toggleable__control:checked~div.sk-toggleable__content {max-height: 200px;max-width: 100%;overflow: auto;}#sk-container-id-15 input.sk-toggleable__control:checked~label.sk-toggleable__label-arrow:before {content: \"▾\";}#sk-container-id-15 div.sk-estimator input.sk-toggleable__control:checked~label.sk-toggleable__label {background-color: #d4ebff;}#sk-container-id-15 div.sk-label input.sk-toggleable__control:checked~label.sk-toggleable__label {background-color: #d4ebff;}#sk-container-id-15 input.sk-hidden--visually {border: 0;clip: rect(1px 1px 1px 1px);clip: rect(1px, 1px, 1px, 1px);height: 1px;margin: -1px;overflow: hidden;padding: 0;position: absolute;width: 1px;}#sk-container-id-15 div.sk-estimator {font-family: monospace;background-color: #f0f8ff;border: 1px dotted black;border-radius: 0.25em;box-sizing: border-box;margin-bottom: 0.5em;}#sk-container-id-15 div.sk-estimator:hover {background-color: #d4ebff;}#sk-container-id-15 div.sk-parallel-item::after {content: \"\";width: 100%;border-bottom: 1px solid gray;flex-grow: 1;}#sk-container-id-15 div.sk-label:hover label.sk-toggleable__label {background-color: #d4ebff;}#sk-container-id-15 div.sk-serial::before {content: \"\";position: absolute;border-left: 1px solid gray;box-sizing: border-box;top: 0;bottom: 0;left: 50%;z-index: 0;}#sk-container-id-15 div.sk-serial {display: flex;flex-direction: column;align-items: center;background-color: white;padding-right: 0.2em;padding-left: 0.2em;position: relative;}#sk-container-id-15 div.sk-item {position: relative;z-index: 1;}#sk-container-id-15 div.sk-parallel {display: flex;align-items: stretch;justify-content: center;background-color: white;position: relative;}#sk-container-id-15 div.sk-item::before, #sk-container-id-15 div.sk-parallel-item::before {content: \"\";position: absolute;border-left: 1px solid gray;box-sizing: border-box;top: 0;bottom: 0;left: 50%;z-index: -1;}#sk-container-id-15 div.sk-parallel-item {display: flex;flex-direction: column;z-index: 1;position: relative;background-color: white;}#sk-container-id-15 div.sk-parallel-item:first-child::after {align-self: flex-end;width: 50%;}#sk-container-id-15 div.sk-parallel-item:last-child::after {align-self: flex-start;width: 50%;}#sk-container-id-15 div.sk-parallel-item:only-child::after {width: 0;}#sk-container-id-15 div.sk-dashed-wrapped {border: 1px dashed gray;margin: 0 0.4em 0.5em 0.4em;box-sizing: border-box;padding-bottom: 0.4em;background-color: white;}#sk-container-id-15 div.sk-label label {font-family: monospace;font-weight: bold;display: inline-block;line-height: 1.2em;}#sk-container-id-15 div.sk-label-container {text-align: center;}#sk-container-id-15 div.sk-container {/* jupyter's `normalize.less` sets `[hidden] { display: none; }` but bootstrap.min.css set `[hidden] { display: none !important; }` so we also need the `!important` here to be able to override the default hidden behavior on the sphinx rendered scikit-learn.org. See: https://github.com/scikit-learn/scikit-learn/issues/21755 */display: inline-block !important;position: relative;}#sk-container-id-15 div.sk-text-repr-fallback {display: none;}</style><div id=\"sk-container-id-15\" class=\"sk-top-container\"><div class=\"sk-text-repr-fallback\"><pre>SVC(C=10, gamma=0.1)</pre><b>In a Jupyter environment, please rerun this cell to show the HTML representation or trust the notebook. <br />On GitHub, the HTML representation is unable to render, please try loading this page with nbviewer.org.</b></div><div class=\"sk-container\" hidden><div class=\"sk-item\"><div class=\"sk-estimator sk-toggleable\"><input class=\"sk-toggleable__control sk-hidden--visually\" id=\"sk-estimator-id-17\" type=\"checkbox\" checked><label for=\"sk-estimator-id-17\" class=\"sk-toggleable__label sk-toggleable__label-arrow\">SVC</label><div class=\"sk-toggleable__content\"><pre>SVC(C=10, gamma=0.1)</pre></div></div></div></div></div>"
      ],
      "text/plain": [
       "SVC(C=10, gamma=0.1)"
      ]
     },
     "execution_count": 521,
     "metadata": {},
     "output_type": "execute_result"
    }
   ],
   "source": [
    "poly_kernel_svm_clf.fit(X_10, y_10)"
   ]
  },
  {
   "cell_type": "code",
   "execution_count": 522,
   "id": "5aec4191",
   "metadata": {},
   "outputs": [],
   "source": [
    "y_10_pred_svm = cross_val_predict(poly_kernel_svm_clf, X_10, y_10, cv=3)"
   ]
  },
  {
   "cell_type": "code",
   "execution_count": 523,
   "id": "0d5489c5",
   "metadata": {},
   "outputs": [
    {
     "data": {
      "text/plain": [
       "array([[23243,  1476],\n",
       "       [ 3438,  4403]])"
      ]
     },
     "execution_count": 523,
     "metadata": {},
     "output_type": "execute_result"
    }
   ],
   "source": [
    "confusion_matrix(y_10, y_10_pred_svm)"
   ]
  },
  {
   "cell_type": "code",
   "execution_count": 525,
   "id": "12403f61",
   "metadata": {},
   "outputs": [
    {
     "name": "stdout",
     "output_type": "stream",
     "text": [
      "              precision    recall  f1-score   support\n",
      "\n",
      "           0       0.87      0.94      0.90     24719\n",
      "           1       0.75      0.56      0.64      7841\n",
      "\n",
      "    accuracy                           0.85     32560\n",
      "   macro avg       0.81      0.75      0.77     32560\n",
      "weighted avg       0.84      0.85      0.84     32560\n",
      "\n"
     ]
    }
   ],
   "source": [
    "print(classification_report(y_10, y_10_pred_svm))"
   ]
  },
  {
   "cell_type": "code",
   "execution_count": 15,
   "id": "a58b3e53",
   "metadata": {},
   "outputs": [],
   "source": [
    "from sklearn.model_selection import GridSearchCV\n",
    "param_grid = [\n",
    "    {'kernel': ['rbf'], 'gamma': [1, 0.1, 0.01], 'C': [1, 10, 100]},\n",
    "    {'kernel': ['poly'], 'degree': [7, 14, 28], 'coef0': [0.1, 1,10], 'C': [1, 10, 100]},\n",
    "]\n",
    "svm = SVC()\n",
    "grid_search = GridSearchCV(svm, param_grid, cv=5, refit = True)\n",
    "grid_search.fit(X_10, y_10)"
   ]
  },
  {
   "cell_type": "code",
   "execution_count": 518,
   "id": "19a583b8",
   "metadata": {},
   "outputs": [
    {
     "data": {
      "text/plain": [
       "{'C': 10, 'gamma': 0.1, 'kernel': 'rbf'}"
      ]
     },
     "execution_count": 518,
     "metadata": {},
     "output_type": "execute_result"
    }
   ],
   "source": [
    "grid_search.best_params_"
   ]
  },
  {
   "cell_type": "code",
   "execution_count": 519,
   "id": "b1791fdc",
   "metadata": {},
   "outputs": [
    {
     "data": {
      "text/html": [
       "<style>#sk-container-id-14 {color: black;background-color: white;}#sk-container-id-14 pre{padding: 0;}#sk-container-id-14 div.sk-toggleable {background-color: white;}#sk-container-id-14 label.sk-toggleable__label {cursor: pointer;display: block;width: 100%;margin-bottom: 0;padding: 0.3em;box-sizing: border-box;text-align: center;}#sk-container-id-14 label.sk-toggleable__label-arrow:before {content: \"▸\";float: left;margin-right: 0.25em;color: #696969;}#sk-container-id-14 label.sk-toggleable__label-arrow:hover:before {color: black;}#sk-container-id-14 div.sk-estimator:hover label.sk-toggleable__label-arrow:before {color: black;}#sk-container-id-14 div.sk-toggleable__content {max-height: 0;max-width: 0;overflow: hidden;text-align: left;background-color: #f0f8ff;}#sk-container-id-14 div.sk-toggleable__content pre {margin: 0.2em;color: black;border-radius: 0.25em;background-color: #f0f8ff;}#sk-container-id-14 input.sk-toggleable__control:checked~div.sk-toggleable__content {max-height: 200px;max-width: 100%;overflow: auto;}#sk-container-id-14 input.sk-toggleable__control:checked~label.sk-toggleable__label-arrow:before {content: \"▾\";}#sk-container-id-14 div.sk-estimator input.sk-toggleable__control:checked~label.sk-toggleable__label {background-color: #d4ebff;}#sk-container-id-14 div.sk-label input.sk-toggleable__control:checked~label.sk-toggleable__label {background-color: #d4ebff;}#sk-container-id-14 input.sk-hidden--visually {border: 0;clip: rect(1px 1px 1px 1px);clip: rect(1px, 1px, 1px, 1px);height: 1px;margin: -1px;overflow: hidden;padding: 0;position: absolute;width: 1px;}#sk-container-id-14 div.sk-estimator {font-family: monospace;background-color: #f0f8ff;border: 1px dotted black;border-radius: 0.25em;box-sizing: border-box;margin-bottom: 0.5em;}#sk-container-id-14 div.sk-estimator:hover {background-color: #d4ebff;}#sk-container-id-14 div.sk-parallel-item::after {content: \"\";width: 100%;border-bottom: 1px solid gray;flex-grow: 1;}#sk-container-id-14 div.sk-label:hover label.sk-toggleable__label {background-color: #d4ebff;}#sk-container-id-14 div.sk-serial::before {content: \"\";position: absolute;border-left: 1px solid gray;box-sizing: border-box;top: 0;bottom: 0;left: 50%;z-index: 0;}#sk-container-id-14 div.sk-serial {display: flex;flex-direction: column;align-items: center;background-color: white;padding-right: 0.2em;padding-left: 0.2em;position: relative;}#sk-container-id-14 div.sk-item {position: relative;z-index: 1;}#sk-container-id-14 div.sk-parallel {display: flex;align-items: stretch;justify-content: center;background-color: white;position: relative;}#sk-container-id-14 div.sk-item::before, #sk-container-id-14 div.sk-parallel-item::before {content: \"\";position: absolute;border-left: 1px solid gray;box-sizing: border-box;top: 0;bottom: 0;left: 50%;z-index: -1;}#sk-container-id-14 div.sk-parallel-item {display: flex;flex-direction: column;z-index: 1;position: relative;background-color: white;}#sk-container-id-14 div.sk-parallel-item:first-child::after {align-self: flex-end;width: 50%;}#sk-container-id-14 div.sk-parallel-item:last-child::after {align-self: flex-start;width: 50%;}#sk-container-id-14 div.sk-parallel-item:only-child::after {width: 0;}#sk-container-id-14 div.sk-dashed-wrapped {border: 1px dashed gray;margin: 0 0.4em 0.5em 0.4em;box-sizing: border-box;padding-bottom: 0.4em;background-color: white;}#sk-container-id-14 div.sk-label label {font-family: monospace;font-weight: bold;display: inline-block;line-height: 1.2em;}#sk-container-id-14 div.sk-label-container {text-align: center;}#sk-container-id-14 div.sk-container {/* jupyter's `normalize.less` sets `[hidden] { display: none; }` but bootstrap.min.css set `[hidden] { display: none !important; }` so we also need the `!important` here to be able to override the default hidden behavior on the sphinx rendered scikit-learn.org. See: https://github.com/scikit-learn/scikit-learn/issues/21755 */display: inline-block !important;position: relative;}#sk-container-id-14 div.sk-text-repr-fallback {display: none;}</style><div id=\"sk-container-id-14\" class=\"sk-top-container\"><div class=\"sk-text-repr-fallback\"><pre>SVC(C=10, gamma=0.1)</pre><b>In a Jupyter environment, please rerun this cell to show the HTML representation or trust the notebook. <br />On GitHub, the HTML representation is unable to render, please try loading this page with nbviewer.org.</b></div><div class=\"sk-container\" hidden><div class=\"sk-item\"><div class=\"sk-estimator sk-toggleable\"><input class=\"sk-toggleable__control sk-hidden--visually\" id=\"sk-estimator-id-16\" type=\"checkbox\" checked><label for=\"sk-estimator-id-16\" class=\"sk-toggleable__label sk-toggleable__label-arrow\">SVC</label><div class=\"sk-toggleable__content\"><pre>SVC(C=10, gamma=0.1)</pre></div></div></div></div></div>"
      ],
      "text/plain": [
       "SVC(C=10, gamma=0.1)"
      ]
     },
     "execution_count": 519,
     "metadata": {},
     "output_type": "execute_result"
    }
   ],
   "source": [
    "grid_search.best_estimator_"
   ]
  },
  {
   "cell_type": "code",
   "execution_count": 186,
   "id": "1a2d176c",
   "metadata": {},
   "outputs": [],
   "source": [
    "pca = PCA(n_components=37)\n",
    "X2D = pca.fit_transform(X_10)"
   ]
  },
  {
   "cell_type": "code",
   "execution_count": 187,
   "id": "851f5bf0",
   "metadata": {},
   "outputs": [],
   "source": [
    "y_10_pred_pca = cross_val_predict(LogisticRegression(), X2D, y_10, cv=3)"
   ]
  },
  {
   "cell_type": "code",
   "execution_count": 188,
   "id": "898b18b2",
   "metadata": {},
   "outputs": [
    {
     "name": "stdout",
     "output_type": "stream",
     "text": [
      "              precision    recall  f1-score   support\n",
      "\n",
      "           0       0.88      0.93      0.90     24719\n",
      "           1       0.73      0.58      0.65      7841\n",
      "\n",
      "    accuracy                           0.85     32560\n",
      "   macro avg       0.80      0.76      0.78     32560\n",
      "weighted avg       0.84      0.85      0.84     32560\n",
      "\n"
     ]
    }
   ],
   "source": [
    "print(classification_report(y_10, y_10_pred_pca))"
   ]
  },
  {
   "cell_type": "code",
   "execution_count": 189,
   "id": "3054cb02",
   "metadata": {},
   "outputs": [
    {
     "name": "stdout",
     "output_type": "stream",
     "text": [
      "[1.66108865e-01 1.11447728e-01 8.58859485e-02 6.50000039e-02\n",
      " 5.70776812e-02 5.50656724e-02 5.34350151e-02 5.04040941e-02\n",
      " 4.54476229e-02 4.20995471e-02 3.03098022e-02 2.97882420e-02\n",
      " 2.31254227e-02 2.15963660e-02 1.95085788e-02 1.64077237e-02\n",
      " 1.59012577e-02 1.41475416e-02 1.36368753e-02 1.27372837e-02\n",
      " 1.22870434e-02 1.18620422e-02 8.23311740e-03 7.86926243e-03\n",
      " 6.18101811e-03 4.89610707e-03 4.41488476e-03 3.71084459e-03\n",
      " 3.60199934e-03 2.28761703e-03 2.14906833e-03 2.03170490e-03\n",
      " 9.26333885e-04 1.98291428e-04 1.25468947e-04 9.39243678e-05\n",
      " 1.90705079e-29]\n"
     ]
    }
   ],
   "source": [
    "print(pca.explained_variance_ratio_)"
   ]
  },
  {
   "cell_type": "code",
   "execution_count": 190,
   "id": "7a1b81ba",
   "metadata": {},
   "outputs": [
    {
     "data": {
      "text/html": [
       "<div>\n",
       "<style scoped>\n",
       "    .dataframe tbody tr th:only-of-type {\n",
       "        vertical-align: middle;\n",
       "    }\n",
       "\n",
       "    .dataframe tbody tr th {\n",
       "        vertical-align: top;\n",
       "    }\n",
       "\n",
       "    .dataframe thead th {\n",
       "        text-align: right;\n",
       "    }\n",
       "</style>\n",
       "<table border=\"1\" class=\"dataframe\">\n",
       "  <thead>\n",
       "    <tr style=\"text-align: right;\">\n",
       "      <th></th>\n",
       "      <th>ordinal__Education</th>\n",
       "      <th>minmax_scaler__Age</th>\n",
       "      <th>minmax_scaler__final weight</th>\n",
       "      <th>minmax_scaler__Capital Gain</th>\n",
       "      <th>minmax_scaler__Capital Loss</th>\n",
       "      <th>minmax_scaler__Hours per week</th>\n",
       "      <th>onehot__Workclass_ Federal-gov</th>\n",
       "      <th>onehot__Workclass_ Local-gov</th>\n",
       "      <th>onehot__Workclass_ Never-worked</th>\n",
       "      <th>onehot__Workclass_ Private</th>\n",
       "      <th>...</th>\n",
       "      <th>onehot__Occupation_ Tech-support</th>\n",
       "      <th>onehot__Occupation_ Transport-moving</th>\n",
       "      <th>onehot__Relationship_ Other-relative</th>\n",
       "      <th>onehot__Ethnic group_ Asian-Pac-Islander</th>\n",
       "      <th>onehot__Ethnic group_ Black</th>\n",
       "      <th>onehot__Ethnic group_ Other</th>\n",
       "      <th>onehot__Ethnic group_ White</th>\n",
       "      <th>onehot__Sex_ Male</th>\n",
       "      <th>onehot__Country_Developed</th>\n",
       "      <th>onehot__Country_Developing</th>\n",
       "    </tr>\n",
       "  </thead>\n",
       "  <tbody>\n",
       "    <tr>\n",
       "      <th>0</th>\n",
       "      <td>0.800000</td>\n",
       "      <td>0.301370</td>\n",
       "      <td>0.044302</td>\n",
       "      <td>0.021740</td>\n",
       "      <td>0.0</td>\n",
       "      <td>0.397959</td>\n",
       "      <td>0.0</td>\n",
       "      <td>0.0</td>\n",
       "      <td>0.0</td>\n",
       "      <td>0.0</td>\n",
       "      <td>...</td>\n",
       "      <td>0.0</td>\n",
       "      <td>0.0</td>\n",
       "      <td>0.0</td>\n",
       "      <td>0.0</td>\n",
       "      <td>0.0</td>\n",
       "      <td>0.0</td>\n",
       "      <td>1.0</td>\n",
       "      <td>1.0</td>\n",
       "      <td>1.0</td>\n",
       "      <td>0.0</td>\n",
       "    </tr>\n",
       "    <tr>\n",
       "      <th>1</th>\n",
       "      <td>0.800000</td>\n",
       "      <td>0.452055</td>\n",
       "      <td>0.048238</td>\n",
       "      <td>0.000000</td>\n",
       "      <td>0.0</td>\n",
       "      <td>0.122449</td>\n",
       "      <td>0.0</td>\n",
       "      <td>0.0</td>\n",
       "      <td>0.0</td>\n",
       "      <td>0.0</td>\n",
       "      <td>...</td>\n",
       "      <td>0.0</td>\n",
       "      <td>0.0</td>\n",
       "      <td>0.0</td>\n",
       "      <td>0.0</td>\n",
       "      <td>0.0</td>\n",
       "      <td>0.0</td>\n",
       "      <td>1.0</td>\n",
       "      <td>1.0</td>\n",
       "      <td>1.0</td>\n",
       "      <td>0.0</td>\n",
       "    </tr>\n",
       "    <tr>\n",
       "      <th>2</th>\n",
       "      <td>0.533333</td>\n",
       "      <td>0.287671</td>\n",
       "      <td>0.138113</td>\n",
       "      <td>0.000000</td>\n",
       "      <td>0.0</td>\n",
       "      <td>0.397959</td>\n",
       "      <td>0.0</td>\n",
       "      <td>0.0</td>\n",
       "      <td>0.0</td>\n",
       "      <td>1.0</td>\n",
       "      <td>...</td>\n",
       "      <td>0.0</td>\n",
       "      <td>0.0</td>\n",
       "      <td>0.0</td>\n",
       "      <td>0.0</td>\n",
       "      <td>0.0</td>\n",
       "      <td>0.0</td>\n",
       "      <td>1.0</td>\n",
       "      <td>1.0</td>\n",
       "      <td>1.0</td>\n",
       "      <td>0.0</td>\n",
       "    </tr>\n",
       "    <tr>\n",
       "      <th>3</th>\n",
       "      <td>0.400000</td>\n",
       "      <td>0.493151</td>\n",
       "      <td>0.151068</td>\n",
       "      <td>0.000000</td>\n",
       "      <td>0.0</td>\n",
       "      <td>0.397959</td>\n",
       "      <td>0.0</td>\n",
       "      <td>0.0</td>\n",
       "      <td>0.0</td>\n",
       "      <td>1.0</td>\n",
       "      <td>...</td>\n",
       "      <td>0.0</td>\n",
       "      <td>0.0</td>\n",
       "      <td>0.0</td>\n",
       "      <td>0.0</td>\n",
       "      <td>1.0</td>\n",
       "      <td>0.0</td>\n",
       "      <td>0.0</td>\n",
       "      <td>1.0</td>\n",
       "      <td>1.0</td>\n",
       "      <td>0.0</td>\n",
       "    </tr>\n",
       "    <tr>\n",
       "      <th>4</th>\n",
       "      <td>0.800000</td>\n",
       "      <td>0.150685</td>\n",
       "      <td>0.221488</td>\n",
       "      <td>0.000000</td>\n",
       "      <td>0.0</td>\n",
       "      <td>0.397959</td>\n",
       "      <td>0.0</td>\n",
       "      <td>0.0</td>\n",
       "      <td>0.0</td>\n",
       "      <td>1.0</td>\n",
       "      <td>...</td>\n",
       "      <td>0.0</td>\n",
       "      <td>0.0</td>\n",
       "      <td>0.0</td>\n",
       "      <td>0.0</td>\n",
       "      <td>1.0</td>\n",
       "      <td>0.0</td>\n",
       "      <td>0.0</td>\n",
       "      <td>0.0</td>\n",
       "      <td>0.0</td>\n",
       "      <td>1.0</td>\n",
       "    </tr>\n",
       "    <tr>\n",
       "      <th>...</th>\n",
       "      <td>...</td>\n",
       "      <td>...</td>\n",
       "      <td>...</td>\n",
       "      <td>...</td>\n",
       "      <td>...</td>\n",
       "      <td>...</td>\n",
       "      <td>...</td>\n",
       "      <td>...</td>\n",
       "      <td>...</td>\n",
       "      <td>...</td>\n",
       "      <td>...</td>\n",
       "      <td>...</td>\n",
       "      <td>...</td>\n",
       "      <td>...</td>\n",
       "      <td>...</td>\n",
       "      <td>...</td>\n",
       "      <td>...</td>\n",
       "      <td>...</td>\n",
       "      <td>...</td>\n",
       "      <td>...</td>\n",
       "      <td>...</td>\n",
       "    </tr>\n",
       "    <tr>\n",
       "      <th>32555</th>\n",
       "      <td>0.733333</td>\n",
       "      <td>0.136986</td>\n",
       "      <td>0.166404</td>\n",
       "      <td>0.000000</td>\n",
       "      <td>0.0</td>\n",
       "      <td>0.377551</td>\n",
       "      <td>0.0</td>\n",
       "      <td>0.0</td>\n",
       "      <td>0.0</td>\n",
       "      <td>1.0</td>\n",
       "      <td>...</td>\n",
       "      <td>1.0</td>\n",
       "      <td>0.0</td>\n",
       "      <td>0.0</td>\n",
       "      <td>0.0</td>\n",
       "      <td>0.0</td>\n",
       "      <td>0.0</td>\n",
       "      <td>1.0</td>\n",
       "      <td>0.0</td>\n",
       "      <td>1.0</td>\n",
       "      <td>0.0</td>\n",
       "    </tr>\n",
       "    <tr>\n",
       "      <th>32556</th>\n",
       "      <td>0.533333</td>\n",
       "      <td>0.315068</td>\n",
       "      <td>0.096500</td>\n",
       "      <td>0.000000</td>\n",
       "      <td>0.0</td>\n",
       "      <td>0.397959</td>\n",
       "      <td>0.0</td>\n",
       "      <td>0.0</td>\n",
       "      <td>0.0</td>\n",
       "      <td>1.0</td>\n",
       "      <td>...</td>\n",
       "      <td>0.0</td>\n",
       "      <td>0.0</td>\n",
       "      <td>0.0</td>\n",
       "      <td>0.0</td>\n",
       "      <td>0.0</td>\n",
       "      <td>0.0</td>\n",
       "      <td>1.0</td>\n",
       "      <td>1.0</td>\n",
       "      <td>1.0</td>\n",
       "      <td>0.0</td>\n",
       "    </tr>\n",
       "    <tr>\n",
       "      <th>32557</th>\n",
       "      <td>0.533333</td>\n",
       "      <td>0.561644</td>\n",
       "      <td>0.094827</td>\n",
       "      <td>0.000000</td>\n",
       "      <td>0.0</td>\n",
       "      <td>0.397959</td>\n",
       "      <td>0.0</td>\n",
       "      <td>0.0</td>\n",
       "      <td>0.0</td>\n",
       "      <td>1.0</td>\n",
       "      <td>...</td>\n",
       "      <td>0.0</td>\n",
       "      <td>0.0</td>\n",
       "      <td>0.0</td>\n",
       "      <td>0.0</td>\n",
       "      <td>0.0</td>\n",
       "      <td>0.0</td>\n",
       "      <td>1.0</td>\n",
       "      <td>0.0</td>\n",
       "      <td>1.0</td>\n",
       "      <td>0.0</td>\n",
       "    </tr>\n",
       "    <tr>\n",
       "      <th>32558</th>\n",
       "      <td>0.533333</td>\n",
       "      <td>0.068493</td>\n",
       "      <td>0.128499</td>\n",
       "      <td>0.000000</td>\n",
       "      <td>0.0</td>\n",
       "      <td>0.193878</td>\n",
       "      <td>0.0</td>\n",
       "      <td>0.0</td>\n",
       "      <td>0.0</td>\n",
       "      <td>1.0</td>\n",
       "      <td>...</td>\n",
       "      <td>0.0</td>\n",
       "      <td>0.0</td>\n",
       "      <td>0.0</td>\n",
       "      <td>0.0</td>\n",
       "      <td>0.0</td>\n",
       "      <td>0.0</td>\n",
       "      <td>1.0</td>\n",
       "      <td>1.0</td>\n",
       "      <td>1.0</td>\n",
       "      <td>0.0</td>\n",
       "    </tr>\n",
       "    <tr>\n",
       "      <th>32559</th>\n",
       "      <td>0.533333</td>\n",
       "      <td>0.479452</td>\n",
       "      <td>0.187203</td>\n",
       "      <td>0.150242</td>\n",
       "      <td>0.0</td>\n",
       "      <td>0.397959</td>\n",
       "      <td>0.0</td>\n",
       "      <td>0.0</td>\n",
       "      <td>0.0</td>\n",
       "      <td>0.0</td>\n",
       "      <td>...</td>\n",
       "      <td>0.0</td>\n",
       "      <td>0.0</td>\n",
       "      <td>0.0</td>\n",
       "      <td>0.0</td>\n",
       "      <td>0.0</td>\n",
       "      <td>0.0</td>\n",
       "      <td>1.0</td>\n",
       "      <td>0.0</td>\n",
       "      <td>1.0</td>\n",
       "      <td>0.0</td>\n",
       "    </tr>\n",
       "  </tbody>\n",
       "</table>\n",
       "<p>32560 rows × 37 columns</p>\n",
       "</div>"
      ],
      "text/plain": [
       "       ordinal__Education  minmax_scaler__Age  minmax_scaler__final weight  \\\n",
       "0                0.800000            0.301370                     0.044302   \n",
       "1                0.800000            0.452055                     0.048238   \n",
       "2                0.533333            0.287671                     0.138113   \n",
       "3                0.400000            0.493151                     0.151068   \n",
       "4                0.800000            0.150685                     0.221488   \n",
       "...                   ...                 ...                          ...   \n",
       "32555            0.733333            0.136986                     0.166404   \n",
       "32556            0.533333            0.315068                     0.096500   \n",
       "32557            0.533333            0.561644                     0.094827   \n",
       "32558            0.533333            0.068493                     0.128499   \n",
       "32559            0.533333            0.479452                     0.187203   \n",
       "\n",
       "       minmax_scaler__Capital Gain  minmax_scaler__Capital Loss  \\\n",
       "0                         0.021740                          0.0   \n",
       "1                         0.000000                          0.0   \n",
       "2                         0.000000                          0.0   \n",
       "3                         0.000000                          0.0   \n",
       "4                         0.000000                          0.0   \n",
       "...                            ...                          ...   \n",
       "32555                     0.000000                          0.0   \n",
       "32556                     0.000000                          0.0   \n",
       "32557                     0.000000                          0.0   \n",
       "32558                     0.000000                          0.0   \n",
       "32559                     0.150242                          0.0   \n",
       "\n",
       "       minmax_scaler__Hours per week  onehot__Workclass_ Federal-gov  \\\n",
       "0                           0.397959                             0.0   \n",
       "1                           0.122449                             0.0   \n",
       "2                           0.397959                             0.0   \n",
       "3                           0.397959                             0.0   \n",
       "4                           0.397959                             0.0   \n",
       "...                              ...                             ...   \n",
       "32555                       0.377551                             0.0   \n",
       "32556                       0.397959                             0.0   \n",
       "32557                       0.397959                             0.0   \n",
       "32558                       0.193878                             0.0   \n",
       "32559                       0.397959                             0.0   \n",
       "\n",
       "       onehot__Workclass_ Local-gov  onehot__Workclass_ Never-worked  \\\n",
       "0                               0.0                              0.0   \n",
       "1                               0.0                              0.0   \n",
       "2                               0.0                              0.0   \n",
       "3                               0.0                              0.0   \n",
       "4                               0.0                              0.0   \n",
       "...                             ...                              ...   \n",
       "32555                           0.0                              0.0   \n",
       "32556                           0.0                              0.0   \n",
       "32557                           0.0                              0.0   \n",
       "32558                           0.0                              0.0   \n",
       "32559                           0.0                              0.0   \n",
       "\n",
       "       onehot__Workclass_ Private  ...  onehot__Occupation_ Tech-support  \\\n",
       "0                             0.0  ...                               0.0   \n",
       "1                             0.0  ...                               0.0   \n",
       "2                             1.0  ...                               0.0   \n",
       "3                             1.0  ...                               0.0   \n",
       "4                             1.0  ...                               0.0   \n",
       "...                           ...  ...                               ...   \n",
       "32555                         1.0  ...                               1.0   \n",
       "32556                         1.0  ...                               0.0   \n",
       "32557                         1.0  ...                               0.0   \n",
       "32558                         1.0  ...                               0.0   \n",
       "32559                         0.0  ...                               0.0   \n",
       "\n",
       "       onehot__Occupation_ Transport-moving  \\\n",
       "0                                       0.0   \n",
       "1                                       0.0   \n",
       "2                                       0.0   \n",
       "3                                       0.0   \n",
       "4                                       0.0   \n",
       "...                                     ...   \n",
       "32555                                   0.0   \n",
       "32556                                   0.0   \n",
       "32557                                   0.0   \n",
       "32558                                   0.0   \n",
       "32559                                   0.0   \n",
       "\n",
       "       onehot__Relationship_ Other-relative  \\\n",
       "0                                       0.0   \n",
       "1                                       0.0   \n",
       "2                                       0.0   \n",
       "3                                       0.0   \n",
       "4                                       0.0   \n",
       "...                                     ...   \n",
       "32555                                   0.0   \n",
       "32556                                   0.0   \n",
       "32557                                   0.0   \n",
       "32558                                   0.0   \n",
       "32559                                   0.0   \n",
       "\n",
       "       onehot__Ethnic group_ Asian-Pac-Islander  onehot__Ethnic group_ Black  \\\n",
       "0                                           0.0                          0.0   \n",
       "1                                           0.0                          0.0   \n",
       "2                                           0.0                          0.0   \n",
       "3                                           0.0                          1.0   \n",
       "4                                           0.0                          1.0   \n",
       "...                                         ...                          ...   \n",
       "32555                                       0.0                          0.0   \n",
       "32556                                       0.0                          0.0   \n",
       "32557                                       0.0                          0.0   \n",
       "32558                                       0.0                          0.0   \n",
       "32559                                       0.0                          0.0   \n",
       "\n",
       "       onehot__Ethnic group_ Other  onehot__Ethnic group_ White  \\\n",
       "0                              0.0                          1.0   \n",
       "1                              0.0                          1.0   \n",
       "2                              0.0                          1.0   \n",
       "3                              0.0                          0.0   \n",
       "4                              0.0                          0.0   \n",
       "...                            ...                          ...   \n",
       "32555                          0.0                          1.0   \n",
       "32556                          0.0                          1.0   \n",
       "32557                          0.0                          1.0   \n",
       "32558                          0.0                          1.0   \n",
       "32559                          0.0                          1.0   \n",
       "\n",
       "       onehot__Sex_ Male  onehot__Country_Developed  \\\n",
       "0                    1.0                        1.0   \n",
       "1                    1.0                        1.0   \n",
       "2                    1.0                        1.0   \n",
       "3                    1.0                        1.0   \n",
       "4                    0.0                        0.0   \n",
       "...                  ...                        ...   \n",
       "32555                0.0                        1.0   \n",
       "32556                1.0                        1.0   \n",
       "32557                0.0                        1.0   \n",
       "32558                1.0                        1.0   \n",
       "32559                0.0                        1.0   \n",
       "\n",
       "       onehot__Country_Developing  \n",
       "0                             0.0  \n",
       "1                             0.0  \n",
       "2                             0.0  \n",
       "3                             0.0  \n",
       "4                             1.0  \n",
       "...                           ...  \n",
       "32555                         0.0  \n",
       "32556                         0.0  \n",
       "32557                         0.0  \n",
       "32558                         0.0  \n",
       "32559                         0.0  \n",
       "\n",
       "[32560 rows x 37 columns]"
      ]
     },
     "execution_count": 190,
     "metadata": {},
     "output_type": "execute_result"
    }
   ],
   "source": [
    "X_10"
   ]
  },
  {
   "cell_type": "code",
   "execution_count": 207,
   "id": "f030707f",
   "metadata": {},
   "outputs": [
    {
     "name": "stdout",
     "output_type": "stream",
     "text": [
      "{'kpca__gamma': 0.03, 'kpca__kernel': 'sigmoid'}\n"
     ]
    }
   ],
   "source": [
    "from sklearn.model_selection import GridSearchCV \n",
    "from sklearn.linear_model import LogisticRegression \n",
    "from sklearn.pipeline import Pipeline\n",
    "\n",
    "from sklearn.decomposition import KernelPCA\n",
    "\n",
    "clf = Pipeline([\n",
    "        (\"kpca\", KernelPCA(n_components=2)),\n",
    "        (\"log_reg\", LogisticRegression())\n",
    "])\n",
    "param_grid = [{\n",
    "        \"kpca__gamma\": np.linspace(0.03, 0.05, 10),\n",
    "        \"kpca__kernel\": [\"rbf\", \"sigmoid\"]\n",
    "        }]\n",
    "grid_search = GridSearchCV(clf, param_grid, cv=3)\n",
    "grid_search.fit(X_10, y_10)\n",
    "\n",
    "print(grid_search.best_params_)"
   ]
  },
  {
   "cell_type": "code",
   "execution_count": null,
   "id": "dae504c3",
   "metadata": {},
   "outputs": [],
   "source": []
  }
 ],
 "metadata": {
  "kernelspec": {
   "display_name": "Python 3 (ipykernel)",
   "language": "python",
   "name": "python3"
  },
  "language_info": {
   "codemirror_mode": {
    "name": "ipython",
    "version": 3
   },
   "file_extension": ".py",
   "mimetype": "text/x-python",
   "name": "python",
   "nbconvert_exporter": "python",
   "pygments_lexer": "ipython3",
   "version": "3.9.16"
  }
 },
 "nbformat": 4,
 "nbformat_minor": 5
}
