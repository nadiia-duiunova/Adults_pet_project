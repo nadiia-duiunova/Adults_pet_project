{
 "cells": [
  {
   "cell_type": "code",
   "execution_count": 51,
   "id": "966d23a2",
   "metadata": {},
   "outputs": [],
   "source": [
    "import pandas as pd\n",
    "import numpy as np\n",
    "import seaborn as sns\n",
    "import matplotlib.pyplot as plt\n",
    "import scipy.stats as stats\n",
    "import statsmodels.api as sm\n",
    "from sklearn.preprocessing import StandardScaler, OrdinalEncoder\n",
    "from sklearn.model_selection import train_test_split\n",
    "from sklearn.metrics import confusion_matrix, classification_report"
   ]
  },
  {
   "cell_type": "markdown",
   "id": "e9932f85",
   "metadata": {},
   "source": [
    "Here the results from 'Adult EDA\" file are going to be used"
   ]
  },
  {
   "cell_type": "code",
   "execution_count": 52,
   "id": "f48ebf10",
   "metadata": {
    "scrolled": true
   },
   "outputs": [],
   "source": [
    "# %run \"Adult EDA.ipynb\""
   ]
  },
  {
   "cell_type": "code",
   "execution_count": 53,
   "id": "ed704841",
   "metadata": {},
   "outputs": [],
   "source": [
    "adult_columns = [\n",
    "    \"Age\",\n",
    "    \"Workclass\",\n",
    "    \"final weight\",\n",
    "    \"Education\",\n",
    "    \"Education-Num\",\n",
    "    \"Marital Status\",\n",
    "    \"Occupation\",\n",
    "    \"Relationship\",\n",
    "    \"Ethnic group\",\n",
    "    \"Sex\",\n",
    "    \"Capital Gain\",\n",
    "    \"Capital Loss\",\n",
    "    \"Hours per week\",\n",
    "    \"Country\",\n",
    "    \"Income\",\n",
    "]\n",
    "\n",
    "df = pd.read_csv(\"https://archive.ics.uci.edu/ml/machine-learning-databases/adult/adult.data\", \n",
    "                 header = None, names = adult_columns)"
   ]
  },
  {
   "cell_type": "code",
   "execution_count": 54,
   "id": "a4ee69fe",
   "metadata": {},
   "outputs": [],
   "source": [
    "df = df.drop(['Education-Num'], axis = 'columns')"
   ]
  },
  {
   "cell_type": "markdown",
   "id": "7f7d33aa",
   "metadata": {},
   "source": [
    "## 1. Features preprocessing"
   ]
  },
  {
   "cell_type": "markdown",
   "id": "2fc75aa7",
   "metadata": {},
   "source": [
    "First all variables have to be transformed to numerical format to feed them to Logit function:"
   ]
  },
  {
   "cell_type": "code",
   "execution_count": 55,
   "id": "6a3e8a6e",
   "metadata": {
    "scrolled": false
   },
   "outputs": [],
   "source": [
    "_ = df['Income'].replace({' <=50K': 0, \n",
    "                             ' >50K': 1}, \n",
    "                            inplace = True)"
   ]
  },
  {
   "cell_type": "code",
   "execution_count": 56,
   "id": "f3edfdeb",
   "metadata": {},
   "outputs": [
    {
     "data": {
      "text/html": [
       "<div>\n",
       "<style scoped>\n",
       "    .dataframe tbody tr th:only-of-type {\n",
       "        vertical-align: middle;\n",
       "    }\n",
       "\n",
       "    .dataframe tbody tr th {\n",
       "        vertical-align: top;\n",
       "    }\n",
       "\n",
       "    .dataframe thead th {\n",
       "        text-align: right;\n",
       "    }\n",
       "</style>\n",
       "<table border=\"1\" class=\"dataframe\">\n",
       "  <thead>\n",
       "    <tr style=\"text-align: right;\">\n",
       "      <th></th>\n",
       "      <th>Age</th>\n",
       "      <th>Capital Gain</th>\n",
       "      <th>Capital Loss</th>\n",
       "      <th>Hours per week</th>\n",
       "      <th>final weight</th>\n",
       "    </tr>\n",
       "  </thead>\n",
       "  <tbody>\n",
       "    <tr>\n",
       "      <th>0</th>\n",
       "      <td>39</td>\n",
       "      <td>2174</td>\n",
       "      <td>0</td>\n",
       "      <td>40</td>\n",
       "      <td>77516</td>\n",
       "    </tr>\n",
       "    <tr>\n",
       "      <th>1</th>\n",
       "      <td>50</td>\n",
       "      <td>0</td>\n",
       "      <td>0</td>\n",
       "      <td>13</td>\n",
       "      <td>83311</td>\n",
       "    </tr>\n",
       "    <tr>\n",
       "      <th>2</th>\n",
       "      <td>38</td>\n",
       "      <td>0</td>\n",
       "      <td>0</td>\n",
       "      <td>40</td>\n",
       "      <td>215646</td>\n",
       "    </tr>\n",
       "    <tr>\n",
       "      <th>3</th>\n",
       "      <td>53</td>\n",
       "      <td>0</td>\n",
       "      <td>0</td>\n",
       "      <td>40</td>\n",
       "      <td>234721</td>\n",
       "    </tr>\n",
       "    <tr>\n",
       "      <th>4</th>\n",
       "      <td>28</td>\n",
       "      <td>0</td>\n",
       "      <td>0</td>\n",
       "      <td>40</td>\n",
       "      <td>338409</td>\n",
       "    </tr>\n",
       "    <tr>\n",
       "      <th>...</th>\n",
       "      <td>...</td>\n",
       "      <td>...</td>\n",
       "      <td>...</td>\n",
       "      <td>...</td>\n",
       "      <td>...</td>\n",
       "    </tr>\n",
       "    <tr>\n",
       "      <th>32556</th>\n",
       "      <td>27</td>\n",
       "      <td>0</td>\n",
       "      <td>0</td>\n",
       "      <td>38</td>\n",
       "      <td>257302</td>\n",
       "    </tr>\n",
       "    <tr>\n",
       "      <th>32557</th>\n",
       "      <td>40</td>\n",
       "      <td>0</td>\n",
       "      <td>0</td>\n",
       "      <td>40</td>\n",
       "      <td>154374</td>\n",
       "    </tr>\n",
       "    <tr>\n",
       "      <th>32558</th>\n",
       "      <td>58</td>\n",
       "      <td>0</td>\n",
       "      <td>0</td>\n",
       "      <td>40</td>\n",
       "      <td>151910</td>\n",
       "    </tr>\n",
       "    <tr>\n",
       "      <th>32559</th>\n",
       "      <td>22</td>\n",
       "      <td>0</td>\n",
       "      <td>0</td>\n",
       "      <td>20</td>\n",
       "      <td>201490</td>\n",
       "    </tr>\n",
       "    <tr>\n",
       "      <th>32560</th>\n",
       "      <td>52</td>\n",
       "      <td>15024</td>\n",
       "      <td>0</td>\n",
       "      <td>40</td>\n",
       "      <td>287927</td>\n",
       "    </tr>\n",
       "  </tbody>\n",
       "</table>\n",
       "<p>32561 rows × 5 columns</p>\n",
       "</div>"
      ],
      "text/plain": [
       "       Age  Capital Gain  Capital Loss  Hours per week  final weight\n",
       "0       39          2174             0              40         77516\n",
       "1       50             0             0              13         83311\n",
       "2       38             0             0              40        215646\n",
       "3       53             0             0              40        234721\n",
       "4       28             0             0              40        338409\n",
       "...    ...           ...           ...             ...           ...\n",
       "32556   27             0             0              38        257302\n",
       "32557   40             0             0              40        154374\n",
       "32558   58             0             0              40        151910\n",
       "32559   22             0             0              20        201490\n",
       "32560   52         15024             0              40        287927\n",
       "\n",
       "[32561 rows x 5 columns]"
      ]
     },
     "execution_count": 56,
     "metadata": {},
     "output_type": "execute_result"
    }
   ],
   "source": [
    "numerical_features_list = ['Age', 'Capital Gain', 'Capital Loss', 'Hours per week', 'final weight']\n",
    "numerical_features_df = df[numerical_features_list]\n",
    "numerical_features_df"
   ]
  },
  {
   "cell_type": "code",
   "execution_count": 57,
   "id": "9625c2a2",
   "metadata": {},
   "outputs": [],
   "source": [
    "X_train = df.drop(['Income'], axis = 'columns')\n",
    "y_train = df['Income']"
   ]
  },
  {
   "cell_type": "code",
   "execution_count": 58,
   "id": "200aa0d2",
   "metadata": {},
   "outputs": [],
   "source": [
    "stand_scaler = StandardScaler()"
   ]
  },
  {
   "cell_type": "code",
   "execution_count": 59,
   "id": "1b6dce92",
   "metadata": {},
   "outputs": [],
   "source": [
    "def scale_numerical(numerical_features):\n",
    "    X_train[numerical_features.columns.values] = stand_scaler.fit_transform(numerical_features.values)\n",
    "    \n",
    "scale_numerical(numerical_features_df)"
   ]
  },
  {
   "cell_type": "code",
   "execution_count": 60,
   "id": "7a80958e",
   "metadata": {},
   "outputs": [
    {
     "data": {
      "text/html": [
       "<div>\n",
       "<style scoped>\n",
       "    .dataframe tbody tr th:only-of-type {\n",
       "        vertical-align: middle;\n",
       "    }\n",
       "\n",
       "    .dataframe tbody tr th {\n",
       "        vertical-align: top;\n",
       "    }\n",
       "\n",
       "    .dataframe thead th {\n",
       "        text-align: right;\n",
       "    }\n",
       "</style>\n",
       "<table border=\"1\" class=\"dataframe\">\n",
       "  <thead>\n",
       "    <tr style=\"text-align: right;\">\n",
       "      <th></th>\n",
       "      <th>Age</th>\n",
       "      <th>Workclass</th>\n",
       "      <th>final weight</th>\n",
       "      <th>Education</th>\n",
       "      <th>Marital Status</th>\n",
       "      <th>Occupation</th>\n",
       "      <th>Relationship</th>\n",
       "      <th>Ethnic group</th>\n",
       "      <th>Sex</th>\n",
       "      <th>Capital Gain</th>\n",
       "      <th>Capital Loss</th>\n",
       "      <th>Hours per week</th>\n",
       "      <th>Country</th>\n",
       "    </tr>\n",
       "  </thead>\n",
       "  <tbody>\n",
       "    <tr>\n",
       "      <th>28426</th>\n",
       "      <td>-0.775768</td>\n",
       "      <td>Private</td>\n",
       "      <td>-0.070436</td>\n",
       "      <td>HS-grad</td>\n",
       "      <td>Never-married</td>\n",
       "      <td>Other-service</td>\n",
       "      <td>Not-in-family</td>\n",
       "      <td>Black</td>\n",
       "      <td>Male</td>\n",
       "      <td>-0.14592</td>\n",
       "      <td>-0.21666</td>\n",
       "      <td>-0.035429</td>\n",
       "      <td>United-States</td>\n",
       "    </tr>\n",
       "  </tbody>\n",
       "</table>\n",
       "</div>"
      ],
      "text/plain": [
       "            Age Workclass  final weight Education  Marital Status  \\\n",
       "28426 -0.775768   Private     -0.070436   HS-grad   Never-married   \n",
       "\n",
       "           Occupation    Relationship Ethnic group    Sex  Capital Gain  \\\n",
       "28426   Other-service   Not-in-family        Black   Male      -0.14592   \n",
       "\n",
       "       Capital Loss  Hours per week         Country  \n",
       "28426      -0.21666       -0.035429   United-States  "
      ]
     },
     "execution_count": 60,
     "metadata": {},
     "output_type": "execute_result"
    }
   ],
   "source": [
    "X_train.sample()"
   ]
  },
  {
   "cell_type": "markdown",
   "id": "1e31ce79",
   "metadata": {},
   "source": [
    "In this dataset we have only one feature, where the order matters - Education. Let's transform it using OrdinalEncoder. "
   ]
  },
  {
   "cell_type": "code",
   "execution_count": 61,
   "id": "530faeb4",
   "metadata": {},
   "outputs": [],
   "source": [
    "edu_encoder = OrdinalEncoder(categories=[[' Preschool',' 1st-4th',' 5th-6th',' 7th-8th',' 9th',' 10th',' 11th',\n",
    "                                      ' 12th',' HS-grad',' Some-college',' Assoc-voc',' Assoc-acdm', \n",
    "                                      ' Bachelors',' Masters',' Prof-school',' Doctorate']])"
   ]
  },
  {
   "cell_type": "code",
   "execution_count": 62,
   "id": "b14664cf",
   "metadata": {},
   "outputs": [],
   "source": [
    "def encode_edu():\n",
    "    X_train[['Education']] = edu_encoder.fit_transform(df[['Education']])\n",
    "    \n",
    "encode_edu()"
   ]
  },
  {
   "cell_type": "markdown",
   "id": "dd386038",
   "metadata": {},
   "source": [
    "For all the rest of categorical features the order does not matter, hense we can label encode them"
   ]
  },
  {
   "cell_type": "code",
   "execution_count": 63,
   "id": "4b2fe909",
   "metadata": {},
   "outputs": [],
   "source": [
    "categorical_features_df = X_train[['Workclass', 'Marital Status', 'Occupation', 'Relationship', 'Ethnic group', 'Sex', 'Country']]"
   ]
  },
  {
   "cell_type": "code",
   "execution_count": 64,
   "id": "78ebbefd",
   "metadata": {
    "scrolled": false
   },
   "outputs": [
    {
     "data": {
      "text/html": [
       "<div>\n",
       "<style scoped>\n",
       "    .dataframe tbody tr th:only-of-type {\n",
       "        vertical-align: middle;\n",
       "    }\n",
       "\n",
       "    .dataframe tbody tr th {\n",
       "        vertical-align: top;\n",
       "    }\n",
       "\n",
       "    .dataframe thead th {\n",
       "        text-align: right;\n",
       "    }\n",
       "</style>\n",
       "<table border=\"1\" class=\"dataframe\">\n",
       "  <thead>\n",
       "    <tr style=\"text-align: right;\">\n",
       "      <th></th>\n",
       "      <th>Age</th>\n",
       "      <th>final weight</th>\n",
       "      <th>Education</th>\n",
       "      <th>Capital Gain</th>\n",
       "      <th>Capital Loss</th>\n",
       "      <th>Hours per week</th>\n",
       "      <th>Workclass_ Federal-gov</th>\n",
       "      <th>Workclass_ Local-gov</th>\n",
       "      <th>Workclass_ Never-worked</th>\n",
       "      <th>Workclass_ Private</th>\n",
       "      <th>...</th>\n",
       "      <th>Country_ Portugal</th>\n",
       "      <th>Country_ Puerto-Rico</th>\n",
       "      <th>Country_ Scotland</th>\n",
       "      <th>Country_ South</th>\n",
       "      <th>Country_ Taiwan</th>\n",
       "      <th>Country_ Thailand</th>\n",
       "      <th>Country_ Trinadad&amp;Tobago</th>\n",
       "      <th>Country_ United-States</th>\n",
       "      <th>Country_ Vietnam</th>\n",
       "      <th>Country_ Yugoslavia</th>\n",
       "    </tr>\n",
       "  </thead>\n",
       "  <tbody>\n",
       "    <tr>\n",
       "      <th>6611</th>\n",
       "      <td>2.01011</td>\n",
       "      <td>-1.086179</td>\n",
       "      <td>8.0</td>\n",
       "      <td>-0.14592</td>\n",
       "      <td>-0.21666</td>\n",
       "      <td>-1.250276</td>\n",
       "      <td>0</td>\n",
       "      <td>1</td>\n",
       "      <td>0</td>\n",
       "      <td>0</td>\n",
       "      <td>...</td>\n",
       "      <td>0</td>\n",
       "      <td>0</td>\n",
       "      <td>0</td>\n",
       "      <td>0</td>\n",
       "      <td>0</td>\n",
       "      <td>0</td>\n",
       "      <td>0</td>\n",
       "      <td>1</td>\n",
       "      <td>0</td>\n",
       "      <td>0</td>\n",
       "    </tr>\n",
       "  </tbody>\n",
       "</table>\n",
       "<p>1 rows × 85 columns</p>\n",
       "</div>"
      ],
      "text/plain": [
       "          Age  final weight  Education  Capital Gain  Capital Loss  \\\n",
       "6611  2.01011     -1.086179        8.0      -0.14592      -0.21666   \n",
       "\n",
       "      Hours per week  Workclass_ Federal-gov  Workclass_ Local-gov  \\\n",
       "6611       -1.250276                       0                     1   \n",
       "\n",
       "      Workclass_ Never-worked  Workclass_ Private  ...  Country_ Portugal  \\\n",
       "6611                        0                   0  ...                  0   \n",
       "\n",
       "      Country_ Puerto-Rico  Country_ Scotland  Country_ South  \\\n",
       "6611                     0                  0               0   \n",
       "\n",
       "      Country_ Taiwan  Country_ Thailand  Country_ Trinadad&Tobago  \\\n",
       "6611                0                  0                         0   \n",
       "\n",
       "      Country_ United-States  Country_ Vietnam  Country_ Yugoslavia  \n",
       "6611                       1                 0                    0  \n",
       "\n",
       "[1 rows x 85 columns]"
      ]
     },
     "execution_count": 64,
     "metadata": {},
     "output_type": "execute_result"
    }
   ],
   "source": [
    "def dumm_categorical(categolical_df: pd.DataFrame, x_df:pd.DataFrame) -> pd.DataFrame:\n",
    "    for col in categolical_df:\n",
    "        dum_df = pd.get_dummies(x_df[col], drop_first=True, columns = x_df[col].unique(), prefix=col)\n",
    "        x_df = x_df.drop(col, axis = 'columns')\n",
    "        x_df = pd.concat([x_df, dum_df], axis=1, join='inner')\n",
    "    return x_df\n",
    "X_train = dumm_categorical(categorical_features_df, X_train)\n",
    "X_train.sample()"
   ]
  },
  {
   "cell_type": "code",
   "execution_count": 65,
   "id": "6ff542f3",
   "metadata": {},
   "outputs": [],
   "source": [
    "X_tr, X_test, y_tr, y_test = train_test_split(X_train, y_train, test_size= 0.2)"
   ]
  },
  {
   "cell_type": "code",
   "execution_count": 66,
   "id": "b620327b",
   "metadata": {},
   "outputs": [
    {
     "data": {
      "text/plain": [
       "(26048, 85)"
      ]
     },
     "execution_count": 66,
     "metadata": {},
     "output_type": "execute_result"
    }
   ],
   "source": [
    "X_tr.shape"
   ]
  },
  {
   "cell_type": "code",
   "execution_count": 67,
   "id": "d809b25d",
   "metadata": {},
   "outputs": [
    {
     "data": {
      "text/plain": [
       "(26048,)"
      ]
     },
     "execution_count": 67,
     "metadata": {},
     "output_type": "execute_result"
    }
   ],
   "source": [
    "y_tr.shape"
   ]
  },
  {
   "cell_type": "markdown",
   "id": "bdb93c08",
   "metadata": {},
   "source": [
    "## Initial model without changes in data"
   ]
  },
  {
   "cell_type": "code",
   "execution_count": 68,
   "id": "802fd476",
   "metadata": {
    "scrolled": true
   },
   "outputs": [
    {
     "name": "stdout",
     "output_type": "stream",
     "text": [
      "Warning: Maximum number of iterations has been exceeded.\n",
      "         Current function value: 0.318321\n",
      "         Iterations: 35\n",
      "                           Logit Regression Results                           \n",
      "==============================================================================\n",
      "Dep. Variable:                 Income   No. Observations:                26048\n",
      "Model:                          Logit   Df Residuals:                    25964\n",
      "Method:                           MLE   Df Model:                           83\n",
      "Date:                Wed, 29 Mar 2023   Pseudo R-squ.:                  0.4199\n",
      "Time:                        22:08:32   Log-Likelihood:                -8291.6\n",
      "converged:                      False   LL-Null:                       -14293.\n",
      "Covariance Type:            nonrobust   LLR p-value:                     0.000\n",
      "=========================================================================================================\n",
      "                                            coef    std err          z      P>|z|      [0.025      0.975]\n",
      "---------------------------------------------------------------------------------------------------------\n",
      "Age                                       0.3289      0.025     13.290      0.000       0.280       0.377\n",
      "final weight                              0.0760      0.020      3.768      0.000       0.036       0.116\n",
      "Education                                 0.2518      0.010     24.902      0.000       0.232       0.272\n",
      "Capital Gain                              2.3512      0.086     27.354      0.000       2.183       2.520\n",
      "Capital Loss                              0.2519      0.017     15.028      0.000       0.219       0.285\n",
      "Hours per week                            0.3757      0.022     16.876      0.000       0.332       0.419\n",
      "Workclass_ Federal-gov                    1.1001   1.07e+06   1.03e-06      1.000   -2.09e+06    2.09e+06\n",
      "Workclass_ Local-gov                      0.4454   1.07e+06   4.18e-07      1.000   -2.09e+06    2.09e+06\n",
      "Workclass_ Never-worked                 -22.5382   1.68e+05     -0.000      1.000   -3.28e+05    3.28e+05\n",
      "Workclass_ Private                        0.6172   1.07e+06   5.79e-07      1.000   -2.09e+06    2.09e+06\n",
      "Workclass_ Self-emp-inc                   0.7517   1.07e+06   7.06e-07      1.000   -2.09e+06    2.09e+06\n",
      "Workclass_ Self-emp-not-inc               0.2075   1.07e+06   1.95e-07      1.000   -2.09e+06    2.09e+06\n",
      "Workclass_ State-gov                      0.2205   1.07e+06   2.07e-07      1.000   -2.09e+06    2.09e+06\n",
      "Workclass_ Without-pay                  -22.8578   1.07e+06  -2.14e-05      1.000   -2.09e+06    2.09e+06\n",
      "Marital Status_ Married-AF-spouse        -1.9288      0.592     -3.257      0.001      -3.089      -0.768\n",
      "Marital Status_ Married-civ-spouse       -2.5887      0.275     -9.399      0.000      -3.128      -2.049\n",
      "Marital Status_ Married-spouse-absent    -0.3621      0.254     -1.424      0.154      -0.861       0.136\n",
      "Marital Status_ Never-married            -0.6717      0.095     -7.074      0.000      -0.858      -0.486\n",
      "Marital Status_ Separated                -0.3230      0.186     -1.737      0.082      -0.687       0.041\n",
      "Marital Status_ Widowed                  -0.1062      0.170     -0.625      0.532      -0.439       0.227\n",
      "Occupation_ Adm-clerical                 -0.2797   1.07e+06  -2.63e-07      1.000   -2.09e+06    2.09e+06\n",
      "Occupation_ Armed-Forces                 -0.8352   1.07e+06  -7.84e-07      1.000   -2.09e+06    2.09e+06\n",
      "Occupation_ Craft-repair                 -0.2121   1.07e+06  -1.99e-07      1.000   -2.09e+06    2.09e+06\n",
      "Occupation_ Exec-managerial               0.5209   1.07e+06   4.89e-07      1.000   -2.09e+06    2.09e+06\n",
      "Occupation_ Farming-fishing              -1.2981   1.07e+06  -1.22e-06      1.000   -2.09e+06    2.09e+06\n",
      "Occupation_ Handlers-cleaners            -1.0710   1.07e+06  -1.01e-06      1.000   -2.09e+06    2.09e+06\n",
      "Occupation_ Machine-op-inspct            -0.6230   1.07e+06  -5.85e-07      1.000   -2.09e+06    2.09e+06\n",
      "Occupation_ Other-service                -1.1630   1.07e+06  -1.09e-06      1.000   -2.09e+06    2.09e+06\n",
      "Occupation_ Priv-house-serv             -15.1269   1.07e+06  -1.42e-05      1.000   -2.09e+06    2.09e+06\n",
      "Occupation_ Prof-specialty                0.3653   1.07e+06   3.43e-07      1.000   -2.09e+06    2.09e+06\n",
      "Occupation_ Protective-serv               0.3026   1.07e+06   2.84e-07      1.000   -2.09e+06    2.09e+06\n",
      "Occupation_ Sales                         0.0105   1.07e+06   9.84e-09      1.000   -2.09e+06    2.09e+06\n",
      "Occupation_ Tech-support                  0.3424   1.07e+06   3.21e-07      1.000   -2.09e+06    2.09e+06\n",
      "Occupation_ Transport-moving             -0.4482   1.07e+06  -4.21e-07      1.000   -2.09e+06    2.09e+06\n",
      "Relationship_ Not-in-family              -4.1713      0.276    -15.126      0.000      -4.712      -3.631\n",
      "Relationship_ Other-relative             -3.9453      0.330    -11.950      0.000      -4.592      -3.298\n",
      "Relationship_ Own-child                  -5.2167      0.313    -16.689      0.000      -5.829      -4.604\n",
      "Relationship_ Unmarried                  -4.4040      0.280    -15.709      0.000      -4.953      -3.855\n",
      "Relationship_ Wife                        1.0966      0.113      9.739      0.000       0.876       1.317\n",
      "Ethnic group_ Asian-Pac-Islander         -1.0830      0.260     -4.160      0.000      -1.593      -0.573\n",
      "Ethnic group_ Black                      -1.1620      0.206     -5.653      0.000      -1.565      -0.759\n",
      "Ethnic group_ Other                      -1.3151      0.348     -3.784      0.000      -1.996      -0.634\n",
      "Ethnic group_ White                      -0.9186      0.190     -4.843      0.000      -1.290      -0.547\n",
      "Sex_ Male                                 0.6777      0.087      7.810      0.000       0.508       0.848\n",
      "Country_ Cambodia                         1.1104      0.628      1.768      0.077      -0.121       2.341\n",
      "Country_ Canada                          -0.1311      0.317     -0.414      0.679      -0.752       0.490\n",
      "Country_ China                           -0.6590      0.425     -1.549      0.121      -1.493       0.175\n",
      "Country_ Columbia                        -2.2964      0.830     -2.768      0.006      -3.923      -0.670\n",
      "Country_ Cuba                            -0.0361      0.380     -0.095      0.924      -0.780       0.708\n",
      "Country_ Dominican-Republic              -2.1673      1.056     -2.053      0.040      -4.237      -0.098\n",
      "Country_ Ecuador                         -0.5747      0.751     -0.765      0.444      -2.047       0.898\n",
      "Country_ El-Salvador                     -1.5177      0.628     -2.416      0.016      -2.749      -0.286\n",
      "Country_ England                         -0.1237      0.378     -0.327      0.744      -0.864       0.617\n",
      "Country_ France                           0.0796      0.656      0.121      0.903      -1.206       1.366\n",
      "Country_ Germany                          0.1678      0.299      0.562      0.574      -0.418       0.754\n",
      "Country_ Greece                          -1.6321      0.678     -2.406      0.016      -2.961      -0.303\n",
      "Country_ Guatemala                       -0.4806      0.791     -0.608      0.543      -2.031       1.070\n",
      "Country_ Haiti                           -0.8575      0.963     -0.891      0.373      -2.744       1.029\n",
      "Country_ Holand-Netherlands             -13.9223   3836.977     -0.004      0.997   -7534.258    7506.414\n",
      "Country_ Honduras                        -1.3387      2.363     -0.566      0.571      -5.971       3.293\n",
      "Country_ Hong                            -0.6040      0.739     -0.818      0.413      -2.052       0.844\n",
      "Country_ Hungary                         -0.9808      0.927     -1.058      0.290      -2.797       0.836\n",
      "Country_ India                           -0.5333      0.370     -1.443      0.149      -1.258       0.191\n",
      "Country_ Iran                             0.0417      0.495      0.084      0.933      -0.929       1.013\n",
      "Country_ Ireland                          0.5750      0.736      0.781      0.435      -0.868       2.018\n",
      "Country_ Italy                            0.1520      0.410      0.371      0.711      -0.652       0.956\n",
      "Country_ Jamaica                         -0.3693      0.525     -0.703      0.482      -1.399       0.660\n",
      "Country_ Japan                            0.0014      0.473      0.003      0.998      -0.925       0.928\n",
      "Country_ Laos                            -1.2745      1.154     -1.105      0.269      -3.536       0.987\n",
      "Country_ Mexico                          -1.2559      0.295     -4.259      0.000      -1.834      -0.678\n",
      "Country_ Nicaragua                       -1.1176      0.807     -1.384      0.166      -2.700       0.465\n",
      "Country_ Outlying-US(Guam-USVI-etc)     -18.4894   6060.207     -0.003      0.998   -1.19e+04    1.19e+04\n",
      "Country_ Peru                            -0.7526      0.931     -0.809      0.419      -2.577       1.071\n",
      "Country_ Philippines                      0.1420      0.317      0.449      0.654      -0.479       0.763\n",
      "Country_ Poland                          -0.4963      0.442     -1.123      0.262      -1.363       0.370\n",
      "Country_ Portugal                        -0.3216      0.650     -0.495      0.621      -1.595       0.952\n",
      "Country_ Puerto-Rico                     -0.6107      0.432     -1.412      0.158      -1.458       0.237\n",
      "Country_ Scotland                        -0.4576      0.967     -0.473      0.636      -2.353       1.438\n",
      "Country_ South                           -1.5686      0.519     -3.024      0.002      -2.585      -0.552\n",
      "Country_ Taiwan                          -0.2402      0.521     -0.461      0.645      -1.261       0.781\n",
      "Country_ Thailand                        -0.7879      0.848     -0.929      0.353      -2.451       0.875\n",
      "Country_ Trinadad&Tobago                 -1.0047      1.104     -0.910      0.363      -3.169       1.160\n",
      "Country_ United-States                   -0.3070      0.143     -2.146      0.032      -0.588      -0.027\n",
      "Country_ Vietnam                         -1.8240      0.840     -2.171      0.030      -3.471      -0.177\n",
      "Country_ Yugoslavia                       0.6882      0.776      0.887      0.375      -0.833       2.210\n",
      "=========================================================================================================\n"
     ]
    },
    {
     "name": "stderr",
     "output_type": "stream",
     "text": [
      "/Users/nadiiaduiunova/opt/anaconda3/envs/final_env/lib/python3.9/site-packages/statsmodels/base/model.py:604: ConvergenceWarning: Maximum Likelihood optimization failed to converge. Check mle_retvals\n",
      "  warnings.warn(\"Maximum Likelihood optimization failed to \"\n"
     ]
    }
   ],
   "source": [
    "model = sm.Logit(y_tr, X_tr).fit()\n",
    "print(model.summary())"
   ]
  },
  {
   "cell_type": "code",
   "execution_count": null,
   "id": "2f0ec0dc",
   "metadata": {},
   "outputs": [],
   "source": [
    "# y_hat = model.predict(X_test)\n",
    "# prediction = list(map(round, y_hat))\n",
    "\n",
    "# print('Actual values', list(y_test.values)[:10])\n",
    "# print('Predictions :', prediction[:10])"
   ]
  },
  {
   "cell_type": "code",
   "execution_count": null,
   "id": "66c67655",
   "metadata": {},
   "outputs": [],
   "source": [
    "# cm = confusion_matrix(y_test, prediction) \n",
    "# s = sns.heatmap(cm, annot = True)\n",
    "# s.set(xlabel='Predict', ylabel='Truth')\n",
    "# print(cm)\n",
    "# print(classification_report(y_test, prediction))"
   ]
  },
  {
   "cell_type": "markdown",
   "id": "1ff774a5",
   "metadata": {},
   "source": [
    "According to Logit Regression Results there are 2 statistically insignificant features: final weight and occupation. Let's remove them for the following models"
   ]
  },
  {
   "cell_type": "markdown",
   "id": "34d643e4",
   "metadata": {},
   "source": [
    "## Same model, but without 'final weight'"
   ]
  },
  {
   "cell_type": "code",
   "execution_count": 45,
   "id": "ee7a4b61",
   "metadata": {},
   "outputs": [],
   "source": [
    "def reset_xy (df):\n",
    "    X = df.drop(['Income', 'final weight'], axis = 'columns')\n",
    "    y = df['Income']\n",
    "    return X, y"
   ]
  },
  {
   "cell_type": "code",
   "execution_count": 46,
   "id": "49a98ea8",
   "metadata": {},
   "outputs": [],
   "source": [
    "X_train, y_train = reset_xy(df)"
   ]
  },
  {
   "cell_type": "code",
   "execution_count": 47,
   "id": "39aa66f7",
   "metadata": {},
   "outputs": [],
   "source": [
    "num_no_fw = X_train[['Age', 'Capital Gain', 'Capital Loss', 'Hours per week']]\n",
    "scale_numerical(num_no_fw)"
   ]
  },
  {
   "cell_type": "code",
   "execution_count": 48,
   "id": "1cd91ae5",
   "metadata": {},
   "outputs": [],
   "source": [
    "encode_edu()\n",
    "X_train = dumm_categorical(categorical_features_df, X_train)"
   ]
  },
  {
   "cell_type": "code",
   "execution_count": 49,
   "id": "eba80889",
   "metadata": {},
   "outputs": [
    {
     "data": {
      "text/html": [
       "<div>\n",
       "<style scoped>\n",
       "    .dataframe tbody tr th:only-of-type {\n",
       "        vertical-align: middle;\n",
       "    }\n",
       "\n",
       "    .dataframe tbody tr th {\n",
       "        vertical-align: top;\n",
       "    }\n",
       "\n",
       "    .dataframe thead th {\n",
       "        text-align: right;\n",
       "    }\n",
       "</style>\n",
       "<table border=\"1\" class=\"dataframe\">\n",
       "  <thead>\n",
       "    <tr style=\"text-align: right;\">\n",
       "      <th></th>\n",
       "      <th>Age</th>\n",
       "      <th>Education</th>\n",
       "      <th>Capital Gain</th>\n",
       "      <th>Capital Loss</th>\n",
       "      <th>Hours per week</th>\n",
       "      <th>Workclass_ Federal-gov</th>\n",
       "      <th>Workclass_ Local-gov</th>\n",
       "      <th>Workclass_ Never-worked</th>\n",
       "      <th>Workclass_ Private</th>\n",
       "      <th>Workclass_ Self-emp-inc</th>\n",
       "      <th>...</th>\n",
       "      <th>Country_ Portugal</th>\n",
       "      <th>Country_ Puerto-Rico</th>\n",
       "      <th>Country_ Scotland</th>\n",
       "      <th>Country_ South</th>\n",
       "      <th>Country_ Taiwan</th>\n",
       "      <th>Country_ Thailand</th>\n",
       "      <th>Country_ Trinadad&amp;Tobago</th>\n",
       "      <th>Country_ United-States</th>\n",
       "      <th>Country_ Vietnam</th>\n",
       "      <th>Country_ Yugoslavia</th>\n",
       "    </tr>\n",
       "  </thead>\n",
       "  <tbody>\n",
       "    <tr>\n",
       "      <th>6666</th>\n",
       "      <td>1.423610</td>\n",
       "      <td>6.0</td>\n",
       "      <td>-0.14592</td>\n",
       "      <td>-0.21666</td>\n",
       "      <td>0.612489</td>\n",
       "      <td>0</td>\n",
       "      <td>0</td>\n",
       "      <td>0</td>\n",
       "      <td>1</td>\n",
       "      <td>0</td>\n",
       "      <td>...</td>\n",
       "      <td>0</td>\n",
       "      <td>0</td>\n",
       "      <td>0</td>\n",
       "      <td>0</td>\n",
       "      <td>0</td>\n",
       "      <td>0</td>\n",
       "      <td>0</td>\n",
       "      <td>1</td>\n",
       "      <td>0</td>\n",
       "      <td>0</td>\n",
       "    </tr>\n",
       "    <tr>\n",
       "      <th>9078</th>\n",
       "      <td>-1.142331</td>\n",
       "      <td>11.0</td>\n",
       "      <td>-0.14592</td>\n",
       "      <td>-0.21666</td>\n",
       "      <td>-0.035429</td>\n",
       "      <td>0</td>\n",
       "      <td>0</td>\n",
       "      <td>0</td>\n",
       "      <td>1</td>\n",
       "      <td>0</td>\n",
       "      <td>...</td>\n",
       "      <td>0</td>\n",
       "      <td>0</td>\n",
       "      <td>0</td>\n",
       "      <td>0</td>\n",
       "      <td>0</td>\n",
       "      <td>0</td>\n",
       "      <td>0</td>\n",
       "      <td>1</td>\n",
       "      <td>0</td>\n",
       "      <td>0</td>\n",
       "    </tr>\n",
       "    <tr>\n",
       "      <th>18988</th>\n",
       "      <td>-0.922393</td>\n",
       "      <td>8.0</td>\n",
       "      <td>-0.14592</td>\n",
       "      <td>-0.21666</td>\n",
       "      <td>-0.845327</td>\n",
       "      <td>0</td>\n",
       "      <td>1</td>\n",
       "      <td>0</td>\n",
       "      <td>0</td>\n",
       "      <td>0</td>\n",
       "      <td>...</td>\n",
       "      <td>0</td>\n",
       "      <td>0</td>\n",
       "      <td>0</td>\n",
       "      <td>0</td>\n",
       "      <td>0</td>\n",
       "      <td>0</td>\n",
       "      <td>0</td>\n",
       "      <td>1</td>\n",
       "      <td>0</td>\n",
       "      <td>0</td>\n",
       "    </tr>\n",
       "    <tr>\n",
       "      <th>10681</th>\n",
       "      <td>1.350297</td>\n",
       "      <td>5.0</td>\n",
       "      <td>-0.14592</td>\n",
       "      <td>-0.21666</td>\n",
       "      <td>-0.035429</td>\n",
       "      <td>0</td>\n",
       "      <td>0</td>\n",
       "      <td>0</td>\n",
       "      <td>0</td>\n",
       "      <td>0</td>\n",
       "      <td>...</td>\n",
       "      <td>0</td>\n",
       "      <td>0</td>\n",
       "      <td>0</td>\n",
       "      <td>0</td>\n",
       "      <td>0</td>\n",
       "      <td>0</td>\n",
       "      <td>0</td>\n",
       "      <td>1</td>\n",
       "      <td>0</td>\n",
       "      <td>0</td>\n",
       "    </tr>\n",
       "    <tr>\n",
       "      <th>30777</th>\n",
       "      <td>-1.435581</td>\n",
       "      <td>9.0</td>\n",
       "      <td>-0.14592</td>\n",
       "      <td>-0.21666</td>\n",
       "      <td>-2.627102</td>\n",
       "      <td>0</td>\n",
       "      <td>0</td>\n",
       "      <td>0</td>\n",
       "      <td>1</td>\n",
       "      <td>0</td>\n",
       "      <td>...</td>\n",
       "      <td>0</td>\n",
       "      <td>0</td>\n",
       "      <td>0</td>\n",
       "      <td>0</td>\n",
       "      <td>0</td>\n",
       "      <td>0</td>\n",
       "      <td>0</td>\n",
       "      <td>1</td>\n",
       "      <td>0</td>\n",
       "      <td>0</td>\n",
       "    </tr>\n",
       "    <tr>\n",
       "      <th>...</th>\n",
       "      <td>...</td>\n",
       "      <td>...</td>\n",
       "      <td>...</td>\n",
       "      <td>...</td>\n",
       "      <td>...</td>\n",
       "      <td>...</td>\n",
       "      <td>...</td>\n",
       "      <td>...</td>\n",
       "      <td>...</td>\n",
       "      <td>...</td>\n",
       "      <td>...</td>\n",
       "      <td>...</td>\n",
       "      <td>...</td>\n",
       "      <td>...</td>\n",
       "      <td>...</td>\n",
       "      <td>...</td>\n",
       "      <td>...</td>\n",
       "      <td>...</td>\n",
       "      <td>...</td>\n",
       "      <td>...</td>\n",
       "      <td>...</td>\n",
       "    </tr>\n",
       "    <tr>\n",
       "      <th>13030</th>\n",
       "      <td>1.130359</td>\n",
       "      <td>8.0</td>\n",
       "      <td>-0.14592</td>\n",
       "      <td>-0.21666</td>\n",
       "      <td>-0.035429</td>\n",
       "      <td>0</td>\n",
       "      <td>0</td>\n",
       "      <td>0</td>\n",
       "      <td>1</td>\n",
       "      <td>0</td>\n",
       "      <td>...</td>\n",
       "      <td>0</td>\n",
       "      <td>0</td>\n",
       "      <td>0</td>\n",
       "      <td>0</td>\n",
       "      <td>0</td>\n",
       "      <td>0</td>\n",
       "      <td>0</td>\n",
       "      <td>1</td>\n",
       "      <td>0</td>\n",
       "      <td>0</td>\n",
       "    </tr>\n",
       "    <tr>\n",
       "      <th>3261</th>\n",
       "      <td>-0.922393</td>\n",
       "      <td>8.0</td>\n",
       "      <td>-0.14592</td>\n",
       "      <td>-0.21666</td>\n",
       "      <td>-0.035429</td>\n",
       "      <td>0</td>\n",
       "      <td>0</td>\n",
       "      <td>0</td>\n",
       "      <td>1</td>\n",
       "      <td>0</td>\n",
       "      <td>...</td>\n",
       "      <td>0</td>\n",
       "      <td>0</td>\n",
       "      <td>0</td>\n",
       "      <td>0</td>\n",
       "      <td>0</td>\n",
       "      <td>0</td>\n",
       "      <td>0</td>\n",
       "      <td>1</td>\n",
       "      <td>0</td>\n",
       "      <td>0</td>\n",
       "    </tr>\n",
       "    <tr>\n",
       "      <th>27544</th>\n",
       "      <td>-1.142331</td>\n",
       "      <td>9.0</td>\n",
       "      <td>-0.14592</td>\n",
       "      <td>-0.21666</td>\n",
       "      <td>0.531499</td>\n",
       "      <td>0</td>\n",
       "      <td>0</td>\n",
       "      <td>0</td>\n",
       "      <td>1</td>\n",
       "      <td>0</td>\n",
       "      <td>...</td>\n",
       "      <td>0</td>\n",
       "      <td>0</td>\n",
       "      <td>0</td>\n",
       "      <td>0</td>\n",
       "      <td>0</td>\n",
       "      <td>0</td>\n",
       "      <td>0</td>\n",
       "      <td>1</td>\n",
       "      <td>0</td>\n",
       "      <td>0</td>\n",
       "    </tr>\n",
       "    <tr>\n",
       "      <th>2854</th>\n",
       "      <td>-0.849080</td>\n",
       "      <td>9.0</td>\n",
       "      <td>-0.14592</td>\n",
       "      <td>-0.21666</td>\n",
       "      <td>-0.035429</td>\n",
       "      <td>0</td>\n",
       "      <td>0</td>\n",
       "      <td>0</td>\n",
       "      <td>1</td>\n",
       "      <td>0</td>\n",
       "      <td>...</td>\n",
       "      <td>0</td>\n",
       "      <td>0</td>\n",
       "      <td>0</td>\n",
       "      <td>0</td>\n",
       "      <td>0</td>\n",
       "      <td>0</td>\n",
       "      <td>0</td>\n",
       "      <td>1</td>\n",
       "      <td>0</td>\n",
       "      <td>0</td>\n",
       "    </tr>\n",
       "    <tr>\n",
       "      <th>15272</th>\n",
       "      <td>-1.288956</td>\n",
       "      <td>8.0</td>\n",
       "      <td>-0.14592</td>\n",
       "      <td>-0.21666</td>\n",
       "      <td>-0.035429</td>\n",
       "      <td>0</td>\n",
       "      <td>0</td>\n",
       "      <td>0</td>\n",
       "      <td>1</td>\n",
       "      <td>0</td>\n",
       "      <td>...</td>\n",
       "      <td>0</td>\n",
       "      <td>0</td>\n",
       "      <td>0</td>\n",
       "      <td>0</td>\n",
       "      <td>0</td>\n",
       "      <td>0</td>\n",
       "      <td>0</td>\n",
       "      <td>1</td>\n",
       "      <td>0</td>\n",
       "      <td>0</td>\n",
       "    </tr>\n",
       "  </tbody>\n",
       "</table>\n",
       "<p>26048 rows × 84 columns</p>\n",
       "</div>"
      ],
      "text/plain": [
       "            Age  Education  Capital Gain  Capital Loss  Hours per week  \\\n",
       "6666   1.423610        6.0      -0.14592      -0.21666        0.612489   \n",
       "9078  -1.142331       11.0      -0.14592      -0.21666       -0.035429   \n",
       "18988 -0.922393        8.0      -0.14592      -0.21666       -0.845327   \n",
       "10681  1.350297        5.0      -0.14592      -0.21666       -0.035429   \n",
       "30777 -1.435581        9.0      -0.14592      -0.21666       -2.627102   \n",
       "...         ...        ...           ...           ...             ...   \n",
       "13030  1.130359        8.0      -0.14592      -0.21666       -0.035429   \n",
       "3261  -0.922393        8.0      -0.14592      -0.21666       -0.035429   \n",
       "27544 -1.142331        9.0      -0.14592      -0.21666        0.531499   \n",
       "2854  -0.849080        9.0      -0.14592      -0.21666       -0.035429   \n",
       "15272 -1.288956        8.0      -0.14592      -0.21666       -0.035429   \n",
       "\n",
       "       Workclass_ Federal-gov  Workclass_ Local-gov  Workclass_ Never-worked  \\\n",
       "6666                        0                     0                        0   \n",
       "9078                        0                     0                        0   \n",
       "18988                       0                     1                        0   \n",
       "10681                       0                     0                        0   \n",
       "30777                       0                     0                        0   \n",
       "...                       ...                   ...                      ...   \n",
       "13030                       0                     0                        0   \n",
       "3261                        0                     0                        0   \n",
       "27544                       0                     0                        0   \n",
       "2854                        0                     0                        0   \n",
       "15272                       0                     0                        0   \n",
       "\n",
       "       Workclass_ Private  Workclass_ Self-emp-inc  ...  Country_ Portugal  \\\n",
       "6666                    1                        0  ...                  0   \n",
       "9078                    1                        0  ...                  0   \n",
       "18988                   0                        0  ...                  0   \n",
       "10681                   0                        0  ...                  0   \n",
       "30777                   1                        0  ...                  0   \n",
       "...                   ...                      ...  ...                ...   \n",
       "13030                   1                        0  ...                  0   \n",
       "3261                    1                        0  ...                  0   \n",
       "27544                   1                        0  ...                  0   \n",
       "2854                    1                        0  ...                  0   \n",
       "15272                   1                        0  ...                  0   \n",
       "\n",
       "       Country_ Puerto-Rico  Country_ Scotland  Country_ South  \\\n",
       "6666                      0                  0               0   \n",
       "9078                      0                  0               0   \n",
       "18988                     0                  0               0   \n",
       "10681                     0                  0               0   \n",
       "30777                     0                  0               0   \n",
       "...                     ...                ...             ...   \n",
       "13030                     0                  0               0   \n",
       "3261                      0                  0               0   \n",
       "27544                     0                  0               0   \n",
       "2854                      0                  0               0   \n",
       "15272                     0                  0               0   \n",
       "\n",
       "       Country_ Taiwan  Country_ Thailand  Country_ Trinadad&Tobago  \\\n",
       "6666                 0                  0                         0   \n",
       "9078                 0                  0                         0   \n",
       "18988                0                  0                         0   \n",
       "10681                0                  0                         0   \n",
       "30777                0                  0                         0   \n",
       "...                ...                ...                       ...   \n",
       "13030                0                  0                         0   \n",
       "3261                 0                  0                         0   \n",
       "27544                0                  0                         0   \n",
       "2854                 0                  0                         0   \n",
       "15272                0                  0                         0   \n",
       "\n",
       "       Country_ United-States  Country_ Vietnam  Country_ Yugoslavia  \n",
       "6666                        1                 0                    0  \n",
       "9078                        1                 0                    0  \n",
       "18988                       1                 0                    0  \n",
       "10681                       1                 0                    0  \n",
       "30777                       1                 0                    0  \n",
       "...                       ...               ...                  ...  \n",
       "13030                       1                 0                    0  \n",
       "3261                        1                 0                    0  \n",
       "27544                       1                 0                    0  \n",
       "2854                        1                 0                    0  \n",
       "15272                       1                 0                    0  \n",
       "\n",
       "[26048 rows x 84 columns]"
      ]
     },
     "execution_count": 49,
     "metadata": {},
     "output_type": "execute_result"
    }
   ],
   "source": [
    "X_train, X_test, y_train, y_test = train_test_split(X_train, y_train, test_size= 0.2)\n",
    "X_train"
   ]
  },
  {
   "cell_type": "code",
   "execution_count": 50,
   "id": "2ba36656",
   "metadata": {},
   "outputs": [
    {
     "name": "stdout",
     "output_type": "stream",
     "text": [
      "Warning: Maximum number of iterations has been exceeded.\n",
      "         Current function value: 0.320364\n",
      "         Iterations: 35\n"
     ]
    },
    {
     "ename": "LinAlgError",
     "evalue": "Singular matrix",
     "output_type": "error",
     "traceback": [
      "\u001b[0;31m---------------------------------------------------------------------------\u001b[0m",
      "\u001b[0;31mLinAlgError\u001b[0m                               Traceback (most recent call last)",
      "Cell \u001b[0;32mIn[50], line 1\u001b[0m\n\u001b[0;32m----> 1\u001b[0m model \u001b[38;5;241m=\u001b[39m \u001b[43msm\u001b[49m\u001b[38;5;241;43m.\u001b[39;49m\u001b[43mLogit\u001b[49m\u001b[43m(\u001b[49m\u001b[43my_train\u001b[49m\u001b[43m,\u001b[49m\u001b[43m \u001b[49m\u001b[43mX_train\u001b[49m\u001b[43m)\u001b[49m\u001b[38;5;241;43m.\u001b[39;49m\u001b[43mfit\u001b[49m\u001b[43m(\u001b[49m\u001b[43m)\u001b[49m\n\u001b[1;32m      2\u001b[0m \u001b[38;5;28mprint\u001b[39m(model\u001b[38;5;241m.\u001b[39msummary())\n",
      "File \u001b[0;32m~/opt/anaconda3/envs/final_env/lib/python3.9/site-packages/statsmodels/discrete/discrete_model.py:1983\u001b[0m, in \u001b[0;36mLogit.fit\u001b[0;34m(self, start_params, method, maxiter, full_output, disp, callback, **kwargs)\u001b[0m\n\u001b[1;32m   1980\u001b[0m \u001b[38;5;129m@Appender\u001b[39m(DiscreteModel\u001b[38;5;241m.\u001b[39mfit\u001b[38;5;241m.\u001b[39m\u001b[38;5;18m__doc__\u001b[39m)\n\u001b[1;32m   1981\u001b[0m \u001b[38;5;28;01mdef\u001b[39;00m \u001b[38;5;21mfit\u001b[39m(\u001b[38;5;28mself\u001b[39m, start_params\u001b[38;5;241m=\u001b[39m\u001b[38;5;28;01mNone\u001b[39;00m, method\u001b[38;5;241m=\u001b[39m\u001b[38;5;124m'\u001b[39m\u001b[38;5;124mnewton\u001b[39m\u001b[38;5;124m'\u001b[39m, maxiter\u001b[38;5;241m=\u001b[39m\u001b[38;5;241m35\u001b[39m,\n\u001b[1;32m   1982\u001b[0m         full_output\u001b[38;5;241m=\u001b[39m\u001b[38;5;241m1\u001b[39m, disp\u001b[38;5;241m=\u001b[39m\u001b[38;5;241m1\u001b[39m, callback\u001b[38;5;241m=\u001b[39m\u001b[38;5;28;01mNone\u001b[39;00m, \u001b[38;5;241m*\u001b[39m\u001b[38;5;241m*\u001b[39mkwargs):\n\u001b[0;32m-> 1983\u001b[0m     bnryfit \u001b[38;5;241m=\u001b[39m \u001b[38;5;28;43msuper\u001b[39;49m\u001b[43m(\u001b[49m\u001b[43m)\u001b[49m\u001b[38;5;241;43m.\u001b[39;49m\u001b[43mfit\u001b[49m\u001b[43m(\u001b[49m\u001b[43mstart_params\u001b[49m\u001b[38;5;241;43m=\u001b[39;49m\u001b[43mstart_params\u001b[49m\u001b[43m,\u001b[49m\n\u001b[1;32m   1984\u001b[0m \u001b[43m                          \u001b[49m\u001b[43mmethod\u001b[49m\u001b[38;5;241;43m=\u001b[39;49m\u001b[43mmethod\u001b[49m\u001b[43m,\u001b[49m\n\u001b[1;32m   1985\u001b[0m \u001b[43m                          \u001b[49m\u001b[43mmaxiter\u001b[49m\u001b[38;5;241;43m=\u001b[39;49m\u001b[43mmaxiter\u001b[49m\u001b[43m,\u001b[49m\n\u001b[1;32m   1986\u001b[0m \u001b[43m                          \u001b[49m\u001b[43mfull_output\u001b[49m\u001b[38;5;241;43m=\u001b[39;49m\u001b[43mfull_output\u001b[49m\u001b[43m,\u001b[49m\n\u001b[1;32m   1987\u001b[0m \u001b[43m                          \u001b[49m\u001b[43mdisp\u001b[49m\u001b[38;5;241;43m=\u001b[39;49m\u001b[43mdisp\u001b[49m\u001b[43m,\u001b[49m\n\u001b[1;32m   1988\u001b[0m \u001b[43m                          \u001b[49m\u001b[43mcallback\u001b[49m\u001b[38;5;241;43m=\u001b[39;49m\u001b[43mcallback\u001b[49m\u001b[43m,\u001b[49m\n\u001b[1;32m   1989\u001b[0m \u001b[43m                          \u001b[49m\u001b[38;5;241;43m*\u001b[39;49m\u001b[38;5;241;43m*\u001b[39;49m\u001b[43mkwargs\u001b[49m\u001b[43m)\u001b[49m\n\u001b[1;32m   1991\u001b[0m     discretefit \u001b[38;5;241m=\u001b[39m LogitResults(\u001b[38;5;28mself\u001b[39m, bnryfit)\n\u001b[1;32m   1992\u001b[0m     \u001b[38;5;28;01mreturn\u001b[39;00m BinaryResultsWrapper(discretefit)\n",
      "File \u001b[0;32m~/opt/anaconda3/envs/final_env/lib/python3.9/site-packages/statsmodels/discrete/discrete_model.py:230\u001b[0m, in \u001b[0;36mDiscreteModel.fit\u001b[0;34m(self, start_params, method, maxiter, full_output, disp, callback, **kwargs)\u001b[0m\n\u001b[1;32m    227\u001b[0m \u001b[38;5;28;01melse\u001b[39;00m:\n\u001b[1;32m    228\u001b[0m     \u001b[38;5;28;01mpass\u001b[39;00m  \u001b[38;5;66;03m# TODO: make a function factory to have multiple call-backs\u001b[39;00m\n\u001b[0;32m--> 230\u001b[0m mlefit \u001b[38;5;241m=\u001b[39m \u001b[38;5;28;43msuper\u001b[39;49m\u001b[43m(\u001b[49m\u001b[43m)\u001b[49m\u001b[38;5;241;43m.\u001b[39;49m\u001b[43mfit\u001b[49m\u001b[43m(\u001b[49m\u001b[43mstart_params\u001b[49m\u001b[38;5;241;43m=\u001b[39;49m\u001b[43mstart_params\u001b[49m\u001b[43m,\u001b[49m\n\u001b[1;32m    231\u001b[0m \u001b[43m                     \u001b[49m\u001b[43mmethod\u001b[49m\u001b[38;5;241;43m=\u001b[39;49m\u001b[43mmethod\u001b[49m\u001b[43m,\u001b[49m\n\u001b[1;32m    232\u001b[0m \u001b[43m                     \u001b[49m\u001b[43mmaxiter\u001b[49m\u001b[38;5;241;43m=\u001b[39;49m\u001b[43mmaxiter\u001b[49m\u001b[43m,\u001b[49m\n\u001b[1;32m    233\u001b[0m \u001b[43m                     \u001b[49m\u001b[43mfull_output\u001b[49m\u001b[38;5;241;43m=\u001b[39;49m\u001b[43mfull_output\u001b[49m\u001b[43m,\u001b[49m\n\u001b[1;32m    234\u001b[0m \u001b[43m                     \u001b[49m\u001b[43mdisp\u001b[49m\u001b[38;5;241;43m=\u001b[39;49m\u001b[43mdisp\u001b[49m\u001b[43m,\u001b[49m\n\u001b[1;32m    235\u001b[0m \u001b[43m                     \u001b[49m\u001b[43mcallback\u001b[49m\u001b[38;5;241;43m=\u001b[39;49m\u001b[43mcallback\u001b[49m\u001b[43m,\u001b[49m\n\u001b[1;32m    236\u001b[0m \u001b[43m                     \u001b[49m\u001b[38;5;241;43m*\u001b[39;49m\u001b[38;5;241;43m*\u001b[39;49m\u001b[43mkwargs\u001b[49m\u001b[43m)\u001b[49m\n\u001b[1;32m    238\u001b[0m \u001b[38;5;28;01mreturn\u001b[39;00m mlefit\n",
      "File \u001b[0;32m~/opt/anaconda3/envs/final_env/lib/python3.9/site-packages/statsmodels/base/model.py:579\u001b[0m, in \u001b[0;36mLikelihoodModel.fit\u001b[0;34m(self, start_params, method, maxiter, full_output, disp, fargs, callback, retall, skip_hessian, **kwargs)\u001b[0m\n\u001b[1;32m    577\u001b[0m     Hinv \u001b[38;5;241m=\u001b[39m cov_params_func(\u001b[38;5;28mself\u001b[39m, xopt, retvals)\n\u001b[1;32m    578\u001b[0m \u001b[38;5;28;01melif\u001b[39;00m method \u001b[38;5;241m==\u001b[39m \u001b[38;5;124m'\u001b[39m\u001b[38;5;124mnewton\u001b[39m\u001b[38;5;124m'\u001b[39m \u001b[38;5;129;01mand\u001b[39;00m full_output:\n\u001b[0;32m--> 579\u001b[0m     Hinv \u001b[38;5;241m=\u001b[39m \u001b[43mnp\u001b[49m\u001b[38;5;241;43m.\u001b[39;49m\u001b[43mlinalg\u001b[49m\u001b[38;5;241;43m.\u001b[39;49m\u001b[43minv\u001b[49m\u001b[43m(\u001b[49m\u001b[38;5;241;43m-\u001b[39;49m\u001b[43mretvals\u001b[49m\u001b[43m[\u001b[49m\u001b[38;5;124;43m'\u001b[39;49m\u001b[38;5;124;43mHessian\u001b[39;49m\u001b[38;5;124;43m'\u001b[39;49m\u001b[43m]\u001b[49m\u001b[43m)\u001b[49m \u001b[38;5;241m/\u001b[39m nobs\n\u001b[1;32m    580\u001b[0m \u001b[38;5;28;01melif\u001b[39;00m \u001b[38;5;129;01mnot\u001b[39;00m skip_hessian:\n\u001b[1;32m    581\u001b[0m     H \u001b[38;5;241m=\u001b[39m \u001b[38;5;241m-\u001b[39m\u001b[38;5;241m1\u001b[39m \u001b[38;5;241m*\u001b[39m \u001b[38;5;28mself\u001b[39m\u001b[38;5;241m.\u001b[39mhessian(xopt)\n",
      "File \u001b[0;32m<__array_function__ internals>:200\u001b[0m, in \u001b[0;36minv\u001b[0;34m(*args, **kwargs)\u001b[0m\n",
      "File \u001b[0;32m~/opt/anaconda3/envs/final_env/lib/python3.9/site-packages/numpy/linalg/linalg.py:538\u001b[0m, in \u001b[0;36minv\u001b[0;34m(a)\u001b[0m\n\u001b[1;32m    536\u001b[0m signature \u001b[38;5;241m=\u001b[39m \u001b[38;5;124m'\u001b[39m\u001b[38;5;124mD->D\u001b[39m\u001b[38;5;124m'\u001b[39m \u001b[38;5;28;01mif\u001b[39;00m isComplexType(t) \u001b[38;5;28;01melse\u001b[39;00m \u001b[38;5;124m'\u001b[39m\u001b[38;5;124md->d\u001b[39m\u001b[38;5;124m'\u001b[39m\n\u001b[1;32m    537\u001b[0m extobj \u001b[38;5;241m=\u001b[39m get_linalg_error_extobj(_raise_linalgerror_singular)\n\u001b[0;32m--> 538\u001b[0m ainv \u001b[38;5;241m=\u001b[39m \u001b[43m_umath_linalg\u001b[49m\u001b[38;5;241;43m.\u001b[39;49m\u001b[43minv\u001b[49m\u001b[43m(\u001b[49m\u001b[43ma\u001b[49m\u001b[43m,\u001b[49m\u001b[43m \u001b[49m\u001b[43msignature\u001b[49m\u001b[38;5;241;43m=\u001b[39;49m\u001b[43msignature\u001b[49m\u001b[43m,\u001b[49m\u001b[43m \u001b[49m\u001b[43mextobj\u001b[49m\u001b[38;5;241;43m=\u001b[39;49m\u001b[43mextobj\u001b[49m\u001b[43m)\u001b[49m\n\u001b[1;32m    539\u001b[0m \u001b[38;5;28;01mreturn\u001b[39;00m wrap(ainv\u001b[38;5;241m.\u001b[39mastype(result_t, copy\u001b[38;5;241m=\u001b[39m\u001b[38;5;28;01mFalse\u001b[39;00m))\n",
      "File \u001b[0;32m~/opt/anaconda3/envs/final_env/lib/python3.9/site-packages/numpy/linalg/linalg.py:89\u001b[0m, in \u001b[0;36m_raise_linalgerror_singular\u001b[0;34m(err, flag)\u001b[0m\n\u001b[1;32m     88\u001b[0m \u001b[38;5;28;01mdef\u001b[39;00m \u001b[38;5;21m_raise_linalgerror_singular\u001b[39m(err, flag):\n\u001b[0;32m---> 89\u001b[0m     \u001b[38;5;28;01mraise\u001b[39;00m LinAlgError(\u001b[38;5;124m\"\u001b[39m\u001b[38;5;124mSingular matrix\u001b[39m\u001b[38;5;124m\"\u001b[39m)\n",
      "\u001b[0;31mLinAlgError\u001b[0m: Singular matrix"
     ]
    }
   ],
   "source": [
    "model = sm.Logit(y_train, X_train).fit()\n",
    "print(model.summary())"
   ]
  },
  {
   "cell_type": "code",
   "execution_count": null,
   "id": "d9de69a6",
   "metadata": {},
   "outputs": [],
   "source": [
    "# y_hat = model.predict(X_test)\n",
    "# prediction = list(map(round, y_hat))\n",
    "\n",
    "# print('Actual values', list(y_test.values)[:10])\n",
    "# print('Predictions :', prediction[:10])"
   ]
  },
  {
   "cell_type": "code",
   "execution_count": null,
   "id": "d6db6a1d",
   "metadata": {},
   "outputs": [],
   "source": [
    "# cm = confusion_matrix(y_test, prediction) \n",
    "# s = sns.heatmap(cm, annot = True)\n",
    "# s.set(xlabel='Predict', ylabel='Truth')\n",
    "# print(cm)\n",
    "# print(classification_report(y_test, prediction))"
   ]
  },
  {
   "cell_type": "markdown",
   "id": "020dcdb5",
   "metadata": {},
   "source": [
    "The model still performs san in minority class detection"
   ]
  },
  {
   "cell_type": "markdown",
   "id": "80292fda",
   "metadata": {},
   "source": [
    "## Same model, but with Capital paremeters logged"
   ]
  },
  {
   "cell_type": "code",
   "execution_count": null,
   "id": "fd4e8348",
   "metadata": {},
   "outputs": [],
   "source": [
    "X_train, y_train = reset_xy(df)"
   ]
  },
  {
   "cell_type": "code",
   "execution_count": null,
   "id": "85476423",
   "metadata": {
    "scrolled": true
   },
   "outputs": [],
   "source": [
    "def capital_log():\n",
    "    X_train['Capital Gain'] = np.log(1+ X_train['Capital Gain'])\n",
    "    X_train['Capital Loss'] = np.log(1+ X_train['Capital Loss'])\n",
    "    \n",
    "capital_log()"
   ]
  },
  {
   "cell_type": "code",
   "execution_count": null,
   "id": "a8fe42fb",
   "metadata": {},
   "outputs": [],
   "source": [
    "num_no_capital = X_train[['Age', 'Hours per week']]\n",
    "scale_numerical(num_no_capital)"
   ]
  },
  {
   "cell_type": "code",
   "execution_count": null,
   "id": "7d8f235a",
   "metadata": {},
   "outputs": [],
   "source": [
    "X_train.head(2)"
   ]
  },
  {
   "cell_type": "code",
   "execution_count": null,
   "id": "a215f0b3",
   "metadata": {},
   "outputs": [],
   "source": [
    "encode_edu()\n",
    "X_train = dumm_categorical(categorical_features_df, X_train)"
   ]
  },
  {
   "cell_type": "code",
   "execution_count": null,
   "id": "c5ca6773",
   "metadata": {},
   "outputs": [],
   "source": [
    "X_train.head()"
   ]
  },
  {
   "cell_type": "code",
   "execution_count": null,
   "id": "fedfedf4",
   "metadata": {},
   "outputs": [],
   "source": [
    "# X_train, X_test, y_train, y_test = train_test_split(X, y, test_size= 0.2)"
   ]
  },
  {
   "cell_type": "code",
   "execution_count": null,
   "id": "94c0e79b",
   "metadata": {},
   "outputs": [],
   "source": [
    "model = sm.Logit(y_train, X_train).fit()\n",
    "print(model.summary())"
   ]
  },
  {
   "cell_type": "code",
   "execution_count": null,
   "id": "4a9a4033",
   "metadata": {},
   "outputs": [],
   "source": [
    "# y_hat = model.predict(X_test)\n",
    "# prediction = list(map(round, y_hat))\n",
    "# print('Actual values', list(y_test.values)[:10])\n",
    "# print('Predictions :', prediction[:10])"
   ]
  },
  {
   "cell_type": "code",
   "execution_count": null,
   "id": "cbe878d2",
   "metadata": {},
   "outputs": [],
   "source": [
    "# cm = confusion_matrix(y_test, prediction) \n",
    "# s = sns.heatmap(cm, annot = True)\n",
    "# s.set(xlabel='Predict', ylabel='Truth')\n",
    "# print(cm)\n",
    "# print(classification_report(y_test, prediction))"
   ]
  },
  {
   "cell_type": "markdown",
   "id": "db7595ac",
   "metadata": {},
   "source": [
    "## Logistic regression with previous data transformation"
   ]
  },
  {
   "cell_type": "code",
   "execution_count": null,
   "id": "32686f4b",
   "metadata": {},
   "outputs": [],
   "source": [
    "X_train, y_train = reset_xy(df)"
   ]
  },
  {
   "cell_type": "markdown",
   "id": "44bf6c7b",
   "metadata": {},
   "source": [
    "For this modela all parameters, that have huge imbalance in their values, are changes to binary with categories:\n",
    "1. Most popular alue or the feature\n",
    "2. All other values together"
   ]
  },
  {
   "cell_type": "code",
   "execution_count": null,
   "id": "b5c424d2",
   "metadata": {},
   "outputs": [],
   "source": [
    "def balance_predictors():\n",
    "    X_train['Ethnic group'] = np.where(X_train['Ethnic group'] != ' White', 'Other', X_train['Ethnic group'])\n",
    "    X_train['Country'] = np.where(X_train['Country'] != ' United-States', 'Other', X_train['Country'])\n",
    "    X_train['Workclass'] = np.where(X_train['Workclass'] != ' Private', 'Other', X_train['Workclass'])\n",
    "    \n",
    "balance_predictors()\n",
    "X_train.sample(3)"
   ]
  },
  {
   "cell_type": "code",
   "execution_count": null,
   "id": "a839e27f",
   "metadata": {},
   "outputs": [],
   "source": [
    "encode_edu()\n",
    "\n",
    "capital_log()\n",
    "\n",
    "scale_numerical(num_no_fw)"
   ]
  },
  {
   "cell_type": "code",
   "execution_count": null,
   "id": "914db7d5",
   "metadata": {},
   "outputs": [],
   "source": [
    "X_train.sample()"
   ]
  },
  {
   "cell_type": "code",
   "execution_count": null,
   "id": "bff83375",
   "metadata": {},
   "outputs": [],
   "source": [
    "X_train = dumm_categorical(categorical_features_df, X_train)"
   ]
  },
  {
   "cell_type": "code",
   "execution_count": null,
   "id": "943a913d",
   "metadata": {},
   "outputs": [],
   "source": [
    "# X_train, X_test, y_train, y_test = train_test_split(X, y, test_size= 0.2)"
   ]
  },
  {
   "cell_type": "code",
   "execution_count": null,
   "id": "9ff5fb59",
   "metadata": {},
   "outputs": [],
   "source": [
    "model = sm.Logit(y_train, X_train).fit()\n",
    "print(model.summary())"
   ]
  },
  {
   "cell_type": "code",
   "execution_count": null,
   "id": "7578e4c3",
   "metadata": {},
   "outputs": [],
   "source": [
    "# y_hat = model.predict(X_test)\n",
    "# prediction = list(map(round, y_hat))\n",
    "\n",
    "# print('Actual values', list(y_test.values)[:10])\n",
    "# print('Predictions :', prediction[:10])"
   ]
  },
  {
   "cell_type": "code",
   "execution_count": null,
   "id": "95aa8a91",
   "metadata": {},
   "outputs": [],
   "source": [
    "# cm = confusion_matrix(y_test, prediction) \n",
    "# s = sns.heatmap(cm, annot = True)\n",
    "# s.set(xlabel='Predict', ylabel='Truth')\n",
    "# print(cm)\n",
    "# print(classification_report(y_test, prediction))"
   ]
  },
  {
   "cell_type": "markdown",
   "id": "b7f7c72f",
   "metadata": {},
   "source": [
    "## Oversampling target"
   ]
  },
  {
   "cell_type": "code",
   "execution_count": null,
   "id": "1202ca07",
   "metadata": {},
   "outputs": [],
   "source": [
    "# count_class_0, count_class_1 = df['Income'].value_counts()\n",
    "\n",
    "# y0 = df[df['Income'] == 0]\n",
    "# y1 = df[df['Income'] == 1]"
   ]
  },
  {
   "cell_type": "code",
   "execution_count": null,
   "id": "6927ebfa",
   "metadata": {},
   "outputs": [],
   "source": [
    "# print(y0.shape)\n",
    "# print(y1.shape)"
   ]
  },
  {
   "cell_type": "code",
   "execution_count": null,
   "id": "58efe646",
   "metadata": {},
   "outputs": [],
   "source": [
    "# y1_over = y1.sample(count_class_0, replace = True)"
   ]
  },
  {
   "cell_type": "code",
   "execution_count": null,
   "id": "d8a112e4",
   "metadata": {},
   "outputs": [],
   "source": [
    "# df = pd.concat([y0, y1_over], axis = 0)"
   ]
  },
  {
   "cell_type": "code",
   "execution_count": null,
   "id": "524bd221",
   "metadata": {},
   "outputs": [],
   "source": [
    "# df.shape"
   ]
  },
  {
   "cell_type": "code",
   "execution_count": null,
   "id": "4612b751",
   "metadata": {},
   "outputs": [],
   "source": [
    "# X, y = reset_xy(df)"
   ]
  },
  {
   "cell_type": "code",
   "execution_count": null,
   "id": "dbbec6b4",
   "metadata": {},
   "outputs": [],
   "source": [
    "# balance_predictors()"
   ]
  },
  {
   "cell_type": "code",
   "execution_count": null,
   "id": "5afd3518",
   "metadata": {},
   "outputs": [],
   "source": [
    "# encode_edu()"
   ]
  },
  {
   "cell_type": "code",
   "execution_count": null,
   "id": "7277bc16",
   "metadata": {},
   "outputs": [],
   "source": [
    "# capital_log()"
   ]
  },
  {
   "cell_type": "code",
   "execution_count": null,
   "id": "ca29f70e",
   "metadata": {},
   "outputs": [],
   "source": [
    "# num_no_capital = X[['Age', 'Hours per week']]\n",
    "# scale_numerical(num_no_capital)"
   ]
  },
  {
   "cell_type": "code",
   "execution_count": null,
   "id": "b3c0be37",
   "metadata": {},
   "outputs": [],
   "source": [
    "# categorical_features_df = X[['Workclass', 'Marital Status', 'Relationship', 'Ethnic group', 'Country']]\n",
    "# X = dumm_categorical(categorical_features_df, X)"
   ]
  },
  {
   "cell_type": "code",
   "execution_count": null,
   "id": "c2f64464",
   "metadata": {},
   "outputs": [],
   "source": [
    "# X_train, X_test, y_train, y_test = train_test_split(X, y, test_size= 0.2)\n",
    "# X_train.sample(3)"
   ]
  },
  {
   "cell_type": "code",
   "execution_count": null,
   "id": "ade7459f",
   "metadata": {},
   "outputs": [],
   "source": [
    "# model = sm.Logit(y_train, X_train).fit()\n",
    "# print(model.summary())"
   ]
  },
  {
   "cell_type": "code",
   "execution_count": null,
   "id": "b3a4e542",
   "metadata": {},
   "outputs": [],
   "source": [
    "# y_hat = model.predict(X_test)\n",
    "# prediction = list(map(round, y_hat))\n",
    "\n",
    "# print('Actual values', list(y_test.values)[:10])\n",
    "# print('Predictions :', prediction[:10])"
   ]
  },
  {
   "cell_type": "code",
   "execution_count": null,
   "id": "b1ce3e2a",
   "metadata": {},
   "outputs": [],
   "source": [
    "# cm = confusion_matrix(y_test, prediction) \n",
    "# s = sns.heatmap(cm, annot = True)\n",
    "# s.set(xlabel='Predict', ylabel='Truth')\n",
    "# print(cm)\n",
    "# print(classification_report(y_test, prediction))"
   ]
  }
 ],
 "metadata": {
  "kernelspec": {
   "display_name": "Python 3 (ipykernel)",
   "language": "python",
   "name": "python3"
  },
  "language_info": {
   "codemirror_mode": {
    "name": "ipython",
    "version": 3
   },
   "file_extension": ".py",
   "mimetype": "text/x-python",
   "name": "python",
   "nbconvert_exporter": "python",
   "pygments_lexer": "ipython3",
   "version": "3.9.16"
  }
 },
 "nbformat": 4,
 "nbformat_minor": 5
}
