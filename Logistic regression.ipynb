{
 "cells": [
  {
   "cell_type": "code",
   "execution_count": 1,
   "id": "e309cab6",
   "metadata": {},
   "outputs": [],
   "source": [
    "import pandas as pd\n",
    "import numpy as np\n",
    "import seaborn as sns\n",
    "import matplotlib.pyplot as plt\n",
    "import scipy.stats as stats\n",
    "from statsmodels.api import Logit\n",
    "from sklearn.preprocessing import StandardScaler, OrdinalEncoder, LabelEncoder, OneHotEncoder\n",
    "from sklearn.model_selection import train_test_split, cross_val_score\n",
    "from sklearn.metrics import confusion_matrix, classification_report\n",
    "\n",
    "from sklearn.pipeline import make_union, make_pipeline\n",
    "from sklearn.preprocessing import FunctionTransformer\n",
    "from sklearn.compose import ColumnTransformer, make_column_selector\n",
    "\n",
    "from sklearn.linear_model import LogisticRegression\n",
    "from sklearn import set_config"
   ]
  },
  {
   "cell_type": "markdown",
   "id": "be643a5d",
   "metadata": {},
   "source": [
    "Here the results from 'Adult EDA\" file are going to be used"
   ]
  },
  {
   "cell_type": "code",
   "execution_count": 2,
   "id": "e627ad21",
   "metadata": {
    "scrolled": true
   },
   "outputs": [],
   "source": [
    "# %run \"Adult EDA.ipynb\""
   ]
  },
  {
   "cell_type": "code",
   "execution_count": 3,
   "id": "208f09c0",
   "metadata": {},
   "outputs": [],
   "source": [
    "adult_columns = [\n",
    "    \"Age\",\n",
    "    \"Workclass\",\n",
    "    \"final weight\",\n",
    "    \"Education\",\n",
    "    \"Education-Num\",\n",
    "    \"Marital Status\",\n",
    "    \"Occupation\",\n",
    "    \"Relationship\",\n",
    "    \"Ethnic group\",\n",
    "    \"Sex\",\n",
    "    \"Capital Gain\",\n",
    "    \"Capital Loss\",\n",
    "    \"Hours per week\",\n",
    "    \"Country\",\n",
    "    \"Income\",\n",
    "]\n",
    "\n",
    "df = pd.read_csv(\"https://archive.ics.uci.edu/ml/machine-learning-databases/adult/adult.data\", \n",
    "                 header = None, names = adult_columns)"
   ]
  },
  {
   "cell_type": "code",
   "execution_count": 4,
   "id": "fd85f86e",
   "metadata": {},
   "outputs": [],
   "source": [
    "df = df.drop(['Education-Num'], axis = 'columns')"
   ]
  },
  {
   "cell_type": "code",
   "execution_count": 5,
   "id": "0161becc",
   "metadata": {},
   "outputs": [],
   "source": [
    "categorical_features_list = ['Workclass', 'Marital Status', 'Occupation', \n",
    "                             'Relationship', 'Ethnic group', 'Sex', 'Country']"
   ]
  },
  {
   "cell_type": "code",
   "execution_count": 6,
   "id": "86c1a2b4",
   "metadata": {},
   "outputs": [
    {
     "name": "stdout",
     "output_type": "stream",
     "text": [
      "Workclass\n",
      " Private             22696\n",
      " Self-emp-not-inc     2541\n",
      " Local-gov            2093\n",
      " ?                    1836\n",
      " State-gov            1298\n",
      " Self-emp-inc         1116\n",
      " Federal-gov           960\n",
      " Without-pay            14\n",
      " Never-worked            7\n",
      "Name: Workclass, dtype: int64\n",
      "\n",
      "Marital Status\n",
      " Married-civ-spouse       14976\n",
      " Never-married            10683\n",
      " Divorced                  4443\n",
      " Separated                 1025\n",
      " Widowed                    993\n",
      " Married-spouse-absent      418\n",
      " Married-AF-spouse           23\n",
      "Name: Marital Status, dtype: int64\n",
      "\n",
      "Occupation\n",
      " Prof-specialty       4140\n",
      " Craft-repair         4099\n",
      " Exec-managerial      4066\n",
      " Adm-clerical         3770\n",
      " Sales                3650\n",
      " Other-service        3295\n",
      " Machine-op-inspct    2002\n",
      " ?                    1843\n",
      " Transport-moving     1597\n",
      " Handlers-cleaners    1370\n",
      " Farming-fishing       994\n",
      " Tech-support          928\n",
      " Protective-serv       649\n",
      " Priv-house-serv       149\n",
      " Armed-Forces            9\n",
      "Name: Occupation, dtype: int64\n",
      "\n",
      "Relationship\n",
      " Husband           13193\n",
      " Not-in-family      8305\n",
      " Own-child          5068\n",
      " Unmarried          3446\n",
      " Wife               1568\n",
      " Other-relative      981\n",
      "Name: Relationship, dtype: int64\n",
      "\n",
      "Ethnic group\n",
      " White                 27816\n",
      " Black                  3124\n",
      " Asian-Pac-Islander     1039\n",
      " Amer-Indian-Eskimo      311\n",
      " Other                   271\n",
      "Name: Ethnic group, dtype: int64\n",
      "\n",
      "Sex\n",
      " Male      21790\n",
      " Female    10771\n",
      "Name: Sex, dtype: int64\n",
      "\n",
      "Country\n",
      " United-States                 29170\n",
      " Mexico                          643\n",
      " ?                               583\n",
      " Philippines                     198\n",
      " Germany                         137\n",
      " Canada                          121\n",
      " Puerto-Rico                     114\n",
      " El-Salvador                     106\n",
      " India                           100\n",
      " Cuba                             95\n",
      " England                          90\n",
      " Jamaica                          81\n",
      " South                            80\n",
      " China                            75\n",
      " Italy                            73\n",
      " Dominican-Republic               70\n",
      " Vietnam                          67\n",
      " Guatemala                        64\n",
      " Japan                            62\n",
      " Poland                           60\n",
      " Columbia                         59\n",
      " Taiwan                           51\n",
      " Haiti                            44\n",
      " Iran                             43\n",
      " Portugal                         37\n",
      " Nicaragua                        34\n",
      " Peru                             31\n",
      " France                           29\n",
      " Greece                           29\n",
      " Ecuador                          28\n",
      " Ireland                          24\n",
      " Hong                             20\n",
      " Cambodia                         19\n",
      " Trinadad&Tobago                  19\n",
      " Laos                             18\n",
      " Thailand                         18\n",
      " Yugoslavia                       16\n",
      " Outlying-US(Guam-USVI-etc)       14\n",
      " Honduras                         13\n",
      " Hungary                          13\n",
      " Scotland                         12\n",
      " Holand-Netherlands                1\n",
      "Name: Country, dtype: int64\n",
      "\n"
     ]
    }
   ],
   "source": [
    "for col in categorical_features_list:\n",
    "    print(f'{col}\\n{df[col].value_counts()}\\n')"
   ]
  },
  {
   "cell_type": "markdown",
   "id": "ca1d7e93",
   "metadata": {},
   "source": [
    "As in the whole dataset (X) we have only one 'Holand-Netherlands' value in 'Country' column, we have to process it separately, because in case if it appears in the test set, model will not be able to predict target for such a record. For the initial model, where there are no changes in data, this observation will be removed"
   ]
  },
  {
   "cell_type": "code",
   "execution_count": 7,
   "id": "b3d8faad",
   "metadata": {},
   "outputs": [
    {
     "name": "stdout",
     "output_type": "stream",
     "text": [
      "(32561, 14)\n",
      "(32560, 14)\n"
     ]
    }
   ],
   "source": [
    "print(df.shape)\n",
    "df.drop(df.loc[df['Country']==' Holand-Netherlands'].index, inplace=True)\n",
    "print(df.shape)"
   ]
  },
  {
   "cell_type": "code",
   "execution_count": 8,
   "id": "1c9a0f5c",
   "metadata": {},
   "outputs": [],
   "source": [
    "X_df = df.drop(['Income'], axis = 'columns')\n",
    "y_df = df['Income']"
   ]
  },
  {
   "cell_type": "code",
   "execution_count": 9,
   "id": "62b255ba",
   "metadata": {},
   "outputs": [],
   "source": [
    "X, X_test, y, y_test = train_test_split(X_df, y_df, test_size= 0.2)"
   ]
  },
  {
   "cell_type": "markdown",
   "id": "6ea72a8d",
   "metadata": {},
   "source": [
    "## 1. Features preprocessing"
   ]
  },
  {
   "cell_type": "markdown",
   "id": "c5d9129e",
   "metadata": {},
   "source": [
    "First all variables have to be transformed to numerical format to feed them to Logit function:"
   ]
  },
  {
   "cell_type": "code",
   "execution_count": 10,
   "id": "20777e59",
   "metadata": {},
   "outputs": [],
   "source": [
    "X_train = X.copy()\n",
    "y_train = y.copy()"
   ]
  },
  {
   "cell_type": "code",
   "execution_count": 11,
   "id": "d9d3479e",
   "metadata": {},
   "outputs": [
    {
     "data": {
      "text/html": [
       "<div>\n",
       "<style scoped>\n",
       "    .dataframe tbody tr th:only-of-type {\n",
       "        vertical-align: middle;\n",
       "    }\n",
       "\n",
       "    .dataframe tbody tr th {\n",
       "        vertical-align: top;\n",
       "    }\n",
       "\n",
       "    .dataframe thead th {\n",
       "        text-align: right;\n",
       "    }\n",
       "</style>\n",
       "<table border=\"1\" class=\"dataframe\">\n",
       "  <thead>\n",
       "    <tr style=\"text-align: right;\">\n",
       "      <th></th>\n",
       "      <th>Age</th>\n",
       "      <th>Workclass</th>\n",
       "      <th>final weight</th>\n",
       "      <th>Education</th>\n",
       "      <th>Marital Status</th>\n",
       "      <th>Occupation</th>\n",
       "      <th>Relationship</th>\n",
       "      <th>Ethnic group</th>\n",
       "      <th>Sex</th>\n",
       "      <th>Capital Gain</th>\n",
       "      <th>Capital Loss</th>\n",
       "      <th>Hours per week</th>\n",
       "      <th>Country</th>\n",
       "    </tr>\n",
       "  </thead>\n",
       "  <tbody>\n",
       "    <tr>\n",
       "      <th>20788</th>\n",
       "      <td>51</td>\n",
       "      <td>Private</td>\n",
       "      <td>24344</td>\n",
       "      <td>Assoc-acdm</td>\n",
       "      <td>Never-married</td>\n",
       "      <td>Adm-clerical</td>\n",
       "      <td>Not-in-family</td>\n",
       "      <td>White</td>\n",
       "      <td>Female</td>\n",
       "      <td>0</td>\n",
       "      <td>0</td>\n",
       "      <td>40</td>\n",
       "      <td>United-States</td>\n",
       "    </tr>\n",
       "    <tr>\n",
       "      <th>1933</th>\n",
       "      <td>25</td>\n",
       "      <td>Private</td>\n",
       "      <td>211231</td>\n",
       "      <td>HS-grad</td>\n",
       "      <td>Married-civ-spouse</td>\n",
       "      <td>Tech-support</td>\n",
       "      <td>Other-relative</td>\n",
       "      <td>White</td>\n",
       "      <td>Female</td>\n",
       "      <td>0</td>\n",
       "      <td>0</td>\n",
       "      <td>48</td>\n",
       "      <td>United-States</td>\n",
       "    </tr>\n",
       "    <tr>\n",
       "      <th>12656</th>\n",
       "      <td>20</td>\n",
       "      <td>Private</td>\n",
       "      <td>299399</td>\n",
       "      <td>Some-college</td>\n",
       "      <td>Never-married</td>\n",
       "      <td>Sales</td>\n",
       "      <td>Own-child</td>\n",
       "      <td>White</td>\n",
       "      <td>Female</td>\n",
       "      <td>0</td>\n",
       "      <td>0</td>\n",
       "      <td>20</td>\n",
       "      <td>United-States</td>\n",
       "    </tr>\n",
       "    <tr>\n",
       "      <th>3478</th>\n",
       "      <td>35</td>\n",
       "      <td>Private</td>\n",
       "      <td>340428</td>\n",
       "      <td>Bachelors</td>\n",
       "      <td>Never-married</td>\n",
       "      <td>Sales</td>\n",
       "      <td>Unmarried</td>\n",
       "      <td>White</td>\n",
       "      <td>Female</td>\n",
       "      <td>0</td>\n",
       "      <td>0</td>\n",
       "      <td>40</td>\n",
       "      <td>United-States</td>\n",
       "    </tr>\n",
       "    <tr>\n",
       "      <th>12129</th>\n",
       "      <td>33</td>\n",
       "      <td>Private</td>\n",
       "      <td>70447</td>\n",
       "      <td>HS-grad</td>\n",
       "      <td>Never-married</td>\n",
       "      <td>Transport-moving</td>\n",
       "      <td>Other-relative</td>\n",
       "      <td>Asian-Pac-Islander</td>\n",
       "      <td>Male</td>\n",
       "      <td>0</td>\n",
       "      <td>0</td>\n",
       "      <td>40</td>\n",
       "      <td>United-States</td>\n",
       "    </tr>\n",
       "  </tbody>\n",
       "</table>\n",
       "</div>"
      ],
      "text/plain": [
       "       Age Workclass  final weight      Education       Marital Status  \\\n",
       "20788   51   Private         24344     Assoc-acdm        Never-married   \n",
       "1933    25   Private        211231        HS-grad   Married-civ-spouse   \n",
       "12656   20   Private        299399   Some-college        Never-married   \n",
       "3478    35   Private        340428      Bachelors        Never-married   \n",
       "12129   33   Private         70447        HS-grad        Never-married   \n",
       "\n",
       "              Occupation     Relationship         Ethnic group      Sex  \\\n",
       "20788       Adm-clerical    Not-in-family                White   Female   \n",
       "1933        Tech-support   Other-relative                White   Female   \n",
       "12656              Sales        Own-child                White   Female   \n",
       "3478               Sales        Unmarried                White   Female   \n",
       "12129   Transport-moving   Other-relative   Asian-Pac-Islander     Male   \n",
       "\n",
       "       Capital Gain  Capital Loss  Hours per week         Country  \n",
       "20788             0             0              40   United-States  \n",
       "1933              0             0              48   United-States  \n",
       "12656             0             0              20   United-States  \n",
       "3478              0             0              40   United-States  \n",
       "12129             0             0              40   United-States  "
      ]
     },
     "execution_count": 11,
     "metadata": {},
     "output_type": "execute_result"
    }
   ],
   "source": [
    "X_train.head()"
   ]
  },
  {
   "cell_type": "markdown",
   "id": "8038a48a",
   "metadata": {},
   "source": [
    "In this dataset we have only one feature, where the order matters - Education. Let's transform it using OrdinalEncoder. For all the rest of categorical features the order does not matter, hense we can apply OneHotEncoder() to them"
   ]
  },
  {
   "cell_type": "markdown",
   "id": "22fd98fd",
   "metadata": {},
   "source": [
    "## Initial model without changes in data"
   ]
  },
  {
   "cell_type": "code",
   "execution_count": 12,
   "id": "78b72f9d",
   "metadata": {},
   "outputs": [],
   "source": [
    "numerical_features_list = ['Age', 'final weight', 'Capital Gain', 'Capital Loss']"
   ]
  },
  {
   "cell_type": "code",
   "execution_count": 13,
   "id": "208d0ab3",
   "metadata": {},
   "outputs": [],
   "source": [
    "columntransformer = ColumnTransformer(transformers = [\n",
    "    ('ordinal', OrdinalEncoder(categories=[[' Preschool',' 1st-4th',' 5th-6th',' 7th-8th',' 9th',' 10th',' 11th',\n",
    "                                      ' 12th',' HS-grad',' Some-college',' Assoc-voc',' Assoc-acdm', \n",
    "                                      ' Bachelors',' Masters',' Prof-school',' Doctorate']]),\n",
    "     make_column_selector(pattern = 'Education')),\n",
    "    ('stand scaler', StandardScaler(), numerical_features_list),\n",
    "    ('onehot', OneHotEncoder(dtype='int', drop='first'), categorical_features_list)],\n",
    "    remainder='drop')"
   ]
  },
  {
   "cell_type": "code",
   "execution_count": 14,
   "id": "02efffe0",
   "metadata": {},
   "outputs": [],
   "source": [
    "full_pipe = make_pipeline(columntransformer,\n",
    "                          LogisticRegression(max_iter=500))"
   ]
  },
  {
   "cell_type": "code",
   "execution_count": 15,
   "id": "0378257c",
   "metadata": {},
   "outputs": [
    {
     "data": {
      "text/html": [
       "<style>#sk-container-id-1 {color: black;background-color: white;}#sk-container-id-1 pre{padding: 0;}#sk-container-id-1 div.sk-toggleable {background-color: white;}#sk-container-id-1 label.sk-toggleable__label {cursor: pointer;display: block;width: 100%;margin-bottom: 0;padding: 0.3em;box-sizing: border-box;text-align: center;}#sk-container-id-1 label.sk-toggleable__label-arrow:before {content: \"▸\";float: left;margin-right: 0.25em;color: #696969;}#sk-container-id-1 label.sk-toggleable__label-arrow:hover:before {color: black;}#sk-container-id-1 div.sk-estimator:hover label.sk-toggleable__label-arrow:before {color: black;}#sk-container-id-1 div.sk-toggleable__content {max-height: 0;max-width: 0;overflow: hidden;text-align: left;background-color: #f0f8ff;}#sk-container-id-1 div.sk-toggleable__content pre {margin: 0.2em;color: black;border-radius: 0.25em;background-color: #f0f8ff;}#sk-container-id-1 input.sk-toggleable__control:checked~div.sk-toggleable__content {max-height: 200px;max-width: 100%;overflow: auto;}#sk-container-id-1 input.sk-toggleable__control:checked~label.sk-toggleable__label-arrow:before {content: \"▾\";}#sk-container-id-1 div.sk-estimator input.sk-toggleable__control:checked~label.sk-toggleable__label {background-color: #d4ebff;}#sk-container-id-1 div.sk-label input.sk-toggleable__control:checked~label.sk-toggleable__label {background-color: #d4ebff;}#sk-container-id-1 input.sk-hidden--visually {border: 0;clip: rect(1px 1px 1px 1px);clip: rect(1px, 1px, 1px, 1px);height: 1px;margin: -1px;overflow: hidden;padding: 0;position: absolute;width: 1px;}#sk-container-id-1 div.sk-estimator {font-family: monospace;background-color: #f0f8ff;border: 1px dotted black;border-radius: 0.25em;box-sizing: border-box;margin-bottom: 0.5em;}#sk-container-id-1 div.sk-estimator:hover {background-color: #d4ebff;}#sk-container-id-1 div.sk-parallel-item::after {content: \"\";width: 100%;border-bottom: 1px solid gray;flex-grow: 1;}#sk-container-id-1 div.sk-label:hover label.sk-toggleable__label {background-color: #d4ebff;}#sk-container-id-1 div.sk-serial::before {content: \"\";position: absolute;border-left: 1px solid gray;box-sizing: border-box;top: 0;bottom: 0;left: 50%;z-index: 0;}#sk-container-id-1 div.sk-serial {display: flex;flex-direction: column;align-items: center;background-color: white;padding-right: 0.2em;padding-left: 0.2em;position: relative;}#sk-container-id-1 div.sk-item {position: relative;z-index: 1;}#sk-container-id-1 div.sk-parallel {display: flex;align-items: stretch;justify-content: center;background-color: white;position: relative;}#sk-container-id-1 div.sk-item::before, #sk-container-id-1 div.sk-parallel-item::before {content: \"\";position: absolute;border-left: 1px solid gray;box-sizing: border-box;top: 0;bottom: 0;left: 50%;z-index: -1;}#sk-container-id-1 div.sk-parallel-item {display: flex;flex-direction: column;z-index: 1;position: relative;background-color: white;}#sk-container-id-1 div.sk-parallel-item:first-child::after {align-self: flex-end;width: 50%;}#sk-container-id-1 div.sk-parallel-item:last-child::after {align-self: flex-start;width: 50%;}#sk-container-id-1 div.sk-parallel-item:only-child::after {width: 0;}#sk-container-id-1 div.sk-dashed-wrapped {border: 1px dashed gray;margin: 0 0.4em 0.5em 0.4em;box-sizing: border-box;padding-bottom: 0.4em;background-color: white;}#sk-container-id-1 div.sk-label label {font-family: monospace;font-weight: bold;display: inline-block;line-height: 1.2em;}#sk-container-id-1 div.sk-label-container {text-align: center;}#sk-container-id-1 div.sk-container {/* jupyter's `normalize.less` sets `[hidden] { display: none; }` but bootstrap.min.css set `[hidden] { display: none !important; }` so we also need the `!important` here to be able to override the default hidden behavior on the sphinx rendered scikit-learn.org. See: https://github.com/scikit-learn/scikit-learn/issues/21755 */display: inline-block !important;position: relative;}#sk-container-id-1 div.sk-text-repr-fallback {display: none;}</style><div id=\"sk-container-id-1\" class=\"sk-top-container\"><div class=\"sk-text-repr-fallback\"><pre>Pipeline(steps=[(&#x27;columntransformer&#x27;,\n",
       "                 ColumnTransformer(transformers=[(&#x27;ordinal&#x27;,\n",
       "                                                  OrdinalEncoder(categories=[[&#x27; &#x27;\n",
       "                                                                              &#x27;Preschool&#x27;,\n",
       "                                                                              &#x27; &#x27;\n",
       "                                                                              &#x27;1st-4th&#x27;,\n",
       "                                                                              &#x27; &#x27;\n",
       "                                                                              &#x27;5th-6th&#x27;,\n",
       "                                                                              &#x27; &#x27;\n",
       "                                                                              &#x27;7th-8th&#x27;,\n",
       "                                                                              &#x27; &#x27;\n",
       "                                                                              &#x27;9th&#x27;,\n",
       "                                                                              &#x27; &#x27;\n",
       "                                                                              &#x27;10th&#x27;,\n",
       "                                                                              &#x27; &#x27;\n",
       "                                                                              &#x27;11th&#x27;,\n",
       "                                                                              &#x27; &#x27;\n",
       "                                                                              &#x27;12th&#x27;,\n",
       "                                                                              &#x27; &#x27;\n",
       "                                                                              &#x27;HS-grad&#x27;,\n",
       "                                                                              &#x27; &#x27;\n",
       "                                                                              &#x27;Some-college&#x27;,\n",
       "                                                                              &#x27; &#x27;\n",
       "                                                                              &#x27;Assoc-voc&#x27;,\n",
       "                                                                              &#x27; &#x27;\n",
       "                                                                              &#x27;Assoc-acdm&#x27;,\n",
       "                                                                              &#x27; &#x27;\n",
       "                                                                              &#x27;Bachelors&#x27;,\n",
       "                                                                              &#x27; &#x27;\n",
       "                                                                              &#x27;Masters&#x27;,\n",
       "                                                                              &#x27; &#x27;\n",
       "                                                                              &#x27;Prof-school&#x27;,\n",
       "                                                                              &#x27; &#x27;\n",
       "                                                                              &#x27;Doctorate&#x27;]]),\n",
       "                                                  &lt;sklearn.compose._column_transformer.make_column_selector object at 0x16f06a730&gt;),\n",
       "                                                 (&#x27;stand scaler&#x27;,\n",
       "                                                  StandardScaler(),\n",
       "                                                  [&#x27;Age&#x27;, &#x27;final weight&#x27;,\n",
       "                                                   &#x27;Capital Gain&#x27;,\n",
       "                                                   &#x27;Capital Loss&#x27;]),\n",
       "                                                 (&#x27;onehot&#x27;,\n",
       "                                                  OneHotEncoder(drop=&#x27;first&#x27;,\n",
       "                                                                dtype=&#x27;int&#x27;),\n",
       "                                                  [&#x27;Workclass&#x27;,\n",
       "                                                   &#x27;Marital Status&#x27;,\n",
       "                                                   &#x27;Occupation&#x27;, &#x27;Relationship&#x27;,\n",
       "                                                   &#x27;Ethnic group&#x27;, &#x27;Sex&#x27;,\n",
       "                                                   &#x27;Country&#x27;])])),\n",
       "                (&#x27;logisticregression&#x27;, LogisticRegression(max_iter=500))])</pre><b>In a Jupyter environment, please rerun this cell to show the HTML representation or trust the notebook. <br />On GitHub, the HTML representation is unable to render, please try loading this page with nbviewer.org.</b></div><div class=\"sk-container\" hidden><div class=\"sk-item sk-dashed-wrapped\"><div class=\"sk-label-container\"><div class=\"sk-label sk-toggleable\"><input class=\"sk-toggleable__control sk-hidden--visually\" id=\"sk-estimator-id-1\" type=\"checkbox\" ><label for=\"sk-estimator-id-1\" class=\"sk-toggleable__label sk-toggleable__label-arrow\">Pipeline</label><div class=\"sk-toggleable__content\"><pre>Pipeline(steps=[(&#x27;columntransformer&#x27;,\n",
       "                 ColumnTransformer(transformers=[(&#x27;ordinal&#x27;,\n",
       "                                                  OrdinalEncoder(categories=[[&#x27; &#x27;\n",
       "                                                                              &#x27;Preschool&#x27;,\n",
       "                                                                              &#x27; &#x27;\n",
       "                                                                              &#x27;1st-4th&#x27;,\n",
       "                                                                              &#x27; &#x27;\n",
       "                                                                              &#x27;5th-6th&#x27;,\n",
       "                                                                              &#x27; &#x27;\n",
       "                                                                              &#x27;7th-8th&#x27;,\n",
       "                                                                              &#x27; &#x27;\n",
       "                                                                              &#x27;9th&#x27;,\n",
       "                                                                              &#x27; &#x27;\n",
       "                                                                              &#x27;10th&#x27;,\n",
       "                                                                              &#x27; &#x27;\n",
       "                                                                              &#x27;11th&#x27;,\n",
       "                                                                              &#x27; &#x27;\n",
       "                                                                              &#x27;12th&#x27;,\n",
       "                                                                              &#x27; &#x27;\n",
       "                                                                              &#x27;HS-grad&#x27;,\n",
       "                                                                              &#x27; &#x27;\n",
       "                                                                              &#x27;Some-college&#x27;,\n",
       "                                                                              &#x27; &#x27;\n",
       "                                                                              &#x27;Assoc-voc&#x27;,\n",
       "                                                                              &#x27; &#x27;\n",
       "                                                                              &#x27;Assoc-acdm&#x27;,\n",
       "                                                                              &#x27; &#x27;\n",
       "                                                                              &#x27;Bachelors&#x27;,\n",
       "                                                                              &#x27; &#x27;\n",
       "                                                                              &#x27;Masters&#x27;,\n",
       "                                                                              &#x27; &#x27;\n",
       "                                                                              &#x27;Prof-school&#x27;,\n",
       "                                                                              &#x27; &#x27;\n",
       "                                                                              &#x27;Doctorate&#x27;]]),\n",
       "                                                  &lt;sklearn.compose._column_transformer.make_column_selector object at 0x16f06a730&gt;),\n",
       "                                                 (&#x27;stand scaler&#x27;,\n",
       "                                                  StandardScaler(),\n",
       "                                                  [&#x27;Age&#x27;, &#x27;final weight&#x27;,\n",
       "                                                   &#x27;Capital Gain&#x27;,\n",
       "                                                   &#x27;Capital Loss&#x27;]),\n",
       "                                                 (&#x27;onehot&#x27;,\n",
       "                                                  OneHotEncoder(drop=&#x27;first&#x27;,\n",
       "                                                                dtype=&#x27;int&#x27;),\n",
       "                                                  [&#x27;Workclass&#x27;,\n",
       "                                                   &#x27;Marital Status&#x27;,\n",
       "                                                   &#x27;Occupation&#x27;, &#x27;Relationship&#x27;,\n",
       "                                                   &#x27;Ethnic group&#x27;, &#x27;Sex&#x27;,\n",
       "                                                   &#x27;Country&#x27;])])),\n",
       "                (&#x27;logisticregression&#x27;, LogisticRegression(max_iter=500))])</pre></div></div></div><div class=\"sk-serial\"><div class=\"sk-item sk-dashed-wrapped\"><div class=\"sk-label-container\"><div class=\"sk-label sk-toggleable\"><input class=\"sk-toggleable__control sk-hidden--visually\" id=\"sk-estimator-id-2\" type=\"checkbox\" ><label for=\"sk-estimator-id-2\" class=\"sk-toggleable__label sk-toggleable__label-arrow\">columntransformer: ColumnTransformer</label><div class=\"sk-toggleable__content\"><pre>ColumnTransformer(transformers=[(&#x27;ordinal&#x27;,\n",
       "                                 OrdinalEncoder(categories=[[&#x27; Preschool&#x27;,\n",
       "                                                             &#x27; 1st-4th&#x27;,\n",
       "                                                             &#x27; 5th-6th&#x27;,\n",
       "                                                             &#x27; 7th-8th&#x27;, &#x27; 9th&#x27;,\n",
       "                                                             &#x27; 10th&#x27;, &#x27; 11th&#x27;,\n",
       "                                                             &#x27; 12th&#x27;,\n",
       "                                                             &#x27; HS-grad&#x27;,\n",
       "                                                             &#x27; Some-college&#x27;,\n",
       "                                                             &#x27; Assoc-voc&#x27;,\n",
       "                                                             &#x27; Assoc-acdm&#x27;,\n",
       "                                                             &#x27; Bachelors&#x27;,\n",
       "                                                             &#x27; Masters&#x27;,\n",
       "                                                             &#x27; Prof-school&#x27;,\n",
       "                                                             &#x27; Doctorate&#x27;]]),\n",
       "                                 &lt;sklearn.compose._column_transformer.make_column_selector object at 0x16f06a730&gt;),\n",
       "                                (&#x27;stand scaler&#x27;, StandardScaler(),\n",
       "                                 [&#x27;Age&#x27;, &#x27;final weight&#x27;, &#x27;Capital Gain&#x27;,\n",
       "                                  &#x27;Capital Loss&#x27;]),\n",
       "                                (&#x27;onehot&#x27;,\n",
       "                                 OneHotEncoder(drop=&#x27;first&#x27;, dtype=&#x27;int&#x27;),\n",
       "                                 [&#x27;Workclass&#x27;, &#x27;Marital Status&#x27;, &#x27;Occupation&#x27;,\n",
       "                                  &#x27;Relationship&#x27;, &#x27;Ethnic group&#x27;, &#x27;Sex&#x27;,\n",
       "                                  &#x27;Country&#x27;])])</pre></div></div></div><div class=\"sk-parallel\"><div class=\"sk-parallel-item\"><div class=\"sk-item\"><div class=\"sk-label-container\"><div class=\"sk-label sk-toggleable\"><input class=\"sk-toggleable__control sk-hidden--visually\" id=\"sk-estimator-id-3\" type=\"checkbox\" ><label for=\"sk-estimator-id-3\" class=\"sk-toggleable__label sk-toggleable__label-arrow\">ordinal</label><div class=\"sk-toggleable__content\"><pre>&lt;sklearn.compose._column_transformer.make_column_selector object at 0x16f06a730&gt;</pre></div></div></div><div class=\"sk-serial\"><div class=\"sk-item\"><div class=\"sk-estimator sk-toggleable\"><input class=\"sk-toggleable__control sk-hidden--visually\" id=\"sk-estimator-id-4\" type=\"checkbox\" ><label for=\"sk-estimator-id-4\" class=\"sk-toggleable__label sk-toggleable__label-arrow\">OrdinalEncoder</label><div class=\"sk-toggleable__content\"><pre>OrdinalEncoder(categories=[[&#x27; Preschool&#x27;, &#x27; 1st-4th&#x27;, &#x27; 5th-6th&#x27;, &#x27; 7th-8th&#x27;,\n",
       "                            &#x27; 9th&#x27;, &#x27; 10th&#x27;, &#x27; 11th&#x27;, &#x27; 12th&#x27;, &#x27; HS-grad&#x27;,\n",
       "                            &#x27; Some-college&#x27;, &#x27; Assoc-voc&#x27;, &#x27; Assoc-acdm&#x27;,\n",
       "                            &#x27; Bachelors&#x27;, &#x27; Masters&#x27;, &#x27; Prof-school&#x27;,\n",
       "                            &#x27; Doctorate&#x27;]])</pre></div></div></div></div></div></div><div class=\"sk-parallel-item\"><div class=\"sk-item\"><div class=\"sk-label-container\"><div class=\"sk-label sk-toggleable\"><input class=\"sk-toggleable__control sk-hidden--visually\" id=\"sk-estimator-id-5\" type=\"checkbox\" ><label for=\"sk-estimator-id-5\" class=\"sk-toggleable__label sk-toggleable__label-arrow\">stand scaler</label><div class=\"sk-toggleable__content\"><pre>[&#x27;Age&#x27;, &#x27;final weight&#x27;, &#x27;Capital Gain&#x27;, &#x27;Capital Loss&#x27;]</pre></div></div></div><div class=\"sk-serial\"><div class=\"sk-item\"><div class=\"sk-estimator sk-toggleable\"><input class=\"sk-toggleable__control sk-hidden--visually\" id=\"sk-estimator-id-6\" type=\"checkbox\" ><label for=\"sk-estimator-id-6\" class=\"sk-toggleable__label sk-toggleable__label-arrow\">StandardScaler</label><div class=\"sk-toggleable__content\"><pre>StandardScaler()</pre></div></div></div></div></div></div><div class=\"sk-parallel-item\"><div class=\"sk-item\"><div class=\"sk-label-container\"><div class=\"sk-label sk-toggleable\"><input class=\"sk-toggleable__control sk-hidden--visually\" id=\"sk-estimator-id-7\" type=\"checkbox\" ><label for=\"sk-estimator-id-7\" class=\"sk-toggleable__label sk-toggleable__label-arrow\">onehot</label><div class=\"sk-toggleable__content\"><pre>[&#x27;Workclass&#x27;, &#x27;Marital Status&#x27;, &#x27;Occupation&#x27;, &#x27;Relationship&#x27;, &#x27;Ethnic group&#x27;, &#x27;Sex&#x27;, &#x27;Country&#x27;]</pre></div></div></div><div class=\"sk-serial\"><div class=\"sk-item\"><div class=\"sk-estimator sk-toggleable\"><input class=\"sk-toggleable__control sk-hidden--visually\" id=\"sk-estimator-id-8\" type=\"checkbox\" ><label for=\"sk-estimator-id-8\" class=\"sk-toggleable__label sk-toggleable__label-arrow\">OneHotEncoder</label><div class=\"sk-toggleable__content\"><pre>OneHotEncoder(drop=&#x27;first&#x27;, dtype=&#x27;int&#x27;)</pre></div></div></div></div></div></div></div></div><div class=\"sk-item\"><div class=\"sk-estimator sk-toggleable\"><input class=\"sk-toggleable__control sk-hidden--visually\" id=\"sk-estimator-id-9\" type=\"checkbox\" ><label for=\"sk-estimator-id-9\" class=\"sk-toggleable__label sk-toggleable__label-arrow\">LogisticRegression</label><div class=\"sk-toggleable__content\"><pre>LogisticRegression(max_iter=500)</pre></div></div></div></div></div></div></div>"
      ],
      "text/plain": [
       "Pipeline(steps=[('columntransformer',\n",
       "                 ColumnTransformer(transformers=[('ordinal',\n",
       "                                                  OrdinalEncoder(categories=[[' '\n",
       "                                                                              'Preschool',\n",
       "                                                                              ' '\n",
       "                                                                              '1st-4th',\n",
       "                                                                              ' '\n",
       "                                                                              '5th-6th',\n",
       "                                                                              ' '\n",
       "                                                                              '7th-8th',\n",
       "                                                                              ' '\n",
       "                                                                              '9th',\n",
       "                                                                              ' '\n",
       "                                                                              '10th',\n",
       "                                                                              ' '\n",
       "                                                                              '11th',\n",
       "                                                                              ' '\n",
       "                                                                              '12th',\n",
       "                                                                              ' '\n",
       "                                                                              'HS-grad',\n",
       "                                                                              ' '\n",
       "                                                                              'Some-college',\n",
       "                                                                              ' '\n",
       "                                                                              'Assoc-voc',\n",
       "                                                                              ' '\n",
       "                                                                              'Assoc-acdm',\n",
       "                                                                              ' '\n",
       "                                                                              'Bachelors',\n",
       "                                                                              ' '\n",
       "                                                                              'Masters',\n",
       "                                                                              ' '\n",
       "                                                                              'Prof-school',\n",
       "                                                                              ' '\n",
       "                                                                              'Doctorate']]),\n",
       "                                                  <sklearn.compose._column_transformer.make_column_selector object at 0x16f06a730>),\n",
       "                                                 ('stand scaler',\n",
       "                                                  StandardScaler(),\n",
       "                                                  ['Age', 'final weight',\n",
       "                                                   'Capital Gain',\n",
       "                                                   'Capital Loss']),\n",
       "                                                 ('onehot',\n",
       "                                                  OneHotEncoder(drop='first',\n",
       "                                                                dtype='int'),\n",
       "                                                  ['Workclass',\n",
       "                                                   'Marital Status',\n",
       "                                                   'Occupation', 'Relationship',\n",
       "                                                   'Ethnic group', 'Sex',\n",
       "                                                   'Country'])])),\n",
       "                ('logisticregression', LogisticRegression(max_iter=500))])"
      ]
     },
     "execution_count": 15,
     "metadata": {},
     "output_type": "execute_result"
    }
   ],
   "source": [
    "set_config(display=\"diagram\")\n",
    "full_pipe"
   ]
  },
  {
   "cell_type": "code",
   "execution_count": 16,
   "id": "7382edec",
   "metadata": {},
   "outputs": [],
   "source": [
    "first = full_pipe.fit(X_train, y_train)"
   ]
  },
  {
   "cell_type": "code",
   "execution_count": 17,
   "id": "c9b6ffc4",
   "metadata": {},
   "outputs": [
    {
     "data": {
      "text/plain": [
       "array([' <=50K', ' <=50K', ' <=50K', ..., ' <=50K', ' <=50K', ' <=50K'],\n",
       "      dtype=object)"
      ]
     },
     "execution_count": 17,
     "metadata": {},
     "output_type": "execute_result"
    }
   ],
   "source": [
    "y_pred = first.predict(X_train)\n",
    "y_pred"
   ]
  },
  {
   "cell_type": "code",
   "execution_count": 18,
   "id": "21a5e487",
   "metadata": {},
   "outputs": [],
   "source": [
    "scores = cross_val_score(first, X_train, y_train, cv=5, scoring='f1_macro')"
   ]
  },
  {
   "cell_type": "code",
   "execution_count": 19,
   "id": "a078dede",
   "metadata": {},
   "outputs": [
    {
     "name": "stdout",
     "output_type": "stream",
     "text": [
      "f1 score: mean = 0.78 | std = 0.0\n"
     ]
    }
   ],
   "source": [
    "print(f\"f1 score: mean = {round(np.mean(scores),2)} | std = {round(np.std(scores),2)}\")"
   ]
  },
  {
   "cell_type": "code",
   "execution_count": 20,
   "id": "16cc18f3",
   "metadata": {},
   "outputs": [
    {
     "name": "stdout",
     "output_type": "stream",
     "text": [
      "              precision    recall  f1-score   support\n",
      "\n",
      "       <=50K       0.88      0.93      0.90     19748\n",
      "        >50K       0.73      0.60      0.66      6300\n",
      "\n",
      "    accuracy                           0.85     26048\n",
      "   macro avg       0.81      0.76      0.78     26048\n",
      "weighted avg       0.84      0.85      0.84     26048\n",
      "\n"
     ]
    }
   ],
   "source": [
    "print(classification_report(y_train, y_pred, target_names=y_train.unique()))"
   ]
  },
  {
   "cell_type": "markdown",
   "id": "5ee9ef56",
   "metadata": {},
   "source": [
    "## Same model, but without 'final weight'"
   ]
  },
  {
   "cell_type": "code",
   "execution_count": 21,
   "id": "55d54c0f",
   "metadata": {},
   "outputs": [],
   "source": [
    "numerical_features_list = ['Age', 'Capital Gain', 'Capital Loss']"
   ]
  },
  {
   "cell_type": "code",
   "execution_count": 22,
   "id": "43206fd5",
   "metadata": {},
   "outputs": [],
   "source": [
    "columntransformer = ColumnTransformer(transformers = [\n",
    "    ('ordinal', OrdinalEncoder(categories=[[' Preschool',' 1st-4th',' 5th-6th',' 7th-8th',' 9th',' 10th',' 11th',\n",
    "                                      ' 12th',' HS-grad',' Some-college',' Assoc-voc',' Assoc-acdm', \n",
    "                                      ' Bachelors',' Masters',' Prof-school',' Doctorate']]),\n",
    "     make_column_selector(pattern = 'Education')),\n",
    "    ('stand scaler', StandardScaler(), numerical_features_list),\n",
    "    ('onehot', OneHotEncoder(dtype='int', drop='first'), categorical_features_list)],\n",
    "    remainder='drop')"
   ]
  },
  {
   "cell_type": "code",
   "execution_count": 23,
   "id": "20ed71b1",
   "metadata": {},
   "outputs": [],
   "source": [
    "full_pipe = make_pipeline(columntransformer,\n",
    "                          LogisticRegression(max_iter=500))"
   ]
  },
  {
   "cell_type": "code",
   "execution_count": 24,
   "id": "aca25f02",
   "metadata": {},
   "outputs": [],
   "source": [
    "second = full_pipe.fit(X_train, y_train)"
   ]
  },
  {
   "cell_type": "code",
   "execution_count": 25,
   "id": "c98d5ad9",
   "metadata": {},
   "outputs": [
    {
     "data": {
      "text/plain": [
       "array([' <=50K', ' <=50K', ' <=50K', ..., ' <=50K', ' <=50K', ' <=50K'],\n",
       "      dtype=object)"
      ]
     },
     "execution_count": 25,
     "metadata": {},
     "output_type": "execute_result"
    }
   ],
   "source": [
    "y_pred = second.predict(X_train)\n",
    "y_pred"
   ]
  },
  {
   "cell_type": "code",
   "execution_count": 26,
   "id": "d195d491",
   "metadata": {},
   "outputs": [],
   "source": [
    "scores = cross_val_score(second, X_train, y_train, cv=5, scoring='f1_macro')"
   ]
  },
  {
   "cell_type": "code",
   "execution_count": 27,
   "id": "89f2c887",
   "metadata": {},
   "outputs": [
    {
     "name": "stdout",
     "output_type": "stream",
     "text": [
      "f1 score: mean = 0.78 | std = 0.0\n"
     ]
    }
   ],
   "source": [
    "print(f\"f1 score: mean = {round(np.mean(scores),2)} | std = {round(np.std(scores),2)}\")"
   ]
  },
  {
   "cell_type": "code",
   "execution_count": 28,
   "id": "97ca074c",
   "metadata": {
    "scrolled": true
   },
   "outputs": [
    {
     "name": "stdout",
     "output_type": "stream",
     "text": [
      "              precision    recall  f1-score   support\n",
      "\n",
      "       <=50K       0.88      0.93      0.90     19748\n",
      "        >50K       0.73      0.60      0.66      6300\n",
      "\n",
      "    accuracy                           0.85     26048\n",
      "   macro avg       0.81      0.76      0.78     26048\n",
      "weighted avg       0.84      0.85      0.84     26048\n",
      "\n"
     ]
    }
   ],
   "source": [
    "print(classification_report(y_train, y_pred, target_names=y_train.unique()))"
   ]
  },
  {
   "cell_type": "code",
   "execution_count": null,
   "id": "648fc611",
   "metadata": {},
   "outputs": [],
   "source": [
    "# feature_names = second.named_steps[\"columntransformer\"].get_feature_names_out()\n",
    "# coefs = second.named_steps[\"logisticregression\"].coef_.flatten()"
   ]
  },
  {
   "cell_type": "code",
   "execution_count": null,
   "id": "3b870705",
   "metadata": {
    "scrolled": true
   },
   "outputs": [],
   "source": [
    "# print(len(feature_names), len(coefs))"
   ]
  },
  {
   "cell_type": "code",
   "execution_count": null,
   "id": "0ce6c6e8",
   "metadata": {},
   "outputs": [],
   "source": [
    "# zipped = zip(feature_names, coefs)"
   ]
  },
  {
   "cell_type": "code",
   "execution_count": null,
   "id": "3a262467",
   "metadata": {},
   "outputs": [],
   "source": [
    "# df = pd.DataFrame(zipped, columns=[\"feature\", \"value\"])\n",
    "# df.head()"
   ]
  },
  {
   "cell_type": "code",
   "execution_count": null,
   "id": "a9bc078f",
   "metadata": {},
   "outputs": [],
   "source": [
    "# df[\"abs_value\"] = df[\"value\"].apply(lambda x: abs(x))\n",
    "# df[\"colors\"] = df[\"value\"].apply(lambda x: \"green\" if x > 0 else \"red\")\n",
    "# df = df.sort_values(\"abs_value\", ascending=False)"
   ]
  },
  {
   "cell_type": "code",
   "execution_count": null,
   "id": "05d35fae",
   "metadata": {},
   "outputs": [],
   "source": [
    "# fig, ax = plt.subplots(1, 1, figsize=(7, 12))\n",
    "# sns.barplot(x=\"value\",\n",
    "#             y=\"feature\",\n",
    "#             data=df,\n",
    "#            palette=df[\"colors\"])\n",
    "# ax.set_yticklabels(ax.get_yticklabels(), fontsize=7)\n",
    "# ax.set_title(\"Top Features\", fontsize=20)\n",
    "# ax.set_ylabel(\"Feature Name\", fontsize=15)\n",
    "# ax.set_xlabel(\"Coef\", fontsize=15)"
   ]
  },
  {
   "cell_type": "markdown",
   "id": "11943c1a",
   "metadata": {},
   "source": [
    "## Transform dataset with columntransformer to get significance of features with Logit()\n"
   ]
  },
  {
   "cell_type": "code",
   "execution_count": 29,
   "id": "2889123b",
   "metadata": {},
   "outputs": [],
   "source": [
    "numerical_features_list = ['Age', 'Capital Gain', 'Capital Loss']"
   ]
  },
  {
   "cell_type": "code",
   "execution_count": 30,
   "id": "45403d00",
   "metadata": {},
   "outputs": [],
   "source": [
    "categorical_features_list = ['Workclass', 'Marital Status', 'Occupation', \n",
    "                             'Relationship', 'Ethnic group', 'Sex', 'Country']"
   ]
  },
  {
   "cell_type": "code",
   "execution_count": 31,
   "id": "f2605ccb",
   "metadata": {},
   "outputs": [],
   "source": [
    "columntransformer1 = ColumnTransformer(transformers = [\n",
    "    ('ordinal', OrdinalEncoder(categories=[[' Preschool',' 1st-4th',' 5th-6th',' 7th-8th',' 9th',' 10th',' 11th',\n",
    "                                      ' 12th',' HS-grad',' Some-college',' Assoc-voc',' Assoc-acdm', \n",
    "                                      ' Bachelors',' Masters',' Prof-school',' Doctorate']]),\n",
    "     make_column_selector(pattern = 'Education')),\n",
    "    ('stand_scaler', StandardScaler(), numerical_features_list),\n",
    "    ('onehot', OneHotEncoder(dtype='int', drop='first'), categorical_features_list)],\n",
    "    remainder='drop')"
   ]
  },
  {
   "cell_type": "code",
   "execution_count": 32,
   "id": "b32910f5",
   "metadata": {},
   "outputs": [
    {
     "data": {
      "text/html": [
       "<div>\n",
       "<style scoped>\n",
       "    .dataframe tbody tr th:only-of-type {\n",
       "        vertical-align: middle;\n",
       "    }\n",
       "\n",
       "    .dataframe tbody tr th {\n",
       "        vertical-align: top;\n",
       "    }\n",
       "\n",
       "    .dataframe thead th {\n",
       "        text-align: right;\n",
       "    }\n",
       "</style>\n",
       "<table border=\"1\" class=\"dataframe\">\n",
       "  <thead>\n",
       "    <tr style=\"text-align: right;\">\n",
       "      <th></th>\n",
       "      <th>Age</th>\n",
       "      <th>Workclass</th>\n",
       "      <th>final weight</th>\n",
       "      <th>Education</th>\n",
       "      <th>Marital Status</th>\n",
       "      <th>Occupation</th>\n",
       "      <th>Relationship</th>\n",
       "      <th>Ethnic group</th>\n",
       "      <th>Sex</th>\n",
       "      <th>Capital Gain</th>\n",
       "      <th>Capital Loss</th>\n",
       "      <th>Hours per week</th>\n",
       "      <th>Country</th>\n",
       "    </tr>\n",
       "  </thead>\n",
       "  <tbody>\n",
       "    <tr>\n",
       "      <th>20788</th>\n",
       "      <td>51</td>\n",
       "      <td>Private</td>\n",
       "      <td>24344</td>\n",
       "      <td>Assoc-acdm</td>\n",
       "      <td>Never-married</td>\n",
       "      <td>Adm-clerical</td>\n",
       "      <td>Not-in-family</td>\n",
       "      <td>White</td>\n",
       "      <td>Female</td>\n",
       "      <td>0</td>\n",
       "      <td>0</td>\n",
       "      <td>40</td>\n",
       "      <td>United-States</td>\n",
       "    </tr>\n",
       "    <tr>\n",
       "      <th>1933</th>\n",
       "      <td>25</td>\n",
       "      <td>Private</td>\n",
       "      <td>211231</td>\n",
       "      <td>HS-grad</td>\n",
       "      <td>Married-civ-spouse</td>\n",
       "      <td>Tech-support</td>\n",
       "      <td>Other-relative</td>\n",
       "      <td>White</td>\n",
       "      <td>Female</td>\n",
       "      <td>0</td>\n",
       "      <td>0</td>\n",
       "      <td>48</td>\n",
       "      <td>United-States</td>\n",
       "    </tr>\n",
       "    <tr>\n",
       "      <th>12656</th>\n",
       "      <td>20</td>\n",
       "      <td>Private</td>\n",
       "      <td>299399</td>\n",
       "      <td>Some-college</td>\n",
       "      <td>Never-married</td>\n",
       "      <td>Sales</td>\n",
       "      <td>Own-child</td>\n",
       "      <td>White</td>\n",
       "      <td>Female</td>\n",
       "      <td>0</td>\n",
       "      <td>0</td>\n",
       "      <td>20</td>\n",
       "      <td>United-States</td>\n",
       "    </tr>\n",
       "    <tr>\n",
       "      <th>3478</th>\n",
       "      <td>35</td>\n",
       "      <td>Private</td>\n",
       "      <td>340428</td>\n",
       "      <td>Bachelors</td>\n",
       "      <td>Never-married</td>\n",
       "      <td>Sales</td>\n",
       "      <td>Unmarried</td>\n",
       "      <td>White</td>\n",
       "      <td>Female</td>\n",
       "      <td>0</td>\n",
       "      <td>0</td>\n",
       "      <td>40</td>\n",
       "      <td>United-States</td>\n",
       "    </tr>\n",
       "    <tr>\n",
       "      <th>12129</th>\n",
       "      <td>33</td>\n",
       "      <td>Private</td>\n",
       "      <td>70447</td>\n",
       "      <td>HS-grad</td>\n",
       "      <td>Never-married</td>\n",
       "      <td>Transport-moving</td>\n",
       "      <td>Other-relative</td>\n",
       "      <td>Asian-Pac-Islander</td>\n",
       "      <td>Male</td>\n",
       "      <td>0</td>\n",
       "      <td>0</td>\n",
       "      <td>40</td>\n",
       "      <td>United-States</td>\n",
       "    </tr>\n",
       "  </tbody>\n",
       "</table>\n",
       "</div>"
      ],
      "text/plain": [
       "       Age Workclass  final weight      Education       Marital Status  \\\n",
       "20788   51   Private         24344     Assoc-acdm        Never-married   \n",
       "1933    25   Private        211231        HS-grad   Married-civ-spouse   \n",
       "12656   20   Private        299399   Some-college        Never-married   \n",
       "3478    35   Private        340428      Bachelors        Never-married   \n",
       "12129   33   Private         70447        HS-grad        Never-married   \n",
       "\n",
       "              Occupation     Relationship         Ethnic group      Sex  \\\n",
       "20788       Adm-clerical    Not-in-family                White   Female   \n",
       "1933        Tech-support   Other-relative                White   Female   \n",
       "12656              Sales        Own-child                White   Female   \n",
       "3478               Sales        Unmarried                White   Female   \n",
       "12129   Transport-moving   Other-relative   Asian-Pac-Islander     Male   \n",
       "\n",
       "       Capital Gain  Capital Loss  Hours per week         Country  \n",
       "20788             0             0              40   United-States  \n",
       "1933              0             0              48   United-States  \n",
       "12656             0             0              20   United-States  \n",
       "3478              0             0              40   United-States  \n",
       "12129             0             0              40   United-States  "
      ]
     },
     "execution_count": 32,
     "metadata": {},
     "output_type": "execute_result"
    }
   ],
   "source": [
    "X_train.head()"
   ]
  },
  {
   "cell_type": "code",
   "execution_count": 33,
   "id": "f591c528",
   "metadata": {},
   "outputs": [
    {
     "data": {
      "text/html": [
       "<div>\n",
       "<style scoped>\n",
       "    .dataframe tbody tr th:only-of-type {\n",
       "        vertical-align: middle;\n",
       "    }\n",
       "\n",
       "    .dataframe tbody tr th {\n",
       "        vertical-align: top;\n",
       "    }\n",
       "\n",
       "    .dataframe thead th {\n",
       "        text-align: right;\n",
       "    }\n",
       "</style>\n",
       "<table border=\"1\" class=\"dataframe\">\n",
       "  <thead>\n",
       "    <tr style=\"text-align: right;\">\n",
       "      <th></th>\n",
       "      <th>ordinal__Education</th>\n",
       "      <th>stand_scaler__Age</th>\n",
       "      <th>stand_scaler__Capital Gain</th>\n",
       "      <th>stand_scaler__Capital Loss</th>\n",
       "      <th>onehot__Workclass_ Federal-gov</th>\n",
       "      <th>onehot__Workclass_ Local-gov</th>\n",
       "      <th>onehot__Workclass_ Never-worked</th>\n",
       "      <th>onehot__Workclass_ Private</th>\n",
       "      <th>onehot__Workclass_ Self-emp-inc</th>\n",
       "      <th>onehot__Workclass_ Self-emp-not-inc</th>\n",
       "      <th>...</th>\n",
       "      <th>onehot__Country_ Portugal</th>\n",
       "      <th>onehot__Country_ Puerto-Rico</th>\n",
       "      <th>onehot__Country_ Scotland</th>\n",
       "      <th>onehot__Country_ South</th>\n",
       "      <th>onehot__Country_ Taiwan</th>\n",
       "      <th>onehot__Country_ Thailand</th>\n",
       "      <th>onehot__Country_ Trinadad&amp;Tobago</th>\n",
       "      <th>onehot__Country_ United-States</th>\n",
       "      <th>onehot__Country_ Vietnam</th>\n",
       "      <th>onehot__Country_ Yugoslavia</th>\n",
       "    </tr>\n",
       "  </thead>\n",
       "  <tbody>\n",
       "    <tr>\n",
       "      <th>0</th>\n",
       "      <td>11.0</td>\n",
       "      <td>0.909148</td>\n",
       "      <td>-0.144899</td>\n",
       "      <td>-0.219032</td>\n",
       "      <td>0.0</td>\n",
       "      <td>0.0</td>\n",
       "      <td>0.0</td>\n",
       "      <td>1.0</td>\n",
       "      <td>0.0</td>\n",
       "      <td>0.0</td>\n",
       "      <td>...</td>\n",
       "      <td>0.0</td>\n",
       "      <td>0.0</td>\n",
       "      <td>0.0</td>\n",
       "      <td>0.0</td>\n",
       "      <td>0.0</td>\n",
       "      <td>0.0</td>\n",
       "      <td>0.0</td>\n",
       "      <td>1.0</td>\n",
       "      <td>0.0</td>\n",
       "      <td>0.0</td>\n",
       "    </tr>\n",
       "    <tr>\n",
       "      <th>1</th>\n",
       "      <td>8.0</td>\n",
       "      <td>-0.999116</td>\n",
       "      <td>-0.144899</td>\n",
       "      <td>-0.219032</td>\n",
       "      <td>0.0</td>\n",
       "      <td>0.0</td>\n",
       "      <td>0.0</td>\n",
       "      <td>1.0</td>\n",
       "      <td>0.0</td>\n",
       "      <td>0.0</td>\n",
       "      <td>...</td>\n",
       "      <td>0.0</td>\n",
       "      <td>0.0</td>\n",
       "      <td>0.0</td>\n",
       "      <td>0.0</td>\n",
       "      <td>0.0</td>\n",
       "      <td>0.0</td>\n",
       "      <td>0.0</td>\n",
       "      <td>1.0</td>\n",
       "      <td>0.0</td>\n",
       "      <td>0.0</td>\n",
       "    </tr>\n",
       "    <tr>\n",
       "      <th>2</th>\n",
       "      <td>9.0</td>\n",
       "      <td>-1.366090</td>\n",
       "      <td>-0.144899</td>\n",
       "      <td>-0.219032</td>\n",
       "      <td>0.0</td>\n",
       "      <td>0.0</td>\n",
       "      <td>0.0</td>\n",
       "      <td>1.0</td>\n",
       "      <td>0.0</td>\n",
       "      <td>0.0</td>\n",
       "      <td>...</td>\n",
       "      <td>0.0</td>\n",
       "      <td>0.0</td>\n",
       "      <td>0.0</td>\n",
       "      <td>0.0</td>\n",
       "      <td>0.0</td>\n",
       "      <td>0.0</td>\n",
       "      <td>0.0</td>\n",
       "      <td>1.0</td>\n",
       "      <td>0.0</td>\n",
       "      <td>0.0</td>\n",
       "    </tr>\n",
       "    <tr>\n",
       "      <th>3</th>\n",
       "      <td>12.0</td>\n",
       "      <td>-0.265169</td>\n",
       "      <td>-0.144899</td>\n",
       "      <td>-0.219032</td>\n",
       "      <td>0.0</td>\n",
       "      <td>0.0</td>\n",
       "      <td>0.0</td>\n",
       "      <td>1.0</td>\n",
       "      <td>0.0</td>\n",
       "      <td>0.0</td>\n",
       "      <td>...</td>\n",
       "      <td>0.0</td>\n",
       "      <td>0.0</td>\n",
       "      <td>0.0</td>\n",
       "      <td>0.0</td>\n",
       "      <td>0.0</td>\n",
       "      <td>0.0</td>\n",
       "      <td>0.0</td>\n",
       "      <td>1.0</td>\n",
       "      <td>0.0</td>\n",
       "      <td>0.0</td>\n",
       "    </tr>\n",
       "    <tr>\n",
       "      <th>4</th>\n",
       "      <td>8.0</td>\n",
       "      <td>-0.411958</td>\n",
       "      <td>-0.144899</td>\n",
       "      <td>-0.219032</td>\n",
       "      <td>0.0</td>\n",
       "      <td>0.0</td>\n",
       "      <td>0.0</td>\n",
       "      <td>1.0</td>\n",
       "      <td>0.0</td>\n",
       "      <td>0.0</td>\n",
       "      <td>...</td>\n",
       "      <td>0.0</td>\n",
       "      <td>0.0</td>\n",
       "      <td>0.0</td>\n",
       "      <td>0.0</td>\n",
       "      <td>0.0</td>\n",
       "      <td>0.0</td>\n",
       "      <td>0.0</td>\n",
       "      <td>1.0</td>\n",
       "      <td>0.0</td>\n",
       "      <td>0.0</td>\n",
       "    </tr>\n",
       "  </tbody>\n",
       "</table>\n",
       "<p>5 rows × 82 columns</p>\n",
       "</div>"
      ],
      "text/plain": [
       "   ordinal__Education  stand_scaler__Age  stand_scaler__Capital Gain  \\\n",
       "0                11.0           0.909148                   -0.144899   \n",
       "1                 8.0          -0.999116                   -0.144899   \n",
       "2                 9.0          -1.366090                   -0.144899   \n",
       "3                12.0          -0.265169                   -0.144899   \n",
       "4                 8.0          -0.411958                   -0.144899   \n",
       "\n",
       "   stand_scaler__Capital Loss  onehot__Workclass_ Federal-gov  \\\n",
       "0                   -0.219032                             0.0   \n",
       "1                   -0.219032                             0.0   \n",
       "2                   -0.219032                             0.0   \n",
       "3                   -0.219032                             0.0   \n",
       "4                   -0.219032                             0.0   \n",
       "\n",
       "   onehot__Workclass_ Local-gov  onehot__Workclass_ Never-worked  \\\n",
       "0                           0.0                              0.0   \n",
       "1                           0.0                              0.0   \n",
       "2                           0.0                              0.0   \n",
       "3                           0.0                              0.0   \n",
       "4                           0.0                              0.0   \n",
       "\n",
       "   onehot__Workclass_ Private  onehot__Workclass_ Self-emp-inc  \\\n",
       "0                         1.0                              0.0   \n",
       "1                         1.0                              0.0   \n",
       "2                         1.0                              0.0   \n",
       "3                         1.0                              0.0   \n",
       "4                         1.0                              0.0   \n",
       "\n",
       "   onehot__Workclass_ Self-emp-not-inc  ...  onehot__Country_ Portugal  \\\n",
       "0                                  0.0  ...                        0.0   \n",
       "1                                  0.0  ...                        0.0   \n",
       "2                                  0.0  ...                        0.0   \n",
       "3                                  0.0  ...                        0.0   \n",
       "4                                  0.0  ...                        0.0   \n",
       "\n",
       "   onehot__Country_ Puerto-Rico  onehot__Country_ Scotland  \\\n",
       "0                           0.0                        0.0   \n",
       "1                           0.0                        0.0   \n",
       "2                           0.0                        0.0   \n",
       "3                           0.0                        0.0   \n",
       "4                           0.0                        0.0   \n",
       "\n",
       "   onehot__Country_ South  onehot__Country_ Taiwan  onehot__Country_ Thailand  \\\n",
       "0                     0.0                      0.0                        0.0   \n",
       "1                     0.0                      0.0                        0.0   \n",
       "2                     0.0                      0.0                        0.0   \n",
       "3                     0.0                      0.0                        0.0   \n",
       "4                     0.0                      0.0                        0.0   \n",
       "\n",
       "   onehot__Country_ Trinadad&Tobago  onehot__Country_ United-States  \\\n",
       "0                               0.0                             1.0   \n",
       "1                               0.0                             1.0   \n",
       "2                               0.0                             1.0   \n",
       "3                               0.0                             1.0   \n",
       "4                               0.0                             1.0   \n",
       "\n",
       "   onehot__Country_ Vietnam  onehot__Country_ Yugoslavia  \n",
       "0                       0.0                          0.0  \n",
       "1                       0.0                          0.0  \n",
       "2                       0.0                          0.0  \n",
       "3                       0.0                          0.0  \n",
       "4                       0.0                          0.0  \n",
       "\n",
       "[5 rows x 82 columns]"
      ]
     },
     "execution_count": 33,
     "metadata": {},
     "output_type": "execute_result"
    }
   ],
   "source": [
    "X_trans = columntransformer1.fit_transform(X_train).toarray()\n",
    "x_columns_names = columntransformer1.get_feature_names_out()\n",
    "X_trans = pd.DataFrame(X_trans, columns = x_columns_names)\n",
    "X_trans.head()"
   ]
  },
  {
   "cell_type": "code",
   "execution_count": 34,
   "id": "3d87d86c",
   "metadata": {},
   "outputs": [
    {
     "data": {
      "text/html": [
       "<div>\n",
       "<style scoped>\n",
       "    .dataframe tbody tr th:only-of-type {\n",
       "        vertical-align: middle;\n",
       "    }\n",
       "\n",
       "    .dataframe tbody tr th {\n",
       "        vertical-align: top;\n",
       "    }\n",
       "\n",
       "    .dataframe thead th {\n",
       "        text-align: right;\n",
       "    }\n",
       "</style>\n",
       "<table border=\"1\" class=\"dataframe\">\n",
       "  <thead>\n",
       "    <tr style=\"text-align: right;\">\n",
       "      <th></th>\n",
       "      <th>Income_ &gt;50K</th>\n",
       "    </tr>\n",
       "  </thead>\n",
       "  <tbody>\n",
       "    <tr>\n",
       "      <th>0</th>\n",
       "      <td>0</td>\n",
       "    </tr>\n",
       "    <tr>\n",
       "      <th>1</th>\n",
       "      <td>1</td>\n",
       "    </tr>\n",
       "    <tr>\n",
       "      <th>2</th>\n",
       "      <td>0</td>\n",
       "    </tr>\n",
       "    <tr>\n",
       "      <th>3</th>\n",
       "      <td>1</td>\n",
       "    </tr>\n",
       "    <tr>\n",
       "      <th>4</th>\n",
       "      <td>0</td>\n",
       "    </tr>\n",
       "    <tr>\n",
       "      <th>...</th>\n",
       "      <td>...</td>\n",
       "    </tr>\n",
       "    <tr>\n",
       "      <th>26043</th>\n",
       "      <td>0</td>\n",
       "    </tr>\n",
       "    <tr>\n",
       "      <th>26044</th>\n",
       "      <td>0</td>\n",
       "    </tr>\n",
       "    <tr>\n",
       "      <th>26045</th>\n",
       "      <td>0</td>\n",
       "    </tr>\n",
       "    <tr>\n",
       "      <th>26046</th>\n",
       "      <td>0</td>\n",
       "    </tr>\n",
       "    <tr>\n",
       "      <th>26047</th>\n",
       "      <td>0</td>\n",
       "    </tr>\n",
       "  </tbody>\n",
       "</table>\n",
       "<p>26048 rows × 1 columns</p>\n",
       "</div>"
      ],
      "text/plain": [
       "       Income_ >50K\n",
       "0                 0\n",
       "1                 1\n",
       "2                 0\n",
       "3                 1\n",
       "4                 0\n",
       "...             ...\n",
       "26043             0\n",
       "26044             0\n",
       "26045             0\n",
       "26046             0\n",
       "26047             0\n",
       "\n",
       "[26048 rows x 1 columns]"
      ]
     },
     "execution_count": 34,
     "metadata": {},
     "output_type": "execute_result"
    }
   ],
   "source": [
    "y_train_df = pd.DataFrame(y_train)\n",
    "onehot = OneHotEncoder(dtype='int', drop='first')\n",
    "y_trans = onehot.fit_transform(y_train_df)\n",
    "y_column_name = onehot.get_feature_names_out()\n",
    "y_trans = pd.DataFrame.sparse.from_spmatrix(y_trans, columns=y_column_name)\n",
    "y_trans"
   ]
  },
  {
   "cell_type": "code",
   "execution_count": 36,
   "id": "8f4816db",
   "metadata": {},
   "outputs": [
    {
     "name": "stdout",
     "output_type": "stream",
     "text": [
      "Optimization terminated successfully    (Exit mode 0)\n",
      "            Current function value: 0.32888086903278857\n",
      "            Iterations: 581\n",
      "            Function evaluations: 583\n",
      "            Gradient evaluations: 581\n",
      "                           Logit Regression Results                           \n",
      "==============================================================================\n",
      "Dep. Variable:           Income_ >50K   No. Observations:                26048\n",
      "Model:                          Logit   Df Residuals:                    25966\n",
      "Method:                           MLE   Df Model:                           81\n",
      "Date:                Mon, 03 Apr 2023   Pseudo R-squ.:                  0.4055\n",
      "Time:                        17:25:24   Log-Likelihood:                -8566.7\n",
      "converged:                       True   LL-Null:                       -14410.\n",
      "Covariance Type:            nonrobust   LLR p-value:                     0.000\n",
      "=================================================================================================================\n",
      "                                                    coef    std err          z      P>|z|      [0.025      0.975]\n",
      "-----------------------------------------------------------------------------------------------------------------\n",
      "ordinal__Education                                0.2610      0.010     26.093      0.000       0.241       0.281\n",
      "stand_scaler__Age                                 0.2589      0.024     10.889      0.000       0.212       0.305\n",
      "stand_scaler__Capital Gain                        2.4630      0.089     27.646      0.000       2.288       2.638\n",
      "stand_scaler__Capital Loss                        0.2579      0.016     15.729      0.000       0.226       0.290\n",
      "onehot__Workclass_ Federal-gov                    0.8425   1.44e+06   5.86e-07      1.000   -2.82e+06    2.82e+06\n",
      "onehot__Workclass_ Local-gov                      0.1449   1.44e+06   1.01e-07      1.000   -2.82e+06    2.82e+06\n",
      "onehot__Workclass_ Never-worked                  -3.0978     11.750     -0.264      0.792     -26.127      19.931\n",
      "onehot__Workclass_ Private                        0.2855   1.44e+06   1.98e-07      1.000   -2.82e+06    2.82e+06\n",
      "onehot__Workclass_ Self-emp-inc                   0.6472   1.44e+06    4.5e-07      1.000   -2.82e+06    2.82e+06\n",
      "onehot__Workclass_ Self-emp-not-inc              -0.1061   1.44e+06  -7.37e-08      1.000   -2.82e+06    2.82e+06\n",
      "onehot__Workclass_ State-gov                      0.0101   1.44e+06   7.05e-09      1.000   -2.82e+06    2.82e+06\n",
      "onehot__Workclass_ Without-pay                  -10.4878   1.44e+06  -7.29e-06      1.000   -2.82e+06    2.82e+06\n",
      "onehot__Marital Status_ Married-AF-spouse        -2.3733      0.576     -4.121      0.000      -3.502      -1.245\n",
      "onehot__Marital Status_ Married-civ-spouse       -2.9570      0.275    -10.750      0.000      -3.496      -2.418\n",
      "onehot__Marital Status_ Married-spouse-absent    -0.1533      0.250     -0.613      0.540      -0.644       0.337\n",
      "onehot__Marital Status_ Never-married            -0.7448      0.094     -7.941      0.000      -0.929      -0.561\n",
      "onehot__Marital Status_ Separated                -0.2610      0.173     -1.507      0.132      -0.600       0.078\n",
      "onehot__Marital Status_ Widowed                  -0.0840      0.163     -0.516      0.606      -0.403       0.235\n",
      "onehot__Occupation_ Adm-clerical                  0.3900   1.44e+06   2.71e-07      1.000   -2.82e+06    2.82e+06\n",
      "onehot__Occupation_ Armed-Forces                 -0.3832   1.44e+06  -2.66e-07      1.000   -2.82e+06    2.82e+06\n",
      "onehot__Occupation_ Craft-repair                  0.4799   1.44e+06   3.34e-07      1.000   -2.82e+06    2.82e+06\n",
      "onehot__Occupation_ Exec-managerial               1.2738   1.44e+06   8.85e-07      1.000   -2.82e+06    2.82e+06\n",
      "onehot__Occupation_ Farming-fishing              -0.3507   1.44e+06  -2.44e-07      1.000   -2.82e+06    2.82e+06\n",
      "onehot__Occupation_ Handlers-cleaners            -0.2664   1.44e+06  -1.85e-07      1.000   -2.82e+06    2.82e+06\n",
      "onehot__Occupation_ Machine-op-inspct             0.1041   1.44e+06   7.24e-08      1.000   -2.82e+06    2.82e+06\n",
      "onehot__Occupation_ Other-service                -0.4291   1.44e+06  -2.98e-07      1.000   -2.82e+06    2.82e+06\n",
      "onehot__Occupation_ Priv-house-serv             -10.2025   1.44e+06  -7.09e-06      1.000   -2.82e+06    2.82e+06\n",
      "onehot__Occupation_ Prof-specialty                1.0584   1.44e+06   7.36e-07      1.000   -2.82e+06    2.82e+06\n",
      "onehot__Occupation_ Protective-serv               0.9783   1.44e+06    6.8e-07      1.000   -2.82e+06    2.82e+06\n",
      "onehot__Occupation_ Sales                         0.7772   1.44e+06    5.4e-07      1.000   -2.82e+06    2.82e+06\n",
      "onehot__Occupation_ Tech-support                  1.0565   1.44e+06   7.34e-07      1.000   -2.82e+06    2.82e+06\n",
      "onehot__Occupation_ Transport-moving              0.3755   1.44e+06   2.61e-07      1.000   -2.82e+06    2.82e+06\n",
      "onehot__Relationship_ Not-in-family              -4.4921      0.276    -16.262      0.000      -5.034      -3.951\n",
      "onehot__Relationship_ Other-relative             -4.4138      0.331    -13.333      0.000      -5.063      -3.765\n",
      "onehot__Relationship_ Own-child                  -5.5593      0.310    -17.932      0.000      -6.167      -4.952\n",
      "onehot__Relationship_ Unmarried                  -4.7734      0.281    -17.007      0.000      -5.324      -4.223\n",
      "onehot__Relationship_ Wife                        0.9860      0.111      8.903      0.000       0.769       1.203\n",
      "onehot__Ethnic group_ Asian-Pac-Islander         -0.9460      0.253     -3.734      0.000      -1.442      -0.449\n",
      "onehot__Ethnic group_ Black                      -1.0909      0.202     -5.396      0.000      -1.487      -0.695\n",
      "onehot__Ethnic group_ Other                      -1.4241      0.357     -3.994      0.000      -2.123      -0.725\n",
      "onehot__Ethnic group_ White                      -0.8542      0.188     -4.555      0.000      -1.222      -0.487\n",
      "onehot__Sex_ Male                                 0.7307      0.085      8.622      0.000       0.565       0.897\n",
      "onehot__Country_ Cambodia                         1.1645      0.655      1.777      0.076      -0.120       2.449\n",
      "onehot__Country_ Canada                          -0.4049      0.319     -1.269      0.204      -1.030       0.220\n",
      "onehot__Country_ China                           -1.0952      0.449     -2.440      0.015      -1.975      -0.215\n",
      "onehot__Country_ Columbia                        -2.2494      0.831     -2.707      0.007      -3.878      -0.621\n",
      "onehot__Country_ Cuba                            -0.0550      0.348     -0.158      0.874      -0.736       0.626\n",
      "onehot__Country_ Dominican-Republic              -2.1466      1.053     -2.039      0.041      -4.210      -0.083\n",
      "onehot__Country_ Ecuador                         -0.6855      0.743     -0.922      0.356      -2.142       0.771\n",
      "onehot__Country_ El-Salvador                     -1.7118      0.656     -2.609      0.009      -2.998      -0.426\n",
      "onehot__Country_ England                         -0.4702      0.374     -1.256      0.209      -1.204       0.263\n",
      "onehot__Country_ France                           0.0445      0.527      0.084      0.933      -0.989       1.077\n",
      "onehot__Country_ Germany                         -0.1078      0.309     -0.348      0.727      -0.714       0.498\n",
      "onehot__Country_ Greece                          -1.3890      0.607     -2.287      0.022      -2.579      -0.199\n",
      "onehot__Country_ Guatemala                       -0.8197      0.765     -1.072      0.284      -2.319       0.679\n",
      "onehot__Country_ Haiti                            0.0610      0.666      0.092      0.927      -1.245       1.367\n",
      "onehot__Country_ Honduras                        -1.5557      1.871     -0.831      0.406      -5.223       2.112\n",
      "onehot__Country_ Hong                            -0.4309      0.733     -0.588      0.557      -1.867       1.005\n",
      "onehot__Country_ Hungary                         -0.8625      0.767     -1.124      0.261      -2.366       0.641\n",
      "onehot__Country_ India                           -0.9251      0.357     -2.588      0.010      -1.626      -0.224\n",
      "onehot__Country_ Iran                            -0.6577      0.463     -1.421      0.155      -1.565       0.249\n",
      "onehot__Country_ Ireland                         -0.0008      0.657     -0.001      0.999      -1.289       1.287\n",
      "onehot__Country_ Italy                            0.4611      0.364      1.267      0.205      -0.252       1.174\n",
      "onehot__Country_ Jamaica                         -0.4849      0.467     -1.039      0.299      -1.400       0.430\n",
      "onehot__Country_ Japan                           -0.1560      0.470     -0.332      0.740      -1.078       0.766\n",
      "onehot__Country_ Laos                            -0.7055      0.877     -0.805      0.421      -2.424       1.013\n",
      "onehot__Country_ Mexico                          -0.8840      0.262     -3.379      0.001      -1.397      -0.371\n",
      "onehot__Country_ Nicaragua                       -1.5953      1.109     -1.438      0.150      -3.769       0.579\n",
      "onehot__Country_ Outlying-US(Guam-USVI-etc)     -10.7358    125.004     -0.086      0.932    -255.739     234.268\n",
      "onehot__Country_ Peru                            -2.3141      1.169     -1.980      0.048      -4.605      -0.024\n",
      "onehot__Country_ Philippines                      0.0856      0.305      0.281      0.779      -0.512       0.684\n",
      "onehot__Country_ Poland                          -1.0804      0.528     -2.047      0.041      -2.115      -0.046\n",
      "onehot__Country_ Portugal                        -0.1786      0.667     -0.268      0.789      -1.486       1.128\n",
      "onehot__Country_ Puerto-Rico                     -0.7491      0.432     -1.733      0.083      -1.596       0.098\n",
      "onehot__Country_ Scotland                        -0.0422      1.067     -0.040      0.968      -2.134       2.050\n",
      "onehot__Country_ South                           -0.9950      0.502     -1.982      0.048      -1.979      -0.011\n",
      "onehot__Country_ Taiwan                          -0.5491      0.497     -1.106      0.269      -1.522       0.424\n",
      "onehot__Country_ Thailand                        -1.3653      1.157     -1.180      0.238      -3.634       0.903\n",
      "onehot__Country_ Trinadad&Tobago                 -0.6915      0.881     -0.784      0.433      -2.419       1.036\n",
      "onehot__Country_ United-States                   -0.4054      0.141     -2.876      0.004      -0.682      -0.129\n",
      "onehot__Country_ Vietnam                         -1.4189      0.625     -2.271      0.023      -2.643      -0.194\n",
      "onehot__Country_ Yugoslavia                      -0.0643      0.729     -0.088      0.930      -1.492       1.364\n",
      "=================================================================================================================\n"
     ]
    }
   ],
   "source": [
    "model = Logit(y_trans, X_trans).fit_regularized()\n",
    "print(model.summary())"
   ]
  },
  {
   "cell_type": "markdown",
   "id": "e072b147",
   "metadata": {},
   "source": [
    "According to Logit() results, all of numerical fiature are statistically significant. Some categoties in a couple of categotical features have to be clustered as they are insignificant. \n",
    "1. Workclasses representatives, that do not work or work without pay will deffinetely have less than 50k, so can become one cluster.\n",
    "2. From Marital Status feature we can cluster together those, who have no partner and those who have\n",
    "3. All categories of Occupation are insignificant, so could be removed from the model. But before, they will be left like this, as from the EDA we saw that this feature is significant\n",
    "3. All categories of Relationship, Ethnic Group and Sex features are significant.\n",
    "4. Most of countries have no impact on target, it's possible to cluster them by the part of the world. \n",
    "\n",
    "Also, the model exceeds maximum number of iterations, which could be led by a big amount of features."
   ]
  },
  {
   "cell_type": "code",
   "execution_count": null,
   "id": "b379af52",
   "metadata": {},
   "outputs": [],
   "source": []
  },
  {
   "cell_type": "code",
   "execution_count": null,
   "id": "0a64a99b",
   "metadata": {},
   "outputs": [],
   "source": []
  },
  {
   "cell_type": "code",
   "execution_count": null,
   "id": "2ea8bdab",
   "metadata": {},
   "outputs": [],
   "source": []
  },
  {
   "cell_type": "code",
   "execution_count": null,
   "id": "d8067541",
   "metadata": {},
   "outputs": [],
   "source": []
  },
  {
   "cell_type": "code",
   "execution_count": null,
   "id": "9099e215",
   "metadata": {},
   "outputs": [],
   "source": []
  },
  {
   "cell_type": "code",
   "execution_count": null,
   "id": "467f880e",
   "metadata": {},
   "outputs": [],
   "source": [
    "# def reset_xy (X, y):\n",
    "#     X_train = X.copy()\n",
    "#     y_train = y.copy()\n",
    "#     X_train = X_train.drop(['final weight'], axis = 'columns')\n",
    "#     return X_train, y_train"
   ]
  },
  {
   "cell_type": "code",
   "execution_count": null,
   "id": "51b63605",
   "metadata": {},
   "outputs": [],
   "source": [
    "# X_train, y_train = reset_xy(X, y)"
   ]
  },
  {
   "cell_type": "code",
   "execution_count": null,
   "id": "987a9bc7",
   "metadata": {},
   "outputs": [],
   "source": [
    "# num_no_fw = X_train[['Age', 'Capital Gain', 'Capital Loss', 'Hours per week']]\n",
    "# scale_numerical(num_no_fw)"
   ]
  },
  {
   "cell_type": "code",
   "execution_count": null,
   "id": "1061fd6b",
   "metadata": {},
   "outputs": [],
   "source": [
    "# encode_edu()\n",
    "# X_train = dumm_categorical(categorical_features_df, X_train)"
   ]
  },
  {
   "cell_type": "code",
   "execution_count": null,
   "id": "06045381",
   "metadata": {},
   "outputs": [],
   "source": [
    "# model = sm.Logit(y_train, X_train).fit()\n",
    "# print(model.summary())"
   ]
  },
  {
   "cell_type": "code",
   "execution_count": null,
   "id": "b4e9f038",
   "metadata": {},
   "outputs": [],
   "source": [
    "# y_hat = model.predict(X_test)\n",
    "# prediction = list(map(round, y_hat))\n",
    "\n",
    "# print('Actual values', list(y_test.values)[:10])\n",
    "# print('Predictions :', prediction[:10])"
   ]
  },
  {
   "cell_type": "code",
   "execution_count": null,
   "id": "f59db5fc",
   "metadata": {},
   "outputs": [],
   "source": [
    "# cm = confusion_matrix(y_test, prediction) \n",
    "# s = sns.heatmap(cm, annot = True)\n",
    "# s.set(xlabel='Predict', ylabel='Truth')\n",
    "# print(cm)\n",
    "# print(classification_report(y_test, prediction))"
   ]
  },
  {
   "cell_type": "markdown",
   "id": "917e6ea0",
   "metadata": {},
   "source": [
    "The model still performs san in minority class detection"
   ]
  },
  {
   "cell_type": "markdown",
   "id": "1078f9b8",
   "metadata": {},
   "source": [
    "## Same model, but with Capital paremeters logged"
   ]
  },
  {
   "cell_type": "code",
   "execution_count": null,
   "id": "1ae56e33",
   "metadata": {},
   "outputs": [],
   "source": [
    "# X_train, y_train = reset_xy(X, y)"
   ]
  },
  {
   "cell_type": "code",
   "execution_count": null,
   "id": "1a6cfed3",
   "metadata": {
    "scrolled": true
   },
   "outputs": [],
   "source": [
    "# def capital_log():\n",
    "#     X_train['Capital Gain'] = np.log(1+ X_train['Capital Gain'])\n",
    "#     X_train['Capital Loss'] = np.log(1+ X_train['Capital Loss'])\n",
    "    \n",
    "# capital_log()"
   ]
  },
  {
   "cell_type": "code",
   "execution_count": null,
   "id": "7eeb9ecf",
   "metadata": {},
   "outputs": [],
   "source": [
    "# num_no_capital = X_train[['Age', 'Hours per week']]\n",
    "# scale_numerical(num_no_capital)"
   ]
  },
  {
   "cell_type": "code",
   "execution_count": null,
   "id": "a21f0548",
   "metadata": {},
   "outputs": [],
   "source": [
    "# X_train.head(2)"
   ]
  },
  {
   "cell_type": "code",
   "execution_count": null,
   "id": "7906d0fa",
   "metadata": {},
   "outputs": [],
   "source": [
    "# encode_edu()\n",
    "# X_train = dumm_categorical(categorical_features_df, X_train)"
   ]
  },
  {
   "cell_type": "code",
   "execution_count": null,
   "id": "662821e6",
   "metadata": {},
   "outputs": [],
   "source": [
    "# X_train.head()"
   ]
  },
  {
   "cell_type": "code",
   "execution_count": null,
   "id": "11f50a8d",
   "metadata": {},
   "outputs": [],
   "source": [
    "# model = sm.Logit(y_train, X_train).fit()\n",
    "# print(model.summary())"
   ]
  },
  {
   "cell_type": "code",
   "execution_count": null,
   "id": "578d9464",
   "metadata": {},
   "outputs": [],
   "source": [
    "# y_hat = model.predict(X_test)\n",
    "# prediction = list(map(round, y_hat))\n",
    "# print('Actual values', list(y_test.values)[:10])\n",
    "# print('Predictions :', prediction[:10])"
   ]
  },
  {
   "cell_type": "code",
   "execution_count": null,
   "id": "e691f7d2",
   "metadata": {},
   "outputs": [],
   "source": [
    "# cm = confusion_matrix(y_test, prediction) \n",
    "# s = sns.heatmap(cm, annot = True)\n",
    "# s.set(xlabel='Predict', ylabel='Truth')\n",
    "# print(cm)\n",
    "# print(classification_report(y_test, prediction))"
   ]
  },
  {
   "cell_type": "markdown",
   "id": "dbf31372",
   "metadata": {},
   "source": [
    "## Logistic regression with previous data transformation"
   ]
  },
  {
   "cell_type": "code",
   "execution_count": null,
   "id": "9041ac8e",
   "metadata": {},
   "outputs": [],
   "source": [
    "# X_train, y_train = reset_xy(X, y)"
   ]
  },
  {
   "cell_type": "markdown",
   "id": "452742ab",
   "metadata": {},
   "source": [
    "For this modela all parameters, that have huge imbalance in their values, are changes to binary with categories:\n",
    "1. Most popular alue or the feature\n",
    "2. All other values together"
   ]
  },
  {
   "cell_type": "code",
   "execution_count": null,
   "id": "9d238272",
   "metadata": {
    "scrolled": true
   },
   "outputs": [],
   "source": [
    "# def balance_predictors():\n",
    "#     X_train['Ethnic group'] = np.where(X_train['Ethnic group'] != ' White', 'Other', X_train['Ethnic group'])\n",
    "#     X_train['Country'] = np.where(X_train['Country'] != ' United-States', 'Other', X_train['Country'])\n",
    "#     X_train['Workclass'] = np.where(X_train['Workclass'] != ' Private', 'Other', X_train['Workclass'])\n",
    "#     X_train['Marital Status'] = np.where(((X_train['Marital Status'] == ' Widowed') |\n",
    "#                                           (X_train['Marital Status'] == ' Married-spouse-absent') |\n",
    "#                                           (X_train['Marital Status'] == ' Separated')), \n",
    "#                                          'Other', X_train['Marital Status'])\n",
    "#     X_train['Occupation'] = np.where(((X_train['Occupation'] == ' Adm-clerical') |\n",
    "#                                       (X_train['Occupation'] == ' Armed-Forces') |\n",
    "#                                       (X_train['Occupation'] == ' Craft-repair') |\n",
    "#                                       (X_train['Occupation'] == ' Machine-op-inspct') |\n",
    "#                                       (X_train['Occupation'] == ' Priv-house-serv') |\n",
    "#                                       (X_train['Occupation'] == ' Transport-moving')), \n",
    "#                                      'Other', X_train['Occupation'])\n",
    "    \n",
    "# balance_predictors()\n",
    "# X_train.sample(3)"
   ]
  },
  {
   "cell_type": "code",
   "execution_count": null,
   "id": "d4b7bc00",
   "metadata": {},
   "outputs": [],
   "source": [
    "# encode_edu()\n",
    "\n",
    "# capital_log()\n",
    "\n",
    "# scale_numerical(num_no_fw)"
   ]
  },
  {
   "cell_type": "code",
   "execution_count": null,
   "id": "81279423",
   "metadata": {},
   "outputs": [],
   "source": [
    "# X_train = dumm_categorical(categorical_features_df, X_train)"
   ]
  },
  {
   "cell_type": "code",
   "execution_count": null,
   "id": "9d6d4247",
   "metadata": {},
   "outputs": [],
   "source": [
    "# model = sm.Logit(y_train, X_train).fit()\n",
    "# print(model.summary())"
   ]
  },
  {
   "cell_type": "code",
   "execution_count": null,
   "id": "9b1ba281",
   "metadata": {},
   "outputs": [],
   "source": [
    "# y_hat = model.predict(X_test)\n",
    "# prediction = list(map(round, y_hat))\n",
    "\n",
    "# print('Actual values', list(y_test.values)[:10])\n",
    "# print('Predictions :', prediction[:10])"
   ]
  },
  {
   "cell_type": "code",
   "execution_count": null,
   "id": "241ebec5",
   "metadata": {},
   "outputs": [],
   "source": [
    "# cm = confusion_matrix(y_test, prediction) \n",
    "# s = sns.heatmap(cm, annot = True)\n",
    "# s.set(xlabel='Predict', ylabel='Truth')\n",
    "# print(cm)\n",
    "# print(classification_report(y_test, prediction))"
   ]
  },
  {
   "cell_type": "markdown",
   "id": "402df434",
   "metadata": {},
   "source": [
    "## Oversampling target"
   ]
  },
  {
   "cell_type": "code",
   "execution_count": null,
   "id": "5463515c",
   "metadata": {},
   "outputs": [],
   "source": [
    "# count_class_0, count_class_1 = df['Income'].value_counts()\n",
    "\n",
    "# y0 = df[df['Income'] == 0]\n",
    "# y1 = df[df['Income'] == 1]"
   ]
  },
  {
   "cell_type": "code",
   "execution_count": null,
   "id": "611a8556",
   "metadata": {},
   "outputs": [],
   "source": [
    "# print(y0.shape)\n",
    "# print(y1.shape)"
   ]
  },
  {
   "cell_type": "code",
   "execution_count": null,
   "id": "3a5bc54b",
   "metadata": {},
   "outputs": [],
   "source": [
    "# y1_over = y1.sample(count_class_0, replace = True)"
   ]
  },
  {
   "cell_type": "code",
   "execution_count": null,
   "id": "60456bf3",
   "metadata": {},
   "outputs": [],
   "source": [
    "# df = pd.concat([y0, y1_over], axis = 0)"
   ]
  },
  {
   "cell_type": "code",
   "execution_count": null,
   "id": "36287fb9",
   "metadata": {},
   "outputs": [],
   "source": [
    "# df.shape"
   ]
  },
  {
   "cell_type": "code",
   "execution_count": null,
   "id": "dc59791e",
   "metadata": {},
   "outputs": [],
   "source": [
    "# X, y = reset_xy(df)"
   ]
  },
  {
   "cell_type": "code",
   "execution_count": null,
   "id": "a6b7d60e",
   "metadata": {},
   "outputs": [],
   "source": [
    "# balance_predictors()"
   ]
  },
  {
   "cell_type": "code",
   "execution_count": null,
   "id": "d74a95dc",
   "metadata": {},
   "outputs": [],
   "source": [
    "# encode_edu()"
   ]
  },
  {
   "cell_type": "code",
   "execution_count": null,
   "id": "ec668027",
   "metadata": {},
   "outputs": [],
   "source": [
    "# capital_log()"
   ]
  },
  {
   "cell_type": "code",
   "execution_count": null,
   "id": "56818118",
   "metadata": {},
   "outputs": [],
   "source": [
    "# num_no_capital = X[['Age', 'Hours per week']]\n",
    "# scale_numerical(num_no_capital)"
   ]
  },
  {
   "cell_type": "code",
   "execution_count": null,
   "id": "74735f3d",
   "metadata": {},
   "outputs": [],
   "source": [
    "# categorical_features_df = X[['Workclass', 'Marital Status', 'Relationship', 'Ethnic group', 'Country']]\n",
    "# X = dumm_categorical(categorical_features_df, X)"
   ]
  },
  {
   "cell_type": "code",
   "execution_count": null,
   "id": "47fb441e",
   "metadata": {},
   "outputs": [],
   "source": [
    "# X_train, X_test, y_train, y_test = train_test_split(X, y, test_size= 0.2)\n",
    "# X_train.sample(3)"
   ]
  },
  {
   "cell_type": "code",
   "execution_count": null,
   "id": "5e0cbf38",
   "metadata": {},
   "outputs": [],
   "source": [
    "# model = sm.Logit(y_train, X_train).fit()\n",
    "# print(model.summary())"
   ]
  },
  {
   "cell_type": "code",
   "execution_count": null,
   "id": "80c8613f",
   "metadata": {},
   "outputs": [],
   "source": [
    "# y_hat = model.predict(X_test)\n",
    "# prediction = list(map(round, y_hat))\n",
    "\n",
    "# print('Actual values', list(y_test.values)[:10])\n",
    "# print('Predictions :', prediction[:10])"
   ]
  },
  {
   "cell_type": "code",
   "execution_count": null,
   "id": "2444954e",
   "metadata": {},
   "outputs": [],
   "source": [
    "# cm = confusion_matrix(y_test, prediction) \n",
    "# s = sns.heatmap(cm, annot = True)\n",
    "# s.set(xlabel='Predict', ylabel='Truth')\n",
    "# print(cm)\n",
    "# print(classification_report(y_test, prediction))"
   ]
  }
 ],
 "metadata": {
  "kernelspec": {
   "display_name": "Python 3 (ipykernel)",
   "language": "python",
   "name": "python3"
  },
  "language_info": {
   "codemirror_mode": {
    "name": "ipython",
    "version": 3
   },
   "file_extension": ".py",
   "mimetype": "text/x-python",
   "name": "python",
   "nbconvert_exporter": "python",
   "pygments_lexer": "ipython3",
   "version": "3.9.16"
  }
 },
 "nbformat": 4,
 "nbformat_minor": 5
}
