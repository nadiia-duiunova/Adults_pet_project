{
 "cells": [
  {
   "cell_type": "code",
   "execution_count": 1,
   "id": "066c3404",
   "metadata": {},
   "outputs": [],
   "source": [
    "import pandas as pd\n",
    "import numpy as np\n",
    "import seaborn as sns\n",
    "import matplotlib.pyplot as plt\n",
    "import scipy.stats as stats\n",
    "import statsmodels.api as sm\n",
    "from sklearn.preprocessing import StandardScaler, OrdinalEncoder, LabelEncoder, MinMaxScaler\n",
    "from sklearn.model_selection import train_test_split\n",
    "from sklearn.linear_model import LogisticRegression\n",
    "from sklearn.metrics import confusion_matrix, classification_report"
   ]
  },
  {
   "cell_type": "markdown",
   "id": "07e7ca15",
   "metadata": {},
   "source": [
    "Here the results from 'Adult EDA\" file are going to be used"
   ]
  },
  {
   "cell_type": "code",
   "execution_count": 2,
   "id": "f38fea66",
   "metadata": {
    "scrolled": true
   },
   "outputs": [],
   "source": [
    "# %run \"Adult EDA.ipynb\""
   ]
  },
  {
   "cell_type": "code",
   "execution_count": 3,
   "id": "0e100366",
   "metadata": {},
   "outputs": [],
   "source": [
    "adult_columns = [\n",
    "    \"Age\",\n",
    "    \"Workclass\",\n",
    "    \"final weight\",\n",
    "    \"Education\",\n",
    "    \"Education-Num\",\n",
    "    \"Marital Status\",\n",
    "    \"Occupation\",\n",
    "    \"Relationship\",\n",
    "    \"Ethnic group\",\n",
    "    \"Sex\",\n",
    "    \"Capital Gain\",\n",
    "    \"Capital Loss\",\n",
    "    \"Hours per week\",\n",
    "    \"Country\",\n",
    "    \"Income\",\n",
    "]\n",
    "\n",
    "df = pd.read_csv(\"https://archive.ics.uci.edu/ml/machine-learning-databases/adult/adult.data\", \n",
    "                 header = None, names = adult_columns)"
   ]
  },
  {
   "cell_type": "code",
   "execution_count": 4,
   "id": "376b535a",
   "metadata": {},
   "outputs": [],
   "source": [
    "df = df.drop(['Education-Num'], axis = 'columns')"
   ]
  },
  {
   "cell_type": "markdown",
   "id": "52cebafd",
   "metadata": {},
   "source": [
    "## 1. Initial logistic regression without any changes in data"
   ]
  },
  {
   "cell_type": "markdown",
   "id": "14069898",
   "metadata": {},
   "source": [
    "First all variables have to be transformed to numerical format to feed them to Logit function:"
   ]
  },
  {
   "cell_type": "code",
   "execution_count": 5,
   "id": "cf97813d",
   "metadata": {
    "scrolled": false
   },
   "outputs": [],
   "source": [
    "_ = df['Income'].replace({' <=50K': 0, \n",
    "                             ' >50K': 1}, \n",
    "                            inplace = True)\n"
   ]
  },
  {
   "cell_type": "markdown",
   "id": "ebc8a6ca",
   "metadata": {},
   "source": [
    "'Sex' feature is also binary, we can convert it separately from other categorical features."
   ]
  },
  {
   "cell_type": "code",
   "execution_count": 6,
   "id": "80cb9e49",
   "metadata": {},
   "outputs": [],
   "source": [
    "_ = df['Sex'].replace({' Male': 0, ' Female': 1}, \n",
    "                      inplace = True)"
   ]
  },
  {
   "cell_type": "code",
   "execution_count": 7,
   "id": "064f0fe7",
   "metadata": {},
   "outputs": [],
   "source": [
    "numerical_features_df = df[['Age', 'Capital Gain', 'Capital Loss', 'Hours per week', 'final weight']]"
   ]
  },
  {
   "cell_type": "code",
   "execution_count": 8,
   "id": "0ff243b0",
   "metadata": {},
   "outputs": [],
   "source": [
    "X = df.drop(['Income'], axis = 'columns')\n",
    "y = df['Income']"
   ]
  },
  {
   "cell_type": "code",
   "execution_count": 9,
   "id": "5e1324a8",
   "metadata": {},
   "outputs": [],
   "source": [
    "def reset_xy (df):\n",
    "    X = df.drop(['Income', 'final weight'], axis = 'columns')\n",
    "    y = df['Income']\n",
    "    return X, y"
   ]
  },
  {
   "cell_type": "code",
   "execution_count": 10,
   "id": "cb0172fd",
   "metadata": {},
   "outputs": [],
   "source": [
    "stand_scaler = StandardScaler()"
   ]
  },
  {
   "cell_type": "code",
   "execution_count": 11,
   "id": "ae174a89",
   "metadata": {},
   "outputs": [],
   "source": [
    "def scale_numerical(numerical_features):\n",
    "    X[numerical_features.columns.values] = stand_scaler.fit_transform(numerical_features.values)\n",
    "    \n",
    "scale_numerical(numerical_features_df)"
   ]
  },
  {
   "cell_type": "code",
   "execution_count": 12,
   "id": "ca5e19f1",
   "metadata": {},
   "outputs": [
    {
     "data": {
      "text/html": [
       "<div>\n",
       "<style scoped>\n",
       "    .dataframe tbody tr th:only-of-type {\n",
       "        vertical-align: middle;\n",
       "    }\n",
       "\n",
       "    .dataframe tbody tr th {\n",
       "        vertical-align: top;\n",
       "    }\n",
       "\n",
       "    .dataframe thead th {\n",
       "        text-align: right;\n",
       "    }\n",
       "</style>\n",
       "<table border=\"1\" class=\"dataframe\">\n",
       "  <thead>\n",
       "    <tr style=\"text-align: right;\">\n",
       "      <th></th>\n",
       "      <th>Age</th>\n",
       "      <th>Workclass</th>\n",
       "      <th>final weight</th>\n",
       "      <th>Education</th>\n",
       "      <th>Marital Status</th>\n",
       "      <th>Occupation</th>\n",
       "      <th>Relationship</th>\n",
       "      <th>Ethnic group</th>\n",
       "      <th>Sex</th>\n",
       "      <th>Capital Gain</th>\n",
       "      <th>Capital Loss</th>\n",
       "      <th>Hours per week</th>\n",
       "      <th>Country</th>\n",
       "    </tr>\n",
       "  </thead>\n",
       "  <tbody>\n",
       "    <tr>\n",
       "      <th>13472</th>\n",
       "      <td>-1.142331</td>\n",
       "      <td>Private</td>\n",
       "      <td>0.801961</td>\n",
       "      <td>11th</td>\n",
       "      <td>Separated</td>\n",
       "      <td>Other-service</td>\n",
       "      <td>Unmarried</td>\n",
       "      <td>White</td>\n",
       "      <td>1</td>\n",
       "      <td>-0.14592</td>\n",
       "      <td>-0.21666</td>\n",
       "      <td>-0.035429</td>\n",
       "      <td>United-States</td>\n",
       "    </tr>\n",
       "  </tbody>\n",
       "</table>\n",
       "</div>"
      ],
      "text/plain": [
       "            Age Workclass  final weight Education Marital Status  \\\n",
       "13472 -1.142331   Private      0.801961      11th      Separated   \n",
       "\n",
       "           Occupation Relationship Ethnic group  Sex  Capital Gain  \\\n",
       "13472   Other-service    Unmarried        White    1      -0.14592   \n",
       "\n",
       "       Capital Loss  Hours per week         Country  \n",
       "13472      -0.21666       -0.035429   United-States  "
      ]
     },
     "execution_count": 12,
     "metadata": {},
     "output_type": "execute_result"
    }
   ],
   "source": [
    "X.sample()"
   ]
  },
  {
   "cell_type": "markdown",
   "id": "c8e4164d",
   "metadata": {},
   "source": [
    "In this dataset we have only one feature, where the order matters - Education. Let's transform it using OrdinalEncoder. "
   ]
  },
  {
   "cell_type": "code",
   "execution_count": 13,
   "id": "d591094c",
   "metadata": {},
   "outputs": [],
   "source": [
    "edu_encoder = OrdinalEncoder(categories=[[' Preschool',' 1st-4th',' 5th-6th',' 7th-8th',' 9th',' 10th',' 11th',\n",
    "                                      ' 12th',' HS-grad',' Some-college',' Assoc-voc',' Assoc-acdm', \n",
    "                                      ' Bachelors',' Masters',' Prof-school',' Doctorate']])"
   ]
  },
  {
   "cell_type": "code",
   "execution_count": 14,
   "id": "82c71c8a",
   "metadata": {},
   "outputs": [],
   "source": [
    "def encode_edu():\n",
    "    X[[\"Education\"]] = edu_encoder.fit_transform(df[[\"Education\"]])\n",
    "    \n",
    "encode_edu()"
   ]
  },
  {
   "cell_type": "markdown",
   "id": "1090551f",
   "metadata": {},
   "source": [
    "For all the rest of categorical features the order does not matter, hense we can use dummies values approach"
   ]
  },
  {
   "cell_type": "code",
   "execution_count": 15,
   "id": "712d4852",
   "metadata": {},
   "outputs": [],
   "source": [
    "categorical_features_df = df[['Workclass', 'Marital Status', 'Occupation', 'Relationship', 'Ethnic group', 'Country']]"
   ]
  },
  {
   "cell_type": "code",
   "execution_count": 16,
   "id": "3a7fca18",
   "metadata": {},
   "outputs": [],
   "source": [
    "def encode_categorical(categorical_features_df):\n",
    "    cat_df = categorical_features_df.apply(LabelEncoder().fit_transform)\n",
    "    return cat_df\n",
    "\n",
    "cat_df = encode_categorical(categorical_features_df)"
   ]
  },
  {
   "cell_type": "code",
   "execution_count": 17,
   "id": "1a64b242",
   "metadata": {},
   "outputs": [],
   "source": [
    "def add_num_and_cat(x, cat):\n",
    "    X = x.drop(cat.columns, axis = 'columns')\n",
    "    X = pd.concat([X, cat], axis=1, join='inner')\n",
    "    return X"
   ]
  },
  {
   "cell_type": "code",
   "execution_count": 18,
   "id": "2faa1dd1",
   "metadata": {},
   "outputs": [
    {
     "data": {
      "text/html": [
       "<div>\n",
       "<style scoped>\n",
       "    .dataframe tbody tr th:only-of-type {\n",
       "        vertical-align: middle;\n",
       "    }\n",
       "\n",
       "    .dataframe tbody tr th {\n",
       "        vertical-align: top;\n",
       "    }\n",
       "\n",
       "    .dataframe thead th {\n",
       "        text-align: right;\n",
       "    }\n",
       "</style>\n",
       "<table border=\"1\" class=\"dataframe\">\n",
       "  <thead>\n",
       "    <tr style=\"text-align: right;\">\n",
       "      <th></th>\n",
       "      <th>Age</th>\n",
       "      <th>final weight</th>\n",
       "      <th>Education</th>\n",
       "      <th>Sex</th>\n",
       "      <th>Capital Gain</th>\n",
       "      <th>Capital Loss</th>\n",
       "      <th>Hours per week</th>\n",
       "      <th>Workclass</th>\n",
       "      <th>Marital Status</th>\n",
       "      <th>Occupation</th>\n",
       "      <th>Relationship</th>\n",
       "      <th>Ethnic group</th>\n",
       "      <th>Country</th>\n",
       "    </tr>\n",
       "  </thead>\n",
       "  <tbody>\n",
       "    <tr>\n",
       "      <th>0</th>\n",
       "      <td>0.030671</td>\n",
       "      <td>-1.063611</td>\n",
       "      <td>12.0</td>\n",
       "      <td>0</td>\n",
       "      <td>0.148453</td>\n",
       "      <td>-0.21666</td>\n",
       "      <td>-0.035429</td>\n",
       "      <td>7</td>\n",
       "      <td>4</td>\n",
       "      <td>1</td>\n",
       "      <td>1</td>\n",
       "      <td>4</td>\n",
       "      <td>39</td>\n",
       "    </tr>\n",
       "    <tr>\n",
       "      <th>1</th>\n",
       "      <td>0.837109</td>\n",
       "      <td>-1.008707</td>\n",
       "      <td>12.0</td>\n",
       "      <td>0</td>\n",
       "      <td>-0.145920</td>\n",
       "      <td>-0.21666</td>\n",
       "      <td>-2.222153</td>\n",
       "      <td>6</td>\n",
       "      <td>2</td>\n",
       "      <td>4</td>\n",
       "      <td>0</td>\n",
       "      <td>4</td>\n",
       "      <td>39</td>\n",
       "    </tr>\n",
       "    <tr>\n",
       "      <th>2</th>\n",
       "      <td>-0.042642</td>\n",
       "      <td>0.245079</td>\n",
       "      <td>8.0</td>\n",
       "      <td>0</td>\n",
       "      <td>-0.145920</td>\n",
       "      <td>-0.21666</td>\n",
       "      <td>-0.035429</td>\n",
       "      <td>4</td>\n",
       "      <td>0</td>\n",
       "      <td>6</td>\n",
       "      <td>1</td>\n",
       "      <td>4</td>\n",
       "      <td>39</td>\n",
       "    </tr>\n",
       "    <tr>\n",
       "      <th>3</th>\n",
       "      <td>1.057047</td>\n",
       "      <td>0.425801</td>\n",
       "      <td>6.0</td>\n",
       "      <td>0</td>\n",
       "      <td>-0.145920</td>\n",
       "      <td>-0.21666</td>\n",
       "      <td>-0.035429</td>\n",
       "      <td>4</td>\n",
       "      <td>2</td>\n",
       "      <td>6</td>\n",
       "      <td>0</td>\n",
       "      <td>2</td>\n",
       "      <td>39</td>\n",
       "    </tr>\n",
       "    <tr>\n",
       "      <th>4</th>\n",
       "      <td>-0.775768</td>\n",
       "      <td>1.408176</td>\n",
       "      <td>12.0</td>\n",
       "      <td>1</td>\n",
       "      <td>-0.145920</td>\n",
       "      <td>-0.21666</td>\n",
       "      <td>-0.035429</td>\n",
       "      <td>4</td>\n",
       "      <td>2</td>\n",
       "      <td>10</td>\n",
       "      <td>5</td>\n",
       "      <td>2</td>\n",
       "      <td>5</td>\n",
       "    </tr>\n",
       "    <tr>\n",
       "      <th>...</th>\n",
       "      <td>...</td>\n",
       "      <td>...</td>\n",
       "      <td>...</td>\n",
       "      <td>...</td>\n",
       "      <td>...</td>\n",
       "      <td>...</td>\n",
       "      <td>...</td>\n",
       "      <td>...</td>\n",
       "      <td>...</td>\n",
       "      <td>...</td>\n",
       "      <td>...</td>\n",
       "      <td>...</td>\n",
       "      <td>...</td>\n",
       "    </tr>\n",
       "    <tr>\n",
       "      <th>32556</th>\n",
       "      <td>-0.849080</td>\n",
       "      <td>0.639741</td>\n",
       "      <td>11.0</td>\n",
       "      <td>1</td>\n",
       "      <td>-0.145920</td>\n",
       "      <td>-0.21666</td>\n",
       "      <td>-0.197409</td>\n",
       "      <td>4</td>\n",
       "      <td>2</td>\n",
       "      <td>13</td>\n",
       "      <td>5</td>\n",
       "      <td>4</td>\n",
       "      <td>39</td>\n",
       "    </tr>\n",
       "    <tr>\n",
       "      <th>32557</th>\n",
       "      <td>0.103983</td>\n",
       "      <td>-0.335433</td>\n",
       "      <td>8.0</td>\n",
       "      <td>0</td>\n",
       "      <td>-0.145920</td>\n",
       "      <td>-0.21666</td>\n",
       "      <td>-0.035429</td>\n",
       "      <td>4</td>\n",
       "      <td>2</td>\n",
       "      <td>7</td>\n",
       "      <td>0</td>\n",
       "      <td>4</td>\n",
       "      <td>39</td>\n",
       "    </tr>\n",
       "    <tr>\n",
       "      <th>32558</th>\n",
       "      <td>1.423610</td>\n",
       "      <td>-0.358777</td>\n",
       "      <td>8.0</td>\n",
       "      <td>1</td>\n",
       "      <td>-0.145920</td>\n",
       "      <td>-0.21666</td>\n",
       "      <td>-0.035429</td>\n",
       "      <td>4</td>\n",
       "      <td>6</td>\n",
       "      <td>1</td>\n",
       "      <td>4</td>\n",
       "      <td>4</td>\n",
       "      <td>39</td>\n",
       "    </tr>\n",
       "    <tr>\n",
       "      <th>32559</th>\n",
       "      <td>-1.215643</td>\n",
       "      <td>0.110960</td>\n",
       "      <td>8.0</td>\n",
       "      <td>0</td>\n",
       "      <td>-0.145920</td>\n",
       "      <td>-0.21666</td>\n",
       "      <td>-1.655225</td>\n",
       "      <td>4</td>\n",
       "      <td>4</td>\n",
       "      <td>1</td>\n",
       "      <td>3</td>\n",
       "      <td>4</td>\n",
       "      <td>39</td>\n",
       "    </tr>\n",
       "    <tr>\n",
       "      <th>32560</th>\n",
       "      <td>0.983734</td>\n",
       "      <td>0.929893</td>\n",
       "      <td>8.0</td>\n",
       "      <td>1</td>\n",
       "      <td>1.888424</td>\n",
       "      <td>-0.21666</td>\n",
       "      <td>-0.035429</td>\n",
       "      <td>5</td>\n",
       "      <td>2</td>\n",
       "      <td>4</td>\n",
       "      <td>5</td>\n",
       "      <td>4</td>\n",
       "      <td>39</td>\n",
       "    </tr>\n",
       "  </tbody>\n",
       "</table>\n",
       "<p>32561 rows × 13 columns</p>\n",
       "</div>"
      ],
      "text/plain": [
       "            Age  final weight  Education  Sex  Capital Gain  Capital Loss  \\\n",
       "0      0.030671     -1.063611       12.0    0      0.148453      -0.21666   \n",
       "1      0.837109     -1.008707       12.0    0     -0.145920      -0.21666   \n",
       "2     -0.042642      0.245079        8.0    0     -0.145920      -0.21666   \n",
       "3      1.057047      0.425801        6.0    0     -0.145920      -0.21666   \n",
       "4     -0.775768      1.408176       12.0    1     -0.145920      -0.21666   \n",
       "...         ...           ...        ...  ...           ...           ...   \n",
       "32556 -0.849080      0.639741       11.0    1     -0.145920      -0.21666   \n",
       "32557  0.103983     -0.335433        8.0    0     -0.145920      -0.21666   \n",
       "32558  1.423610     -0.358777        8.0    1     -0.145920      -0.21666   \n",
       "32559 -1.215643      0.110960        8.0    0     -0.145920      -0.21666   \n",
       "32560  0.983734      0.929893        8.0    1      1.888424      -0.21666   \n",
       "\n",
       "       Hours per week  Workclass  Marital Status  Occupation  Relationship  \\\n",
       "0           -0.035429          7               4           1             1   \n",
       "1           -2.222153          6               2           4             0   \n",
       "2           -0.035429          4               0           6             1   \n",
       "3           -0.035429          4               2           6             0   \n",
       "4           -0.035429          4               2          10             5   \n",
       "...               ...        ...             ...         ...           ...   \n",
       "32556       -0.197409          4               2          13             5   \n",
       "32557       -0.035429          4               2           7             0   \n",
       "32558       -0.035429          4               6           1             4   \n",
       "32559       -1.655225          4               4           1             3   \n",
       "32560       -0.035429          5               2           4             5   \n",
       "\n",
       "       Ethnic group  Country  \n",
       "0                 4       39  \n",
       "1                 4       39  \n",
       "2                 4       39  \n",
       "3                 2       39  \n",
       "4                 2        5  \n",
       "...             ...      ...  \n",
       "32556             4       39  \n",
       "32557             4       39  \n",
       "32558             4       39  \n",
       "32559             4       39  \n",
       "32560             4       39  \n",
       "\n",
       "[32561 rows x 13 columns]"
      ]
     },
     "execution_count": 18,
     "metadata": {},
     "output_type": "execute_result"
    }
   ],
   "source": [
    "X = add_num_and_cat(X, cat_df)\n",
    "X"
   ]
  },
  {
   "cell_type": "code",
   "execution_count": 19,
   "id": "89b92cbf",
   "metadata": {},
   "outputs": [],
   "source": [
    "X_train, X_test, y_train, y_test = train_test_split(X, y, test_size= 0.2)"
   ]
  },
  {
   "cell_type": "code",
   "execution_count": 20,
   "id": "8b108a4b",
   "metadata": {
    "scrolled": true
   },
   "outputs": [
    {
     "name": "stdout",
     "output_type": "stream",
     "text": [
      "Optimization terminated successfully.\n",
      "         Current function value: 0.397817\n",
      "         Iterations 8\n",
      "                           Logit Regression Results                           \n",
      "==============================================================================\n",
      "Dep. Variable:                 Income   No. Observations:                26048\n",
      "Model:                          Logit   Df Residuals:                    26035\n",
      "Method:                           MLE   Df Model:                           12\n",
      "Date:                Sun, 26 Mar 2023   Pseudo R-squ.:                  0.2809\n",
      "Time:                        22:40:57   Log-Likelihood:                -10362.\n",
      "converged:                       True   LL-Null:                       -14410.\n",
      "Covariance Type:            nonrobust   LLR p-value:                     0.000\n",
      "==================================================================================\n",
      "                     coef    std err          z      P>|z|      [0.025      0.975]\n",
      "----------------------------------------------------------------------------------\n",
      "Age                0.3759      0.020     18.823      0.000       0.337       0.415\n",
      "final weight       0.0394      0.017      2.266      0.023       0.005       0.073\n",
      "Education          0.2364      0.007     35.695      0.000       0.223       0.249\n",
      "Sex               -0.9062      0.056    -16.083      0.000      -1.017      -0.796\n",
      "Capital Gain       2.4681      0.082     29.926      0.000       2.306       2.630\n",
      "Capital Loss       0.2791      0.015     19.029      0.000       0.250       0.308\n",
      "Hours per week     0.3719      0.019     19.720      0.000       0.335       0.409\n",
      "Workclass         -0.1172      0.012    -10.002      0.000      -0.140      -0.094\n",
      "Marital Status    -0.3395      0.013    -25.403      0.000      -0.366      -0.313\n",
      "Occupation        -0.0003      0.004     -0.068      0.946      -0.009       0.008\n",
      "Relationship      -0.1844      0.016    -11.608      0.000      -0.216      -0.153\n",
      "Ethnic group      -0.1677      0.018     -9.083      0.000      -0.204      -0.132\n",
      "Country           -0.0280      0.002    -15.236      0.000      -0.032      -0.024\n",
      "==================================================================================\n"
     ]
    }
   ],
   "source": [
    "model = sm.Logit(y_train, X_train).fit()\n",
    "print(model.summary())"
   ]
  },
  {
   "cell_type": "code",
   "execution_count": 21,
   "id": "35d757c5",
   "metadata": {},
   "outputs": [
    {
     "name": "stdout",
     "output_type": "stream",
     "text": [
      "Actual values [0, 0, 0, 0, 0, 0, 0, 0, 0, 0]\n",
      "Predictions : [0, 0, 0, 0, 0, 0, 0, 0, 0, 0]\n"
     ]
    }
   ],
   "source": [
    "y_hat = model.predict(X_test)\n",
    "prediction = list(map(round, y_hat))\n",
    "\n",
    "print('Actual values', list(y_test.values)[:10])\n",
    "print('Predictions :', prediction[:10])"
   ]
  },
  {
   "cell_type": "code",
   "execution_count": 22,
   "id": "a14ffdb0",
   "metadata": {},
   "outputs": [
    {
     "name": "stdout",
     "output_type": "stream",
     "text": [
      "[[4672  300]\n",
      " [ 887  654]]\n",
      "              precision    recall  f1-score   support\n",
      "\n",
      "           0       0.84      0.94      0.89      4972\n",
      "           1       0.69      0.42      0.52      1541\n",
      "\n",
      "    accuracy                           0.82      6513\n",
      "   macro avg       0.76      0.68      0.71      6513\n",
      "weighted avg       0.80      0.82      0.80      6513\n",
      "\n"
     ]
    },
    {
     "data": {
      "image/png": "[encoded data removed]",
      "text/plain": [
       "<Figure size 640x480 with 2 Axes>"
      ]
     },
     "metadata": {},
     "output_type": "display_data"
    }
   ],
   "source": [
    "cm = confusion_matrix(y_test, prediction) \n",
    "s = sns.heatmap(cm, annot = True)\n",
    "s.set(xlabel='Predict', ylabel='Truth')\n",
    "print(cm)\n",
    "print(classification_report(y_test, prediction))"
   ]
  },
  {
   "cell_type": "markdown",
   "id": "056d2bb2",
   "metadata": {},
   "source": [
    "## Same model, but without 'final weight' parameter"
   ]
  },
  {
   "cell_type": "code",
   "execution_count": 23,
   "id": "ab0aa95e",
   "metadata": {},
   "outputs": [],
   "source": [
    "X, y = reset_xy(df)"
   ]
  },
  {
   "cell_type": "code",
   "execution_count": 25,
   "id": "83a519a1",
   "metadata": {},
   "outputs": [],
   "source": [
    "num_no_fw = X[['Age', 'Capital Gain', 'Capital Loss', 'Hours per week']]\n",
    "scale_numerical(num_no_fw)"
   ]
  },
  {
   "cell_type": "code",
   "execution_count": 26,
   "id": "a0c3d3fd",
   "metadata": {},
   "outputs": [],
   "source": [
    "encode_edu()\n",
    "cat_df = encode_categorical(categorical_features_df)"
   ]
  },
  {
   "cell_type": "code",
   "execution_count": 27,
   "id": "0417d5fa",
   "metadata": {},
   "outputs": [],
   "source": [
    "X = add_num_and_cat(X, cat_df)"
   ]
  },
  {
   "cell_type": "code",
   "execution_count": 28,
   "id": "87521409",
   "metadata": {},
   "outputs": [],
   "source": [
    "X_train, X_test, y_train, y_test = train_test_split(X, y, test_size= 0.2)"
   ]
  },
  {
   "cell_type": "code",
   "execution_count": 29,
   "id": "833f12b2",
   "metadata": {},
   "outputs": [
    {
     "name": "stdout",
     "output_type": "stream",
     "text": [
      "Optimization terminated successfully.\n",
      "         Current function value: 0.399746\n",
      "         Iterations 8\n",
      "                           Logit Regression Results                           \n",
      "==============================================================================\n",
      "Dep. Variable:                 Income   No. Observations:                26048\n",
      "Model:                          Logit   Df Residuals:                    26036\n",
      "Method:                           MLE   Df Model:                           11\n",
      "Date:                Sun, 26 Mar 2023   Pseudo R-squ.:                  0.2752\n",
      "Time:                        22:42:54   Log-Likelihood:                -10413.\n",
      "converged:                       True   LL-Null:                       -14365.\n",
      "Covariance Type:            nonrobust   LLR p-value:                     0.000\n",
      "==================================================================================\n",
      "                     coef    std err          z      P>|z|      [0.025      0.975]\n",
      "----------------------------------------------------------------------------------\n",
      "Age                0.3793      0.020     19.095      0.000       0.340       0.418\n",
      "Education          0.2326      0.007     35.290      0.000       0.220       0.246\n",
      "Sex               -0.8777      0.056    -15.768      0.000      -0.987      -0.769\n",
      "Capital Gain       2.4793      0.081     30.439      0.000       2.320       2.639\n",
      "Capital Loss       0.2773      0.015     18.543      0.000       0.248       0.307\n",
      "Hours per week     0.3726      0.019     19.624      0.000       0.335       0.410\n",
      "Workclass         -0.1165      0.012     -9.997      0.000      -0.139      -0.094\n",
      "Marital Status    -0.3227      0.013    -24.426      0.000      -0.349      -0.297\n",
      "Occupation        -0.0018      0.004     -0.429      0.668      -0.010       0.006\n",
      "Relationship      -0.1848      0.016    -11.732      0.000      -0.216      -0.154\n",
      "Ethnic group      -0.1806      0.018     -9.837      0.000      -0.217      -0.145\n",
      "Country           -0.0269      0.002    -14.770      0.000      -0.030      -0.023\n",
      "==================================================================================\n"
     ]
    }
   ],
   "source": [
    "model = sm.Logit(y_train, X_train).fit()\n",
    "print(model.summary())"
   ]
  },
  {
   "cell_type": "code",
   "execution_count": 30,
   "id": "4379601a",
   "metadata": {},
   "outputs": [
    {
     "name": "stdout",
     "output_type": "stream",
     "text": [
      "Actual values [1, 0, 1, 0, 0, 1, 0, 0, 0, 1]\n",
      "Predictions : [1, 0, 1, 0, 0, 0, 0, 0, 0, 0]\n"
     ]
    }
   ],
   "source": [
    "y_hat = model.predict(X_test)\n",
    "prediction = list(map(round, y_hat))\n",
    "\n",
    "print('Actual values', list(y_test.values)[:10])\n",
    "print('Predictions :', prediction[:10])"
   ]
  },
  {
   "cell_type": "code",
   "execution_count": 31,
   "id": "df581661",
   "metadata": {},
   "outputs": [
    {
     "name": "stdout",
     "output_type": "stream",
     "text": [
      "[[4652  281]\n",
      " [ 909  671]]\n",
      "              precision    recall  f1-score   support\n",
      "\n",
      "           0       0.84      0.94      0.89      4933\n",
      "           1       0.70      0.42      0.53      1580\n",
      "\n",
      "    accuracy                           0.82      6513\n",
      "   macro avg       0.77      0.68      0.71      6513\n",
      "weighted avg       0.80      0.82      0.80      6513\n",
      "\n"
     ]
    },
    {
     "data": {
      "image/png": "[encoded data removed]",
      "text/plain": [
       "<Figure size 640x480 with 2 Axes>"
      ]
     },
     "metadata": {},
     "output_type": "display_data"
    }
   ],
   "source": [
    "cm = confusion_matrix(y_test, prediction) \n",
    "s = sns.heatmap(cm, annot = True)\n",
    "s.set(xlabel='Predict', ylabel='Truth')\n",
    "print(cm)\n",
    "print(classification_report(y_test, prediction))"
   ]
  },
  {
   "cell_type": "markdown",
   "id": "5a08772a",
   "metadata": {},
   "source": [
    "## Same model, but with Capital paremeters logged"
   ]
  },
  {
   "cell_type": "code",
   "execution_count": 32,
   "id": "90a44760",
   "metadata": {},
   "outputs": [],
   "source": [
    "X, y = reset_xy(df)"
   ]
  },
  {
   "cell_type": "code",
   "execution_count": 33,
   "id": "9078b7b1",
   "metadata": {
    "scrolled": true
   },
   "outputs": [],
   "source": [
    "def capital_log():\n",
    "    X['Capital Gain'] = np.log(1+ X['Capital Gain'])\n",
    "    X['Capital Loss'] = np.log(1+ X['Capital Loss'])\n",
    "    \n",
    "capital_log()"
   ]
  },
  {
   "cell_type": "code",
   "execution_count": 34,
   "id": "d7ff31fc",
   "metadata": {},
   "outputs": [],
   "source": [
    "num_no_capital = X[['Age', 'Hours per week']]\n",
    "scale_numerical(num_no_capital)"
   ]
  },
  {
   "cell_type": "code",
   "execution_count": 35,
   "id": "c88620e0",
   "metadata": {},
   "outputs": [
    {
     "data": {
      "text/html": [
       "<div>\n",
       "<style scoped>\n",
       "    .dataframe tbody tr th:only-of-type {\n",
       "        vertical-align: middle;\n",
       "    }\n",
       "\n",
       "    .dataframe tbody tr th {\n",
       "        vertical-align: top;\n",
       "    }\n",
       "\n",
       "    .dataframe thead th {\n",
       "        text-align: right;\n",
       "    }\n",
       "</style>\n",
       "<table border=\"1\" class=\"dataframe\">\n",
       "  <thead>\n",
       "    <tr style=\"text-align: right;\">\n",
       "      <th></th>\n",
       "      <th>Age</th>\n",
       "      <th>Workclass</th>\n",
       "      <th>Education</th>\n",
       "      <th>Marital Status</th>\n",
       "      <th>Occupation</th>\n",
       "      <th>Relationship</th>\n",
       "      <th>Ethnic group</th>\n",
       "      <th>Sex</th>\n",
       "      <th>Capital Gain</th>\n",
       "      <th>Capital Loss</th>\n",
       "      <th>Hours per week</th>\n",
       "      <th>Country</th>\n",
       "    </tr>\n",
       "  </thead>\n",
       "  <tbody>\n",
       "    <tr>\n",
       "      <th>0</th>\n",
       "      <td>0.030671</td>\n",
       "      <td>State-gov</td>\n",
       "      <td>Bachelors</td>\n",
       "      <td>Never-married</td>\n",
       "      <td>Adm-clerical</td>\n",
       "      <td>Not-in-family</td>\n",
       "      <td>White</td>\n",
       "      <td>0</td>\n",
       "      <td>7.684784</td>\n",
       "      <td>0.0</td>\n",
       "      <td>-0.035429</td>\n",
       "      <td>United-States</td>\n",
       "    </tr>\n",
       "    <tr>\n",
       "      <th>1</th>\n",
       "      <td>0.837109</td>\n",
       "      <td>Self-emp-not-inc</td>\n",
       "      <td>Bachelors</td>\n",
       "      <td>Married-civ-spouse</td>\n",
       "      <td>Exec-managerial</td>\n",
       "      <td>Husband</td>\n",
       "      <td>White</td>\n",
       "      <td>0</td>\n",
       "      <td>0.000000</td>\n",
       "      <td>0.0</td>\n",
       "      <td>-2.222153</td>\n",
       "      <td>United-States</td>\n",
       "    </tr>\n",
       "  </tbody>\n",
       "</table>\n",
       "</div>"
      ],
      "text/plain": [
       "        Age          Workclass   Education       Marital Status  \\\n",
       "0  0.030671          State-gov   Bachelors        Never-married   \n",
       "1  0.837109   Self-emp-not-inc   Bachelors   Married-civ-spouse   \n",
       "\n",
       "         Occupation    Relationship Ethnic group  Sex  Capital Gain  \\\n",
       "0      Adm-clerical   Not-in-family        White    0      7.684784   \n",
       "1   Exec-managerial         Husband        White    0      0.000000   \n",
       "\n",
       "   Capital Loss  Hours per week         Country  \n",
       "0           0.0       -0.035429   United-States  \n",
       "1           0.0       -2.222153   United-States  "
      ]
     },
     "execution_count": 35,
     "metadata": {},
     "output_type": "execute_result"
    }
   ],
   "source": [
    "X.head(2)"
   ]
  },
  {
   "cell_type": "code",
   "execution_count": 37,
   "id": "0616d058",
   "metadata": {},
   "outputs": [],
   "source": [
    "encode_edu()\n",
    "cat_df = encode_categorical(categorical_features_df)"
   ]
  },
  {
   "cell_type": "code",
   "execution_count": 38,
   "id": "c571510a",
   "metadata": {},
   "outputs": [],
   "source": [
    "X = add_num_and_cat(X, cat_df)"
   ]
  },
  {
   "cell_type": "code",
   "execution_count": 39,
   "id": "184c7b8a",
   "metadata": {},
   "outputs": [
    {
     "data": {
      "text/html": [
       "<div>\n",
       "<style scoped>\n",
       "    .dataframe tbody tr th:only-of-type {\n",
       "        vertical-align: middle;\n",
       "    }\n",
       "\n",
       "    .dataframe tbody tr th {\n",
       "        vertical-align: top;\n",
       "    }\n",
       "\n",
       "    .dataframe thead th {\n",
       "        text-align: right;\n",
       "    }\n",
       "</style>\n",
       "<table border=\"1\" class=\"dataframe\">\n",
       "  <thead>\n",
       "    <tr style=\"text-align: right;\">\n",
       "      <th></th>\n",
       "      <th>Age</th>\n",
       "      <th>Education</th>\n",
       "      <th>Sex</th>\n",
       "      <th>Capital Gain</th>\n",
       "      <th>Capital Loss</th>\n",
       "      <th>Hours per week</th>\n",
       "      <th>Workclass</th>\n",
       "      <th>Marital Status</th>\n",
       "      <th>Occupation</th>\n",
       "      <th>Relationship</th>\n",
       "      <th>Ethnic group</th>\n",
       "      <th>Country</th>\n",
       "    </tr>\n",
       "  </thead>\n",
       "  <tbody>\n",
       "    <tr>\n",
       "      <th>0</th>\n",
       "      <td>0.030671</td>\n",
       "      <td>12.0</td>\n",
       "      <td>0</td>\n",
       "      <td>7.684784</td>\n",
       "      <td>0.0</td>\n",
       "      <td>-0.035429</td>\n",
       "      <td>7</td>\n",
       "      <td>4</td>\n",
       "      <td>1</td>\n",
       "      <td>1</td>\n",
       "      <td>4</td>\n",
       "      <td>39</td>\n",
       "    </tr>\n",
       "    <tr>\n",
       "      <th>1</th>\n",
       "      <td>0.837109</td>\n",
       "      <td>12.0</td>\n",
       "      <td>0</td>\n",
       "      <td>0.000000</td>\n",
       "      <td>0.0</td>\n",
       "      <td>-2.222153</td>\n",
       "      <td>6</td>\n",
       "      <td>2</td>\n",
       "      <td>4</td>\n",
       "      <td>0</td>\n",
       "      <td>4</td>\n",
       "      <td>39</td>\n",
       "    </tr>\n",
       "    <tr>\n",
       "      <th>2</th>\n",
       "      <td>-0.042642</td>\n",
       "      <td>8.0</td>\n",
       "      <td>0</td>\n",
       "      <td>0.000000</td>\n",
       "      <td>0.0</td>\n",
       "      <td>-0.035429</td>\n",
       "      <td>4</td>\n",
       "      <td>0</td>\n",
       "      <td>6</td>\n",
       "      <td>1</td>\n",
       "      <td>4</td>\n",
       "      <td>39</td>\n",
       "    </tr>\n",
       "    <tr>\n",
       "      <th>3</th>\n",
       "      <td>1.057047</td>\n",
       "      <td>6.0</td>\n",
       "      <td>0</td>\n",
       "      <td>0.000000</td>\n",
       "      <td>0.0</td>\n",
       "      <td>-0.035429</td>\n",
       "      <td>4</td>\n",
       "      <td>2</td>\n",
       "      <td>6</td>\n",
       "      <td>0</td>\n",
       "      <td>2</td>\n",
       "      <td>39</td>\n",
       "    </tr>\n",
       "    <tr>\n",
       "      <th>4</th>\n",
       "      <td>-0.775768</td>\n",
       "      <td>12.0</td>\n",
       "      <td>1</td>\n",
       "      <td>0.000000</td>\n",
       "      <td>0.0</td>\n",
       "      <td>-0.035429</td>\n",
       "      <td>4</td>\n",
       "      <td>2</td>\n",
       "      <td>10</td>\n",
       "      <td>5</td>\n",
       "      <td>2</td>\n",
       "      <td>5</td>\n",
       "    </tr>\n",
       "  </tbody>\n",
       "</table>\n",
       "</div>"
      ],
      "text/plain": [
       "        Age  Education  Sex  Capital Gain  Capital Loss  Hours per week  \\\n",
       "0  0.030671       12.0    0      7.684784           0.0       -0.035429   \n",
       "1  0.837109       12.0    0      0.000000           0.0       -2.222153   \n",
       "2 -0.042642        8.0    0      0.000000           0.0       -0.035429   \n",
       "3  1.057047        6.0    0      0.000000           0.0       -0.035429   \n",
       "4 -0.775768       12.0    1      0.000000           0.0       -0.035429   \n",
       "\n",
       "   Workclass  Marital Status  Occupation  Relationship  Ethnic group  Country  \n",
       "0          7               4           1             1             4       39  \n",
       "1          6               2           4             0             4       39  \n",
       "2          4               0           6             1             4       39  \n",
       "3          4               2           6             0             2       39  \n",
       "4          4               2          10             5             2        5  "
      ]
     },
     "execution_count": 39,
     "metadata": {},
     "output_type": "execute_result"
    }
   ],
   "source": [
    "X.head()"
   ]
  },
  {
   "cell_type": "code",
   "execution_count": 40,
   "id": "d543b386",
   "metadata": {},
   "outputs": [],
   "source": [
    "X_train, X_test, y_train, y_test = train_test_split(X, y, test_size= 0.2)"
   ]
  },
  {
   "cell_type": "code",
   "execution_count": 41,
   "id": "a0910a21",
   "metadata": {},
   "outputs": [
    {
     "name": "stdout",
     "output_type": "stream",
     "text": [
      "Optimization terminated successfully.\n",
      "         Current function value: 0.413653\n",
      "         Iterations 7\n",
      "                           Logit Regression Results                           \n",
      "==============================================================================\n",
      "Dep. Variable:                 Income   No. Observations:                26048\n",
      "Model:                          Logit   Df Residuals:                    26036\n",
      "Method:                           MLE   Df Model:                           11\n",
      "Date:                Sun, 26 Mar 2023   Pseudo R-squ.:                  0.2511\n",
      "Time:                        22:44:45   Log-Likelihood:                -10775.\n",
      "converged:                       True   LL-Null:                       -14387.\n",
      "Covariance Type:            nonrobust   LLR p-value:                     0.000\n",
      "==================================================================================\n",
      "                     coef    std err          z      P>|z|      [0.025      0.975]\n",
      "----------------------------------------------------------------------------------\n",
      "Age                0.4088      0.019     21.051      0.000       0.371       0.447\n",
      "Education          0.2286      0.006     35.418      0.000       0.216       0.241\n",
      "Sex               -0.8975      0.054    -16.575      0.000      -1.004      -0.791\n",
      "Capital Gain       0.2058      0.006     32.064      0.000       0.193       0.218\n",
      "Capital Loss       0.1595      0.009     17.235      0.000       0.141       0.178\n",
      "Hours per week     0.3985      0.019     21.380      0.000       0.362       0.435\n",
      "Workclass         -0.1358      0.011    -11.829      0.000      -0.158      -0.113\n",
      "Marital Status    -0.3323      0.013    -26.020      0.000      -0.357      -0.307\n",
      "Occupation        -0.0005      0.004     -0.124      0.901      -0.009       0.008\n",
      "Relationship      -0.1687      0.015    -11.079      0.000      -0.199      -0.139\n",
      "Ethnic group      -0.2213      0.018    -12.406      0.000      -0.256      -0.186\n",
      "Country           -0.0300      0.002    -16.921      0.000      -0.033      -0.027\n",
      "==================================================================================\n"
     ]
    }
   ],
   "source": [
    "model = sm.Logit(y_train, X_train).fit()\n",
    "print(model.summary())"
   ]
  },
  {
   "cell_type": "code",
   "execution_count": 42,
   "id": "d755a174",
   "metadata": {},
   "outputs": [
    {
     "name": "stdout",
     "output_type": "stream",
     "text": [
      "Actual values [0, 0, 0, 0, 0, 0, 1, 0, 0, 0]\n",
      "Predictions : [0, 0, 0, 0, 0, 0, 0, 0, 0, 0]\n"
     ]
    }
   ],
   "source": [
    "y_hat = model.predict(X_test)\n",
    "prediction = list(map(round, y_hat))\n",
    "print('Actual values', list(y_test.values)[:10])\n",
    "print('Predictions :', prediction[:10])"
   ]
  },
  {
   "cell_type": "code",
   "execution_count": 43,
   "id": "3b1497ec",
   "metadata": {},
   "outputs": [
    {
     "name": "stdout",
     "output_type": "stream",
     "text": [
      "[[4573  379]\n",
      " [ 906  655]]\n",
      "              precision    recall  f1-score   support\n",
      "\n",
      "           0       0.83      0.92      0.88      4952\n",
      "           1       0.63      0.42      0.50      1561\n",
      "\n",
      "    accuracy                           0.80      6513\n",
      "   macro avg       0.73      0.67      0.69      6513\n",
      "weighted avg       0.79      0.80      0.79      6513\n",
      "\n"
     ]
    },
    {
     "data": {
      "image/png": "[encoded data removed]",
      "text/plain": [
       "<Figure size 640x480 with 2 Axes>"
      ]
     },
     "metadata": {},
     "output_type": "display_data"
    }
   ],
   "source": [
    "cm = confusion_matrix(y_test, prediction) \n",
    "s = sns.heatmap(cm, annot = True)\n",
    "s.set(xlabel='Predict', ylabel='Truth')\n",
    "print(cm)\n",
    "print(classification_report(y_test, prediction))"
   ]
  },
  {
   "cell_type": "markdown",
   "id": "9016ec2b",
   "metadata": {},
   "source": [
    "## Logistic regression with previous data transformation"
   ]
  },
  {
   "cell_type": "code",
   "execution_count": 44,
   "id": "6fc8f986",
   "metadata": {},
   "outputs": [],
   "source": [
    "X, y = reset_xy(df)"
   ]
  },
  {
   "cell_type": "code",
   "execution_count": 45,
   "id": "b5ab4cec",
   "metadata": {},
   "outputs": [
    {
     "data": {
      "text/html": [
       "<div>\n",
       "<style scoped>\n",
       "    .dataframe tbody tr th:only-of-type {\n",
       "        vertical-align: middle;\n",
       "    }\n",
       "\n",
       "    .dataframe tbody tr th {\n",
       "        vertical-align: top;\n",
       "    }\n",
       "\n",
       "    .dataframe thead th {\n",
       "        text-align: right;\n",
       "    }\n",
       "</style>\n",
       "<table border=\"1\" class=\"dataframe\">\n",
       "  <thead>\n",
       "    <tr style=\"text-align: right;\">\n",
       "      <th></th>\n",
       "      <th>Age</th>\n",
       "      <th>Workclass</th>\n",
       "      <th>Education</th>\n",
       "      <th>Marital Status</th>\n",
       "      <th>Occupation</th>\n",
       "      <th>Relationship</th>\n",
       "      <th>Ethnic group</th>\n",
       "      <th>Sex</th>\n",
       "      <th>Capital Gain</th>\n",
       "      <th>Capital Loss</th>\n",
       "      <th>Hours per week</th>\n",
       "      <th>Country</th>\n",
       "    </tr>\n",
       "  </thead>\n",
       "  <tbody>\n",
       "    <tr>\n",
       "      <th>32319</th>\n",
       "      <td>54</td>\n",
       "      <td>Private</td>\n",
       "      <td>HS-grad</td>\n",
       "      <td>Widowed</td>\n",
       "      <td>Sales</td>\n",
       "      <td>Not-in-family</td>\n",
       "      <td>White</td>\n",
       "      <td>1</td>\n",
       "      <td>0</td>\n",
       "      <td>0</td>\n",
       "      <td>37</td>\n",
       "      <td>United-States</td>\n",
       "    </tr>\n",
       "    <tr>\n",
       "      <th>18516</th>\n",
       "      <td>17</td>\n",
       "      <td>Private</td>\n",
       "      <td>11th</td>\n",
       "      <td>Never-married</td>\n",
       "      <td>Other-service</td>\n",
       "      <td>Own-child</td>\n",
       "      <td>White</td>\n",
       "      <td>0</td>\n",
       "      <td>0</td>\n",
       "      <td>0</td>\n",
       "      <td>25</td>\n",
       "      <td>United-States</td>\n",
       "    </tr>\n",
       "    <tr>\n",
       "      <th>5638</th>\n",
       "      <td>25</td>\n",
       "      <td>Private</td>\n",
       "      <td>Bachelors</td>\n",
       "      <td>Never-married</td>\n",
       "      <td>Craft-repair</td>\n",
       "      <td>Own-child</td>\n",
       "      <td>White</td>\n",
       "      <td>0</td>\n",
       "      <td>0</td>\n",
       "      <td>0</td>\n",
       "      <td>40</td>\n",
       "      <td>United-States</td>\n",
       "    </tr>\n",
       "  </tbody>\n",
       "</table>\n",
       "</div>"
      ],
      "text/plain": [
       "       Age Workclass   Education  Marital Status      Occupation  \\\n",
       "32319   54   Private     HS-grad         Widowed           Sales   \n",
       "18516   17   Private        11th   Never-married   Other-service   \n",
       "5638    25   Private   Bachelors   Never-married    Craft-repair   \n",
       "\n",
       "         Relationship Ethnic group  Sex  Capital Gain  Capital Loss  \\\n",
       "32319   Not-in-family        White    1             0             0   \n",
       "18516       Own-child        White    0             0             0   \n",
       "5638        Own-child        White    0             0             0   \n",
       "\n",
       "       Hours per week         Country  \n",
       "32319              37   United-States  \n",
       "18516              25   United-States  \n",
       "5638               40   United-States  "
      ]
     },
     "execution_count": 45,
     "metadata": {},
     "output_type": "execute_result"
    }
   ],
   "source": [
    "def balance_predictors():\n",
    "    X['Ethnic group'] = np.where(df['Ethnic group'] != ' White', 'Other', df['Ethnic group'])\n",
    "    X['Country'] = np.where(df['Country'] != ' United-States', 'Other', df['Country'])\n",
    "    X['Workclass'] = np.where(df['Workclass'] != ' Private', 'Other', df['Workclass'])\n",
    "    \n",
    "balance_predictors()\n",
    "X.sample(3)"
   ]
  },
  {
   "cell_type": "code",
   "execution_count": 46,
   "id": "6fc716ce",
   "metadata": {},
   "outputs": [],
   "source": [
    "encode_edu()"
   ]
  },
  {
   "cell_type": "code",
   "execution_count": 47,
   "id": "bc0a371a",
   "metadata": {},
   "outputs": [],
   "source": [
    "capital_log()\n",
    "\n",
    "scale_numerical(num_no_fw)"
   ]
  },
  {
   "cell_type": "code",
   "execution_count": 48,
   "id": "4f8a10ab",
   "metadata": {},
   "outputs": [
    {
     "data": {
      "text/html": [
       "<div>\n",
       "<style scoped>\n",
       "    .dataframe tbody tr th:only-of-type {\n",
       "        vertical-align: middle;\n",
       "    }\n",
       "\n",
       "    .dataframe tbody tr th {\n",
       "        vertical-align: top;\n",
       "    }\n",
       "\n",
       "    .dataframe thead th {\n",
       "        text-align: right;\n",
       "    }\n",
       "</style>\n",
       "<table border=\"1\" class=\"dataframe\">\n",
       "  <thead>\n",
       "    <tr style=\"text-align: right;\">\n",
       "      <th></th>\n",
       "      <th>Age</th>\n",
       "      <th>Workclass</th>\n",
       "      <th>Education</th>\n",
       "      <th>Marital Status</th>\n",
       "      <th>Occupation</th>\n",
       "      <th>Relationship</th>\n",
       "      <th>Ethnic group</th>\n",
       "      <th>Sex</th>\n",
       "      <th>Capital Gain</th>\n",
       "      <th>Capital Loss</th>\n",
       "      <th>Hours per week</th>\n",
       "      <th>Country</th>\n",
       "    </tr>\n",
       "  </thead>\n",
       "  <tbody>\n",
       "    <tr>\n",
       "      <th>30268</th>\n",
       "      <td>1.570235</td>\n",
       "      <td>Other</td>\n",
       "      <td>4.0</td>\n",
       "      <td>Widowed</td>\n",
       "      <td>?</td>\n",
       "      <td>Not-in-family</td>\n",
       "      <td>White</td>\n",
       "      <td>1</td>\n",
       "      <td>-0.14592</td>\n",
       "      <td>-0.21666</td>\n",
       "      <td>-0.035429</td>\n",
       "      <td>United-States</td>\n",
       "    </tr>\n",
       "  </tbody>\n",
       "</table>\n",
       "</div>"
      ],
      "text/plain": [
       "            Age Workclass  Education Marital Status Occupation  \\\n",
       "30268  1.570235     Other        4.0        Widowed          ?   \n",
       "\n",
       "         Relationship Ethnic group  Sex  Capital Gain  Capital Loss  \\\n",
       "30268   Not-in-family        White    1      -0.14592      -0.21666   \n",
       "\n",
       "       Hours per week         Country  \n",
       "30268       -0.035429   United-States  "
      ]
     },
     "execution_count": 48,
     "metadata": {},
     "output_type": "execute_result"
    }
   ],
   "source": [
    "X.sample()"
   ]
  },
  {
   "cell_type": "code",
   "execution_count": 49,
   "id": "efd0d60a",
   "metadata": {},
   "outputs": [],
   "source": [
    "categorical_features_df = X[['Workclass', 'Marital Status', 'Occupation', 'Relationship', 'Ethnic group', 'Country']]"
   ]
  },
  {
   "cell_type": "code",
   "execution_count": 50,
   "id": "00cee68d",
   "metadata": {},
   "outputs": [],
   "source": [
    "cat_df = encode_categorical(categorical_features_df)"
   ]
  },
  {
   "cell_type": "code",
   "execution_count": 51,
   "id": "22061ff5",
   "metadata": {},
   "outputs": [],
   "source": [
    "X = add_num_and_cat(X, cat_df)"
   ]
  },
  {
   "cell_type": "code",
   "execution_count": 52,
   "id": "78edd2ea",
   "metadata": {},
   "outputs": [],
   "source": [
    "X_train, X_test, y_train, y_test = train_test_split(X, y, test_size= 0.2)"
   ]
  },
  {
   "cell_type": "code",
   "execution_count": 53,
   "id": "2484f8d0",
   "metadata": {},
   "outputs": [
    {
     "name": "stdout",
     "output_type": "stream",
     "text": [
      "Optimization terminated successfully.\n",
      "         Current function value: 0.417992\n",
      "         Iterations 8\n",
      "                           Logit Regression Results                           \n",
      "==============================================================================\n",
      "Dep. Variable:                 Income   No. Observations:                26048\n",
      "Model:                          Logit   Df Residuals:                    26036\n",
      "Method:                           MLE   Df Model:                           11\n",
      "Date:                Sun, 26 Mar 2023   Pseudo R-squ.:                  0.2418\n",
      "Time:                        22:46:58   Log-Likelihood:                -10888.\n",
      "converged:                       True   LL-Null:                       -14361.\n",
      "Covariance Type:            nonrobust   LLR p-value:                     0.000\n",
      "==================================================================================\n",
      "                     coef    std err          z      P>|z|      [0.025      0.975]\n",
      "----------------------------------------------------------------------------------\n",
      "Age                0.2900      0.019     14.937      0.000       0.252       0.328\n",
      "Education          0.0900      0.004     20.033      0.000       0.081       0.099\n",
      "Sex               -0.8356      0.055    -15.095      0.000      -0.944      -0.727\n",
      "Capital Gain       2.7991      0.087     32.050      0.000       2.628       2.970\n",
      "Capital Loss       0.2967      0.015     20.003      0.000       0.268       0.326\n",
      "Hours per week     0.3213      0.018     17.397      0.000       0.285       0.357\n",
      "Workclass         -0.1752      0.037     -4.697      0.000      -0.248      -0.102\n",
      "Marital Status    -0.4302      0.013    -33.273      0.000      -0.456      -0.405\n",
      "Occupation        -0.0344      0.004     -8.688      0.000      -0.042      -0.027\n",
      "Relationship      -0.2236      0.016    -14.400      0.000      -0.254      -0.193\n",
      "Ethnic group      -0.4198      0.058     -7.267      0.000      -0.533      -0.307\n",
      "Country           -0.1709      0.061     -2.805      0.005      -0.290      -0.051\n",
      "==================================================================================\n"
     ]
    }
   ],
   "source": [
    "model = sm.Logit(y_train, X_train).fit()\n",
    "print(model.summary())"
   ]
  },
  {
   "cell_type": "code",
   "execution_count": 54,
   "id": "5f1eba65",
   "metadata": {},
   "outputs": [
    {
     "name": "stdout",
     "output_type": "stream",
     "text": [
      "Actual values [0, 0, 0, 0, 0, 1, 0, 0, 1, 0]\n",
      "Predictions : [0, 0, 1, 0, 0, 0, 0, 0, 1, 0]\n"
     ]
    }
   ],
   "source": [
    "y_hat = model.predict(X_test)\n",
    "prediction = list(map(round, y_hat))\n",
    "\n",
    "print('Actual values', list(y_test.values)[:10])\n",
    "print('Predictions :', prediction[:10])"
   ]
  },
  {
   "cell_type": "code",
   "execution_count": 55,
   "id": "e047cc01",
   "metadata": {},
   "outputs": [
    {
     "name": "stdout",
     "output_type": "stream",
     "text": [
      "[[4634  295]\n",
      " [1017  567]]\n",
      "              precision    recall  f1-score   support\n",
      "\n",
      "           0       0.82      0.94      0.88      4929\n",
      "           1       0.66      0.36      0.46      1584\n",
      "\n",
      "    accuracy                           0.80      6513\n",
      "   macro avg       0.74      0.65      0.67      6513\n",
      "weighted avg       0.78      0.80      0.78      6513\n",
      "\n"
     ]
    },
    {
     "data": {
      "image/png": "[encoded data removed]",
      "text/plain": [
       "<Figure size 640x480 with 2 Axes>"
      ]
     },
     "metadata": {},
     "output_type": "display_data"
    }
   ],
   "source": [
    "cm = confusion_matrix(y_test, prediction) \n",
    "s = sns.heatmap(cm, annot = True)\n",
    "s.set(xlabel='Predict', ylabel='Truth')\n",
    "print(cm)\n",
    "print(classification_report(y_test, prediction))"
   ]
  },
  {
   "cell_type": "markdown",
   "id": "abf27d11",
   "metadata": {},
   "source": [
    "## Oversampling target"
   ]
  },
  {
   "cell_type": "code",
   "execution_count": 93,
   "id": "5671c852",
   "metadata": {},
   "outputs": [],
   "source": [
    "count_class_0, count_class_1 = df['Income'].value_counts()\n",
    "\n",
    "y0 = df[df['Income'] == 0]\n",
    "y1 = df[df['Income'] == 1]"
   ]
  },
  {
   "cell_type": "code",
   "execution_count": 94,
   "id": "c1a7145a",
   "metadata": {},
   "outputs": [
    {
     "name": "stdout",
     "output_type": "stream",
     "text": [
      "(24720, 14)\n",
      "(24720, 14)\n"
     ]
    }
   ],
   "source": [
    "print(y0.shape)\n",
    "print(y1.shape)"
   ]
  },
  {
   "cell_type": "code",
   "execution_count": 95,
   "id": "4b23ba1b",
   "metadata": {},
   "outputs": [],
   "source": [
    "y1_over = y1.sample(count_class_0, replace = True)"
   ]
  },
  {
   "cell_type": "code",
   "execution_count": 96,
   "id": "238a3a2c",
   "metadata": {},
   "outputs": [],
   "source": [
    "df = pd.concat([y0, y1_over], axis = 0)"
   ]
  },
  {
   "cell_type": "code",
   "execution_count": 97,
   "id": "8b454613",
   "metadata": {},
   "outputs": [
    {
     "data": {
      "text/plain": [
       "(49440, 14)"
      ]
     },
     "execution_count": 97,
     "metadata": {},
     "output_type": "execute_result"
    }
   ],
   "source": [
    "df.shape"
   ]
  },
  {
   "cell_type": "code",
   "execution_count": 98,
   "id": "e2771b61",
   "metadata": {},
   "outputs": [],
   "source": [
    "X, y = reset_xy(df)"
   ]
  },
  {
   "cell_type": "code",
   "execution_count": 99,
   "id": "89f28dea",
   "metadata": {},
   "outputs": [],
   "source": [
    "# balance_predictors()"
   ]
  },
  {
   "cell_type": "code",
   "execution_count": 100,
   "id": "c2afe650",
   "metadata": {},
   "outputs": [],
   "source": [
    "encode_edu()"
   ]
  },
  {
   "cell_type": "code",
   "execution_count": 101,
   "id": "e97c461b",
   "metadata": {},
   "outputs": [],
   "source": [
    "capital_log()"
   ]
  },
  {
   "cell_type": "code",
   "execution_count": 102,
   "id": "b35994f5",
   "metadata": {},
   "outputs": [],
   "source": [
    "num_no_capital = X[['Age', 'Hours per week']]\n",
    "scale_numerical(num_no_capital)"
   ]
  },
  {
   "cell_type": "code",
   "execution_count": 103,
   "id": "606e73ff",
   "metadata": {},
   "outputs": [],
   "source": [
    "categorical_features_df = X[['Workclass', 'Marital Status', 'Occupation', 'Relationship', 'Ethnic group', 'Country']]\n",
    "cat_df = encode_categorical(categorical_features_df)"
   ]
  },
  {
   "cell_type": "code",
   "execution_count": 104,
   "id": "b3254ebc",
   "metadata": {},
   "outputs": [],
   "source": [
    "X = add_num_and_cat(X, cat_df)"
   ]
  },
  {
   "cell_type": "code",
   "execution_count": 105,
   "id": "90eec28d",
   "metadata": {},
   "outputs": [
    {
     "data": {
      "text/html": [
       "<div>\n",
       "<style scoped>\n",
       "    .dataframe tbody tr th:only-of-type {\n",
       "        vertical-align: middle;\n",
       "    }\n",
       "\n",
       "    .dataframe tbody tr th {\n",
       "        vertical-align: top;\n",
       "    }\n",
       "\n",
       "    .dataframe thead th {\n",
       "        text-align: right;\n",
       "    }\n",
       "</style>\n",
       "<table border=\"1\" class=\"dataframe\">\n",
       "  <thead>\n",
       "    <tr style=\"text-align: right;\">\n",
       "      <th></th>\n",
       "      <th>Age</th>\n",
       "      <th>Education</th>\n",
       "      <th>Sex</th>\n",
       "      <th>Capital Gain</th>\n",
       "      <th>Capital Loss</th>\n",
       "      <th>Hours per week</th>\n",
       "      <th>Workclass</th>\n",
       "      <th>Marital Status</th>\n",
       "      <th>Occupation</th>\n",
       "      <th>Relationship</th>\n",
       "      <th>Ethnic group</th>\n",
       "      <th>Country</th>\n",
       "    </tr>\n",
       "  </thead>\n",
       "  <tbody>\n",
       "    <tr>\n",
       "      <th>9658</th>\n",
       "      <td>1.266033</td>\n",
       "      <td>1.0</td>\n",
       "      <td>0</td>\n",
       "      <td>0.0</td>\n",
       "      <td>0.0</td>\n",
       "      <td>-0.173462</td>\n",
       "      <td>4</td>\n",
       "      <td>2</td>\n",
       "      <td>8</td>\n",
       "      <td>0</td>\n",
       "      <td>3</td>\n",
       "      <td>6</td>\n",
       "    </tr>\n",
       "    <tr>\n",
       "      <th>30618</th>\n",
       "      <td>-0.427444</td>\n",
       "      <td>8.0</td>\n",
       "      <td>1</td>\n",
       "      <td>0.0</td>\n",
       "      <td>0.0</td>\n",
       "      <td>-0.173462</td>\n",
       "      <td>4</td>\n",
       "      <td>4</td>\n",
       "      <td>8</td>\n",
       "      <td>1</td>\n",
       "      <td>4</td>\n",
       "      <td>39</td>\n",
       "    </tr>\n",
       "    <tr>\n",
       "      <th>17883</th>\n",
       "      <td>-0.350468</td>\n",
       "      <td>9.0</td>\n",
       "      <td>1</td>\n",
       "      <td>0.0</td>\n",
       "      <td>0.0</td>\n",
       "      <td>0.484531</td>\n",
       "      <td>2</td>\n",
       "      <td>4</td>\n",
       "      <td>4</td>\n",
       "      <td>4</td>\n",
       "      <td>2</td>\n",
       "      <td>39</td>\n",
       "    </tr>\n",
       "  </tbody>\n",
       "</table>\n",
       "</div>"
      ],
      "text/plain": [
       "            Age  Education  Sex  Capital Gain  Capital Loss  Hours per week  \\\n",
       "9658   1.266033        1.0    0           0.0           0.0       -0.173462   \n",
       "30618 -0.427444        8.0    1           0.0           0.0       -0.173462   \n",
       "17883 -0.350468        9.0    1           0.0           0.0        0.484531   \n",
       "\n",
       "       Workclass  Marital Status  Occupation  Relationship  Ethnic group  \\\n",
       "9658           4               2           8             0             3   \n",
       "30618          4               4           8             1             4   \n",
       "17883          2               4           4             4             2   \n",
       "\n",
       "       Country  \n",
       "9658         6  \n",
       "30618       39  \n",
       "17883       39  "
      ]
     },
     "execution_count": 105,
     "metadata": {},
     "output_type": "execute_result"
    }
   ],
   "source": [
    "X_train, X_test, y_train, y_test = train_test_split(X, y, test_size= 0.2)\n",
    "X_train.sample(3)"
   ]
  },
  {
   "cell_type": "code",
   "execution_count": 106,
   "id": "50115066",
   "metadata": {},
   "outputs": [
    {
     "name": "stdout",
     "output_type": "stream",
     "text": [
      "Optimization terminated successfully.\n",
      "         Current function value: 0.490267\n",
      "         Iterations 6\n",
      "                           Logit Regression Results                           \n",
      "==============================================================================\n",
      "Dep. Variable:                 Income   No. Observations:                39552\n",
      "Model:                          Logit   Df Residuals:                    39540\n",
      "Method:                           MLE   Df Model:                           11\n",
      "Date:                Sun, 26 Mar 2023   Pseudo R-squ.:                  0.2927\n",
      "Time:                        23:28:18   Log-Likelihood:                -19391.\n",
      "converged:                       True   LL-Null:                       -27415.\n",
      "Covariance Type:            nonrobust   LLR p-value:                     0.000\n",
      "==================================================================================\n",
      "                     coef    std err          z      P>|z|      [0.025      0.975]\n",
      "----------------------------------------------------------------------------------\n",
      "Age                0.4990      0.014     35.279      0.000       0.471       0.527\n",
      "Education          0.2756      0.005     55.325      0.000       0.266       0.285\n",
      "Sex               -0.9343      0.041    -23.055      0.000      -1.014      -0.855\n",
      "Capital Gain       0.2038      0.005     39.050      0.000       0.194       0.214\n",
      "Capital Loss       0.1658      0.007     22.189      0.000       0.151       0.180\n",
      "Hours per week     0.4136      0.015     28.383      0.000       0.385       0.442\n",
      "Workclass         -0.0883      0.009    -10.231      0.000      -0.105      -0.071\n",
      "Marital Status    -0.3473      0.010    -35.891      0.000      -0.366      -0.328\n",
      "Occupation         0.0008      0.003      0.255      0.799      -0.005       0.007\n",
      "Relationship      -0.1172      0.011    -10.873      0.000      -0.138      -0.096\n",
      "Ethnic group      -0.1123      0.014     -7.940      0.000      -0.140      -0.085\n",
      "Country           -0.0257      0.001    -17.390      0.000      -0.029      -0.023\n",
      "==================================================================================\n"
     ]
    }
   ],
   "source": [
    "model = sm.Logit(y_train, X_train).fit()\n",
    "print(model.summary())"
   ]
  },
  {
   "cell_type": "code",
   "execution_count": 107,
   "id": "7a202b23",
   "metadata": {},
   "outputs": [
    {
     "name": "stdout",
     "output_type": "stream",
     "text": [
      "Actual values [1, 0, 1, 0, 0, 0, 1, 0, 1, 0]\n",
      "Predictions : [1, 0, 1, 0, 0, 0, 0, 0, 1, 0]\n"
     ]
    }
   ],
   "source": [
    "y_hat = model.predict(X_test)\n",
    "prediction = list(map(round, y_hat))\n",
    "\n",
    "print('Actual values', list(y_test.values)[:10])\n",
    "print('Predictions :', prediction[:10])"
   ]
  },
  {
   "cell_type": "code",
   "execution_count": 108,
   "id": "6aba6b80",
   "metadata": {},
   "outputs": [
    {
     "name": "stdout",
     "output_type": "stream",
     "text": [
      "[[3664 1295]\n",
      " [1034 3895]]\n",
      "              precision    recall  f1-score   support\n",
      "\n",
      "           0       0.78      0.74      0.76      4959\n",
      "           1       0.75      0.79      0.77      4929\n",
      "\n",
      "    accuracy                           0.76      9888\n",
      "   macro avg       0.77      0.76      0.76      9888\n",
      "weighted avg       0.77      0.76      0.76      9888\n",
      "\n"
     ]
    },
    {
     "data": {
      "image/png": "[encoded data removed]",
      "text/plain": [
       "<Figure size 640x480 with 2 Axes>"
      ]
     },
     "metadata": {},
     "output_type": "display_data"
    }
   ],
   "source": [
    "cm = confusion_matrix(y_test, prediction) \n",
    "s = sns.heatmap(cm, annot = True)\n",
    "s.set(xlabel='Predict', ylabel='Truth')\n",
    "print(cm)\n",
    "print(classification_report(y_test, prediction))"
   ]
  },
  {
   "cell_type": "code",
   "execution_count": null,
   "id": "e7536537",
   "metadata": {},
   "outputs": [],
   "source": []
  }
 ],
 "metadata": {
  "kernelspec": {
   "display_name": "Python 3 (ipykernel)",
   "language": "python",
   "name": "python3"
  },
  "language_info": {
   "codemirror_mode": {
    "name": "ipython",
    "version": 3
   },
   "file_extension": ".py",
   "mimetype": "text/x-python",
   "name": "python",
   "nbconvert_exporter": "python",
   "pygments_lexer": "ipython3",
   "version": "3.9.16"
  }
 },
 "nbformat": 4,
 "nbformat_minor": 5
}
