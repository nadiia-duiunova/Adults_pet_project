{
 "cells": [
  {
   "cell_type": "code",
   "execution_count": 1,
   "id": "e309cab6",
   "metadata": {},
   "outputs": [],
   "source": [
    "import pandas as pd\n",
    "import numpy as np\n",
    "import seaborn as sns\n",
    "import matplotlib.pyplot as plt\n",
    "import scipy.stats as stats\n",
    "from statsmodels.api import Logit\n",
    "from sklearn.preprocessing import StandardScaler, OrdinalEncoder, LabelEncoder, OneHotEncoder\n",
    "from sklearn.model_selection import train_test_split, cross_val_score\n",
    "from sklearn.metrics import confusion_matrix, classification_report\n",
    "\n",
    "from sklearn.pipeline import make_union, make_pipeline\n",
    "from sklearn.preprocessing import FunctionTransformer\n",
    "from sklearn.compose import ColumnTransformer, make_column_selector\n",
    "\n",
    "from sklearn.linear_model import LogisticRegression\n",
    "from sklearn import set_config"
   ]
  },
  {
   "cell_type": "markdown",
   "id": "be643a5d",
   "metadata": {},
   "source": [
    "Here the results from 'Adult EDA\" file are going to be used"
   ]
  },
  {
   "cell_type": "code",
   "execution_count": 2,
   "id": "e627ad21",
   "metadata": {
    "scrolled": true
   },
   "outputs": [],
   "source": [
    "# %run \"Adult EDA.ipynb\""
   ]
  },
  {
   "cell_type": "code",
   "execution_count": 3,
   "id": "208f09c0",
   "metadata": {},
   "outputs": [],
   "source": [
    "adult_columns = [\n",
    "    \"Age\",\n",
    "    \"Workclass\",\n",
    "    \"final weight\",\n",
    "    \"Education\",\n",
    "    \"Education-Num\",\n",
    "    \"Marital Status\",\n",
    "    \"Occupation\",\n",
    "    \"Relationship\",\n",
    "    \"Ethnic group\",\n",
    "    \"Sex\",\n",
    "    \"Capital Gain\",\n",
    "    \"Capital Loss\",\n",
    "    \"Hours per week\",\n",
    "    \"Country\",\n",
    "    \"Income\",\n",
    "]\n",
    "\n",
    "df = pd.read_csv(\"https://archive.ics.uci.edu/ml/machine-learning-databases/adult/adult.data\", \n",
    "                 header = None, names = adult_columns)"
   ]
  },
  {
   "cell_type": "code",
   "execution_count": 4,
   "id": "fd85f86e",
   "metadata": {},
   "outputs": [],
   "source": [
    "df = df.drop(['Education-Num'], axis = 'columns')"
   ]
  },
  {
   "cell_type": "code",
   "execution_count": 5,
   "id": "5950ac43",
   "metadata": {},
   "outputs": [],
   "source": [
    "categorical_features_list = ['Workclass', 'Marital Status', 'Occupation', \n",
    "                             'Relationship', 'Ethnic group', 'Sex', 'Country']"
   ]
  },
  {
   "cell_type": "code",
   "execution_count": 6,
   "id": "82b53afc",
   "metadata": {
    "scrolled": false
   },
   "outputs": [
    {
     "name": "stdout",
     "output_type": "stream",
     "text": [
      "Workclass\n",
      " Private             22696\n",
      " Self-emp-not-inc     2541\n",
      " Local-gov            2093\n",
      " ?                    1836\n",
      " State-gov            1298\n",
      " Self-emp-inc         1116\n",
      " Federal-gov           960\n",
      " Without-pay            14\n",
      " Never-worked            7\n",
      "Name: Workclass, dtype: int64\n",
      "\n",
      "Marital Status\n",
      " Married-civ-spouse       14976\n",
      " Never-married            10683\n",
      " Divorced                  4443\n",
      " Separated                 1025\n",
      " Widowed                    993\n",
      " Married-spouse-absent      418\n",
      " Married-AF-spouse           23\n",
      "Name: Marital Status, dtype: int64\n",
      "\n",
      "Occupation\n",
      " Prof-specialty       4140\n",
      " Craft-repair         4099\n",
      " Exec-managerial      4066\n",
      " Adm-clerical         3770\n",
      " Sales                3650\n",
      " Other-service        3295\n",
      " Machine-op-inspct    2002\n",
      " ?                    1843\n",
      " Transport-moving     1597\n",
      " Handlers-cleaners    1370\n",
      " Farming-fishing       994\n",
      " Tech-support          928\n",
      " Protective-serv       649\n",
      " Priv-house-serv       149\n",
      " Armed-Forces            9\n",
      "Name: Occupation, dtype: int64\n",
      "\n",
      "Relationship\n",
      " Husband           13193\n",
      " Not-in-family      8305\n",
      " Own-child          5068\n",
      " Unmarried          3446\n",
      " Wife               1568\n",
      " Other-relative      981\n",
      "Name: Relationship, dtype: int64\n",
      "\n",
      "Ethnic group\n",
      " White                 27816\n",
      " Black                  3124\n",
      " Asian-Pac-Islander     1039\n",
      " Amer-Indian-Eskimo      311\n",
      " Other                   271\n",
      "Name: Ethnic group, dtype: int64\n",
      "\n",
      "Sex\n",
      " Male      21790\n",
      " Female    10771\n",
      "Name: Sex, dtype: int64\n",
      "\n",
      "Country\n",
      " United-States                 29170\n",
      " Mexico                          643\n",
      " ?                               583\n",
      " Philippines                     198\n",
      " Germany                         137\n",
      " Canada                          121\n",
      " Puerto-Rico                     114\n",
      " El-Salvador                     106\n",
      " India                           100\n",
      " Cuba                             95\n",
      " England                          90\n",
      " Jamaica                          81\n",
      " South                            80\n",
      " China                            75\n",
      " Italy                            73\n",
      " Dominican-Republic               70\n",
      " Vietnam                          67\n",
      " Guatemala                        64\n",
      " Japan                            62\n",
      " Poland                           60\n",
      " Columbia                         59\n",
      " Taiwan                           51\n",
      " Haiti                            44\n",
      " Iran                             43\n",
      " Portugal                         37\n",
      " Nicaragua                        34\n",
      " Peru                             31\n",
      " France                           29\n",
      " Greece                           29\n",
      " Ecuador                          28\n",
      " Ireland                          24\n",
      " Hong                             20\n",
      " Cambodia                         19\n",
      " Trinadad&Tobago                  19\n",
      " Laos                             18\n",
      " Thailand                         18\n",
      " Yugoslavia                       16\n",
      " Outlying-US(Guam-USVI-etc)       14\n",
      " Honduras                         13\n",
      " Hungary                          13\n",
      " Scotland                         12\n",
      " Holand-Netherlands                1\n",
      "Name: Country, dtype: int64\n",
      "\n"
     ]
    }
   ],
   "source": [
    "for col in categorical_features_list:\n",
    "    print(f'{col}\\n{df[col].value_counts()}\\n')"
   ]
  },
  {
   "cell_type": "markdown",
   "id": "f273a0f1",
   "metadata": {},
   "source": [
    "As in the whole dataset (X) we have only one 'Holand-Netherlands' value in 'Country' column, we have to process it separately, because in case if it appears in the test set, model will not be able to predict target for such a record. For the initial model, where there are no changes in data, this observation will be removed"
   ]
  },
  {
   "cell_type": "code",
   "execution_count": 7,
   "id": "f0890b3e",
   "metadata": {},
   "outputs": [
    {
     "name": "stdout",
     "output_type": "stream",
     "text": [
      "(32561, 14)\n",
      "(32560, 14)\n"
     ]
    }
   ],
   "source": [
    "print(df.shape)\n",
    "df.drop(df.loc[df['Country']==' Holand-Netherlands'].index, inplace=True)\n",
    "print(df.shape)"
   ]
  },
  {
   "cell_type": "code",
   "execution_count": 8,
   "id": "89cebefa",
   "metadata": {},
   "outputs": [],
   "source": [
    "X_df = df.drop(['Income'], axis = 'columns')\n",
    "y_df = df['Income']"
   ]
  },
  {
   "cell_type": "code",
   "execution_count": 9,
   "id": "62b255ba",
   "metadata": {},
   "outputs": [],
   "source": [
    "X, X_test, y, y_test = train_test_split(X_df, y_df, test_size= 0.2)"
   ]
  },
  {
   "cell_type": "markdown",
   "id": "6ea72a8d",
   "metadata": {},
   "source": [
    "## 1. Features preprocessing"
   ]
  },
  {
   "cell_type": "markdown",
   "id": "c5d9129e",
   "metadata": {},
   "source": [
    "First all variables have to be transformed to numerical format to feed them to Logit function:"
   ]
  },
  {
   "cell_type": "code",
   "execution_count": 10,
   "id": "20777e59",
   "metadata": {},
   "outputs": [],
   "source": [
    "X_train = X.copy()\n",
    "y_train = y.copy()"
   ]
  },
  {
   "cell_type": "code",
   "execution_count": 11,
   "id": "d9d3479e",
   "metadata": {},
   "outputs": [
    {
     "data": {
      "text/html": [
       "<div>\n",
       "<style scoped>\n",
       "    .dataframe tbody tr th:only-of-type {\n",
       "        vertical-align: middle;\n",
       "    }\n",
       "\n",
       "    .dataframe tbody tr th {\n",
       "        vertical-align: top;\n",
       "    }\n",
       "\n",
       "    .dataframe thead th {\n",
       "        text-align: right;\n",
       "    }\n",
       "</style>\n",
       "<table border=\"1\" class=\"dataframe\">\n",
       "  <thead>\n",
       "    <tr style=\"text-align: right;\">\n",
       "      <th></th>\n",
       "      <th>Age</th>\n",
       "      <th>Workclass</th>\n",
       "      <th>final weight</th>\n",
       "      <th>Education</th>\n",
       "      <th>Marital Status</th>\n",
       "      <th>Occupation</th>\n",
       "      <th>Relationship</th>\n",
       "      <th>Ethnic group</th>\n",
       "      <th>Sex</th>\n",
       "      <th>Capital Gain</th>\n",
       "      <th>Capital Loss</th>\n",
       "      <th>Hours per week</th>\n",
       "      <th>Country</th>\n",
       "    </tr>\n",
       "  </thead>\n",
       "  <tbody>\n",
       "    <tr>\n",
       "      <th>14553</th>\n",
       "      <td>37</td>\n",
       "      <td>Self-emp-not-inc</td>\n",
       "      <td>218249</td>\n",
       "      <td>11th</td>\n",
       "      <td>Divorced</td>\n",
       "      <td>Prof-specialty</td>\n",
       "      <td>Unmarried</td>\n",
       "      <td>Black</td>\n",
       "      <td>Female</td>\n",
       "      <td>0</td>\n",
       "      <td>0</td>\n",
       "      <td>30</td>\n",
       "      <td>United-States</td>\n",
       "    </tr>\n",
       "    <tr>\n",
       "      <th>30006</th>\n",
       "      <td>43</td>\n",
       "      <td>State-gov</td>\n",
       "      <td>24763</td>\n",
       "      <td>Masters</td>\n",
       "      <td>Married-civ-spouse</td>\n",
       "      <td>Prof-specialty</td>\n",
       "      <td>Husband</td>\n",
       "      <td>White</td>\n",
       "      <td>Male</td>\n",
       "      <td>0</td>\n",
       "      <td>1887</td>\n",
       "      <td>45</td>\n",
       "      <td>United-States</td>\n",
       "    </tr>\n",
       "    <tr>\n",
       "      <th>20464</th>\n",
       "      <td>57</td>\n",
       "      <td>Self-emp-not-inc</td>\n",
       "      <td>275943</td>\n",
       "      <td>7th-8th</td>\n",
       "      <td>Married-civ-spouse</td>\n",
       "      <td>Prof-specialty</td>\n",
       "      <td>Husband</td>\n",
       "      <td>White</td>\n",
       "      <td>Male</td>\n",
       "      <td>0</td>\n",
       "      <td>0</td>\n",
       "      <td>40</td>\n",
       "      <td>?</td>\n",
       "    </tr>\n",
       "    <tr>\n",
       "      <th>16225</th>\n",
       "      <td>57</td>\n",
       "      <td>Private</td>\n",
       "      <td>136107</td>\n",
       "      <td>9th</td>\n",
       "      <td>Married-civ-spouse</td>\n",
       "      <td>Craft-repair</td>\n",
       "      <td>Husband</td>\n",
       "      <td>Black</td>\n",
       "      <td>Male</td>\n",
       "      <td>0</td>\n",
       "      <td>0</td>\n",
       "      <td>40</td>\n",
       "      <td>United-States</td>\n",
       "    </tr>\n",
       "    <tr>\n",
       "      <th>12961</th>\n",
       "      <td>37</td>\n",
       "      <td>Private</td>\n",
       "      <td>117567</td>\n",
       "      <td>Bachelors</td>\n",
       "      <td>Married-civ-spouse</td>\n",
       "      <td>Exec-managerial</td>\n",
       "      <td>Husband</td>\n",
       "      <td>White</td>\n",
       "      <td>Male</td>\n",
       "      <td>0</td>\n",
       "      <td>0</td>\n",
       "      <td>60</td>\n",
       "      <td>United-States</td>\n",
       "    </tr>\n",
       "  </tbody>\n",
       "</table>\n",
       "</div>"
      ],
      "text/plain": [
       "       Age          Workclass  final weight   Education       Marital Status  \\\n",
       "14553   37   Self-emp-not-inc        218249        11th             Divorced   \n",
       "30006   43          State-gov         24763     Masters   Married-civ-spouse   \n",
       "20464   57   Self-emp-not-inc        275943     7th-8th   Married-civ-spouse   \n",
       "16225   57            Private        136107         9th   Married-civ-spouse   \n",
       "12961   37            Private        117567   Bachelors   Married-civ-spouse   \n",
       "\n",
       "             Occupation Relationship Ethnic group      Sex  Capital Gain  \\\n",
       "14553    Prof-specialty    Unmarried        Black   Female             0   \n",
       "30006    Prof-specialty      Husband        White     Male             0   \n",
       "20464    Prof-specialty      Husband        White     Male             0   \n",
       "16225      Craft-repair      Husband        Black     Male             0   \n",
       "12961   Exec-managerial      Husband        White     Male             0   \n",
       "\n",
       "       Capital Loss  Hours per week         Country  \n",
       "14553             0              30   United-States  \n",
       "30006          1887              45   United-States  \n",
       "20464             0              40               ?  \n",
       "16225             0              40   United-States  \n",
       "12961             0              60   United-States  "
      ]
     },
     "execution_count": 11,
     "metadata": {},
     "output_type": "execute_result"
    }
   ],
   "source": [
    "X_train.head()"
   ]
  },
  {
   "cell_type": "markdown",
   "id": "8038a48a",
   "metadata": {},
   "source": [
    "In this dataset we have only one feature, where the order matters - Education. Let's transform it using OrdinalEncoder. For all the rest of categorical features the order does not matter, hense we can apply OneHotEncoder() to them"
   ]
  },
  {
   "cell_type": "markdown",
   "id": "0bf40284",
   "metadata": {},
   "source": [
    "## Initial model without changes in data"
   ]
  },
  {
   "cell_type": "code",
   "execution_count": 12,
   "id": "78b72f9d",
   "metadata": {},
   "outputs": [],
   "source": [
    "numerical_features_list = ['Age', 'final weight', 'Capital Gain', 'Capital Loss']"
   ]
  },
  {
   "cell_type": "code",
   "execution_count": 13,
   "id": "adc5b27a",
   "metadata": {},
   "outputs": [],
   "source": [
    "full_pipe = make_pipeline(ColumnTransformer(transformers = [\n",
    "    ('ordinal', OrdinalEncoder(categories=[[' Preschool',' 1st-4th',' 5th-6th',' 7th-8th',' 9th',' 10th',' 11th',\n",
    "                                      ' 12th',' HS-grad',' Some-college',' Assoc-voc',' Assoc-acdm', \n",
    "                                      ' Bachelors',' Masters',' Prof-school',' Doctorate']]),\n",
    "     make_column_selector(pattern = 'Education')),\n",
    "    ('stand scaler', StandardScaler(), numerical_features_list),\n",
    "    ('onehot', OneHotEncoder(dtype='int', drop='first'), categorical_features_list)],\n",
    "    remainder='drop'),\n",
    "                     LogisticRegression(max_iter=500))"
   ]
  },
  {
   "cell_type": "code",
   "execution_count": 14,
   "id": "b95d5cf1",
   "metadata": {},
   "outputs": [
    {
     "data": {
      "text/html": [
       "<style>#sk-fe503a3a-dcd5-46f4-9684-0fb18dd45fe1 {color: black;background-color: white;}#sk-fe503a3a-dcd5-46f4-9684-0fb18dd45fe1 pre{padding: 0;}#sk-fe503a3a-dcd5-46f4-9684-0fb18dd45fe1 div.sk-toggleable {background-color: white;}#sk-fe503a3a-dcd5-46f4-9684-0fb18dd45fe1 label.sk-toggleable__label {cursor: pointer;display: block;width: 100%;margin-bottom: 0;padding: 0.3em;box-sizing: border-box;text-align: center;}#sk-fe503a3a-dcd5-46f4-9684-0fb18dd45fe1 label.sk-toggleable__label-arrow:before {content: \"▸\";float: left;margin-right: 0.25em;color: #696969;}#sk-fe503a3a-dcd5-46f4-9684-0fb18dd45fe1 label.sk-toggleable__label-arrow:hover:before {color: black;}#sk-fe503a3a-dcd5-46f4-9684-0fb18dd45fe1 div.sk-estimator:hover label.sk-toggleable__label-arrow:before {color: black;}#sk-fe503a3a-dcd5-46f4-9684-0fb18dd45fe1 div.sk-toggleable__content {max-height: 0;max-width: 0;overflow: hidden;text-align: left;background-color: #f0f8ff;}#sk-fe503a3a-dcd5-46f4-9684-0fb18dd45fe1 div.sk-toggleable__content pre {margin: 0.2em;color: black;border-radius: 0.25em;background-color: #f0f8ff;}#sk-fe503a3a-dcd5-46f4-9684-0fb18dd45fe1 input.sk-toggleable__control:checked~div.sk-toggleable__content {max-height: 200px;max-width: 100%;overflow: auto;}#sk-fe503a3a-dcd5-46f4-9684-0fb18dd45fe1 input.sk-toggleable__control:checked~label.sk-toggleable__label-arrow:before {content: \"▾\";}#sk-fe503a3a-dcd5-46f4-9684-0fb18dd45fe1 div.sk-estimator input.sk-toggleable__control:checked~label.sk-toggleable__label {background-color: #d4ebff;}#sk-fe503a3a-dcd5-46f4-9684-0fb18dd45fe1 div.sk-label input.sk-toggleable__control:checked~label.sk-toggleable__label {background-color: #d4ebff;}#sk-fe503a3a-dcd5-46f4-9684-0fb18dd45fe1 input.sk-hidden--visually {border: 0;clip: rect(1px 1px 1px 1px);clip: rect(1px, 1px, 1px, 1px);height: 1px;margin: -1px;overflow: hidden;padding: 0;position: absolute;width: 1px;}#sk-fe503a3a-dcd5-46f4-9684-0fb18dd45fe1 div.sk-estimator {font-family: monospace;background-color: #f0f8ff;border: 1px dotted black;border-radius: 0.25em;box-sizing: border-box;margin-bottom: 0.5em;}#sk-fe503a3a-dcd5-46f4-9684-0fb18dd45fe1 div.sk-estimator:hover {background-color: #d4ebff;}#sk-fe503a3a-dcd5-46f4-9684-0fb18dd45fe1 div.sk-parallel-item::after {content: \"\";width: 100%;border-bottom: 1px solid gray;flex-grow: 1;}#sk-fe503a3a-dcd5-46f4-9684-0fb18dd45fe1 div.sk-label:hover label.sk-toggleable__label {background-color: #d4ebff;}#sk-fe503a3a-dcd5-46f4-9684-0fb18dd45fe1 div.sk-serial::before {content: \"\";position: absolute;border-left: 1px solid gray;box-sizing: border-box;top: 2em;bottom: 0;left: 50%;}#sk-fe503a3a-dcd5-46f4-9684-0fb18dd45fe1 div.sk-serial {display: flex;flex-direction: column;align-items: center;background-color: white;padding-right: 0.2em;padding-left: 0.2em;}#sk-fe503a3a-dcd5-46f4-9684-0fb18dd45fe1 div.sk-item {z-index: 1;}#sk-fe503a3a-dcd5-46f4-9684-0fb18dd45fe1 div.sk-parallel {display: flex;align-items: stretch;justify-content: center;background-color: white;}#sk-fe503a3a-dcd5-46f4-9684-0fb18dd45fe1 div.sk-parallel::before {content: \"\";position: absolute;border-left: 1px solid gray;box-sizing: border-box;top: 2em;bottom: 0;left: 50%;}#sk-fe503a3a-dcd5-46f4-9684-0fb18dd45fe1 div.sk-parallel-item {display: flex;flex-direction: column;position: relative;background-color: white;}#sk-fe503a3a-dcd5-46f4-9684-0fb18dd45fe1 div.sk-parallel-item:first-child::after {align-self: flex-end;width: 50%;}#sk-fe503a3a-dcd5-46f4-9684-0fb18dd45fe1 div.sk-parallel-item:last-child::after {align-self: flex-start;width: 50%;}#sk-fe503a3a-dcd5-46f4-9684-0fb18dd45fe1 div.sk-parallel-item:only-child::after {width: 0;}#sk-fe503a3a-dcd5-46f4-9684-0fb18dd45fe1 div.sk-dashed-wrapped {border: 1px dashed gray;margin: 0 0.4em 0.5em 0.4em;box-sizing: border-box;padding-bottom: 0.4em;background-color: white;position: relative;}#sk-fe503a3a-dcd5-46f4-9684-0fb18dd45fe1 div.sk-label label {font-family: monospace;font-weight: bold;background-color: white;display: inline-block;line-height: 1.2em;}#sk-fe503a3a-dcd5-46f4-9684-0fb18dd45fe1 div.sk-label-container {position: relative;z-index: 2;text-align: center;}#sk-fe503a3a-dcd5-46f4-9684-0fb18dd45fe1 div.sk-container {/* jupyter's `normalize.less` sets `[hidden] { display: none; }` but bootstrap.min.css set `[hidden] { display: none !important; }` so we also need the `!important` here to be able to override the default hidden behavior on the sphinx rendered scikit-learn.org. See: https://github.com/scikit-learn/scikit-learn/issues/21755 */display: inline-block !important;position: relative;}#sk-fe503a3a-dcd5-46f4-9684-0fb18dd45fe1 div.sk-text-repr-fallback {display: none;}</style><div id=\"sk-fe503a3a-dcd5-46f4-9684-0fb18dd45fe1\" class=\"sk-top-container\"><div class=\"sk-text-repr-fallback\"><pre>Pipeline(steps=[(&#x27;columntransformer&#x27;,\n",
       "                 ColumnTransformer(transformers=[(&#x27;ordinal&#x27;,\n",
       "                                                  OrdinalEncoder(categories=[[&#x27; &#x27;\n",
       "                                                                              &#x27;Preschool&#x27;,\n",
       "                                                                              &#x27; &#x27;\n",
       "                                                                              &#x27;1st-4th&#x27;,\n",
       "                                                                              &#x27; &#x27;\n",
       "                                                                              &#x27;5th-6th&#x27;,\n",
       "                                                                              &#x27; &#x27;\n",
       "                                                                              &#x27;7th-8th&#x27;,\n",
       "                                                                              &#x27; &#x27;\n",
       "                                                                              &#x27;9th&#x27;,\n",
       "                                                                              &#x27; &#x27;\n",
       "                                                                              &#x27;10th&#x27;,\n",
       "                                                                              &#x27; &#x27;\n",
       "                                                                              &#x27;11th&#x27;,\n",
       "                                                                              &#x27; &#x27;\n",
       "                                                                              &#x27;12th&#x27;,\n",
       "                                                                              &#x27; &#x27;\n",
       "                                                                              &#x27;HS-grad&#x27;,\n",
       "                                                                              &#x27; &#x27;\n",
       "                                                                              &#x27;Some-college&#x27;,\n",
       "                                                                              &#x27; &#x27;\n",
       "                                                                              &#x27;Assoc-voc&#x27;,\n",
       "                                                                              &#x27; &#x27;\n",
       "                                                                              &#x27;Assoc-acdm&#x27;,\n",
       "                                                                              &#x27; &#x27;\n",
       "                                                                              &#x27;Bachelors&#x27;,\n",
       "                                                                              &#x27; &#x27;\n",
       "                                                                              &#x27;Masters&#x27;,\n",
       "                                                                              &#x27; &#x27;\n",
       "                                                                              &#x27;Prof-school&#x27;,\n",
       "                                                                              &#x27; &#x27;\n",
       "                                                                              &#x27;Doctorate&#x27;]]),\n",
       "                                                  &lt;sklearn.compose._column_transformer.make_column_selector object at 0x16423fbe0&gt;),\n",
       "                                                 (&#x27;stand scaler&#x27;,\n",
       "                                                  StandardScaler(),\n",
       "                                                  [&#x27;Age&#x27;, &#x27;final weight&#x27;,\n",
       "                                                   &#x27;Capital Gain&#x27;,\n",
       "                                                   &#x27;Capital Loss&#x27;]),\n",
       "                                                 (&#x27;onehot&#x27;,\n",
       "                                                  OneHotEncoder(drop=&#x27;first&#x27;,\n",
       "                                                                dtype=&#x27;int&#x27;),\n",
       "                                                  [&#x27;Workclass&#x27;,\n",
       "                                                   &#x27;Marital Status&#x27;,\n",
       "                                                   &#x27;Occupation&#x27;, &#x27;Relationship&#x27;,\n",
       "                                                   &#x27;Ethnic group&#x27;, &#x27;Sex&#x27;,\n",
       "                                                   &#x27;Country&#x27;])])),\n",
       "                (&#x27;logisticregression&#x27;, LogisticRegression(max_iter=500))])</pre><b>Please rerun this cell to show the HTML repr or trust the notebook.</b></div><div class=\"sk-container\" hidden><div class=\"sk-item sk-dashed-wrapped\"><div class=\"sk-label-container\"><div class=\"sk-label sk-toggleable\"><input class=\"sk-toggleable__control sk-hidden--visually\" id=\"0430da3c-37ec-440e-99bf-180c612a48b4\" type=\"checkbox\" ><label for=\"0430da3c-37ec-440e-99bf-180c612a48b4\" class=\"sk-toggleable__label sk-toggleable__label-arrow\">Pipeline</label><div class=\"sk-toggleable__content\"><pre>Pipeline(steps=[(&#x27;columntransformer&#x27;,\n",
       "                 ColumnTransformer(transformers=[(&#x27;ordinal&#x27;,\n",
       "                                                  OrdinalEncoder(categories=[[&#x27; &#x27;\n",
       "                                                                              &#x27;Preschool&#x27;,\n",
       "                                                                              &#x27; &#x27;\n",
       "                                                                              &#x27;1st-4th&#x27;,\n",
       "                                                                              &#x27; &#x27;\n",
       "                                                                              &#x27;5th-6th&#x27;,\n",
       "                                                                              &#x27; &#x27;\n",
       "                                                                              &#x27;7th-8th&#x27;,\n",
       "                                                                              &#x27; &#x27;\n",
       "                                                                              &#x27;9th&#x27;,\n",
       "                                                                              &#x27; &#x27;\n",
       "                                                                              &#x27;10th&#x27;,\n",
       "                                                                              &#x27; &#x27;\n",
       "                                                                              &#x27;11th&#x27;,\n",
       "                                                                              &#x27; &#x27;\n",
       "                                                                              &#x27;12th&#x27;,\n",
       "                                                                              &#x27; &#x27;\n",
       "                                                                              &#x27;HS-grad&#x27;,\n",
       "                                                                              &#x27; &#x27;\n",
       "                                                                              &#x27;Some-college&#x27;,\n",
       "                                                                              &#x27; &#x27;\n",
       "                                                                              &#x27;Assoc-voc&#x27;,\n",
       "                                                                              &#x27; &#x27;\n",
       "                                                                              &#x27;Assoc-acdm&#x27;,\n",
       "                                                                              &#x27; &#x27;\n",
       "                                                                              &#x27;Bachelors&#x27;,\n",
       "                                                                              &#x27; &#x27;\n",
       "                                                                              &#x27;Masters&#x27;,\n",
       "                                                                              &#x27; &#x27;\n",
       "                                                                              &#x27;Prof-school&#x27;,\n",
       "                                                                              &#x27; &#x27;\n",
       "                                                                              &#x27;Doctorate&#x27;]]),\n",
       "                                                  &lt;sklearn.compose._column_transformer.make_column_selector object at 0x16423fbe0&gt;),\n",
       "                                                 (&#x27;stand scaler&#x27;,\n",
       "                                                  StandardScaler(),\n",
       "                                                  [&#x27;Age&#x27;, &#x27;final weight&#x27;,\n",
       "                                                   &#x27;Capital Gain&#x27;,\n",
       "                                                   &#x27;Capital Loss&#x27;]),\n",
       "                                                 (&#x27;onehot&#x27;,\n",
       "                                                  OneHotEncoder(drop=&#x27;first&#x27;,\n",
       "                                                                dtype=&#x27;int&#x27;),\n",
       "                                                  [&#x27;Workclass&#x27;,\n",
       "                                                   &#x27;Marital Status&#x27;,\n",
       "                                                   &#x27;Occupation&#x27;, &#x27;Relationship&#x27;,\n",
       "                                                   &#x27;Ethnic group&#x27;, &#x27;Sex&#x27;,\n",
       "                                                   &#x27;Country&#x27;])])),\n",
       "                (&#x27;logisticregression&#x27;, LogisticRegression(max_iter=500))])</pre></div></div></div><div class=\"sk-serial\"><div class=\"sk-item sk-dashed-wrapped\"><div class=\"sk-label-container\"><div class=\"sk-label sk-toggleable\"><input class=\"sk-toggleable__control sk-hidden--visually\" id=\"c22bf696-a1cc-4cae-b284-5b25887d3679\" type=\"checkbox\" ><label for=\"c22bf696-a1cc-4cae-b284-5b25887d3679\" class=\"sk-toggleable__label sk-toggleable__label-arrow\">columntransformer: ColumnTransformer</label><div class=\"sk-toggleable__content\"><pre>ColumnTransformer(transformers=[(&#x27;ordinal&#x27;,\n",
       "                                 OrdinalEncoder(categories=[[&#x27; Preschool&#x27;,\n",
       "                                                             &#x27; 1st-4th&#x27;,\n",
       "                                                             &#x27; 5th-6th&#x27;,\n",
       "                                                             &#x27; 7th-8th&#x27;, &#x27; 9th&#x27;,\n",
       "                                                             &#x27; 10th&#x27;, &#x27; 11th&#x27;,\n",
       "                                                             &#x27; 12th&#x27;,\n",
       "                                                             &#x27; HS-grad&#x27;,\n",
       "                                                             &#x27; Some-college&#x27;,\n",
       "                                                             &#x27; Assoc-voc&#x27;,\n",
       "                                                             &#x27; Assoc-acdm&#x27;,\n",
       "                                                             &#x27; Bachelors&#x27;,\n",
       "                                                             &#x27; Masters&#x27;,\n",
       "                                                             &#x27; Prof-school&#x27;,\n",
       "                                                             &#x27; Doctorate&#x27;]]),\n",
       "                                 &lt;sklearn.compose._column_transformer.make_column_selector object at 0x16423fbe0&gt;),\n",
       "                                (&#x27;stand scaler&#x27;, StandardScaler(),\n",
       "                                 [&#x27;Age&#x27;, &#x27;final weight&#x27;, &#x27;Capital Gain&#x27;,\n",
       "                                  &#x27;Capital Loss&#x27;]),\n",
       "                                (&#x27;onehot&#x27;,\n",
       "                                 OneHotEncoder(drop=&#x27;first&#x27;, dtype=&#x27;int&#x27;),\n",
       "                                 [&#x27;Workclass&#x27;, &#x27;Marital Status&#x27;, &#x27;Occupation&#x27;,\n",
       "                                  &#x27;Relationship&#x27;, &#x27;Ethnic group&#x27;, &#x27;Sex&#x27;,\n",
       "                                  &#x27;Country&#x27;])])</pre></div></div></div><div class=\"sk-parallel\"><div class=\"sk-parallel-item\"><div class=\"sk-item\"><div class=\"sk-label-container\"><div class=\"sk-label sk-toggleable\"><input class=\"sk-toggleable__control sk-hidden--visually\" id=\"e65562d6-5b2f-4022-a50c-c5249908c479\" type=\"checkbox\" ><label for=\"e65562d6-5b2f-4022-a50c-c5249908c479\" class=\"sk-toggleable__label sk-toggleable__label-arrow\">ordinal</label><div class=\"sk-toggleable__content\"><pre>&lt;sklearn.compose._column_transformer.make_column_selector object at 0x16423fbe0&gt;</pre></div></div></div><div class=\"sk-serial\"><div class=\"sk-item\"><div class=\"sk-estimator sk-toggleable\"><input class=\"sk-toggleable__control sk-hidden--visually\" id=\"610fa438-ecb7-4232-a99f-5bbc1957e235\" type=\"checkbox\" ><label for=\"610fa438-ecb7-4232-a99f-5bbc1957e235\" class=\"sk-toggleable__label sk-toggleable__label-arrow\">OrdinalEncoder</label><div class=\"sk-toggleable__content\"><pre>OrdinalEncoder(categories=[[&#x27; Preschool&#x27;, &#x27; 1st-4th&#x27;, &#x27; 5th-6th&#x27;, &#x27; 7th-8th&#x27;,\n",
       "                            &#x27; 9th&#x27;, &#x27; 10th&#x27;, &#x27; 11th&#x27;, &#x27; 12th&#x27;, &#x27; HS-grad&#x27;,\n",
       "                            &#x27; Some-college&#x27;, &#x27; Assoc-voc&#x27;, &#x27; Assoc-acdm&#x27;,\n",
       "                            &#x27; Bachelors&#x27;, &#x27; Masters&#x27;, &#x27; Prof-school&#x27;,\n",
       "                            &#x27; Doctorate&#x27;]])</pre></div></div></div></div></div></div><div class=\"sk-parallel-item\"><div class=\"sk-item\"><div class=\"sk-label-container\"><div class=\"sk-label sk-toggleable\"><input class=\"sk-toggleable__control sk-hidden--visually\" id=\"aa1b073b-d985-433a-be80-d4b3edc68c1e\" type=\"checkbox\" ><label for=\"aa1b073b-d985-433a-be80-d4b3edc68c1e\" class=\"sk-toggleable__label sk-toggleable__label-arrow\">stand scaler</label><div class=\"sk-toggleable__content\"><pre>[&#x27;Age&#x27;, &#x27;final weight&#x27;, &#x27;Capital Gain&#x27;, &#x27;Capital Loss&#x27;]</pre></div></div></div><div class=\"sk-serial\"><div class=\"sk-item\"><div class=\"sk-estimator sk-toggleable\"><input class=\"sk-toggleable__control sk-hidden--visually\" id=\"0dee1f55-1b84-4e3b-9dda-d21c029ff8ce\" type=\"checkbox\" ><label for=\"0dee1f55-1b84-4e3b-9dda-d21c029ff8ce\" class=\"sk-toggleable__label sk-toggleable__label-arrow\">StandardScaler</label><div class=\"sk-toggleable__content\"><pre>StandardScaler()</pre></div></div></div></div></div></div><div class=\"sk-parallel-item\"><div class=\"sk-item\"><div class=\"sk-label-container\"><div class=\"sk-label sk-toggleable\"><input class=\"sk-toggleable__control sk-hidden--visually\" id=\"57f4774f-0a1e-4e89-a597-c1d4afae98d7\" type=\"checkbox\" ><label for=\"57f4774f-0a1e-4e89-a597-c1d4afae98d7\" class=\"sk-toggleable__label sk-toggleable__label-arrow\">onehot</label><div class=\"sk-toggleable__content\"><pre>[&#x27;Workclass&#x27;, &#x27;Marital Status&#x27;, &#x27;Occupation&#x27;, &#x27;Relationship&#x27;, &#x27;Ethnic group&#x27;, &#x27;Sex&#x27;, &#x27;Country&#x27;]</pre></div></div></div><div class=\"sk-serial\"><div class=\"sk-item\"><div class=\"sk-estimator sk-toggleable\"><input class=\"sk-toggleable__control sk-hidden--visually\" id=\"7d2e79cd-e165-40fc-bedc-d9e058a30c36\" type=\"checkbox\" ><label for=\"7d2e79cd-e165-40fc-bedc-d9e058a30c36\" class=\"sk-toggleable__label sk-toggleable__label-arrow\">OneHotEncoder</label><div class=\"sk-toggleable__content\"><pre>OneHotEncoder(drop=&#x27;first&#x27;, dtype=&#x27;int&#x27;)</pre></div></div></div></div></div></div></div></div><div class=\"sk-item\"><div class=\"sk-estimator sk-toggleable\"><input class=\"sk-toggleable__control sk-hidden--visually\" id=\"677d80df-8d48-44dd-8845-53376c793aba\" type=\"checkbox\" ><label for=\"677d80df-8d48-44dd-8845-53376c793aba\" class=\"sk-toggleable__label sk-toggleable__label-arrow\">LogisticRegression</label><div class=\"sk-toggleable__content\"><pre>LogisticRegression(max_iter=500)</pre></div></div></div></div></div></div></div>"
      ],
      "text/plain": [
       "Pipeline(steps=[('columntransformer',\n",
       "                 ColumnTransformer(transformers=[('ordinal',\n",
       "                                                  OrdinalEncoder(categories=[[' '\n",
       "                                                                              'Preschool',\n",
       "                                                                              ' '\n",
       "                                                                              '1st-4th',\n",
       "                                                                              ' '\n",
       "                                                                              '5th-6th',\n",
       "                                                                              ' '\n",
       "                                                                              '7th-8th',\n",
       "                                                                              ' '\n",
       "                                                                              '9th',\n",
       "                                                                              ' '\n",
       "                                                                              '10th',\n",
       "                                                                              ' '\n",
       "                                                                              '11th',\n",
       "                                                                              ' '\n",
       "                                                                              '12th',\n",
       "                                                                              ' '\n",
       "                                                                              'HS-grad',\n",
       "                                                                              ' '\n",
       "                                                                              'Some-college',\n",
       "                                                                              ' '\n",
       "                                                                              'Assoc-voc',\n",
       "                                                                              ' '\n",
       "                                                                              'Assoc-acdm',\n",
       "                                                                              ' '\n",
       "                                                                              'Bachelors',\n",
       "                                                                              ' '\n",
       "                                                                              'Masters',\n",
       "                                                                              ' '\n",
       "                                                                              'Prof-school',\n",
       "                                                                              ' '\n",
       "                                                                              'Doctorate']]),\n",
       "                                                  <sklearn.compose._column_transformer.make_column_selector object at 0x16423fbe0>),\n",
       "                                                 ('stand scaler',\n",
       "                                                  StandardScaler(),\n",
       "                                                  ['Age', 'final weight',\n",
       "                                                   'Capital Gain',\n",
       "                                                   'Capital Loss']),\n",
       "                                                 ('onehot',\n",
       "                                                  OneHotEncoder(drop='first',\n",
       "                                                                dtype='int'),\n",
       "                                                  ['Workclass',\n",
       "                                                   'Marital Status',\n",
       "                                                   'Occupation', 'Relationship',\n",
       "                                                   'Ethnic group', 'Sex',\n",
       "                                                   'Country'])])),\n",
       "                ('logisticregression', LogisticRegression(max_iter=500))])"
      ]
     },
     "execution_count": 14,
     "metadata": {},
     "output_type": "execute_result"
    }
   ],
   "source": [
    "set_config(display=\"diagram\")\n",
    "full_pipe"
   ]
  },
  {
   "cell_type": "code",
   "execution_count": 15,
   "id": "d44ff2b8",
   "metadata": {},
   "outputs": [],
   "source": [
    "_ = full_pipe.fit(X_train, y_train)"
   ]
  },
  {
   "cell_type": "code",
   "execution_count": 16,
   "id": "54676670",
   "metadata": {},
   "outputs": [
    {
     "data": {
      "text/plain": [
       "array([' <=50K', ' >50K', ' <=50K', ..., ' <=50K', ' <=50K', ' <=50K'],\n",
       "      dtype=object)"
      ]
     },
     "execution_count": 16,
     "metadata": {},
     "output_type": "execute_result"
    }
   ],
   "source": [
    "y_pred = full_pipe.predict(X_train)\n",
    "y_pred"
   ]
  },
  {
   "cell_type": "code",
   "execution_count": 17,
   "id": "2b45756b",
   "metadata": {},
   "outputs": [],
   "source": [
    "scores = cross_val_score(full_pipe, X_train, y_train, cv=5, scoring='f1_macro')"
   ]
  },
  {
   "cell_type": "code",
   "execution_count": 18,
   "id": "319f2692",
   "metadata": {},
   "outputs": [
    {
     "name": "stdout",
     "output_type": "stream",
     "text": [
      "f1 score: mean = 0.78 | std = 0.01\n"
     ]
    }
   ],
   "source": [
    "print(f\"f1 score: mean = {round(np.mean(scores),2)} | std = {round(np.std(scores),2)}\")"
   ]
  },
  {
   "cell_type": "code",
   "execution_count": 19,
   "id": "a35f5303",
   "metadata": {},
   "outputs": [
    {
     "name": "stdout",
     "output_type": "stream",
     "text": [
      "              precision    recall  f1-score   support\n",
      "\n",
      "       <=50K       0.88      0.93      0.90     19767\n",
      "        >50K       0.73      0.60      0.66      6281\n",
      "\n",
      "    accuracy                           0.85     26048\n",
      "   macro avg       0.81      0.76      0.78     26048\n",
      "weighted avg       0.84      0.85      0.84     26048\n",
      "\n"
     ]
    }
   ],
   "source": [
    "print(classification_report(y_train, y_pred, target_names=y_train.unique()))"
   ]
  },
  {
   "cell_type": "markdown",
   "id": "5ee9ef56",
   "metadata": {},
   "source": [
    "## Same model, but without 'final weight'"
   ]
  },
  {
   "cell_type": "code",
   "execution_count": 20,
   "id": "4db4642a",
   "metadata": {},
   "outputs": [],
   "source": [
    "numerical_features_list = ['Capital Gain', 'Capital Loss']"
   ]
  },
  {
   "cell_type": "code",
   "execution_count": 27,
   "id": "aa9b731b",
   "metadata": {},
   "outputs": [],
   "source": [
    "# Do I have to initialize the same code every time? When I don't run this code cell, cross_val_score \n",
    "# gives me the same result independently from that, which columns I include to numerical_features_list and to \n",
    "# categorical_features_list\n",
    "\n",
    "full_pipe = make_pipeline(ColumnTransformer(transformers = [\n",
    "    ('ordinal', OrdinalEncoder(categories=[[' Preschool',' 1st-4th',' 5th-6th',' 7th-8th',' 9th',' 10th',' 11th',\n",
    "                                      ' 12th',' HS-grad',' Some-college',' Assoc-voc',' Assoc-acdm', \n",
    "                                      ' Bachelors',' Masters',' Prof-school',' Doctorate']]),\n",
    "     make_column_selector(pattern = 'Education')),\n",
    "    ('stand scaler', StandardScaler(), numerical_features_list),\n",
    "    ('onehot', OneHotEncoder(dtype='int', drop='first'), categorical_features_list)],\n",
    "    remainder='drop'),\n",
    "                     LogisticRegression(max_iter=500))"
   ]
  },
  {
   "cell_type": "code",
   "execution_count": 28,
   "id": "d9732f43",
   "metadata": {},
   "outputs": [],
   "source": [
    "_ = full_pipe.fit(X_train, y_train)"
   ]
  },
  {
   "cell_type": "code",
   "execution_count": 29,
   "id": "7d58f479",
   "metadata": {},
   "outputs": [
    {
     "data": {
      "text/plain": [
       "array([' <=50K', ' >50K', ' <=50K', ..., ' <=50K', ' <=50K', ' <=50K'],\n",
       "      dtype=object)"
      ]
     },
     "execution_count": 29,
     "metadata": {},
     "output_type": "execute_result"
    }
   ],
   "source": [
    "y_pred = full_pipe.predict(X_train)\n",
    "y_pred"
   ]
  },
  {
   "cell_type": "code",
   "execution_count": 30,
   "id": "4bc9d4bb",
   "metadata": {},
   "outputs": [],
   "source": [
    "scores = cross_val_score(full_pipe, X_train, y_train, cv=5, scoring='f1_macro')"
   ]
  },
  {
   "cell_type": "code",
   "execution_count": 31,
   "id": "096d5d0a",
   "metadata": {},
   "outputs": [
    {
     "name": "stdout",
     "output_type": "stream",
     "text": [
      "f1 score: mean = 0.78 | std = 0.01\n"
     ]
    }
   ],
   "source": [
    "print(f\"f1 score: mean = {round(np.mean(scores),2)} | std = {round(np.std(scores),2)}\")"
   ]
  },
  {
   "cell_type": "code",
   "execution_count": 32,
   "id": "2f1c844a",
   "metadata": {},
   "outputs": [
    {
     "name": "stdout",
     "output_type": "stream",
     "text": [
      "              precision    recall  f1-score   support\n",
      "\n",
      "       <=50K       0.88      0.93      0.90     19767\n",
      "        >50K       0.73      0.59      0.65      6281\n",
      "\n",
      "    accuracy                           0.85     26048\n",
      "   macro avg       0.80      0.76      0.78     26048\n",
      "weighted avg       0.84      0.85      0.84     26048\n",
      "\n"
     ]
    }
   ],
   "source": [
    "print(classification_report(y_train, y_pred, target_names=y_train.unique()))"
   ]
  },
  {
   "cell_type": "code",
   "execution_count": null,
   "id": "880b2435",
   "metadata": {},
   "outputs": [],
   "source": []
  },
  {
   "cell_type": "code",
   "execution_count": null,
   "id": "c83ab4aa",
   "metadata": {},
   "outputs": [],
   "source": []
  },
  {
   "cell_type": "code",
   "execution_count": null,
   "id": "467f880e",
   "metadata": {},
   "outputs": [],
   "source": [
    "# def reset_xy (X, y):\n",
    "#     X_train = X.copy()\n",
    "#     y_train = y.copy()\n",
    "#     X_train = X_train.drop(['final weight'], axis = 'columns')\n",
    "#     return X_train, y_train"
   ]
  },
  {
   "cell_type": "code",
   "execution_count": null,
   "id": "51b63605",
   "metadata": {},
   "outputs": [],
   "source": [
    "# X_train, y_train = reset_xy(X, y)"
   ]
  },
  {
   "cell_type": "code",
   "execution_count": null,
   "id": "987a9bc7",
   "metadata": {},
   "outputs": [],
   "source": [
    "# num_no_fw = X_train[['Age', 'Capital Gain', 'Capital Loss', 'Hours per week']]\n",
    "# scale_numerical(num_no_fw)"
   ]
  },
  {
   "cell_type": "code",
   "execution_count": null,
   "id": "1061fd6b",
   "metadata": {},
   "outputs": [],
   "source": [
    "# encode_edu()\n",
    "# X_train = dumm_categorical(categorical_features_df, X_train)"
   ]
  },
  {
   "cell_type": "code",
   "execution_count": null,
   "id": "06045381",
   "metadata": {},
   "outputs": [],
   "source": [
    "# model = sm.Logit(y_train, X_train).fit()\n",
    "# print(model.summary())"
   ]
  },
  {
   "cell_type": "code",
   "execution_count": null,
   "id": "b4e9f038",
   "metadata": {},
   "outputs": [],
   "source": [
    "# y_hat = model.predict(X_test)\n",
    "# prediction = list(map(round, y_hat))\n",
    "\n",
    "# print('Actual values', list(y_test.values)[:10])\n",
    "# print('Predictions :', prediction[:10])"
   ]
  },
  {
   "cell_type": "code",
   "execution_count": null,
   "id": "f59db5fc",
   "metadata": {},
   "outputs": [],
   "source": [
    "# cm = confusion_matrix(y_test, prediction) \n",
    "# s = sns.heatmap(cm, annot = True)\n",
    "# s.set(xlabel='Predict', ylabel='Truth')\n",
    "# print(cm)\n",
    "# print(classification_report(y_test, prediction))"
   ]
  },
  {
   "cell_type": "markdown",
   "id": "917e6ea0",
   "metadata": {},
   "source": [
    "The model still performs san in minority class detection"
   ]
  },
  {
   "cell_type": "markdown",
   "id": "1078f9b8",
   "metadata": {},
   "source": [
    "## Same model, but with Capital paremeters logged"
   ]
  },
  {
   "cell_type": "code",
   "execution_count": null,
   "id": "1ae56e33",
   "metadata": {},
   "outputs": [],
   "source": [
    "# X_train, y_train = reset_xy(X, y)"
   ]
  },
  {
   "cell_type": "code",
   "execution_count": null,
   "id": "1a6cfed3",
   "metadata": {
    "scrolled": true
   },
   "outputs": [],
   "source": [
    "# def capital_log():\n",
    "#     X_train['Capital Gain'] = np.log(1+ X_train['Capital Gain'])\n",
    "#     X_train['Capital Loss'] = np.log(1+ X_train['Capital Loss'])\n",
    "    \n",
    "# capital_log()"
   ]
  },
  {
   "cell_type": "code",
   "execution_count": null,
   "id": "7eeb9ecf",
   "metadata": {},
   "outputs": [],
   "source": [
    "# num_no_capital = X_train[['Age', 'Hours per week']]\n",
    "# scale_numerical(num_no_capital)"
   ]
  },
  {
   "cell_type": "code",
   "execution_count": null,
   "id": "a21f0548",
   "metadata": {},
   "outputs": [],
   "source": [
    "# X_train.head(2)"
   ]
  },
  {
   "cell_type": "code",
   "execution_count": null,
   "id": "7906d0fa",
   "metadata": {},
   "outputs": [],
   "source": [
    "# encode_edu()\n",
    "# X_train = dumm_categorical(categorical_features_df, X_train)"
   ]
  },
  {
   "cell_type": "code",
   "execution_count": null,
   "id": "662821e6",
   "metadata": {},
   "outputs": [],
   "source": [
    "# X_train.head()"
   ]
  },
  {
   "cell_type": "code",
   "execution_count": null,
   "id": "11f50a8d",
   "metadata": {},
   "outputs": [],
   "source": [
    "# model = sm.Logit(y_train, X_train).fit()\n",
    "# print(model.summary())"
   ]
  },
  {
   "cell_type": "code",
   "execution_count": null,
   "id": "578d9464",
   "metadata": {},
   "outputs": [],
   "source": [
    "# y_hat = model.predict(X_test)\n",
    "# prediction = list(map(round, y_hat))\n",
    "# print('Actual values', list(y_test.values)[:10])\n",
    "# print('Predictions :', prediction[:10])"
   ]
  },
  {
   "cell_type": "code",
   "execution_count": null,
   "id": "e691f7d2",
   "metadata": {},
   "outputs": [],
   "source": [
    "# cm = confusion_matrix(y_test, prediction) \n",
    "# s = sns.heatmap(cm, annot = True)\n",
    "# s.set(xlabel='Predict', ylabel='Truth')\n",
    "# print(cm)\n",
    "# print(classification_report(y_test, prediction))"
   ]
  },
  {
   "cell_type": "markdown",
   "id": "dbf31372",
   "metadata": {},
   "source": [
    "## Logistic regression with previous data transformation"
   ]
  },
  {
   "cell_type": "code",
   "execution_count": null,
   "id": "9041ac8e",
   "metadata": {},
   "outputs": [],
   "source": [
    "# X_train, y_train = reset_xy(X, y)"
   ]
  },
  {
   "cell_type": "markdown",
   "id": "452742ab",
   "metadata": {},
   "source": [
    "For this modela all parameters, that have huge imbalance in their values, are changes to binary with categories:\n",
    "1. Most popular alue or the feature\n",
    "2. All other values together"
   ]
  },
  {
   "cell_type": "code",
   "execution_count": null,
   "id": "9d238272",
   "metadata": {
    "scrolled": true
   },
   "outputs": [],
   "source": [
    "# def balance_predictors():\n",
    "#     X_train['Ethnic group'] = np.where(X_train['Ethnic group'] != ' White', 'Other', X_train['Ethnic group'])\n",
    "#     X_train['Country'] = np.where(X_train['Country'] != ' United-States', 'Other', X_train['Country'])\n",
    "#     X_train['Workclass'] = np.where(X_train['Workclass'] != ' Private', 'Other', X_train['Workclass'])\n",
    "#     X_train['Marital Status'] = np.where(((X_train['Marital Status'] == ' Widowed') |\n",
    "#                                           (X_train['Marital Status'] == ' Married-spouse-absent') |\n",
    "#                                           (X_train['Marital Status'] == ' Separated')), \n",
    "#                                          'Other', X_train['Marital Status'])\n",
    "#     X_train['Occupation'] = np.where(((X_train['Occupation'] == ' Adm-clerical') |\n",
    "#                                       (X_train['Occupation'] == ' Armed-Forces') |\n",
    "#                                       (X_train['Occupation'] == ' Craft-repair') |\n",
    "#                                       (X_train['Occupation'] == ' Machine-op-inspct') |\n",
    "#                                       (X_train['Occupation'] == ' Priv-house-serv') |\n",
    "#                                       (X_train['Occupation'] == ' Transport-moving')), \n",
    "#                                      'Other', X_train['Occupation'])\n",
    "    \n",
    "# balance_predictors()\n",
    "# X_train.sample(3)"
   ]
  },
  {
   "cell_type": "code",
   "execution_count": null,
   "id": "d4b7bc00",
   "metadata": {},
   "outputs": [],
   "source": [
    "# encode_edu()\n",
    "\n",
    "# capital_log()\n",
    "\n",
    "# scale_numerical(num_no_fw)"
   ]
  },
  {
   "cell_type": "code",
   "execution_count": null,
   "id": "81279423",
   "metadata": {},
   "outputs": [],
   "source": [
    "# X_train = dumm_categorical(categorical_features_df, X_train)"
   ]
  },
  {
   "cell_type": "code",
   "execution_count": null,
   "id": "9d6d4247",
   "metadata": {},
   "outputs": [],
   "source": [
    "# model = sm.Logit(y_train, X_train).fit()\n",
    "# print(model.summary())"
   ]
  },
  {
   "cell_type": "code",
   "execution_count": null,
   "id": "9b1ba281",
   "metadata": {},
   "outputs": [],
   "source": [
    "# y_hat = model.predict(X_test)\n",
    "# prediction = list(map(round, y_hat))\n",
    "\n",
    "# print('Actual values', list(y_test.values)[:10])\n",
    "# print('Predictions :', prediction[:10])"
   ]
  },
  {
   "cell_type": "code",
   "execution_count": null,
   "id": "241ebec5",
   "metadata": {},
   "outputs": [],
   "source": [
    "# cm = confusion_matrix(y_test, prediction) \n",
    "# s = sns.heatmap(cm, annot = True)\n",
    "# s.set(xlabel='Predict', ylabel='Truth')\n",
    "# print(cm)\n",
    "# print(classification_report(y_test, prediction))"
   ]
  },
  {
   "cell_type": "markdown",
   "id": "402df434",
   "metadata": {},
   "source": [
    "## Oversampling target"
   ]
  },
  {
   "cell_type": "code",
   "execution_count": null,
   "id": "5463515c",
   "metadata": {},
   "outputs": [],
   "source": [
    "# count_class_0, count_class_1 = df['Income'].value_counts()\n",
    "\n",
    "# y0 = df[df['Income'] == 0]\n",
    "# y1 = df[df['Income'] == 1]"
   ]
  },
  {
   "cell_type": "code",
   "execution_count": null,
   "id": "611a8556",
   "metadata": {},
   "outputs": [],
   "source": [
    "# print(y0.shape)\n",
    "# print(y1.shape)"
   ]
  },
  {
   "cell_type": "code",
   "execution_count": null,
   "id": "3a5bc54b",
   "metadata": {},
   "outputs": [],
   "source": [
    "# y1_over = y1.sample(count_class_0, replace = True)"
   ]
  },
  {
   "cell_type": "code",
   "execution_count": null,
   "id": "60456bf3",
   "metadata": {},
   "outputs": [],
   "source": [
    "# df = pd.concat([y0, y1_over], axis = 0)"
   ]
  },
  {
   "cell_type": "code",
   "execution_count": null,
   "id": "36287fb9",
   "metadata": {},
   "outputs": [],
   "source": [
    "# df.shape"
   ]
  },
  {
   "cell_type": "code",
   "execution_count": null,
   "id": "dc59791e",
   "metadata": {},
   "outputs": [],
   "source": [
    "# X, y = reset_xy(df)"
   ]
  },
  {
   "cell_type": "code",
   "execution_count": null,
   "id": "a6b7d60e",
   "metadata": {},
   "outputs": [],
   "source": [
    "# balance_predictors()"
   ]
  },
  {
   "cell_type": "code",
   "execution_count": null,
   "id": "d74a95dc",
   "metadata": {},
   "outputs": [],
   "source": [
    "# encode_edu()"
   ]
  },
  {
   "cell_type": "code",
   "execution_count": null,
   "id": "ec668027",
   "metadata": {},
   "outputs": [],
   "source": [
    "# capital_log()"
   ]
  },
  {
   "cell_type": "code",
   "execution_count": null,
   "id": "56818118",
   "metadata": {},
   "outputs": [],
   "source": [
    "# num_no_capital = X[['Age', 'Hours per week']]\n",
    "# scale_numerical(num_no_capital)"
   ]
  },
  {
   "cell_type": "code",
   "execution_count": null,
   "id": "74735f3d",
   "metadata": {},
   "outputs": [],
   "source": [
    "# categorical_features_df = X[['Workclass', 'Marital Status', 'Relationship', 'Ethnic group', 'Country']]\n",
    "# X = dumm_categorical(categorical_features_df, X)"
   ]
  },
  {
   "cell_type": "code",
   "execution_count": null,
   "id": "47fb441e",
   "metadata": {},
   "outputs": [],
   "source": [
    "# X_train, X_test, y_train, y_test = train_test_split(X, y, test_size= 0.2)\n",
    "# X_train.sample(3)"
   ]
  },
  {
   "cell_type": "code",
   "execution_count": null,
   "id": "5e0cbf38",
   "metadata": {},
   "outputs": [],
   "source": [
    "# model = sm.Logit(y_train, X_train).fit()\n",
    "# print(model.summary())"
   ]
  },
  {
   "cell_type": "code",
   "execution_count": null,
   "id": "80c8613f",
   "metadata": {},
   "outputs": [],
   "source": [
    "# y_hat = model.predict(X_test)\n",
    "# prediction = list(map(round, y_hat))\n",
    "\n",
    "# print('Actual values', list(y_test.values)[:10])\n",
    "# print('Predictions :', prediction[:10])"
   ]
  },
  {
   "cell_type": "code",
   "execution_count": null,
   "id": "2444954e",
   "metadata": {},
   "outputs": [],
   "source": [
    "# cm = confusion_matrix(y_test, prediction) \n",
    "# s = sns.heatmap(cm, annot = True)\n",
    "# s.set(xlabel='Predict', ylabel='Truth')\n",
    "# print(cm)\n",
    "# print(classification_report(y_test, prediction))"
   ]
  }
 ],
 "metadata": {
  "kernelspec": {
   "display_name": "Python 3 (ipykernel)",
   "language": "python",
   "name": "python3"
  },
  "language_info": {
   "codemirror_mode": {
    "name": "ipython",
    "version": 3
   },
   "file_extension": ".py",
   "mimetype": "text/x-python",
   "name": "python",
   "nbconvert_exporter": "python",
   "pygments_lexer": "ipython3",
   "version": "3.9.16"
  }
 },
 "nbformat": 4,
 "nbformat_minor": 5
}
