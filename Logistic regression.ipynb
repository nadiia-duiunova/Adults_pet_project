{
 "cells": [
  {
   "cell_type": "code",
   "execution_count": 1,
   "id": "d779dfe8",
   "metadata": {},
   "outputs": [],
   "source": [
    "import pandas as pd\n",
    "import numpy as np\n",
    "import seaborn as sns\n",
    "import matplotlib.pyplot as plt\n",
    "import scipy.stats as stats\n",
    "import statsmodels.api as sm\n",
    "from sklearn.preprocessing import StandardScaler, OrdinalEncoder, LabelEncoder\n",
    "from sklearn.model_selection import train_test_split\n",
    "from sklearn.metrics import confusion_matrix, classification_report"
   ]
  },
  {
   "cell_type": "markdown",
   "id": "0f7913f1",
   "metadata": {},
   "source": [
    "Here the results from 'Adult EDA\" file are going to be used"
   ]
  },
  {
   "cell_type": "code",
   "execution_count": 2,
   "id": "a2fef80a",
   "metadata": {
    "scrolled": true
   },
   "outputs": [],
   "source": [
    "# %run \"Adult EDA.ipynb\""
   ]
  },
  {
   "cell_type": "code",
   "execution_count": 3,
   "id": "c05f7c27",
   "metadata": {},
   "outputs": [],
   "source": [
    "adult_columns = [\n",
    "    \"Age\",\n",
    "    \"Workclass\",\n",
    "    \"final weight\",\n",
    "    \"Education\",\n",
    "    \"Education-Num\",\n",
    "    \"Marital Status\",\n",
    "    \"Occupation\",\n",
    "    \"Relationship\",\n",
    "    \"Ethnic group\",\n",
    "    \"Sex\",\n",
    "    \"Capital Gain\",\n",
    "    \"Capital Loss\",\n",
    "    \"Hours per week\",\n",
    "    \"Country\",\n",
    "    \"Income\",\n",
    "]\n",
    "\n",
    "df = pd.read_csv(\"https://archive.ics.uci.edu/ml/machine-learning-databases/adult/adult.data\", \n",
    "                 header = None, names = adult_columns)"
   ]
  },
  {
   "cell_type": "code",
   "execution_count": 4,
   "id": "b01fb13b",
   "metadata": {},
   "outputs": [],
   "source": [
    "df = df.drop(['Education-Num'], axis = 'columns')"
   ]
  },
  {
   "cell_type": "markdown",
   "id": "4d5f6a70",
   "metadata": {},
   "source": [
    "## 1. Features preprocessing"
   ]
  },
  {
   "cell_type": "markdown",
   "id": "58433ff4",
   "metadata": {},
   "source": [
    "First all variables have to be transformed to numerical format to feed them to Logit function:"
   ]
  },
  {
   "cell_type": "code",
   "execution_count": 5,
   "id": "2aa30b20",
   "metadata": {
    "scrolled": false
   },
   "outputs": [],
   "source": [
    "_ = df['Income'].replace({' <=50K': 0, \n",
    "                             ' >50K': 1}, \n",
    "                            inplace = True)"
   ]
  },
  {
   "cell_type": "markdown",
   "id": "5f613a10",
   "metadata": {},
   "source": [
    "'Sex' feature is also binary, we can convert it separately from other categorical features."
   ]
  },
  {
   "cell_type": "code",
   "execution_count": 6,
   "id": "a860c5f0",
   "metadata": {},
   "outputs": [],
   "source": [
    "_ = df['Sex'].replace({' Male': 0, ' Female': 1}, \n",
    "                      inplace = True)"
   ]
  },
  {
   "cell_type": "code",
   "execution_count": 7,
   "id": "e0572c12",
   "metadata": {},
   "outputs": [
    {
     "data": {
      "text/html": [
       "<div>\n",
       "<style scoped>\n",
       "    .dataframe tbody tr th:only-of-type {\n",
       "        vertical-align: middle;\n",
       "    }\n",
       "\n",
       "    .dataframe tbody tr th {\n",
       "        vertical-align: top;\n",
       "    }\n",
       "\n",
       "    .dataframe thead th {\n",
       "        text-align: right;\n",
       "    }\n",
       "</style>\n",
       "<table border=\"1\" class=\"dataframe\">\n",
       "  <thead>\n",
       "    <tr style=\"text-align: right;\">\n",
       "      <th></th>\n",
       "      <th>Age</th>\n",
       "      <th>Capital Gain</th>\n",
       "      <th>Capital Loss</th>\n",
       "      <th>Hours per week</th>\n",
       "      <th>final weight</th>\n",
       "    </tr>\n",
       "  </thead>\n",
       "  <tbody>\n",
       "    <tr>\n",
       "      <th>0</th>\n",
       "      <td>39</td>\n",
       "      <td>2174</td>\n",
       "      <td>0</td>\n",
       "      <td>40</td>\n",
       "      <td>77516</td>\n",
       "    </tr>\n",
       "    <tr>\n",
       "      <th>1</th>\n",
       "      <td>50</td>\n",
       "      <td>0</td>\n",
       "      <td>0</td>\n",
       "      <td>13</td>\n",
       "      <td>83311</td>\n",
       "    </tr>\n",
       "    <tr>\n",
       "      <th>2</th>\n",
       "      <td>38</td>\n",
       "      <td>0</td>\n",
       "      <td>0</td>\n",
       "      <td>40</td>\n",
       "      <td>215646</td>\n",
       "    </tr>\n",
       "    <tr>\n",
       "      <th>3</th>\n",
       "      <td>53</td>\n",
       "      <td>0</td>\n",
       "      <td>0</td>\n",
       "      <td>40</td>\n",
       "      <td>234721</td>\n",
       "    </tr>\n",
       "    <tr>\n",
       "      <th>4</th>\n",
       "      <td>28</td>\n",
       "      <td>0</td>\n",
       "      <td>0</td>\n",
       "      <td>40</td>\n",
       "      <td>338409</td>\n",
       "    </tr>\n",
       "    <tr>\n",
       "      <th>...</th>\n",
       "      <td>...</td>\n",
       "      <td>...</td>\n",
       "      <td>...</td>\n",
       "      <td>...</td>\n",
       "      <td>...</td>\n",
       "    </tr>\n",
       "    <tr>\n",
       "      <th>32556</th>\n",
       "      <td>27</td>\n",
       "      <td>0</td>\n",
       "      <td>0</td>\n",
       "      <td>38</td>\n",
       "      <td>257302</td>\n",
       "    </tr>\n",
       "    <tr>\n",
       "      <th>32557</th>\n",
       "      <td>40</td>\n",
       "      <td>0</td>\n",
       "      <td>0</td>\n",
       "      <td>40</td>\n",
       "      <td>154374</td>\n",
       "    </tr>\n",
       "    <tr>\n",
       "      <th>32558</th>\n",
       "      <td>58</td>\n",
       "      <td>0</td>\n",
       "      <td>0</td>\n",
       "      <td>40</td>\n",
       "      <td>151910</td>\n",
       "    </tr>\n",
       "    <tr>\n",
       "      <th>32559</th>\n",
       "      <td>22</td>\n",
       "      <td>0</td>\n",
       "      <td>0</td>\n",
       "      <td>20</td>\n",
       "      <td>201490</td>\n",
       "    </tr>\n",
       "    <tr>\n",
       "      <th>32560</th>\n",
       "      <td>52</td>\n",
       "      <td>15024</td>\n",
       "      <td>0</td>\n",
       "      <td>40</td>\n",
       "      <td>287927</td>\n",
       "    </tr>\n",
       "  </tbody>\n",
       "</table>\n",
       "<p>32561 rows × 5 columns</p>\n",
       "</div>"
      ],
      "text/plain": [
       "       Age  Capital Gain  Capital Loss  Hours per week  final weight\n",
       "0       39          2174             0              40         77516\n",
       "1       50             0             0              13         83311\n",
       "2       38             0             0              40        215646\n",
       "3       53             0             0              40        234721\n",
       "4       28             0             0              40        338409\n",
       "...    ...           ...           ...             ...           ...\n",
       "32556   27             0             0              38        257302\n",
       "32557   40             0             0              40        154374\n",
       "32558   58             0             0              40        151910\n",
       "32559   22             0             0              20        201490\n",
       "32560   52         15024             0              40        287927\n",
       "\n",
       "[32561 rows x 5 columns]"
      ]
     },
     "execution_count": 7,
     "metadata": {},
     "output_type": "execute_result"
    }
   ],
   "source": [
    "numerical_features_list = ['Age', 'Capital Gain', 'Capital Loss', 'Hours per week', 'final weight']\n",
    "numerical_features_df = df[numerical_features_list]\n",
    "numerical_features_df"
   ]
  },
  {
   "cell_type": "code",
   "execution_count": 8,
   "id": "e228d089",
   "metadata": {},
   "outputs": [],
   "source": [
    "X = df.drop(['Income'], axis = 'columns')\n",
    "y = df['Income']"
   ]
  },
  {
   "cell_type": "code",
   "execution_count": 9,
   "id": "b3a657e5",
   "metadata": {},
   "outputs": [],
   "source": [
    "def reset_xy (df):\n",
    "    X = df.drop(['Income', 'final weight', 'Occupation'], axis = 'columns')\n",
    "    y = df['Income']\n",
    "    return X, y"
   ]
  },
  {
   "cell_type": "code",
   "execution_count": 11,
   "id": "b5e36333",
   "metadata": {},
   "outputs": [],
   "source": [
    "stand_scaler = StandardScaler()"
   ]
  },
  {
   "cell_type": "code",
   "execution_count": 12,
   "id": "639778b9",
   "metadata": {},
   "outputs": [],
   "source": [
    "def scale_numerical(numerical_features):\n",
    "    X[numerical_features.columns.values] = stand_scaler.fit_transform(numerical_features.values)\n",
    "    \n",
    "scale_numerical(numerical_features_df)"
   ]
  },
  {
   "cell_type": "code",
   "execution_count": 13,
   "id": "b840f289",
   "metadata": {},
   "outputs": [
    {
     "data": {
      "text/html": [
       "<div>\n",
       "<style scoped>\n",
       "    .dataframe tbody tr th:only-of-type {\n",
       "        vertical-align: middle;\n",
       "    }\n",
       "\n",
       "    .dataframe tbody tr th {\n",
       "        vertical-align: top;\n",
       "    }\n",
       "\n",
       "    .dataframe thead th {\n",
       "        text-align: right;\n",
       "    }\n",
       "</style>\n",
       "<table border=\"1\" class=\"dataframe\">\n",
       "  <thead>\n",
       "    <tr style=\"text-align: right;\">\n",
       "      <th></th>\n",
       "      <th>Age</th>\n",
       "      <th>Workclass</th>\n",
       "      <th>final weight</th>\n",
       "      <th>Education</th>\n",
       "      <th>Marital Status</th>\n",
       "      <th>Occupation</th>\n",
       "      <th>Relationship</th>\n",
       "      <th>Ethnic group</th>\n",
       "      <th>Sex</th>\n",
       "      <th>Capital Gain</th>\n",
       "      <th>Capital Loss</th>\n",
       "      <th>Hours per week</th>\n",
       "      <th>Country</th>\n",
       "    </tr>\n",
       "  </thead>\n",
       "  <tbody>\n",
       "    <tr>\n",
       "      <th>28846</th>\n",
       "      <td>0.030671</td>\n",
       "      <td>Private</td>\n",
       "      <td>-1.505115</td>\n",
       "      <td>HS-grad</td>\n",
       "      <td>Married-civ-spouse</td>\n",
       "      <td>Craft-repair</td>\n",
       "      <td>Husband</td>\n",
       "      <td>White</td>\n",
       "      <td>0</td>\n",
       "      <td>-0.14592</td>\n",
       "      <td>-0.21666</td>\n",
       "      <td>-0.035429</td>\n",
       "      <td>United-States</td>\n",
       "    </tr>\n",
       "  </tbody>\n",
       "</table>\n",
       "</div>"
      ],
      "text/plain": [
       "            Age Workclass  final weight Education       Marital Status  \\\n",
       "28846  0.030671   Private     -1.505115   HS-grad   Married-civ-spouse   \n",
       "\n",
       "          Occupation Relationship Ethnic group  Sex  Capital Gain  \\\n",
       "28846   Craft-repair      Husband        White    0      -0.14592   \n",
       "\n",
       "       Capital Loss  Hours per week         Country  \n",
       "28846      -0.21666       -0.035429   United-States  "
      ]
     },
     "execution_count": 13,
     "metadata": {},
     "output_type": "execute_result"
    }
   ],
   "source": [
    "X.sample()"
   ]
  },
  {
   "cell_type": "markdown",
   "id": "124ab2b7",
   "metadata": {},
   "source": [
    "In this dataset we have only one feature, where the order matters - Education. Let's transform it using OrdinalEncoder. "
   ]
  },
  {
   "cell_type": "code",
   "execution_count": 14,
   "id": "2724a06a",
   "metadata": {},
   "outputs": [],
   "source": [
    "edu_encoder = OrdinalEncoder(categories=[[' Preschool',' 1st-4th',' 5th-6th',' 7th-8th',' 9th',' 10th',' 11th',\n",
    "                                      ' 12th',' HS-grad',' Some-college',' Assoc-voc',' Assoc-acdm', \n",
    "                                      ' Bachelors',' Masters',' Prof-school',' Doctorate']])"
   ]
  },
  {
   "cell_type": "code",
   "execution_count": 15,
   "id": "a00f2d15",
   "metadata": {},
   "outputs": [],
   "source": [
    "def encode_edu():\n",
    "    X[[\"Education\"]] = edu_encoder.fit_transform(df[[\"Education\"]])\n",
    "    \n",
    "encode_edu()"
   ]
  },
  {
   "cell_type": "markdown",
   "id": "edc56e4f",
   "metadata": {},
   "source": [
    "For all the rest of categorical features the order does not matter, hense we can label encode them"
   ]
  },
  {
   "cell_type": "code",
   "execution_count": 16,
   "id": "1e7440e8",
   "metadata": {},
   "outputs": [],
   "source": [
    "categorical_features_df = X[['Workclass', 'Marital Status', 'Occupation', 'Relationship', 'Ethnic group', 'Country']]"
   ]
  },
  {
   "cell_type": "code",
   "execution_count": 17,
   "id": "96f23911",
   "metadata": {},
   "outputs": [],
   "source": [
    "def encode_categorical(categorical_features_df):\n",
    "    cat_df = categorical_features_df.apply(LabelEncoder().fit_transform)\n",
    "    return cat_df\n",
    "\n",
    "cat_df = encode_categorical(categorical_features_df)"
   ]
  },
  {
   "cell_type": "markdown",
   "id": "8ca1fa93",
   "metadata": {},
   "source": [
    "Now we have to concatenate numerical and categorical features to one datadrame"
   ]
  },
  {
   "cell_type": "code",
   "execution_count": 18,
   "id": "83ec0d36",
   "metadata": {},
   "outputs": [],
   "source": [
    "def concat_num_and_cat(x, cat):\n",
    "    X = x.drop(cat.columns, axis = 'columns')\n",
    "    X = pd.concat([X, cat], axis=1, join='inner')\n",
    "    return X"
   ]
  },
  {
   "cell_type": "code",
   "execution_count": 19,
   "id": "5e87fb58",
   "metadata": {},
   "outputs": [
    {
     "data": {
      "text/plain": [
       "(32561, 13)"
      ]
     },
     "execution_count": 19,
     "metadata": {},
     "output_type": "execute_result"
    }
   ],
   "source": [
    "X = concat_num_and_cat(X, cat_df)\n",
    "X.shape"
   ]
  },
  {
   "cell_type": "code",
   "execution_count": 20,
   "id": "a273a556",
   "metadata": {},
   "outputs": [],
   "source": [
    "X_train, X_test, y_train, y_test = train_test_split(X, y, test_size= 0.2)"
   ]
  },
  {
   "cell_type": "markdown",
   "id": "5ee4b8db",
   "metadata": {},
   "source": [
    "## Initial model without changes in data"
   ]
  },
  {
   "cell_type": "code",
   "execution_count": 21,
   "id": "3adf8998",
   "metadata": {
    "scrolled": true
   },
   "outputs": [
    {
     "name": "stdout",
     "output_type": "stream",
     "text": [
      "Optimization terminated successfully.\n",
      "         Current function value: 0.398833\n",
      "         Iterations 8\n",
      "                           Logit Regression Results                           \n",
      "==============================================================================\n",
      "Dep. Variable:                 Income   No. Observations:                26048\n",
      "Model:                          Logit   Df Residuals:                    26035\n",
      "Method:                           MLE   Df Model:                           12\n",
      "Date:                Wed, 29 Mar 2023   Pseudo R-squ.:                  0.2788\n",
      "Time:                        00:14:25   Log-Likelihood:                -10389.\n",
      "converged:                       True   LL-Null:                       -14404.\n",
      "Covariance Type:            nonrobust   LLR p-value:                     0.000\n",
      "==================================================================================\n",
      "                     coef    std err          z      P>|z|      [0.025      0.975]\n",
      "----------------------------------------------------------------------------------\n",
      "Age                0.3914      0.020     19.617      0.000       0.352       0.430\n",
      "final weight       0.0406      0.018      2.309      0.021       0.006       0.075\n",
      "Education          0.2301      0.007     34.940      0.000       0.217       0.243\n",
      "Sex               -0.8882      0.056    -15.898      0.000      -0.998      -0.779\n",
      "Capital Gain       2.5318      0.083     30.468      0.000       2.369       2.695\n",
      "Capital Loss       0.2870      0.015     19.327      0.000       0.258       0.316\n",
      "Hours per week     0.3876      0.019     20.436      0.000       0.350       0.425\n",
      "Workclass         -0.1171      0.012    -10.032      0.000      -0.140      -0.094\n",
      "Marital Status    -0.3220      0.013    -24.410      0.000      -0.348      -0.296\n",
      "Occupation         0.0031      0.004      0.738      0.460      -0.005       0.011\n",
      "Relationship      -0.1765      0.016    -11.236      0.000      -0.207      -0.146\n",
      "Ethnic group      -0.1785      0.018     -9.764      0.000      -0.214      -0.143\n",
      "Country           -0.0273      0.002    -15.167      0.000      -0.031      -0.024\n",
      "==================================================================================\n"
     ]
    }
   ],
   "source": [
    "model = sm.Logit(y_train, X_train).fit()\n",
    "print(model.summary())"
   ]
  },
  {
   "cell_type": "code",
   "execution_count": 22,
   "id": "270894cb",
   "metadata": {},
   "outputs": [
    {
     "name": "stdout",
     "output_type": "stream",
     "text": [
      "Actual values [1, 1, 0, 0, 1, 0, 1, 0, 0, 0]\n",
      "Predictions : [1, 1, 0, 0, 0, 0, 1, 0, 0, 0]\n"
     ]
    }
   ],
   "source": [
    "y_hat = model.predict(X_test)\n",
    "prediction = list(map(round, y_hat))\n",
    "\n",
    "print('Actual values', list(y_test.values)[:10])\n",
    "print('Predictions :', prediction[:10])"
   ]
  },
  {
   "cell_type": "code",
   "execution_count": 23,
   "id": "879671fb",
   "metadata": {},
   "outputs": [
    {
     "name": "stdout",
     "output_type": "stream",
     "text": [
      "[[4677  290]\n",
      " [ 878  668]]\n",
      "              precision    recall  f1-score   support\n",
      "\n",
      "           0       0.84      0.94      0.89      4967\n",
      "           1       0.70      0.43      0.53      1546\n",
      "\n",
      "    accuracy                           0.82      6513\n",
      "   macro avg       0.77      0.69      0.71      6513\n",
      "weighted avg       0.81      0.82      0.80      6513\n",
      "\n"
     ]
    },
    {
     "data": {
      "image/png": "[encoded data removed]",
      "text/plain": [
       "<Figure size 640x480 with 2 Axes>"
      ]
     },
     "metadata": {},
     "output_type": "display_data"
    }
   ],
   "source": [
    "cm = confusion_matrix(y_test, prediction) \n",
    "s = sns.heatmap(cm, annot = True)\n",
    "s.set(xlabel='Predict', ylabel='Truth')\n",
    "print(cm)\n",
    "print(classification_report(y_test, prediction))"
   ]
  },
  {
   "cell_type": "markdown",
   "id": "0bb02846",
   "metadata": {},
   "source": [
    "According to Logit Regression Results there are 2 statistically insignificant features: final weight and occupation. Let's remove them for the following models"
   ]
  },
  {
   "cell_type": "markdown",
   "id": "45578b68",
   "metadata": {},
   "source": [
    "## Same model, but without 'final weight' and 'Occupation parameter"
   ]
  },
  {
   "cell_type": "code",
   "execution_count": 24,
   "id": "c1dc6686",
   "metadata": {},
   "outputs": [],
   "source": [
    "X, y = reset_xy(df)"
   ]
  },
  {
   "cell_type": "code",
   "execution_count": 25,
   "id": "87a58faa",
   "metadata": {},
   "outputs": [],
   "source": [
    "num_no_fw = X[['Age', 'Capital Gain', 'Capital Loss', 'Hours per week']]\n",
    "scale_numerical(num_no_fw)"
   ]
  },
  {
   "cell_type": "code",
   "execution_count": 26,
   "id": "d1e7e7c3",
   "metadata": {},
   "outputs": [],
   "source": [
    "encode_edu()\n",
    "categorical_df = X[['Workclass', 'Marital Status', 'Relationship', 'Ethnic group', 'Country']]\n",
    "cat_df = encode_categorical(categorical_df)"
   ]
  },
  {
   "cell_type": "code",
   "execution_count": 27,
   "id": "4d0e2174",
   "metadata": {},
   "outputs": [],
   "source": [
    "X = concat_num_and_cat(X, cat_df)"
   ]
  },
  {
   "cell_type": "code",
   "execution_count": 28,
   "id": "076a67c0",
   "metadata": {},
   "outputs": [
    {
     "data": {
      "text/html": [
       "<div>\n",
       "<style scoped>\n",
       "    .dataframe tbody tr th:only-of-type {\n",
       "        vertical-align: middle;\n",
       "    }\n",
       "\n",
       "    .dataframe tbody tr th {\n",
       "        vertical-align: top;\n",
       "    }\n",
       "\n",
       "    .dataframe thead th {\n",
       "        text-align: right;\n",
       "    }\n",
       "</style>\n",
       "<table border=\"1\" class=\"dataframe\">\n",
       "  <thead>\n",
       "    <tr style=\"text-align: right;\">\n",
       "      <th></th>\n",
       "      <th>Age</th>\n",
       "      <th>Education</th>\n",
       "      <th>Sex</th>\n",
       "      <th>Capital Gain</th>\n",
       "      <th>Capital Loss</th>\n",
       "      <th>Hours per week</th>\n",
       "      <th>Workclass</th>\n",
       "      <th>Marital Status</th>\n",
       "      <th>Relationship</th>\n",
       "      <th>Ethnic group</th>\n",
       "      <th>Country</th>\n",
       "    </tr>\n",
       "  </thead>\n",
       "  <tbody>\n",
       "    <tr>\n",
       "      <th>32024</th>\n",
       "      <td>1.057047</td>\n",
       "      <td>8.0</td>\n",
       "      <td>0</td>\n",
       "      <td>-0.145920</td>\n",
       "      <td>-0.216660</td>\n",
       "      <td>-0.035429</td>\n",
       "      <td>4</td>\n",
       "      <td>2</td>\n",
       "      <td>0</td>\n",
       "      <td>4</td>\n",
       "      <td>39</td>\n",
       "    </tr>\n",
       "    <tr>\n",
       "      <th>15261</th>\n",
       "      <td>-0.115955</td>\n",
       "      <td>12.0</td>\n",
       "      <td>0</td>\n",
       "      <td>-0.145920</td>\n",
       "      <td>-0.216660</td>\n",
       "      <td>0.612489</td>\n",
       "      <td>4</td>\n",
       "      <td>4</td>\n",
       "      <td>1</td>\n",
       "      <td>4</td>\n",
       "      <td>39</td>\n",
       "    </tr>\n",
       "    <tr>\n",
       "      <th>9125</th>\n",
       "      <td>-1.435581</td>\n",
       "      <td>9.0</td>\n",
       "      <td>0</td>\n",
       "      <td>-0.145920</td>\n",
       "      <td>-0.216660</td>\n",
       "      <td>-0.440378</td>\n",
       "      <td>4</td>\n",
       "      <td>4</td>\n",
       "      <td>3</td>\n",
       "      <td>4</td>\n",
       "      <td>39</td>\n",
       "    </tr>\n",
       "    <tr>\n",
       "      <th>27818</th>\n",
       "      <td>-0.482518</td>\n",
       "      <td>9.0</td>\n",
       "      <td>0</td>\n",
       "      <td>-0.145920</td>\n",
       "      <td>-0.216660</td>\n",
       "      <td>1.179417</td>\n",
       "      <td>4</td>\n",
       "      <td>4</td>\n",
       "      <td>2</td>\n",
       "      <td>4</td>\n",
       "      <td>7</td>\n",
       "    </tr>\n",
       "    <tr>\n",
       "      <th>6965</th>\n",
       "      <td>-0.482518</td>\n",
       "      <td>14.0</td>\n",
       "      <td>0</td>\n",
       "      <td>0.383247</td>\n",
       "      <td>-0.216660</td>\n",
       "      <td>-0.035429</td>\n",
       "      <td>4</td>\n",
       "      <td>2</td>\n",
       "      <td>0</td>\n",
       "      <td>4</td>\n",
       "      <td>39</td>\n",
       "    </tr>\n",
       "    <tr>\n",
       "      <th>...</th>\n",
       "      <td>...</td>\n",
       "      <td>...</td>\n",
       "      <td>...</td>\n",
       "      <td>...</td>\n",
       "      <td>...</td>\n",
       "      <td>...</td>\n",
       "      <td>...</td>\n",
       "      <td>...</td>\n",
       "      <td>...</td>\n",
       "      <td>...</td>\n",
       "      <td>...</td>\n",
       "    </tr>\n",
       "    <tr>\n",
       "      <th>7464</th>\n",
       "      <td>-0.849080</td>\n",
       "      <td>12.0</td>\n",
       "      <td>0</td>\n",
       "      <td>-0.145920</td>\n",
       "      <td>-0.216660</td>\n",
       "      <td>0.369519</td>\n",
       "      <td>2</td>\n",
       "      <td>2</td>\n",
       "      <td>0</td>\n",
       "      <td>4</td>\n",
       "      <td>39</td>\n",
       "    </tr>\n",
       "    <tr>\n",
       "      <th>7202</th>\n",
       "      <td>1.790173</td>\n",
       "      <td>12.0</td>\n",
       "      <td>0</td>\n",
       "      <td>-0.145920</td>\n",
       "      <td>4.689607</td>\n",
       "      <td>-0.683348</td>\n",
       "      <td>6</td>\n",
       "      <td>2</td>\n",
       "      <td>0</td>\n",
       "      <td>1</td>\n",
       "      <td>3</td>\n",
       "    </tr>\n",
       "    <tr>\n",
       "      <th>13772</th>\n",
       "      <td>1.936798</td>\n",
       "      <td>12.0</td>\n",
       "      <td>0</td>\n",
       "      <td>-0.145920</td>\n",
       "      <td>-0.216660</td>\n",
       "      <td>-2.060174</td>\n",
       "      <td>4</td>\n",
       "      <td>2</td>\n",
       "      <td>0</td>\n",
       "      <td>4</td>\n",
       "      <td>39</td>\n",
       "    </tr>\n",
       "    <tr>\n",
       "      <th>6937</th>\n",
       "      <td>-0.409205</td>\n",
       "      <td>5.0</td>\n",
       "      <td>0</td>\n",
       "      <td>-0.145920</td>\n",
       "      <td>-0.216660</td>\n",
       "      <td>-0.035429</td>\n",
       "      <td>4</td>\n",
       "      <td>2</td>\n",
       "      <td>0</td>\n",
       "      <td>4</td>\n",
       "      <td>39</td>\n",
       "    </tr>\n",
       "    <tr>\n",
       "      <th>23987</th>\n",
       "      <td>0.103983</td>\n",
       "      <td>12.0</td>\n",
       "      <td>0</td>\n",
       "      <td>-0.145920</td>\n",
       "      <td>4.689607</td>\n",
       "      <td>0.774468</td>\n",
       "      <td>4</td>\n",
       "      <td>2</td>\n",
       "      <td>0</td>\n",
       "      <td>4</td>\n",
       "      <td>39</td>\n",
       "    </tr>\n",
       "  </tbody>\n",
       "</table>\n",
       "<p>26048 rows × 11 columns</p>\n",
       "</div>"
      ],
      "text/plain": [
       "            Age  Education  Sex  Capital Gain  Capital Loss  Hours per week  \\\n",
       "32024  1.057047        8.0    0     -0.145920     -0.216660       -0.035429   \n",
       "15261 -0.115955       12.0    0     -0.145920     -0.216660        0.612489   \n",
       "9125  -1.435581        9.0    0     -0.145920     -0.216660       -0.440378   \n",
       "27818 -0.482518        9.0    0     -0.145920     -0.216660        1.179417   \n",
       "6965  -0.482518       14.0    0      0.383247     -0.216660       -0.035429   \n",
       "...         ...        ...  ...           ...           ...             ...   \n",
       "7464  -0.849080       12.0    0     -0.145920     -0.216660        0.369519   \n",
       "7202   1.790173       12.0    0     -0.145920      4.689607       -0.683348   \n",
       "13772  1.936798       12.0    0     -0.145920     -0.216660       -2.060174   \n",
       "6937  -0.409205        5.0    0     -0.145920     -0.216660       -0.035429   \n",
       "23987  0.103983       12.0    0     -0.145920      4.689607        0.774468   \n",
       "\n",
       "       Workclass  Marital Status  Relationship  Ethnic group  Country  \n",
       "32024          4               2             0             4       39  \n",
       "15261          4               4             1             4       39  \n",
       "9125           4               4             3             4       39  \n",
       "27818          4               4             2             4        7  \n",
       "6965           4               2             0             4       39  \n",
       "...          ...             ...           ...           ...      ...  \n",
       "7464           2               2             0             4       39  \n",
       "7202           6               2             0             1        3  \n",
       "13772          4               2             0             4       39  \n",
       "6937           4               2             0             4       39  \n",
       "23987          4               2             0             4       39  \n",
       "\n",
       "[26048 rows x 11 columns]"
      ]
     },
     "execution_count": 28,
     "metadata": {},
     "output_type": "execute_result"
    }
   ],
   "source": [
    "X_train, X_test, y_train, y_test = train_test_split(X, y, test_size= 0.2)\n",
    "X_train"
   ]
  },
  {
   "cell_type": "code",
   "execution_count": 29,
   "id": "b4c11d5b",
   "metadata": {},
   "outputs": [
    {
     "name": "stdout",
     "output_type": "stream",
     "text": [
      "Optimization terminated successfully.\n",
      "         Current function value: 0.399469\n",
      "         Iterations 8\n",
      "                           Logit Regression Results                           \n",
      "==============================================================================\n",
      "Dep. Variable:                 Income   No. Observations:                26048\n",
      "Model:                          Logit   Df Residuals:                    26037\n",
      "Method:                           MLE   Df Model:                           10\n",
      "Date:                Wed, 29 Mar 2023   Pseudo R-squ.:                  0.2800\n",
      "Time:                        00:14:25   Log-Likelihood:                -10405.\n",
      "converged:                       True   LL-Null:                       -14452.\n",
      "Covariance Type:            nonrobust   LLR p-value:                     0.000\n",
      "==================================================================================\n",
      "                     coef    std err          z      P>|z|      [0.025      0.975]\n",
      "----------------------------------------------------------------------------------\n",
      "Age                0.3822      0.020     19.136      0.000       0.343       0.421\n",
      "Education          0.2384      0.007     36.515      0.000       0.226       0.251\n",
      "Sex               -0.9575      0.056    -17.147      0.000      -1.067      -0.848\n",
      "Capital Gain       2.5143      0.083     30.299      0.000       2.352       2.677\n",
      "Capital Loss       0.2802      0.015     18.961      0.000       0.251       0.309\n",
      "Hours per week     0.3718      0.019     19.781      0.000       0.335       0.409\n",
      "Workclass         -0.1299      0.011    -11.499      0.000      -0.152      -0.108\n",
      "Marital Status    -0.3343      0.013    -25.271      0.000      -0.360      -0.308\n",
      "Relationship      -0.1650      0.016    -10.546      0.000      -0.196      -0.134\n",
      "Ethnic group      -0.1770      0.018     -9.687      0.000      -0.213      -0.141\n",
      "Country           -0.0264      0.002    -14.560      0.000      -0.030      -0.023\n",
      "==================================================================================\n"
     ]
    }
   ],
   "source": [
    "model = sm.Logit(y_train, X_train).fit()\n",
    "print(model.summary())"
   ]
  },
  {
   "cell_type": "code",
   "execution_count": 30,
   "id": "bf84132a",
   "metadata": {},
   "outputs": [
    {
     "name": "stdout",
     "output_type": "stream",
     "text": [
      "Actual values [0, 0, 0, 0, 0, 0, 0, 0, 0, 0]\n",
      "Predictions : [0, 0, 0, 1, 0, 1, 0, 0, 0, 0]\n"
     ]
    }
   ],
   "source": [
    "y_hat = model.predict(X_test)\n",
    "prediction = list(map(round, y_hat))\n",
    "\n",
    "print('Actual values', list(y_test.values)[:10])\n",
    "print('Predictions :', prediction[:10])"
   ]
  },
  {
   "cell_type": "code",
   "execution_count": 31,
   "id": "09cf091c",
   "metadata": {},
   "outputs": [
    {
     "name": "stdout",
     "output_type": "stream",
     "text": [
      "[[4672  337]\n",
      " [ 849  655]]\n",
      "              precision    recall  f1-score   support\n",
      "\n",
      "           0       0.85      0.93      0.89      5009\n",
      "           1       0.66      0.44      0.52      1504\n",
      "\n",
      "    accuracy                           0.82      6513\n",
      "   macro avg       0.75      0.68      0.71      6513\n",
      "weighted avg       0.80      0.82      0.80      6513\n",
      "\n"
     ]
    },
    {
     "data": {
      "image/png": "[encoded data removed]",
      "text/plain": [
       "<Figure size 640x480 with 2 Axes>"
      ]
     },
     "metadata": {},
     "output_type": "display_data"
    }
   ],
   "source": [
    "cm = confusion_matrix(y_test, prediction) \n",
    "s = sns.heatmap(cm, annot = True)\n",
    "s.set(xlabel='Predict', ylabel='Truth')\n",
    "print(cm)\n",
    "print(classification_report(y_test, prediction))"
   ]
  },
  {
   "cell_type": "markdown",
   "id": "2874041d",
   "metadata": {},
   "source": [
    "The model still performs san in minority class detection"
   ]
  },
  {
   "cell_type": "markdown",
   "id": "d81fba39",
   "metadata": {},
   "source": [
    "## Same model, but with Capital paremeters logged"
   ]
  },
  {
   "cell_type": "code",
   "execution_count": 32,
   "id": "bba8e3eb",
   "metadata": {},
   "outputs": [],
   "source": [
    "X, y = reset_xy(df)"
   ]
  },
  {
   "cell_type": "code",
   "execution_count": 33,
   "id": "83346325",
   "metadata": {
    "scrolled": true
   },
   "outputs": [],
   "source": [
    "def capital_log():\n",
    "    X['Capital Gain'] = np.log(1+ X['Capital Gain'])\n",
    "    X['Capital Loss'] = np.log(1+ X['Capital Loss'])\n",
    "    \n",
    "capital_log()"
   ]
  },
  {
   "cell_type": "code",
   "execution_count": 34,
   "id": "fb72fb3e",
   "metadata": {},
   "outputs": [],
   "source": [
    "num_no_capital = X[['Age', 'Hours per week']]\n",
    "scale_numerical(num_no_capital)"
   ]
  },
  {
   "cell_type": "code",
   "execution_count": 35,
   "id": "30845812",
   "metadata": {},
   "outputs": [
    {
     "data": {
      "text/html": [
       "<div>\n",
       "<style scoped>\n",
       "    .dataframe tbody tr th:only-of-type {\n",
       "        vertical-align: middle;\n",
       "    }\n",
       "\n",
       "    .dataframe tbody tr th {\n",
       "        vertical-align: top;\n",
       "    }\n",
       "\n",
       "    .dataframe thead th {\n",
       "        text-align: right;\n",
       "    }\n",
       "</style>\n",
       "<table border=\"1\" class=\"dataframe\">\n",
       "  <thead>\n",
       "    <tr style=\"text-align: right;\">\n",
       "      <th></th>\n",
       "      <th>Age</th>\n",
       "      <th>Workclass</th>\n",
       "      <th>Education</th>\n",
       "      <th>Marital Status</th>\n",
       "      <th>Relationship</th>\n",
       "      <th>Ethnic group</th>\n",
       "      <th>Sex</th>\n",
       "      <th>Capital Gain</th>\n",
       "      <th>Capital Loss</th>\n",
       "      <th>Hours per week</th>\n",
       "      <th>Country</th>\n",
       "    </tr>\n",
       "  </thead>\n",
       "  <tbody>\n",
       "    <tr>\n",
       "      <th>0</th>\n",
       "      <td>0.030671</td>\n",
       "      <td>State-gov</td>\n",
       "      <td>Bachelors</td>\n",
       "      <td>Never-married</td>\n",
       "      <td>Not-in-family</td>\n",
       "      <td>White</td>\n",
       "      <td>0</td>\n",
       "      <td>7.684784</td>\n",
       "      <td>0.0</td>\n",
       "      <td>-0.035429</td>\n",
       "      <td>United-States</td>\n",
       "    </tr>\n",
       "    <tr>\n",
       "      <th>1</th>\n",
       "      <td>0.837109</td>\n",
       "      <td>Self-emp-not-inc</td>\n",
       "      <td>Bachelors</td>\n",
       "      <td>Married-civ-spouse</td>\n",
       "      <td>Husband</td>\n",
       "      <td>White</td>\n",
       "      <td>0</td>\n",
       "      <td>0.000000</td>\n",
       "      <td>0.0</td>\n",
       "      <td>-2.222153</td>\n",
       "      <td>United-States</td>\n",
       "    </tr>\n",
       "  </tbody>\n",
       "</table>\n",
       "</div>"
      ],
      "text/plain": [
       "        Age          Workclass   Education       Marital Status  \\\n",
       "0  0.030671          State-gov   Bachelors        Never-married   \n",
       "1  0.837109   Self-emp-not-inc   Bachelors   Married-civ-spouse   \n",
       "\n",
       "     Relationship Ethnic group  Sex  Capital Gain  Capital Loss  \\\n",
       "0   Not-in-family        White    0      7.684784           0.0   \n",
       "1         Husband        White    0      0.000000           0.0   \n",
       "\n",
       "   Hours per week         Country  \n",
       "0       -0.035429   United-States  \n",
       "1       -2.222153   United-States  "
      ]
     },
     "execution_count": 35,
     "metadata": {},
     "output_type": "execute_result"
    }
   ],
   "source": [
    "X.head(2)"
   ]
  },
  {
   "cell_type": "code",
   "execution_count": 36,
   "id": "5e844076",
   "metadata": {},
   "outputs": [],
   "source": [
    "encode_edu()\n",
    "cat_df = encode_categorical(categorical_df)"
   ]
  },
  {
   "cell_type": "code",
   "execution_count": 37,
   "id": "3d588df8",
   "metadata": {},
   "outputs": [],
   "source": [
    "X = concat_num_and_cat(X, cat_df)"
   ]
  },
  {
   "cell_type": "code",
   "execution_count": 38,
   "id": "7f114b53",
   "metadata": {},
   "outputs": [
    {
     "data": {
      "text/html": [
       "<div>\n",
       "<style scoped>\n",
       "    .dataframe tbody tr th:only-of-type {\n",
       "        vertical-align: middle;\n",
       "    }\n",
       "\n",
       "    .dataframe tbody tr th {\n",
       "        vertical-align: top;\n",
       "    }\n",
       "\n",
       "    .dataframe thead th {\n",
       "        text-align: right;\n",
       "    }\n",
       "</style>\n",
       "<table border=\"1\" class=\"dataframe\">\n",
       "  <thead>\n",
       "    <tr style=\"text-align: right;\">\n",
       "      <th></th>\n",
       "      <th>Age</th>\n",
       "      <th>Education</th>\n",
       "      <th>Sex</th>\n",
       "      <th>Capital Gain</th>\n",
       "      <th>Capital Loss</th>\n",
       "      <th>Hours per week</th>\n",
       "      <th>Workclass</th>\n",
       "      <th>Marital Status</th>\n",
       "      <th>Relationship</th>\n",
       "      <th>Ethnic group</th>\n",
       "      <th>Country</th>\n",
       "    </tr>\n",
       "  </thead>\n",
       "  <tbody>\n",
       "    <tr>\n",
       "      <th>0</th>\n",
       "      <td>0.030671</td>\n",
       "      <td>12.0</td>\n",
       "      <td>0</td>\n",
       "      <td>7.684784</td>\n",
       "      <td>0.0</td>\n",
       "      <td>-0.035429</td>\n",
       "      <td>7</td>\n",
       "      <td>4</td>\n",
       "      <td>1</td>\n",
       "      <td>4</td>\n",
       "      <td>39</td>\n",
       "    </tr>\n",
       "    <tr>\n",
       "      <th>1</th>\n",
       "      <td>0.837109</td>\n",
       "      <td>12.0</td>\n",
       "      <td>0</td>\n",
       "      <td>0.000000</td>\n",
       "      <td>0.0</td>\n",
       "      <td>-2.222153</td>\n",
       "      <td>6</td>\n",
       "      <td>2</td>\n",
       "      <td>0</td>\n",
       "      <td>4</td>\n",
       "      <td>39</td>\n",
       "    </tr>\n",
       "    <tr>\n",
       "      <th>2</th>\n",
       "      <td>-0.042642</td>\n",
       "      <td>8.0</td>\n",
       "      <td>0</td>\n",
       "      <td>0.000000</td>\n",
       "      <td>0.0</td>\n",
       "      <td>-0.035429</td>\n",
       "      <td>4</td>\n",
       "      <td>0</td>\n",
       "      <td>1</td>\n",
       "      <td>4</td>\n",
       "      <td>39</td>\n",
       "    </tr>\n",
       "    <tr>\n",
       "      <th>3</th>\n",
       "      <td>1.057047</td>\n",
       "      <td>6.0</td>\n",
       "      <td>0</td>\n",
       "      <td>0.000000</td>\n",
       "      <td>0.0</td>\n",
       "      <td>-0.035429</td>\n",
       "      <td>4</td>\n",
       "      <td>2</td>\n",
       "      <td>0</td>\n",
       "      <td>2</td>\n",
       "      <td>39</td>\n",
       "    </tr>\n",
       "    <tr>\n",
       "      <th>4</th>\n",
       "      <td>-0.775768</td>\n",
       "      <td>12.0</td>\n",
       "      <td>1</td>\n",
       "      <td>0.000000</td>\n",
       "      <td>0.0</td>\n",
       "      <td>-0.035429</td>\n",
       "      <td>4</td>\n",
       "      <td>2</td>\n",
       "      <td>5</td>\n",
       "      <td>2</td>\n",
       "      <td>5</td>\n",
       "    </tr>\n",
       "  </tbody>\n",
       "</table>\n",
       "</div>"
      ],
      "text/plain": [
       "        Age  Education  Sex  Capital Gain  Capital Loss  Hours per week  \\\n",
       "0  0.030671       12.0    0      7.684784           0.0       -0.035429   \n",
       "1  0.837109       12.0    0      0.000000           0.0       -2.222153   \n",
       "2 -0.042642        8.0    0      0.000000           0.0       -0.035429   \n",
       "3  1.057047        6.0    0      0.000000           0.0       -0.035429   \n",
       "4 -0.775768       12.0    1      0.000000           0.0       -0.035429   \n",
       "\n",
       "   Workclass  Marital Status  Relationship  Ethnic group  Country  \n",
       "0          7               4             1             4       39  \n",
       "1          6               2             0             4       39  \n",
       "2          4               0             1             4       39  \n",
       "3          4               2             0             2       39  \n",
       "4          4               2             5             2        5  "
      ]
     },
     "execution_count": 38,
     "metadata": {},
     "output_type": "execute_result"
    }
   ],
   "source": [
    "X.head()"
   ]
  },
  {
   "cell_type": "code",
   "execution_count": 39,
   "id": "45da476b",
   "metadata": {},
   "outputs": [],
   "source": [
    "X_train, X_test, y_train, y_test = train_test_split(X, y, test_size= 0.2)"
   ]
  },
  {
   "cell_type": "code",
   "execution_count": 40,
   "id": "153dd639",
   "metadata": {},
   "outputs": [
    {
     "name": "stdout",
     "output_type": "stream",
     "text": [
      "Optimization terminated successfully.\n",
      "         Current function value: 0.415873\n",
      "         Iterations 7\n",
      "                           Logit Regression Results                           \n",
      "==============================================================================\n",
      "Dep. Variable:                 Income   No. Observations:                26048\n",
      "Model:                          Logit   Df Residuals:                    26037\n",
      "Method:                           MLE   Df Model:                           10\n",
      "Date:                Wed, 29 Mar 2023   Pseudo R-squ.:                  0.2468\n",
      "Time:                        00:14:26   Log-Likelihood:                -10833.\n",
      "converged:                       True   LL-Null:                       -14382.\n",
      "Covariance Type:            nonrobust   LLR p-value:                     0.000\n",
      "==================================================================================\n",
      "                     coef    std err          z      P>|z|      [0.025      0.975]\n",
      "----------------------------------------------------------------------------------\n",
      "Age                0.3760      0.019     19.323      0.000       0.338       0.414\n",
      "Education          0.2263      0.006     35.746      0.000       0.214       0.239\n",
      "Sex               -0.8822      0.054    -16.279      0.000      -0.988      -0.776\n",
      "Capital Gain       0.2089      0.006     32.303      0.000       0.196       0.222\n",
      "Capital Loss       0.1680      0.009     18.166      0.000       0.150       0.186\n",
      "Hours per week     0.3803      0.019     20.326      0.000       0.344       0.417\n",
      "Workclass         -0.1336      0.011    -12.054      0.000      -0.155      -0.112\n",
      "Marital Status    -0.3309      0.013    -25.933      0.000      -0.356      -0.306\n",
      "Relationship      -0.1847      0.015    -12.031      0.000      -0.215      -0.155\n",
      "Ethnic group      -0.2219      0.018    -12.543      0.000      -0.257      -0.187\n",
      "Country           -0.0296      0.002    -16.845      0.000      -0.033      -0.026\n",
      "==================================================================================\n"
     ]
    }
   ],
   "source": [
    "model = sm.Logit(y_train, X_train).fit()\n",
    "print(model.summary())"
   ]
  },
  {
   "cell_type": "code",
   "execution_count": 41,
   "id": "e5284671",
   "metadata": {},
   "outputs": [
    {
     "name": "stdout",
     "output_type": "stream",
     "text": [
      "Actual values [0, 0, 0, 1, 1, 0, 1, 0, 0, 0]\n",
      "Predictions : [0, 0, 0, 0, 1, 0, 0, 0, 0, 0]\n"
     ]
    }
   ],
   "source": [
    "y_hat = model.predict(X_test)\n",
    "prediction = list(map(round, y_hat))\n",
    "print('Actual values', list(y_test.values)[:10])\n",
    "print('Predictions :', prediction[:10])"
   ]
  },
  {
   "cell_type": "code",
   "execution_count": 42,
   "id": "5ad95a34",
   "metadata": {},
   "outputs": [
    {
     "name": "stdout",
     "output_type": "stream",
     "text": [
      "[[4603  344]\n",
      " [ 923  643]]\n",
      "              precision    recall  f1-score   support\n",
      "\n",
      "           0       0.83      0.93      0.88      4947\n",
      "           1       0.65      0.41      0.50      1566\n",
      "\n",
      "    accuracy                           0.81      6513\n",
      "   macro avg       0.74      0.67      0.69      6513\n",
      "weighted avg       0.79      0.81      0.79      6513\n",
      "\n"
     ]
    },
    {
     "data": {
      "image/png": "[encoded data removed]",
      "text/plain": [
       "<Figure size 640x480 with 2 Axes>"
      ]
     },
     "metadata": {},
     "output_type": "display_data"
    }
   ],
   "source": [
    "cm = confusion_matrix(y_test, prediction) \n",
    "s = sns.heatmap(cm, annot = True)\n",
    "s.set(xlabel='Predict', ylabel='Truth')\n",
    "print(cm)\n",
    "print(classification_report(y_test, prediction))"
   ]
  },
  {
   "cell_type": "markdown",
   "id": "07a692b9",
   "metadata": {},
   "source": [
    "## Logistic regression with previous data transformation"
   ]
  },
  {
   "cell_type": "code",
   "execution_count": 43,
   "id": "80d5e8c5",
   "metadata": {},
   "outputs": [],
   "source": [
    "X, y = reset_xy(df)"
   ]
  },
  {
   "cell_type": "markdown",
   "id": "365cd311",
   "metadata": {},
   "source": [
    "For this modela all parameters, that have huge imbalance in their values, are changes to binary with categories:\n",
    "1. Most popular alue or the feature\n",
    "2. All other values together"
   ]
  },
  {
   "cell_type": "code",
   "execution_count": 44,
   "id": "3e783c3e",
   "metadata": {},
   "outputs": [
    {
     "data": {
      "text/html": [
       "<div>\n",
       "<style scoped>\n",
       "    .dataframe tbody tr th:only-of-type {\n",
       "        vertical-align: middle;\n",
       "    }\n",
       "\n",
       "    .dataframe tbody tr th {\n",
       "        vertical-align: top;\n",
       "    }\n",
       "\n",
       "    .dataframe thead th {\n",
       "        text-align: right;\n",
       "    }\n",
       "</style>\n",
       "<table border=\"1\" class=\"dataframe\">\n",
       "  <thead>\n",
       "    <tr style=\"text-align: right;\">\n",
       "      <th></th>\n",
       "      <th>Age</th>\n",
       "      <th>Workclass</th>\n",
       "      <th>Education</th>\n",
       "      <th>Marital Status</th>\n",
       "      <th>Relationship</th>\n",
       "      <th>Ethnic group</th>\n",
       "      <th>Sex</th>\n",
       "      <th>Capital Gain</th>\n",
       "      <th>Capital Loss</th>\n",
       "      <th>Hours per week</th>\n",
       "      <th>Country</th>\n",
       "    </tr>\n",
       "  </thead>\n",
       "  <tbody>\n",
       "    <tr>\n",
       "      <th>7503</th>\n",
       "      <td>51</td>\n",
       "      <td>Other</td>\n",
       "      <td>Doctorate</td>\n",
       "      <td>Married-civ-spouse</td>\n",
       "      <td>Husband</td>\n",
       "      <td>White</td>\n",
       "      <td>0</td>\n",
       "      <td>0</td>\n",
       "      <td>1887</td>\n",
       "      <td>40</td>\n",
       "      <td>United-States</td>\n",
       "    </tr>\n",
       "    <tr>\n",
       "      <th>14500</th>\n",
       "      <td>64</td>\n",
       "      <td>Private</td>\n",
       "      <td>HS-grad</td>\n",
       "      <td>Divorced</td>\n",
       "      <td>Unmarried</td>\n",
       "      <td>White</td>\n",
       "      <td>0</td>\n",
       "      <td>0</td>\n",
       "      <td>0</td>\n",
       "      <td>20</td>\n",
       "      <td>United-States</td>\n",
       "    </tr>\n",
       "    <tr>\n",
       "      <th>13387</th>\n",
       "      <td>29</td>\n",
       "      <td>Other</td>\n",
       "      <td>HS-grad</td>\n",
       "      <td>Married-civ-spouse</td>\n",
       "      <td>Husband</td>\n",
       "      <td>Other</td>\n",
       "      <td>0</td>\n",
       "      <td>0</td>\n",
       "      <td>0</td>\n",
       "      <td>40</td>\n",
       "      <td>United-States</td>\n",
       "    </tr>\n",
       "  </tbody>\n",
       "</table>\n",
       "</div>"
      ],
      "text/plain": [
       "       Age Workclass   Education       Marital Status Relationship  \\\n",
       "7503    51     Other   Doctorate   Married-civ-spouse      Husband   \n",
       "14500   64   Private     HS-grad             Divorced    Unmarried   \n",
       "13387   29     Other     HS-grad   Married-civ-spouse      Husband   \n",
       "\n",
       "      Ethnic group  Sex  Capital Gain  Capital Loss  Hours per week  \\\n",
       "7503         White    0             0          1887              40   \n",
       "14500        White    0             0             0              20   \n",
       "13387        Other    0             0             0              40   \n",
       "\n",
       "              Country  \n",
       "7503    United-States  \n",
       "14500   United-States  \n",
       "13387   United-States  "
      ]
     },
     "execution_count": 44,
     "metadata": {},
     "output_type": "execute_result"
    }
   ],
   "source": [
    "def balance_predictors():\n",
    "    X['Ethnic group'] = np.where(df['Ethnic group'] != ' White', 'Other', X['Ethnic group'])\n",
    "    X['Country'] = np.where(df['Country'] != ' United-States', 'Other', X['Country'])\n",
    "    X['Workclass'] = np.where(df['Workclass'] != ' Private', 'Other', X['Workclass'])\n",
    "    \n",
    "balance_predictors()\n",
    "X.sample(3)"
   ]
  },
  {
   "cell_type": "code",
   "execution_count": 45,
   "id": "26818b0f",
   "metadata": {},
   "outputs": [],
   "source": [
    "encode_edu()\n",
    "\n",
    "capital_log()\n",
    "\n",
    "scale_numerical(num_no_fw)"
   ]
  },
  {
   "cell_type": "code",
   "execution_count": 46,
   "id": "ac5b2971",
   "metadata": {},
   "outputs": [
    {
     "data": {
      "text/html": [
       "<div>\n",
       "<style scoped>\n",
       "    .dataframe tbody tr th:only-of-type {\n",
       "        vertical-align: middle;\n",
       "    }\n",
       "\n",
       "    .dataframe tbody tr th {\n",
       "        vertical-align: top;\n",
       "    }\n",
       "\n",
       "    .dataframe thead th {\n",
       "        text-align: right;\n",
       "    }\n",
       "</style>\n",
       "<table border=\"1\" class=\"dataframe\">\n",
       "  <thead>\n",
       "    <tr style=\"text-align: right;\">\n",
       "      <th></th>\n",
       "      <th>Age</th>\n",
       "      <th>Workclass</th>\n",
       "      <th>Education</th>\n",
       "      <th>Marital Status</th>\n",
       "      <th>Relationship</th>\n",
       "      <th>Ethnic group</th>\n",
       "      <th>Sex</th>\n",
       "      <th>Capital Gain</th>\n",
       "      <th>Capital Loss</th>\n",
       "      <th>Hours per week</th>\n",
       "      <th>Country</th>\n",
       "    </tr>\n",
       "  </thead>\n",
       "  <tbody>\n",
       "    <tr>\n",
       "      <th>1729</th>\n",
       "      <td>-0.55583</td>\n",
       "      <td>Private</td>\n",
       "      <td>10.0</td>\n",
       "      <td>Married-civ-spouse</td>\n",
       "      <td>Husband</td>\n",
       "      <td>White</td>\n",
       "      <td>0</td>\n",
       "      <td>-0.14592</td>\n",
       "      <td>-0.21666</td>\n",
       "      <td>0.12655</td>\n",
       "      <td>United-States</td>\n",
       "    </tr>\n",
       "  </tbody>\n",
       "</table>\n",
       "</div>"
      ],
      "text/plain": [
       "          Age Workclass  Education       Marital Status Relationship  \\\n",
       "1729 -0.55583   Private       10.0   Married-civ-spouse      Husband   \n",
       "\n",
       "     Ethnic group  Sex  Capital Gain  Capital Loss  Hours per week  \\\n",
       "1729        White    0      -0.14592      -0.21666         0.12655   \n",
       "\n",
       "             Country  \n",
       "1729   United-States  "
      ]
     },
     "execution_count": 46,
     "metadata": {},
     "output_type": "execute_result"
    }
   ],
   "source": [
    "X.sample()"
   ]
  },
  {
   "cell_type": "code",
   "execution_count": 47,
   "id": "99c1fcd7",
   "metadata": {},
   "outputs": [],
   "source": [
    "categorical_features_df = X[['Workclass', 'Marital Status', 'Relationship', 'Ethnic group', 'Country']]"
   ]
  },
  {
   "cell_type": "code",
   "execution_count": 48,
   "id": "62927437",
   "metadata": {},
   "outputs": [],
   "source": [
    "cat_df = encode_categorical(categorical_features_df)"
   ]
  },
  {
   "cell_type": "code",
   "execution_count": 49,
   "id": "aa12e6bc",
   "metadata": {},
   "outputs": [],
   "source": [
    "X = concat_num_and_cat(X, cat_df)"
   ]
  },
  {
   "cell_type": "code",
   "execution_count": 50,
   "id": "3824a1aa",
   "metadata": {},
   "outputs": [],
   "source": [
    "X_train, X_test, y_train, y_test = train_test_split(X, y, test_size= 0.2)"
   ]
  },
  {
   "cell_type": "code",
   "execution_count": 51,
   "id": "6d6c3f8d",
   "metadata": {},
   "outputs": [
    {
     "name": "stdout",
     "output_type": "stream",
     "text": [
      "Optimization terminated successfully.\n",
      "         Current function value: 0.417076\n",
      "         Iterations 8\n",
      "                           Logit Regression Results                           \n",
      "==============================================================================\n",
      "Dep. Variable:                 Income   No. Observations:                26048\n",
      "Model:                          Logit   Df Residuals:                    26037\n",
      "Method:                           MLE   Df Model:                           10\n",
      "Date:                Wed, 29 Mar 2023   Pseudo R-squ.:                  0.2437\n",
      "Time:                        00:14:26   Log-Likelihood:                -10864.\n",
      "converged:                       True   LL-Null:                       -14364.\n",
      "Covariance Type:            nonrobust   LLR p-value:                     0.000\n",
      "==================================================================================\n",
      "                     coef    std err          z      P>|z|      [0.025      0.975]\n",
      "----------------------------------------------------------------------------------\n",
      "Age                0.2862      0.019     14.752      0.000       0.248       0.324\n",
      "Education          0.0717      0.004     18.818      0.000       0.064       0.079\n",
      "Sex               -0.8869      0.056    -15.851      0.000      -0.997      -0.777\n",
      "Capital Gain       2.8186      0.089     31.590      0.000       2.644       2.993\n",
      "Capital Loss       0.2971      0.015     20.194      0.000       0.268       0.326\n",
      "Hours per week     0.3127      0.018     16.971      0.000       0.277       0.349\n",
      "Workclass         -0.1458      0.037     -3.917      0.000      -0.219      -0.073\n",
      "Marital Status    -0.4476      0.013    -34.452      0.000      -0.473      -0.422\n",
      "Relationship      -0.2424      0.016    -15.337      0.000      -0.273      -0.211\n",
      "Ethnic group      -0.4087      0.058     -7.069      0.000      -0.522      -0.295\n",
      "Country           -0.1780      0.061     -2.936      0.003      -0.297      -0.059\n",
      "==================================================================================\n"
     ]
    }
   ],
   "source": [
    "model = sm.Logit(y_train, X_train).fit()\n",
    "print(model.summary())"
   ]
  },
  {
   "cell_type": "code",
   "execution_count": 52,
   "id": "e02bac76",
   "metadata": {},
   "outputs": [
    {
     "name": "stdout",
     "output_type": "stream",
     "text": [
      "Actual values [0, 1, 0, 1, 0, 1, 0, 1, 0, 0]\n",
      "Predictions : [0, 1, 0, 1, 0, 1, 0, 1, 0, 0]\n"
     ]
    }
   ],
   "source": [
    "y_hat = model.predict(X_test)\n",
    "prediction = list(map(round, y_hat))\n",
    "\n",
    "print('Actual values', list(y_test.values)[:10])\n",
    "print('Predictions :', prediction[:10])"
   ]
  },
  {
   "cell_type": "code",
   "execution_count": 53,
   "id": "2c207809",
   "metadata": {},
   "outputs": [
    {
     "name": "stdout",
     "output_type": "stream",
     "text": [
      "[[4612  320]\n",
      " [1004  577]]\n",
      "              precision    recall  f1-score   support\n",
      "\n",
      "           0       0.82      0.94      0.87      4932\n",
      "           1       0.64      0.36      0.47      1581\n",
      "\n",
      "    accuracy                           0.80      6513\n",
      "   macro avg       0.73      0.65      0.67      6513\n",
      "weighted avg       0.78      0.80      0.78      6513\n",
      "\n"
     ]
    },
    {
     "data": {
      "image/png": "[encoded data removed]",
      "text/plain": [
       "<Figure size 640x480 with 2 Axes>"
      ]
     },
     "metadata": {},
     "output_type": "display_data"
    }
   ],
   "source": [
    "cm = confusion_matrix(y_test, prediction) \n",
    "s = sns.heatmap(cm, annot = True)\n",
    "s.set(xlabel='Predict', ylabel='Truth')\n",
    "print(cm)\n",
    "print(classification_report(y_test, prediction))"
   ]
  },
  {
   "cell_type": "markdown",
   "id": "a4ec2a3a",
   "metadata": {},
   "source": [
    "## Oversampling target"
   ]
  },
  {
   "cell_type": "code",
   "execution_count": 54,
   "id": "0651ffd7",
   "metadata": {},
   "outputs": [],
   "source": [
    "count_class_0, count_class_1 = df['Income'].value_counts()\n",
    "\n",
    "y0 = df[df['Income'] == 0]\n",
    "y1 = df[df['Income'] == 1]"
   ]
  },
  {
   "cell_type": "code",
   "execution_count": 55,
   "id": "684f48d6",
   "metadata": {},
   "outputs": [
    {
     "name": "stdout",
     "output_type": "stream",
     "text": [
      "(24720, 14)\n",
      "(7841, 14)\n"
     ]
    }
   ],
   "source": [
    "print(y0.shape)\n",
    "print(y1.shape)"
   ]
  },
  {
   "cell_type": "code",
   "execution_count": 56,
   "id": "32733349",
   "metadata": {},
   "outputs": [],
   "source": [
    "y1_over = y1.sample(count_class_0, replace = True)"
   ]
  },
  {
   "cell_type": "code",
   "execution_count": 57,
   "id": "dab34dc1",
   "metadata": {},
   "outputs": [],
   "source": [
    "df = pd.concat([y0, y1_over], axis = 0)"
   ]
  },
  {
   "cell_type": "code",
   "execution_count": 58,
   "id": "c961349d",
   "metadata": {},
   "outputs": [
    {
     "data": {
      "text/plain": [
       "(49440, 14)"
      ]
     },
     "execution_count": 58,
     "metadata": {},
     "output_type": "execute_result"
    }
   ],
   "source": [
    "df.shape"
   ]
  },
  {
   "cell_type": "code",
   "execution_count": 59,
   "id": "a734b8ac",
   "metadata": {},
   "outputs": [],
   "source": [
    "X, y = reset_xy(df)"
   ]
  },
  {
   "cell_type": "code",
   "execution_count": 60,
   "id": "fa65c5ca",
   "metadata": {},
   "outputs": [],
   "source": [
    "# balance_predictors()"
   ]
  },
  {
   "cell_type": "code",
   "execution_count": 61,
   "id": "350a4ccb",
   "metadata": {},
   "outputs": [],
   "source": [
    "encode_edu()"
   ]
  },
  {
   "cell_type": "code",
   "execution_count": 62,
   "id": "d7fa9f27",
   "metadata": {},
   "outputs": [],
   "source": [
    "capital_log()"
   ]
  },
  {
   "cell_type": "code",
   "execution_count": 63,
   "id": "19f7c7ef",
   "metadata": {},
   "outputs": [],
   "source": [
    "num_no_capital = X[['Age', 'Hours per week']]\n",
    "scale_numerical(num_no_capital)"
   ]
  },
  {
   "cell_type": "code",
   "execution_count": 64,
   "id": "d30500dd",
   "metadata": {},
   "outputs": [],
   "source": [
    "categorical_features_df = X[['Workclass', 'Marital Status', 'Relationship', 'Ethnic group', 'Country']]\n",
    "cat_df = encode_categorical(categorical_features_df)"
   ]
  },
  {
   "cell_type": "code",
   "execution_count": 65,
   "id": "cbbd49ce",
   "metadata": {},
   "outputs": [],
   "source": [
    "X = concat_num_and_cat(X, cat_df)"
   ]
  },
  {
   "cell_type": "code",
   "execution_count": 66,
   "id": "478d2ecb",
   "metadata": {},
   "outputs": [
    {
     "data": {
      "text/html": [
       "<div>\n",
       "<style scoped>\n",
       "    .dataframe tbody tr th:only-of-type {\n",
       "        vertical-align: middle;\n",
       "    }\n",
       "\n",
       "    .dataframe tbody tr th {\n",
       "        vertical-align: top;\n",
       "    }\n",
       "\n",
       "    .dataframe thead th {\n",
       "        text-align: right;\n",
       "    }\n",
       "</style>\n",
       "<table border=\"1\" class=\"dataframe\">\n",
       "  <thead>\n",
       "    <tr style=\"text-align: right;\">\n",
       "      <th></th>\n",
       "      <th>Age</th>\n",
       "      <th>Education</th>\n",
       "      <th>Sex</th>\n",
       "      <th>Capital Gain</th>\n",
       "      <th>Capital Loss</th>\n",
       "      <th>Hours per week</th>\n",
       "      <th>Workclass</th>\n",
       "      <th>Marital Status</th>\n",
       "      <th>Relationship</th>\n",
       "      <th>Ethnic group</th>\n",
       "      <th>Country</th>\n",
       "    </tr>\n",
       "  </thead>\n",
       "  <tbody>\n",
       "    <tr>\n",
       "      <th>16620</th>\n",
       "      <td>-0.428837</td>\n",
       "      <td>12.0</td>\n",
       "      <td>1</td>\n",
       "      <td>8.444838</td>\n",
       "      <td>0.0</td>\n",
       "      <td>-0.178159</td>\n",
       "      <td>4</td>\n",
       "      <td>4</td>\n",
       "      <td>1</td>\n",
       "      <td>1</td>\n",
       "      <td>39</td>\n",
       "    </tr>\n",
       "    <tr>\n",
       "      <th>29053</th>\n",
       "      <td>1.040711</td>\n",
       "      <td>9.0</td>\n",
       "      <td>0</td>\n",
       "      <td>0.000000</td>\n",
       "      <td>0.0</td>\n",
       "      <td>-0.178159</td>\n",
       "      <td>4</td>\n",
       "      <td>2</td>\n",
       "      <td>0</td>\n",
       "      <td>4</td>\n",
       "      <td>39</td>\n",
       "    </tr>\n",
       "    <tr>\n",
       "      <th>22241</th>\n",
       "      <td>-1.047595</td>\n",
       "      <td>9.0</td>\n",
       "      <td>1</td>\n",
       "      <td>0.000000</td>\n",
       "      <td>0.0</td>\n",
       "      <td>0.232471</td>\n",
       "      <td>4</td>\n",
       "      <td>4</td>\n",
       "      <td>1</td>\n",
       "      <td>4</td>\n",
       "      <td>0</td>\n",
       "    </tr>\n",
       "  </tbody>\n",
       "</table>\n",
       "</div>"
      ],
      "text/plain": [
       "            Age  Education  Sex  Capital Gain  Capital Loss  Hours per week  \\\n",
       "16620 -0.428837       12.0    1      8.444838           0.0       -0.178159   \n",
       "29053  1.040711        9.0    0      0.000000           0.0       -0.178159   \n",
       "22241 -1.047595        9.0    1      0.000000           0.0        0.232471   \n",
       "\n",
       "       Workclass  Marital Status  Relationship  Ethnic group  Country  \n",
       "16620          4               4             1             1       39  \n",
       "29053          4               2             0             4       39  \n",
       "22241          4               4             1             4        0  "
      ]
     },
     "execution_count": 66,
     "metadata": {},
     "output_type": "execute_result"
    }
   ],
   "source": [
    "X_train, X_test, y_train, y_test = train_test_split(X, y, test_size= 0.2)\n",
    "X_train.sample(3)"
   ]
  },
  {
   "cell_type": "code",
   "execution_count": 67,
   "id": "3f40a1e0",
   "metadata": {},
   "outputs": [
    {
     "name": "stdout",
     "output_type": "stream",
     "text": [
      "Optimization terminated successfully.\n",
      "         Current function value: 0.493922\n",
      "         Iterations 6\n",
      "                           Logit Regression Results                           \n",
      "==============================================================================\n",
      "Dep. Variable:                 Income   No. Observations:                39552\n",
      "Model:                          Logit   Df Residuals:                    39541\n",
      "Method:                           MLE   Df Model:                           10\n",
      "Date:                Wed, 29 Mar 2023   Pseudo R-squ.:                  0.2874\n",
      "Time:                        00:14:27   Log-Likelihood:                -19536.\n",
      "converged:                       True   LL-Null:                       -27415.\n",
      "Covariance Type:            nonrobust   LLR p-value:                     0.000\n",
      "==================================================================================\n",
      "                     coef    std err          z      P>|z|      [0.025      0.975]\n",
      "----------------------------------------------------------------------------------\n",
      "Age                0.4993      0.014     35.530      0.000       0.472       0.527\n",
      "Education          0.2674      0.005     54.986      0.000       0.258       0.277\n",
      "Sex               -0.9147      0.040    -22.600      0.000      -0.994      -0.835\n",
      "Capital Gain       0.2032      0.005     38.498      0.000       0.193       0.214\n",
      "Capital Loss       0.1649      0.007     22.048      0.000       0.150       0.180\n",
      "Hours per week     0.4392      0.015     30.140      0.000       0.411       0.468\n",
      "Workclass         -0.0883      0.008    -10.524      0.000      -0.105      -0.072\n",
      "Marital Status    -0.3471      0.010    -35.988      0.000      -0.366      -0.328\n",
      "Relationship      -0.0940      0.011     -8.738      0.000      -0.115      -0.073\n",
      "Ethnic group      -0.1069      0.014     -7.568      0.000      -0.135      -0.079\n",
      "Country           -0.0246      0.001    -16.804      0.000      -0.027      -0.022\n",
      "==================================================================================\n"
     ]
    }
   ],
   "source": [
    "model = sm.Logit(y_train, X_train).fit()\n",
    "print(model.summary())"
   ]
  },
  {
   "cell_type": "code",
   "execution_count": 68,
   "id": "0af8b666",
   "metadata": {},
   "outputs": [
    {
     "name": "stdout",
     "output_type": "stream",
     "text": [
      "Actual values [0, 0, 0, 0, 1, 0, 0, 0, 1, 1]\n",
      "Predictions : [0, 0, 0, 1, 1, 0, 1, 0, 1, 0]\n"
     ]
    }
   ],
   "source": [
    "y_hat = model.predict(X_test)\n",
    "prediction = list(map(round, y_hat))\n",
    "\n",
    "print('Actual values', list(y_test.values)[:10])\n",
    "print('Predictions :', prediction[:10])"
   ]
  },
  {
   "cell_type": "code",
   "execution_count": 69,
   "id": "31e38990",
   "metadata": {},
   "outputs": [
    {
     "name": "stdout",
     "output_type": "stream",
     "text": [
      "[[3667 1287]\n",
      " [1093 3841]]\n",
      "              precision    recall  f1-score   support\n",
      "\n",
      "           0       0.77      0.74      0.75      4954\n",
      "           1       0.75      0.78      0.76      4934\n",
      "\n",
      "    accuracy                           0.76      9888\n",
      "   macro avg       0.76      0.76      0.76      9888\n",
      "weighted avg       0.76      0.76      0.76      9888\n",
      "\n"
     ]
    },
    {
     "data": {
      "image/png": "[encoded data removed]",
      "text/plain": [
       "<Figure size 640x480 with 2 Axes>"
      ]
     },
     "metadata": {},
     "output_type": "display_data"
    }
   ],
   "source": [
    "cm = confusion_matrix(y_test, prediction) \n",
    "s = sns.heatmap(cm, annot = True)\n",
    "s.set(xlabel='Predict', ylabel='Truth')\n",
    "print(cm)\n",
    "print(classification_report(y_test, prediction))"
   ]
  }
 ],
 "metadata": {
  "kernelspec": {
   "display_name": "Python 3 (ipykernel)",
   "language": "python",
   "name": "python3"
  },
  "language_info": {
   "codemirror_mode": {
    "name": "ipython",
    "version": 3
   },
   "file_extension": ".py",
   "mimetype": "text/x-python",
   "name": "python",
   "nbconvert_exporter": "python",
   "pygments_lexer": "ipython3",
   "version": "3.9.16"
  }
 },
 "nbformat": 4,
 "nbformat_minor": 5
}
